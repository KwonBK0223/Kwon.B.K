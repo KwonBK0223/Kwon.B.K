{
 "cells": [
  {
   "cell_type": "code",
   "execution_count": 1,
   "id": "756e0541",
   "metadata": {},
   "outputs": [],
   "source": [
    "import numpy as np\n",
    "import pandas as pd\n",
    "import seaborn as sns\n",
    "import matplotlib as mpl\n",
    "import matplotlib.pyplot as plt\n",
    "%matplotlib inline\n",
    "mpl.rc('font', family = 'Gulim')\n",
    "mpl.rcParams['axes.unicode_minus']=False\n",
    "import matplotlib.tri as mtri"
   ]
  },
  {
   "cell_type": "markdown",
   "id": "6d68daef",
   "metadata": {},
   "source": [
    "<p class=\"admonition-title\">연습 문제 1</p>\n",
    "<p>넘파이를 사용하여 다음과 같은 행렬을 만든다.</p>\n",
    "<div class=\"highlight-default notranslate\"><div class=\"highlight\"><pre><span></span><span class=\"mi\">10</span> <span class=\"mi\">20</span> <span class=\"mi\">30</span> <span class=\"mi\">40</span>\n",
    "<span class=\"mi\">50</span> <span class=\"mi\">60</span> <span class=\"mi\">70</span> <span class=\"mi\">80</span>\n",
    "</pre></div>\n",
    "</div>\n",
    "</div>\n",
    "</div>\n",
    "<div class=\"section\" id=\"id6\">"
   ]
  },
  {
   "cell_type": "code",
   "execution_count": 3,
   "id": "b8c99c9f",
   "metadata": {},
   "outputs": [
    {
     "data": {
      "text/plain": [
       "array([[10, 20, 30, 40],\n",
       "       [50, 60, 70, 80]])"
      ]
     },
     "execution_count": 3,
     "metadata": {},
     "output_type": "execute_result"
    }
   ],
   "source": [
    "np.array([[10,20,30,40],[50,60,70,80]])"
   ]
  },
  {
   "cell_type": "markdown",
   "id": "5ce1356c",
   "metadata": {},
   "source": [
    "<p class=\"admonition-title\">연습 문제 2</p>\n",
    "<p>다음 행렬과 같은 행렬이 있다.</p>\n",
    "<div class=\"highlight-default notranslate\"><div class=\"highlight\"><pre><span></span><span class=\"n\">m</span> <span class=\"o\">=</span> <span class=\"n\">np</span><span class=\"o\">.</span><span class=\"n\">array</span><span class=\"p\">([[</span> <span class=\"mi\">0</span><span class=\"p\">,</span>  <span class=\"mi\">1</span><span class=\"p\">,</span>  <span class=\"mi\">2</span><span class=\"p\">,</span>  <span class=\"mi\">3</span><span class=\"p\">,</span>  <span class=\"mi\">4</span><span class=\"p\">],</span>\n",
    "            <span class=\"p\">[</span> <span class=\"mi\">5</span><span class=\"p\">,</span>  <span class=\"mi\">6</span><span class=\"p\">,</span>  <span class=\"mi\">7</span><span class=\"p\">,</span>  <span class=\"mi\">8</span><span class=\"p\">,</span>  <span class=\"mi\">9</span><span class=\"p\">],</span>\n",
    "            <span class=\"p\">[</span><span class=\"mi\">10</span><span class=\"p\">,</span> <span class=\"mi\">11</span><span class=\"p\">,</span> <span class=\"mi\">12</span><span class=\"p\">,</span> <span class=\"mi\">13</span><span class=\"p\">,</span> <span class=\"mi\">14</span><span class=\"p\">]])</span>\n",
    "</pre></div>\n",
    "</div>\n",
    "<ol class=\"simple\">\n",
    "<li><p>이 행렬에서 값 7 을 인덱싱한다.</p></li>\n",
    "<li><p>이 행렬에서 값 14 을 인덱싱한다.</p></li>\n",
    "<li><p>이 행렬에서 배열 [6, 7] 을 슬라이싱한다.</p></li>\n",
    "<li><p>이 행렬에서 배열 [7, 12] 을 슬라이싱한다.</p></li>\n",
    "<li><p>이 행렬에서 배열 [[3, 4], [8, 9]] 을 슬라이싱한다.</p></li>"
   ]
  },
  {
   "cell_type": "code",
   "execution_count": 6,
   "id": "306ea9d4",
   "metadata": {},
   "outputs": [
    {
     "data": {
      "text/plain": [
       "array([[ 0,  1,  2,  3,  4],\n",
       "       [ 5,  6,  7,  8,  9],\n",
       "       [10, 11, 12, 13, 14]])"
      ]
     },
     "execution_count": 6,
     "metadata": {},
     "output_type": "execute_result"
    }
   ],
   "source": [
    "m = np.array([[0,1,2,3,4],[5,6,7,8,9],[10,11,12,13,14]])\n",
    "m"
   ]
  },
  {
   "cell_type": "code",
   "execution_count": 7,
   "id": "57f7cd11",
   "metadata": {},
   "outputs": [
    {
     "data": {
      "text/plain": [
       "7"
      ]
     },
     "execution_count": 7,
     "metadata": {},
     "output_type": "execute_result"
    }
   ],
   "source": [
    "m[1,2]"
   ]
  },
  {
   "cell_type": "code",
   "execution_count": 8,
   "id": "0dec04c4",
   "metadata": {},
   "outputs": [
    {
     "data": {
      "text/plain": [
       "14"
      ]
     },
     "execution_count": 8,
     "metadata": {},
     "output_type": "execute_result"
    }
   ],
   "source": [
    "m[-1,-1]"
   ]
  },
  {
   "cell_type": "code",
   "execution_count": 9,
   "id": "5a494f77",
   "metadata": {},
   "outputs": [
    {
     "data": {
      "text/plain": [
       "array([6, 7])"
      ]
     },
     "execution_count": 9,
     "metadata": {},
     "output_type": "execute_result"
    }
   ],
   "source": [
    "m[1,1:3]"
   ]
  },
  {
   "cell_type": "code",
   "execution_count": 10,
   "id": "30d0e2f6",
   "metadata": {},
   "outputs": [
    {
     "data": {
      "text/plain": [
       "array([ 7, 12])"
      ]
     },
     "execution_count": 10,
     "metadata": {},
     "output_type": "execute_result"
    }
   ],
   "source": [
    "m[1:,2]"
   ]
  },
  {
   "cell_type": "code",
   "execution_count": 11,
   "id": "f7f5f638",
   "metadata": {},
   "outputs": [
    {
     "data": {
      "text/plain": [
       "array([[3, 4],\n",
       "       [8, 9]])"
      ]
     },
     "execution_count": 11,
     "metadata": {},
     "output_type": "execute_result"
    }
   ],
   "source": [
    "m[:2,3:]"
   ]
  },
  {
   "cell_type": "markdown",
   "id": "3e52c4ab",
   "metadata": {},
   "source": [
    "<p class=\"admonition-title\">연습 문제 3</p>\n",
    "<p>다음 행렬과 같은 배열이 있다.</p>\n",
    "<div class=\"highlight-default notranslate\"><div class=\"highlight\"><pre><span></span><span class=\"n\">x</span> <span class=\"o\">=</span> <span class=\"n\">np</span><span class=\"o\">.</span><span class=\"n\">array</span><span class=\"p\">([</span><span class=\"mi\">1</span><span class=\"p\">,</span> <span class=\"mi\">2</span><span class=\"p\">,</span> <span class=\"mi\">3</span><span class=\"p\">,</span> <span class=\"mi\">4</span><span class=\"p\">,</span> <span class=\"mi\">5</span><span class=\"p\">,</span> <span class=\"mi\">6</span><span class=\"p\">,</span> <span class=\"mi\">7</span><span class=\"p\">,</span> <span class=\"mi\">8</span><span class=\"p\">,</span> <span class=\"mi\">9</span><span class=\"p\">,</span> <span class=\"mi\">10</span><span class=\"p\">,</span>\n",
    "             <span class=\"mi\">11</span><span class=\"p\">,</span> <span class=\"mi\">12</span><span class=\"p\">,</span> <span class=\"mi\">13</span><span class=\"p\">,</span> <span class=\"mi\">14</span><span class=\"p\">,</span> <span class=\"mi\">15</span><span class=\"p\">,</span> <span class=\"mi\">16</span><span class=\"p\">,</span> <span class=\"mi\">17</span><span class=\"p\">,</span> <span class=\"mi\">18</span><span class=\"p\">,</span> <span class=\"mi\">19</span><span class=\"p\">,</span> <span class=\"mi\">20</span><span class=\"p\">])</span>\n",
    "</pre></div>\n",
    "</div>\n",
    "<ol class=\"simple\">\n",
    "<li><p>이 배열에서 3의 배수를 찾아라.</p></li>\n",
    "<li><p>이 배열에서 4로 나누면 1이 남는 수를 찾아라.</p></li>\n",
    "<li><p>이 배열에서 3으로 나누면 나누어지고 4로 나누면 1이 남는 수를 찾아라.</p></li>"
   ]
  },
  {
   "cell_type": "code",
   "execution_count": 13,
   "id": "49711ba9",
   "metadata": {},
   "outputs": [
    {
     "data": {
      "text/plain": [
       "array([ 1,  2,  3,  4,  5,  6,  7,  8,  9, 10, 11, 12, 13, 14, 15, 16, 17,\n",
       "       18, 19, 20])"
      ]
     },
     "execution_count": 13,
     "metadata": {},
     "output_type": "execute_result"
    }
   ],
   "source": [
    "x = np.array([1,2,3,4,5,6,7,8,9,10,11,12,13,14,15,16,17,18,19,20])\n",
    "x"
   ]
  },
  {
   "cell_type": "code",
   "execution_count": 14,
   "id": "06104708",
   "metadata": {},
   "outputs": [
    {
     "data": {
      "text/plain": [
       "array([ 3,  6,  9, 12, 15, 18])"
      ]
     },
     "execution_count": 14,
     "metadata": {},
     "output_type": "execute_result"
    }
   ],
   "source": [
    "x[x%3==0]"
   ]
  },
  {
   "cell_type": "code",
   "execution_count": 17,
   "id": "6db80274",
   "metadata": {},
   "outputs": [
    {
     "data": {
      "text/plain": [
       "array([ 1,  5,  9, 13, 17])"
      ]
     },
     "execution_count": 17,
     "metadata": {},
     "output_type": "execute_result"
    }
   ],
   "source": [
    "x[x%4==1]"
   ]
  },
  {
   "cell_type": "code",
   "execution_count": 18,
   "id": "e2b86eae",
   "metadata": {},
   "outputs": [
    {
     "data": {
      "text/plain": [
       "array([9])"
      ]
     },
     "execution_count": 18,
     "metadata": {},
     "output_type": "execute_result"
    }
   ],
   "source": [
    "x[(x%3==0)&(x%4==1)]"
   ]
  },
  {
   "cell_type": "code",
   "execution_count": 19,
   "id": "cd03e38c",
   "metadata": {},
   "outputs": [
    {
     "data": {
      "text/plain": [
       "array([ 1,  3,  5,  6,  9, 12, 13, 15, 17, 18])"
      ]
     },
     "execution_count": 19,
     "metadata": {},
     "output_type": "execute_result"
    }
   ],
   "source": [
    "x[(x%3==0)|(x%4==1)]"
   ]
  },
  {
   "cell_type": "markdown",
   "id": "7adfb796",
   "metadata": {},
   "source": [
    "<p class=\"admonition-title\">연습 문제 3.2.1</p>\n",
    "<p>지금까지 공부한 명령어를 사용하여 다음과 같은 배열을 만들어라.</p>\n",
    "<div class=\"highlight-default notranslate\"><div class=\"highlight\"><pre><span></span><span class=\"n\">array</span><span class=\"p\">([[</span>   <span class=\"mf\">0.</span><span class=\"p\">,</span>    <span class=\"mf\">0.</span><span class=\"p\">,</span>    <span class=\"mf\">0.</span><span class=\"p\">,</span>    <span class=\"mf\">1.</span><span class=\"p\">,</span>    <span class=\"mf\">1.</span><span class=\"p\">],</span>\n",
    "       <span class=\"p\">[</span>   <span class=\"mf\">0.</span><span class=\"p\">,</span>    <span class=\"mf\">0.</span><span class=\"p\">,</span>    <span class=\"mf\">0.</span><span class=\"p\">,</span>    <span class=\"mf\">1.</span><span class=\"p\">,</span>    <span class=\"mf\">1.</span><span class=\"p\">],</span>\n",
    "       <span class=\"p\">[</span>   <span class=\"mf\">0.</span><span class=\"p\">,</span>    <span class=\"mf\">0.</span><span class=\"p\">,</span>    <span class=\"mf\">0.</span><span class=\"p\">,</span>    <span class=\"mf\">1.</span><span class=\"p\">,</span>    <span class=\"mf\">1.</span><span class=\"p\">],</span>\n",
    "       <span class=\"p\">[</span>  <span class=\"mf\">10.</span><span class=\"p\">,</span>   <span class=\"mf\">20.</span><span class=\"p\">,</span>   <span class=\"mf\">30.</span><span class=\"p\">,</span>   <span class=\"mf\">40.</span><span class=\"p\">,</span>   <span class=\"mf\">50.</span><span class=\"p\">],</span>\n",
    "       <span class=\"p\">[</span>  <span class=\"mf\">60.</span><span class=\"p\">,</span>   <span class=\"mf\">70.</span><span class=\"p\">,</span>   <span class=\"mf\">80.</span><span class=\"p\">,</span>   <span class=\"mf\">90.</span><span class=\"p\">,</span>  <span class=\"mf\">100.</span><span class=\"p\">],</span>\n",
    "       <span class=\"p\">[</span> <span class=\"mf\">110.</span><span class=\"p\">,</span>  <span class=\"mf\">120.</span><span class=\"p\">,</span>  <span class=\"mf\">130.</span><span class=\"p\">,</span>  <span class=\"mf\">140.</span><span class=\"p\">,</span>  <span class=\"mf\">150.</span><span class=\"p\">],</span>\n",
    "       <span class=\"p\">[</span>   <span class=\"mf\">0.</span><span class=\"p\">,</span>    <span class=\"mf\">0.</span><span class=\"p\">,</span>    <span class=\"mf\">0.</span><span class=\"p\">,</span>    <span class=\"mf\">1.</span><span class=\"p\">,</span>    <span class=\"mf\">1.</span><span class=\"p\">],</span>\n",
    "       <span class=\"p\">[</span>   <span class=\"mf\">0.</span><span class=\"p\">,</span>    <span class=\"mf\">0.</span><span class=\"p\">,</span>    <span class=\"mf\">0.</span><span class=\"p\">,</span>    <span class=\"mf\">1.</span><span class=\"p\">,</span>    <span class=\"mf\">1.</span><span class=\"p\">],</span>\n",
    "       <span class=\"p\">[</span>   <span class=\"mf\">0.</span><span class=\"p\">,</span>    <span class=\"mf\">0.</span><span class=\"p\">,</span>    <span class=\"mf\">0.</span><span class=\"p\">,</span>    <span class=\"mf\">1.</span><span class=\"p\">,</span>    <span class=\"mf\">1.</span><span class=\"p\">],</span>\n",
    "       <span class=\"p\">[</span>  <span class=\"mf\">10.</span><span class=\"p\">,</span>   <span class=\"mf\">20.</span><span class=\"p\">,</span>   <span class=\"mf\">30.</span><span class=\"p\">,</span>   <span class=\"mf\">40.</span><span class=\"p\">,</span>   <span class=\"mf\">50.</span><span class=\"p\">],</span>\n",
    "       <span class=\"p\">[</span>  <span class=\"mf\">60.</span><span class=\"p\">,</span>   <span class=\"mf\">70.</span><span class=\"p\">,</span>   <span class=\"mf\">80.</span><span class=\"p\">,</span>   <span class=\"mf\">90.</span><span class=\"p\">,</span>  <span class=\"mf\">100.</span><span class=\"p\">],</span>\n",
    "       <span class=\"p\">[</span> <span class=\"mf\">110.</span><span class=\"p\">,</span>  <span class=\"mf\">120.</span><span class=\"p\">,</span>  <span class=\"mf\">130.</span><span class=\"p\">,</span>  <span class=\"mf\">140.</span><span class=\"p\">,</span>  <span class=\"mf\">150.</span><span class=\"p\">]])</span>\n",
    "</pre></div>"
   ]
  },
  {
   "cell_type": "code",
   "execution_count": 23,
   "id": "16fe871a",
   "metadata": {},
   "outputs": [
    {
     "data": {
      "text/plain": [
       "array([[0., 0., 0.],\n",
       "       [0., 0., 0.],\n",
       "       [0., 0., 0.]])"
      ]
     },
     "execution_count": 23,
     "metadata": {},
     "output_type": "execute_result"
    }
   ],
   "source": [
    "a = np.zeros([3,3])\n",
    "a"
   ]
  },
  {
   "cell_type": "code",
   "execution_count": 24,
   "id": "796f2214",
   "metadata": {},
   "outputs": [
    {
     "data": {
      "text/plain": [
       "array([[1., 1.],\n",
       "       [1., 1.],\n",
       "       [1., 1.]])"
      ]
     },
     "execution_count": 24,
     "metadata": {},
     "output_type": "execute_result"
    }
   ],
   "source": [
    "b = np.ones([3,2])\n",
    "b"
   ]
  },
  {
   "cell_type": "code",
   "execution_count": 27,
   "id": "983797dc",
   "metadata": {},
   "outputs": [
    {
     "data": {
      "text/plain": [
       "array([[ 10,  20,  30,  40,  50],\n",
       "       [ 60,  70,  80,  90, 100],\n",
       "       [110, 120, 130, 140, 150]])"
      ]
     },
     "execution_count": 27,
     "metadata": {},
     "output_type": "execute_result"
    }
   ],
   "source": [
    "c = np.arange(10,160,10).reshape(3,5)\n",
    "c"
   ]
  },
  {
   "cell_type": "code",
   "execution_count": 30,
   "id": "a3ceccd6",
   "metadata": {},
   "outputs": [
    {
     "data": {
      "text/plain": [
       "array([[0., 0., 0., 1., 1.],\n",
       "       [0., 0., 0., 1., 1.],\n",
       "       [0., 0., 0., 1., 1.]])"
      ]
     },
     "execution_count": 30,
     "metadata": {},
     "output_type": "execute_result"
    }
   ],
   "source": [
    "e = np.hstack([a,b])\n",
    "e"
   ]
  },
  {
   "cell_type": "code",
   "execution_count": 32,
   "id": "ab30fa43",
   "metadata": {},
   "outputs": [
    {
     "data": {
      "text/plain": [
       "array([[  0.,   0.,   0.,   1.,   1.],\n",
       "       [  0.,   0.,   0.,   1.,   1.],\n",
       "       [  0.,   0.,   0.,   1.,   1.],\n",
       "       [ 10.,  20.,  30.,  40.,  50.],\n",
       "       [ 60.,  70.,  80.,  90., 100.],\n",
       "       [110., 120., 130., 140., 150.]])"
      ]
     },
     "execution_count": 32,
     "metadata": {},
     "output_type": "execute_result"
    }
   ],
   "source": [
    "f = np.vstack([e,c])\n",
    "f"
   ]
  },
  {
   "cell_type": "code",
   "execution_count": 33,
   "id": "c14126fc",
   "metadata": {},
   "outputs": [
    {
     "data": {
      "text/plain": [
       "array([[  0.,   0.,   0.,   1.,   1.],\n",
       "       [  0.,   0.,   0.,   1.,   1.],\n",
       "       [  0.,   0.,   0.,   1.,   1.],\n",
       "       [ 10.,  20.,  30.,  40.,  50.],\n",
       "       [ 60.,  70.,  80.,  90., 100.],\n",
       "       [110., 120., 130., 140., 150.],\n",
       "       [  0.,   0.,   0.,   1.,   1.],\n",
       "       [  0.,   0.,   0.,   1.,   1.],\n",
       "       [  0.,   0.,   0.,   1.,   1.],\n",
       "       [ 10.,  20.,  30.,  40.,  50.],\n",
       "       [ 60.,  70.,  80.,  90., 100.],\n",
       "       [110., 120., 130., 140., 150.]])"
      ]
     },
     "execution_count": 33,
     "metadata": {},
     "output_type": "execute_result"
    }
   ],
   "source": [
    "result = np.vstack([f,f])\n",
    "result"
   ]
  },
  {
   "cell_type": "markdown",
   "id": "2f3fb931",
   "metadata": {},
   "source": [
    "<p class=\"admonition-title\">연습 문제 3.3.1</p>\n",
    "<p>실수로 이루어진 5 x 6 형태의 데이터 행렬을 만들고 이 데이터에 대해 다음과 같은 값을 구한다.</p>\n",
    "<ol class=\"simple\">\n",
    "<li><p>전체의 최댓값</p></li>\n",
    "<li><p>각 행의 합</p></li>\n",
    "<li><p>각 행의 최댓값</p></li>\n",
    "<li><p>각 열의 평균</p></li>\n",
    "<li><p>각 열의 최솟값</p></li>\n",
    "</ol>\n",
    "</div>\n",
    "</div>"
   ]
  },
  {
   "cell_type": "code",
   "execution_count": 34,
   "id": "fc0d19bf",
   "metadata": {},
   "outputs": [
    {
     "data": {
      "text/plain": [
       "array([[ 0,  1,  2,  3,  4,  5],\n",
       "       [ 6,  7,  8,  9, 10, 11],\n",
       "       [12, 13, 14, 15, 16, 17],\n",
       "       [18, 19, 20, 21, 22, 23],\n",
       "       [24, 25, 26, 27, 28, 29]])"
      ]
     },
     "execution_count": 34,
     "metadata": {},
     "output_type": "execute_result"
    }
   ],
   "source": [
    "x = np.arange(30).reshape(5,6)\n",
    "x"
   ]
  },
  {
   "cell_type": "code",
   "execution_count": 35,
   "id": "cedb8c6f",
   "metadata": {},
   "outputs": [
    {
     "data": {
      "text/plain": [
       "435"
      ]
     },
     "execution_count": 35,
     "metadata": {},
     "output_type": "execute_result"
    }
   ],
   "source": [
    "x.sum()"
   ]
  },
  {
   "cell_type": "code",
   "execution_count": 36,
   "id": "eab3ed81",
   "metadata": {},
   "outputs": [
    {
     "data": {
      "text/plain": [
       "array([ 15,  51,  87, 123, 159])"
      ]
     },
     "execution_count": 36,
     "metadata": {},
     "output_type": "execute_result"
    }
   ],
   "source": [
    "x.sum(axis=1)"
   ]
  },
  {
   "cell_type": "code",
   "execution_count": 37,
   "id": "da15a69b",
   "metadata": {},
   "outputs": [
    {
     "data": {
      "text/plain": [
       "array([ 5, 11, 17, 23, 29])"
      ]
     },
     "execution_count": 37,
     "metadata": {},
     "output_type": "execute_result"
    }
   ],
   "source": [
    "x.max(axis=1)"
   ]
  },
  {
   "cell_type": "code",
   "execution_count": 38,
   "id": "a8358c10",
   "metadata": {},
   "outputs": [
    {
     "data": {
      "text/plain": [
       "array([12., 13., 14., 15., 16., 17.])"
      ]
     },
     "execution_count": 38,
     "metadata": {},
     "output_type": "execute_result"
    }
   ],
   "source": [
    "x.mean(axis=0)"
   ]
  },
  {
   "cell_type": "code",
   "execution_count": 39,
   "id": "eaaef6ff",
   "metadata": {},
   "outputs": [
    {
     "data": {
      "text/plain": [
       "array([0, 1, 2, 3, 4, 5])"
      ]
     },
     "execution_count": 39,
     "metadata": {},
     "output_type": "execute_result"
    }
   ],
   "source": [
    "x.min(axis=0)"
   ]
  },
  {
   "cell_type": "markdown",
   "id": "5b00bfb9",
   "metadata": {},
   "source": [
    "<p class=\"admonition-title\">연습 문제 3.3.2</p>\n",
    "<p>다음 배열은 첫번째 행(row)에 학번, 두번째 행에 영어 성적, 세번째 행에 수학 성적을 적은 배열이다. 영어 성적을 기준으로 각 열(column)을 재정렬하라.</p>\n",
    "<div class=\"highlight-default notranslate\"><div class=\"highlight\"><pre><span></span><span class=\"n\">array</span><span class=\"p\">([[</span>  <span class=\"mi\">1</span><span class=\"p\">,</span>    <span class=\"mi\">2</span><span class=\"p\">,</span>    <span class=\"mi\">3</span><span class=\"p\">,</span>    <span class=\"mi\">4</span><span class=\"p\">],</span>\n",
    "       <span class=\"p\">[</span> <span class=\"mi\">46</span><span class=\"p\">,</span>   <span class=\"mi\">99</span><span class=\"p\">,</span>  <span class=\"mi\">100</span><span class=\"p\">,</span>   <span class=\"mi\">71</span><span class=\"p\">],</span>\n",
    "       <span class=\"p\">[</span> <span class=\"mi\">81</span><span class=\"p\">,</span>   <span class=\"mi\">59</span><span class=\"p\">,</span>   <span class=\"mi\">90</span><span class=\"p\">,</span>  <span class=\"mi\">100</span><span class=\"p\">]])</span>\n",
    "</pre></div>\n",
    "</div>\n",
    "</div>"
   ]
  },
  {
   "cell_type": "code",
   "execution_count": 54,
   "id": "e4fad567",
   "metadata": {},
   "outputs": [
    {
     "data": {
      "text/plain": [
       "array([[  1,   2,   3,   4],\n",
       "       [ 46,  99, 100,  71],\n",
       "       [ 81,  59,  90, 100]])"
      ]
     },
     "execution_count": 54,
     "metadata": {},
     "output_type": "execute_result"
    }
   ],
   "source": [
    "a = np.array([[1,2,3,4],[46,99,100,71],[81,59,90,100]])\n",
    "a"
   ]
  },
  {
   "cell_type": "code",
   "execution_count": 55,
   "id": "d54c8a92",
   "metadata": {},
   "outputs": [
    {
     "data": {
      "text/plain": [
       "array([[  1,   2,   3,   4],\n",
       "       [ 46,  71,  99, 100],\n",
       "       [ 59,  81,  90, 100]])"
      ]
     },
     "execution_count": 55,
     "metadata": {},
     "output_type": "execute_result"
    }
   ],
   "source": [
    "np.sort(a,axis=1)"
   ]
  },
  {
   "cell_type": "markdown",
   "id": "cda5f42a",
   "metadata": {},
   "source": [
    "<p class=\"admonition-title\">연습 문제 3.5.1</p>\n",
    "<ol class=\"simple\">\n",
    "<li><p>동전을 10번 던져 앞면(숫자 1)과 뒷면(숫자 0)이 나오는 가상 실험을 파이썬으로 작성한다.</p></li>\n",
    "<li><p>주사위를 100번 던져서 나오는 숫자의 평균을 구하라.</p></li>\n",
    "</ol>\n",
    "</div>\n",
    "<div class=\"admonition- admonition\">"
   ]
  },
  {
   "cell_type": "code",
   "execution_count": 46,
   "id": "a8bf9723",
   "metadata": {},
   "outputs": [
    {
     "data": {
      "text/plain": [
       "array([1, 1, 1, 0, 0, 1, 0, 1, 1, 1])"
      ]
     },
     "execution_count": 46,
     "metadata": {},
     "output_type": "execute_result"
    }
   ],
   "source": [
    "np.random.choice(2,10,p=[0.5,0.5])"
   ]
  },
  {
   "cell_type": "code",
   "execution_count": 51,
   "id": "f6ad3123",
   "metadata": {},
   "outputs": [
    {
     "data": {
      "text/plain": [
       "array([4, 1, 4, 5, 1, 2, 1, 2, 5, 3, 6, 3, 2, 2, 3, 6, 6, 3, 5, 2, 4, 3,\n",
       "       1, 1, 2, 3, 4, 6, 5, 2, 2, 6, 5, 6, 6, 1, 4, 5, 4, 6, 1, 4, 3, 1,\n",
       "       1, 6, 6, 6, 2, 4, 4, 6, 2, 3, 6, 4, 2, 6, 6, 4, 5, 6, 3, 3, 4, 1,\n",
       "       5, 5, 4, 4, 5, 4, 1, 4, 4, 1, 6, 4, 5, 6, 2, 2, 2, 1, 4, 1, 2, 3,\n",
       "       2, 3, 2, 6, 6, 5, 2, 4, 2, 5, 3, 1])"
      ]
     },
     "execution_count": 51,
     "metadata": {},
     "output_type": "execute_result"
    }
   ],
   "source": [
    "a = np.random.randint(1,7,100)\n",
    "a"
   ]
  },
  {
   "cell_type": "code",
   "execution_count": 52,
   "id": "62411ea2",
   "metadata": {},
   "outputs": [
    {
     "data": {
      "text/plain": [
       "3.57"
      ]
     },
     "execution_count": 52,
     "metadata": {},
     "output_type": "execute_result"
    }
   ],
   "source": [
    "a.mean()"
   ]
  },
  {
   "cell_type": "markdown",
   "id": "c6952037",
   "metadata": {},
   "source": [
    "<p class=\"admonition-title\">연습 문제 3.5.2</p>\n",
    "<p>가격이 10,000원인 주식이 있다. 이 주식의 일간 수익률(%)은 기댓값이 0%이고 표준편차가 1%인 표준 정규 분포를 따른다고 하자.\n",
    "250일 동안의 주가를 무작위로 생성하라</p>\n",
    "</div>\n",
    "</div>"
   ]
  },
  {
   "cell_type": "code",
   "execution_count": 56,
   "id": "2bf7f438",
   "metadata": {},
   "outputs": [
    {
     "data": {
      "text/plain": [
       "array([ 1.76405235,  0.40015721,  0.97873798,  2.2408932 ,  1.86755799,\n",
       "       -0.97727788,  0.95008842, -0.15135721, -0.10321885,  0.4105985 ,\n",
       "        0.14404357,  1.45427351,  0.76103773,  0.12167502,  0.44386323,\n",
       "        0.33367433,  1.49407907, -0.20515826,  0.3130677 , -0.85409574,\n",
       "       -2.55298982,  0.6536186 ,  0.8644362 , -0.74216502,  2.26975462,\n",
       "       -1.45436567,  0.04575852, -0.18718385,  1.53277921,  1.46935877,\n",
       "        0.15494743,  0.37816252, -0.88778575, -1.98079647, -0.34791215,\n",
       "        0.15634897,  1.23029068,  1.20237985, -0.38732682, -0.30230275,\n",
       "       -1.04855297, -1.42001794, -1.70627019,  1.9507754 , -0.50965218,\n",
       "       -0.4380743 , -1.25279536,  0.77749036, -1.61389785, -0.21274028,\n",
       "       -0.89546656,  0.3869025 , -0.51080514, -1.18063218, -0.02818223,\n",
       "        0.42833187,  0.06651722,  0.3024719 , -0.63432209, -0.36274117,\n",
       "       -0.67246045, -0.35955316, -0.81314628, -1.7262826 ,  0.17742614,\n",
       "       -0.40178094, -1.63019835,  0.46278226, -0.90729836,  0.0519454 ,\n",
       "        0.72909056,  0.12898291,  1.13940068, -1.23482582,  0.40234164,\n",
       "       -0.68481009, -0.87079715, -0.57884966, -0.31155253,  0.05616534,\n",
       "       -1.16514984,  0.90082649,  0.46566244, -1.53624369,  1.48825219,\n",
       "        1.89588918,  1.17877957, -0.17992484, -1.07075262,  1.05445173,\n",
       "       -0.40317695,  1.22244507,  0.20827498,  0.97663904,  0.3563664 ,\n",
       "        0.70657317,  0.01050002,  1.78587049,  0.12691209,  0.40198936,\n",
       "        1.8831507 , -1.34775906, -1.270485  ,  0.96939671, -1.17312341,\n",
       "        1.94362119, -0.41361898, -0.74745481,  1.92294203,  1.48051479,\n",
       "        1.86755896,  0.90604466, -0.86122569,  1.91006495, -0.26800337,\n",
       "        0.8024564 ,  0.94725197, -0.15501009,  0.61407937,  0.92220667,\n",
       "        0.37642553, -1.09940079,  0.29823817,  1.3263859 , -0.69456786,\n",
       "       -0.14963454, -0.43515355,  1.84926373,  0.67229476,  0.40746184,\n",
       "       -0.76991607,  0.53924919, -0.67433266,  0.03183056, -0.63584608,\n",
       "        0.67643329,  0.57659082, -0.20829876,  0.39600671, -1.09306151,\n",
       "       -1.49125759,  0.4393917 ,  0.1666735 ,  0.63503144,  2.38314477,\n",
       "        0.94447949, -0.91282223,  1.11701629, -1.31590741, -0.4615846 ,\n",
       "       -0.06824161,  1.71334272, -0.74475482, -0.82643854, -0.09845252,\n",
       "       -0.66347829,  1.12663592, -1.07993151, -1.14746865, -0.43782004,\n",
       "       -0.49803245,  1.92953205,  0.94942081,  0.08755124, -1.22543552,\n",
       "        0.84436298, -1.00021535, -1.5447711 ,  1.18802979,  0.31694261,\n",
       "        0.92085882,  0.31872765,  0.85683061, -0.65102559, -1.03424284,\n",
       "        0.68159452, -0.80340966, -0.68954978, -0.4555325 ,  0.01747916,\n",
       "       -0.35399391, -1.37495129, -0.6436184 , -2.22340315,  0.62523145,\n",
       "       -1.60205766, -1.10438334,  0.05216508, -0.739563  ,  1.5430146 ,\n",
       "       -1.29285691,  0.26705087, -0.03928282, -1.1680935 ,  0.52327666,\n",
       "       -0.17154633,  0.77179055,  0.82350415,  2.16323595,  1.33652795,\n",
       "       -0.36918184, -0.23937918,  1.0996596 ,  0.65526373,  0.64013153,\n",
       "       -1.61695604, -0.02432612, -0.73803091,  0.2799246 , -0.09815039,\n",
       "        0.91017891,  0.31721822,  0.78632796, -0.4664191 , -0.94444626,\n",
       "       -0.41004969, -0.01702041,  0.37915174,  2.25930895, -0.04225715,\n",
       "       -0.955945  , -0.34598178, -0.46359597,  0.48148147, -1.54079701,\n",
       "        0.06326199,  0.15650654,  0.23218104, -0.59731607, -0.23792173,\n",
       "       -1.42406091, -0.49331988, -0.54286148,  0.41605005, -1.15618243,\n",
       "        0.7811981 ,  1.49448454, -2.06998503,  0.42625873,  0.67690804,\n",
       "       -0.63743703, -0.39727181, -0.13288058, -0.29779088, -0.30901297,\n",
       "       -1.67600381,  1.15233156,  1.07961859, -0.81336426, -1.46642433])"
      ]
     },
     "execution_count": 56,
     "metadata": {},
     "output_type": "execute_result"
    }
   ],
   "source": [
    "np.random.seed(0)\n",
    "a = np.random.randn(250)\n",
    "a"
   ]
  },
  {
   "cell_type": "code",
   "execution_count": 60,
   "id": "90d60328",
   "metadata": {},
   "outputs": [
    {
     "data": {
      "text/plain": [
       "array([ 2.76405235e+04,  1.40015721e+04,  1.97873798e+04,  3.24089320e+04,\n",
       "        2.86755799e+04,  2.27221201e+02,  1.95008842e+04,  8.48642792e+03,\n",
       "        8.96781148e+03,  1.41059850e+04,  1.14404357e+04,  2.45427351e+04,\n",
       "        1.76103773e+04,  1.12167502e+04,  1.44386323e+04,  1.33367433e+04,\n",
       "        2.49407907e+04,  7.94841736e+03,  1.31306770e+04,  1.45904261e+03,\n",
       "       -1.55298982e+04,  1.65361860e+04,  1.86443620e+04,  2.57834980e+03,\n",
       "        3.26975462e+04, -4.54365675e+03,  1.04575852e+04,  8.12816150e+03,\n",
       "        2.53277921e+04,  2.46935877e+04,  1.15494743e+04,  1.37816252e+04,\n",
       "        1.12214252e+03, -9.80796468e+03,  6.52087851e+03,  1.15634897e+04,\n",
       "        2.23029068e+04,  2.20237985e+04,  6.12673183e+03,  6.97697249e+03,\n",
       "       -4.85529651e+02, -4.20017937e+03, -7.06270191e+03,  2.95077540e+04,\n",
       "        4.90347818e+03,  5.61925698e+03, -2.52795360e+03,  1.77749036e+04,\n",
       "       -6.13897848e+03,  7.87259720e+03,  1.04533439e+03,  1.38690250e+04,\n",
       "        4.89194862e+03, -1.80632184e+03,  9.71817772e+03,  1.42833187e+04,\n",
       "        1.06651722e+04,  1.30247190e+04,  3.65677906e+03,  6.37258834e+03,\n",
       "        3.27539552e+03,  6.40446838e+03,  1.86853718e+03, -7.26282602e+03,\n",
       "        1.17742614e+04,  5.98219064e+03, -6.30198347e+03,  1.46278226e+04,\n",
       "        9.27016356e+02,  1.05194540e+04,  1.72909056e+04,  1.12898291e+04,\n",
       "        2.13940068e+04, -2.34825820e+03,  1.40234164e+04,  3.15189909e+03,\n",
       "        1.29202851e+03,  4.21150335e+03,  6.88447468e+03,  1.05616534e+04,\n",
       "       -1.65149841e+03,  1.90082649e+04,  1.46566244e+04, -5.36243686e+03,\n",
       "        2.48825219e+04,  2.89588918e+04,  2.17877957e+04,  8.20075164e+03,\n",
       "       -7.07526215e+02,  2.05445173e+04,  5.96823053e+03,  2.22244507e+04,\n",
       "        1.20827498e+04,  1.97663904e+04,  1.35636640e+04,  1.70657317e+04,\n",
       "        1.01050002e+04,  2.78587049e+04,  1.12691209e+04,  1.40198936e+04,\n",
       "        2.88315070e+04, -3.47759061e+03, -2.70484998e+03,  1.96939671e+04,\n",
       "       -1.73123405e+03,  2.94362119e+04,  5.86381019e+03,  2.52545189e+03,\n",
       "        2.92294203e+04,  2.48051479e+04,  2.86755896e+04,  1.90604466e+04,\n",
       "        1.38774315e+03,  2.91006495e+04,  7.31996629e+03,  1.80245640e+04,\n",
       "        1.94725197e+04,  8.44989907e+03,  1.61407937e+04,  1.92220667e+04,\n",
       "        1.37642553e+04, -9.94007906e+02,  1.29823817e+04,  2.32638590e+04,\n",
       "        3.05432140e+03,  8.50365460e+03,  5.64846448e+03,  2.84926373e+04,\n",
       "        1.67229476e+04,  1.40746184e+04,  2.30083926e+03,  1.53924919e+04,\n",
       "        3.25667339e+03,  1.03183056e+04,  3.64153922e+03,  1.67643329e+04,\n",
       "        1.57659082e+04,  7.91701244e+03,  1.39600671e+04, -9.30615087e+02,\n",
       "       -4.91257593e+03,  1.43939170e+04,  1.16667350e+04,  1.63503144e+04,\n",
       "        3.38314477e+04,  1.94447949e+04,  8.71777746e+02,  2.11701629e+04,\n",
       "       -3.15907411e+03,  5.38415395e+03,  9.31758395e+03,  2.71334272e+04,\n",
       "        2.55245178e+03,  1.73561461e+03,  9.01547476e+03,  3.36521714e+03,\n",
       "        2.12663592e+04, -7.99315084e+02, -1.47468652e+03,  5.62179955e+03,\n",
       "        5.01967549e+03,  2.92953205e+04,  1.94942081e+04,  1.08755124e+04,\n",
       "       -2.25435519e+03,  1.84436298e+04, -2.15347390e+00, -5.44771097e+03,\n",
       "        2.18802979e+04,  1.31694261e+04,  1.92085882e+04,  1.31872765e+04,\n",
       "        1.85683061e+04,  3.48974407e+03, -3.42428418e+02,  1.68159452e+04,\n",
       "        1.96590336e+03,  3.10450222e+03,  5.44467496e+03,  1.01747916e+04,\n",
       "        6.46006089e+03, -3.74951293e+03,  3.56381597e+03, -1.22340315e+04,\n",
       "        1.62523145e+04, -6.02057656e+03, -1.04383339e+03,  1.05216508e+04,\n",
       "        2.60437004e+03,  2.54301460e+04, -2.92856910e+03,  1.26705087e+04,\n",
       "        9.60717182e+03, -1.68093498e+03,  1.52327666e+04,  8.28453669e+03,\n",
       "        1.77179055e+04,  1.82350415e+04,  3.16323595e+04,  2.33652795e+04,\n",
       "        6.30818162e+03,  7.60620822e+03,  2.09965960e+04,  1.65526373e+04,\n",
       "        1.64013153e+04, -6.16956044e+03,  9.75673876e+03,  2.61969091e+03,\n",
       "        1.27992460e+04,  9.01849610e+03,  1.91017891e+04,  1.31721822e+04,\n",
       "        1.78632796e+04,  5.33580903e+03,  5.55537441e+02,  5.89950307e+03,\n",
       "        9.82979586e+03,  1.37915174e+04,  3.25930895e+04,  9.57742848e+03,\n",
       "        4.40549995e+02,  6.54018224e+03,  5.36404025e+03,  1.48148147e+04,\n",
       "       -5.40797014e+03,  1.06326199e+04,  1.15650654e+04,  1.23218104e+04,\n",
       "        4.02683931e+03,  7.62078270e+03, -4.24060909e+03,  5.06680117e+03,\n",
       "        4.57138524e+03,  1.41605005e+04, -1.56182432e+03,  1.78119810e+04,\n",
       "        2.49448454e+04, -1.06998503e+04,  1.42625873e+04,  1.67690804e+04,\n",
       "        3.62562974e+03,  6.02728186e+03,  8.67119422e+03,  7.02209121e+03,\n",
       "        6.90987031e+03, -6.76003806e+03,  2.15233156e+04,  2.07961859e+04,\n",
       "        1.86635741e+03, -4.66424328e+03])"
      ]
     },
     "execution_count": 60,
     "metadata": {},
     "output_type": "execute_result"
    }
   ],
   "source": [
    "b = (a*10000+10000)\n",
    "b"
   ]
  },
  {
   "cell_type": "markdown",
   "id": "73cc138a",
   "metadata": {},
   "source": [
    "<p class=\"admonition-title\">연습 문제 4.1.3</p>\n",
    "<p>다음 데이터프레임에서 지정하는 데이터를 뽑아내거나 처리하라.</p>\n",
    "<div class=\"highlight-default notranslate\"><div class=\"highlight\"><pre><span></span><span class=\"n\">data</span> <span class=\"o\">=</span> <span class=\"p\">{</span>\n",
    "    <span class=\"s2\">&quot;국어&quot;</span><span class=\"p\">:</span> <span class=\"p\">[</span><span class=\"mi\">80</span><span class=\"p\">,</span> <span class=\"mi\">90</span><span class=\"p\">,</span> <span class=\"mi\">70</span><span class=\"p\">,</span> <span class=\"mi\">30</span><span class=\"p\">],</span>\n",
    "    <span class=\"s2\">&quot;영어&quot;</span><span class=\"p\">:</span> <span class=\"p\">[</span><span class=\"mi\">90</span><span class=\"p\">,</span> <span class=\"mi\">70</span><span class=\"p\">,</span> <span class=\"mi\">60</span><span class=\"p\">,</span> <span class=\"mi\">40</span><span class=\"p\">],</span>\n",
    "    <span class=\"s2\">&quot;수학&quot;</span><span class=\"p\">:</span> <span class=\"p\">[</span><span class=\"mi\">90</span><span class=\"p\">,</span> <span class=\"mi\">60</span><span class=\"p\">,</span> <span class=\"mi\">80</span><span class=\"p\">,</span> <span class=\"mi\">70</span><span class=\"p\">],</span>\n",
    "<span class=\"p\">}</span>\n",
    "<span class=\"n\">columns</span> <span class=\"o\">=</span> <span class=\"p\">[</span><span class=\"s2\">&quot;국어&quot;</span><span class=\"p\">,</span> <span class=\"s2\">&quot;영어&quot;</span><span class=\"p\">,</span> <span class=\"s2\">&quot;수학&quot;</span><span class=\"p\">]</span>\n",
    "<span class=\"n\">index</span> <span class=\"o\">=</span> <span class=\"p\">[</span><span class=\"s2\">&quot;춘향&quot;</span><span class=\"p\">,</span> <span class=\"s2\">&quot;몽룡&quot;</span><span class=\"p\">,</span> <span class=\"s2\">&quot;향단&quot;</span><span class=\"p\">,</span> <span class=\"s2\">&quot;방자&quot;</span><span class=\"p\">]</span>\n",
    "<span class=\"n\">df</span> <span class=\"o\">=</span> <span class=\"n\">pd</span><span class=\"o\">.</span><span class=\"n\">DataFrame</span><span class=\"p\">(</span><span class=\"n\">data</span><span class=\"p\">,</span> <span class=\"n\">index</span><span class=\"o\">=</span><span class=\"n\">index</span><span class=\"p\">,</span> <span class=\"n\">columns</span><span class=\"o\">=</span><span class=\"n\">columns</span><span class=\"p\">)</span>\n",
    "</pre></div>\n",
    "</div>\n",
    "<p>(1) 모든 학생의 수학 점수를 시리즈로 나타낸다.</p>\n",
    "<p>(2) 모든 학생의 국어와 영어 점수를 데이터 프레임으로 나타낸다.</p>\n",
    "<p>(3) 모든 학생의 각 과목 평균 점수를 새로운 열로 추가한다.</p>\n",
    "<p>(4) 방자의 영어 점수를 80점으로 수정하고 평균 점수도 다시 계산한다.</p>\n",
    "<p>(5) 춘향의 점수를 데이터프레임으로 나타낸다.</p>\n",
    "<p>(6) 향단의 점수를 시리즈로 나타낸다.</p>\n",
    "</div>\n",
    "</div>"
   ]
  },
  {
   "cell_type": "code",
   "execution_count": 63,
   "id": "e993bb01",
   "metadata": {},
   "outputs": [
    {
     "data": {
      "text/html": [
       "<div>\n",
       "<style scoped>\n",
       "    .dataframe tbody tr th:only-of-type {\n",
       "        vertical-align: middle;\n",
       "    }\n",
       "\n",
       "    .dataframe tbody tr th {\n",
       "        vertical-align: top;\n",
       "    }\n",
       "\n",
       "    .dataframe thead th {\n",
       "        text-align: right;\n",
       "    }\n",
       "</style>\n",
       "<table border=\"1\" class=\"dataframe\">\n",
       "  <thead>\n",
       "    <tr style=\"text-align: right;\">\n",
       "      <th></th>\n",
       "      <th>국어</th>\n",
       "      <th>영어</th>\n",
       "      <th>수학</th>\n",
       "    </tr>\n",
       "  </thead>\n",
       "  <tbody>\n",
       "    <tr>\n",
       "      <th>춘향</th>\n",
       "      <td>80</td>\n",
       "      <td>90</td>\n",
       "      <td>90</td>\n",
       "    </tr>\n",
       "    <tr>\n",
       "      <th>몽룡</th>\n",
       "      <td>90</td>\n",
       "      <td>70</td>\n",
       "      <td>60</td>\n",
       "    </tr>\n",
       "    <tr>\n",
       "      <th>향단</th>\n",
       "      <td>70</td>\n",
       "      <td>60</td>\n",
       "      <td>80</td>\n",
       "    </tr>\n",
       "    <tr>\n",
       "      <th>방자</th>\n",
       "      <td>30</td>\n",
       "      <td>40</td>\n",
       "      <td>70</td>\n",
       "    </tr>\n",
       "  </tbody>\n",
       "</table>\n",
       "</div>"
      ],
      "text/plain": [
       "    국어  영어  수학\n",
       "춘향  80  90  90\n",
       "몽룡  90  70  60\n",
       "향단  70  60  80\n",
       "방자  30  40  70"
      ]
     },
     "execution_count": 63,
     "metadata": {},
     "output_type": "execute_result"
    }
   ],
   "source": [
    "data = {\n",
    "    \"국어\":[80,90,70,30],\n",
    "    \"영어\":[90,70,60,40],\n",
    "    \"수학\":[90,60,80,70]\n",
    "}\n",
    "columns = [\"국어\",\"영어\",\"수학\"]\n",
    "index = [\"춘향\",\"몽룡\",\"향단\",\"방자\"]\n",
    "df = pd.DataFrame(data, index=index, columns=columns)\n",
    "df"
   ]
  },
  {
   "cell_type": "code",
   "execution_count": 64,
   "id": "c49db749",
   "metadata": {},
   "outputs": [
    {
     "data": {
      "text/plain": [
       "춘향    90\n",
       "몽룡    60\n",
       "향단    80\n",
       "방자    70\n",
       "Name: 수학, dtype: int64"
      ]
     },
     "execution_count": 64,
     "metadata": {},
     "output_type": "execute_result"
    }
   ],
   "source": [
    "df[\"수학\"]"
   ]
  },
  {
   "cell_type": "code",
   "execution_count": 65,
   "id": "a704b667",
   "metadata": {},
   "outputs": [
    {
     "data": {
      "text/html": [
       "<div>\n",
       "<style scoped>\n",
       "    .dataframe tbody tr th:only-of-type {\n",
       "        vertical-align: middle;\n",
       "    }\n",
       "\n",
       "    .dataframe tbody tr th {\n",
       "        vertical-align: top;\n",
       "    }\n",
       "\n",
       "    .dataframe thead th {\n",
       "        text-align: right;\n",
       "    }\n",
       "</style>\n",
       "<table border=\"1\" class=\"dataframe\">\n",
       "  <thead>\n",
       "    <tr style=\"text-align: right;\">\n",
       "      <th></th>\n",
       "      <th>국어</th>\n",
       "      <th>영어</th>\n",
       "    </tr>\n",
       "  </thead>\n",
       "  <tbody>\n",
       "    <tr>\n",
       "      <th>춘향</th>\n",
       "      <td>80</td>\n",
       "      <td>90</td>\n",
       "    </tr>\n",
       "    <tr>\n",
       "      <th>몽룡</th>\n",
       "      <td>90</td>\n",
       "      <td>70</td>\n",
       "    </tr>\n",
       "    <tr>\n",
       "      <th>향단</th>\n",
       "      <td>70</td>\n",
       "      <td>60</td>\n",
       "    </tr>\n",
       "    <tr>\n",
       "      <th>방자</th>\n",
       "      <td>30</td>\n",
       "      <td>40</td>\n",
       "    </tr>\n",
       "  </tbody>\n",
       "</table>\n",
       "</div>"
      ],
      "text/plain": [
       "    국어  영어\n",
       "춘향  80  90\n",
       "몽룡  90  70\n",
       "향단  70  60\n",
       "방자  30  40"
      ]
     },
     "execution_count": 65,
     "metadata": {},
     "output_type": "execute_result"
    }
   ],
   "source": [
    "df[[\"국어\",\"영어\"]]"
   ]
  },
  {
   "cell_type": "code",
   "execution_count": 66,
   "id": "42f9cc19",
   "metadata": {},
   "outputs": [
    {
     "data": {
      "text/html": [
       "<div>\n",
       "<style scoped>\n",
       "    .dataframe tbody tr th:only-of-type {\n",
       "        vertical-align: middle;\n",
       "    }\n",
       "\n",
       "    .dataframe tbody tr th {\n",
       "        vertical-align: top;\n",
       "    }\n",
       "\n",
       "    .dataframe thead th {\n",
       "        text-align: right;\n",
       "    }\n",
       "</style>\n",
       "<table border=\"1\" class=\"dataframe\">\n",
       "  <thead>\n",
       "    <tr style=\"text-align: right;\">\n",
       "      <th></th>\n",
       "      <th>국어</th>\n",
       "      <th>영어</th>\n",
       "      <th>수학</th>\n",
       "      <th>평균</th>\n",
       "    </tr>\n",
       "  </thead>\n",
       "  <tbody>\n",
       "    <tr>\n",
       "      <th>춘향</th>\n",
       "      <td>80</td>\n",
       "      <td>90</td>\n",
       "      <td>90</td>\n",
       "      <td>86.666667</td>\n",
       "    </tr>\n",
       "    <tr>\n",
       "      <th>몽룡</th>\n",
       "      <td>90</td>\n",
       "      <td>70</td>\n",
       "      <td>60</td>\n",
       "      <td>73.333333</td>\n",
       "    </tr>\n",
       "    <tr>\n",
       "      <th>향단</th>\n",
       "      <td>70</td>\n",
       "      <td>60</td>\n",
       "      <td>80</td>\n",
       "      <td>70.000000</td>\n",
       "    </tr>\n",
       "    <tr>\n",
       "      <th>방자</th>\n",
       "      <td>30</td>\n",
       "      <td>40</td>\n",
       "      <td>70</td>\n",
       "      <td>46.666667</td>\n",
       "    </tr>\n",
       "  </tbody>\n",
       "</table>\n",
       "</div>"
      ],
      "text/plain": [
       "    국어  영어  수학         평균\n",
       "춘향  80  90  90  86.666667\n",
       "몽룡  90  70  60  73.333333\n",
       "향단  70  60  80  70.000000\n",
       "방자  30  40  70  46.666667"
      ]
     },
     "execution_count": 66,
     "metadata": {},
     "output_type": "execute_result"
    }
   ],
   "source": [
    "df[\"평균\"]=((df[\"국어\"]+df[\"영어\"]+df[\"수학\"])/3)\n",
    "df"
   ]
  },
  {
   "cell_type": "code",
   "execution_count": 71,
   "id": "58029563",
   "metadata": {},
   "outputs": [
    {
     "data": {
      "text/html": [
       "<div>\n",
       "<style scoped>\n",
       "    .dataframe tbody tr th:only-of-type {\n",
       "        vertical-align: middle;\n",
       "    }\n",
       "\n",
       "    .dataframe tbody tr th {\n",
       "        vertical-align: top;\n",
       "    }\n",
       "\n",
       "    .dataframe thead th {\n",
       "        text-align: right;\n",
       "    }\n",
       "</style>\n",
       "<table border=\"1\" class=\"dataframe\">\n",
       "  <thead>\n",
       "    <tr style=\"text-align: right;\">\n",
       "      <th></th>\n",
       "      <th>국어</th>\n",
       "      <th>영어</th>\n",
       "      <th>수학</th>\n",
       "      <th>평균</th>\n",
       "    </tr>\n",
       "  </thead>\n",
       "  <tbody>\n",
       "    <tr>\n",
       "      <th>춘향</th>\n",
       "      <td>80</td>\n",
       "      <td>90</td>\n",
       "      <td>90</td>\n",
       "      <td>86.666667</td>\n",
       "    </tr>\n",
       "    <tr>\n",
       "      <th>몽룡</th>\n",
       "      <td>90</td>\n",
       "      <td>70</td>\n",
       "      <td>60</td>\n",
       "      <td>73.333333</td>\n",
       "    </tr>\n",
       "    <tr>\n",
       "      <th>향단</th>\n",
       "      <td>70</td>\n",
       "      <td>60</td>\n",
       "      <td>80</td>\n",
       "      <td>70.000000</td>\n",
       "    </tr>\n",
       "    <tr>\n",
       "      <th>방자</th>\n",
       "      <td>30</td>\n",
       "      <td>80</td>\n",
       "      <td>70</td>\n",
       "      <td>60.000000</td>\n",
       "    </tr>\n",
       "  </tbody>\n",
       "</table>\n",
       "</div>"
      ],
      "text/plain": [
       "    국어  영어  수학         평균\n",
       "춘향  80  90  90  86.666667\n",
       "몽룡  90  70  60  73.333333\n",
       "향단  70  60  80  70.000000\n",
       "방자  30  80  70  60.000000"
      ]
     },
     "execution_count": 71,
     "metadata": {},
     "output_type": "execute_result"
    }
   ],
   "source": [
    "df.loc[\"방자\",\"영어\"]=80\n",
    "df[\"평균\"]=((df[\"국어\"]+df[\"영어\"]+df[\"수학\"])/3)\n",
    "df"
   ]
  },
  {
   "cell_type": "code",
   "execution_count": 81,
   "id": "fc27f37e",
   "metadata": {},
   "outputs": [
    {
     "data": {
      "text/html": [
       "<div>\n",
       "<style scoped>\n",
       "    .dataframe tbody tr th:only-of-type {\n",
       "        vertical-align: middle;\n",
       "    }\n",
       "\n",
       "    .dataframe tbody tr th {\n",
       "        vertical-align: top;\n",
       "    }\n",
       "\n",
       "    .dataframe thead th {\n",
       "        text-align: right;\n",
       "    }\n",
       "</style>\n",
       "<table border=\"1\" class=\"dataframe\">\n",
       "  <thead>\n",
       "    <tr style=\"text-align: right;\">\n",
       "      <th></th>\n",
       "      <th>국어</th>\n",
       "      <th>영어</th>\n",
       "      <th>수학</th>\n",
       "      <th>평균</th>\n",
       "    </tr>\n",
       "  </thead>\n",
       "  <tbody>\n",
       "    <tr>\n",
       "      <th>춘향</th>\n",
       "      <td>80</td>\n",
       "      <td>90</td>\n",
       "      <td>90</td>\n",
       "      <td>86.666667</td>\n",
       "    </tr>\n",
       "    <tr>\n",
       "      <th>몽룡</th>\n",
       "      <td>90</td>\n",
       "      <td>70</td>\n",
       "      <td>60</td>\n",
       "      <td>73.333333</td>\n",
       "    </tr>\n",
       "  </tbody>\n",
       "</table>\n",
       "</div>"
      ],
      "text/plain": [
       "    국어  영어  수학         평균\n",
       "춘향  80  90  90  86.666667\n",
       "몽룡  90  70  60  73.333333"
      ]
     },
     "execution_count": 81,
     "metadata": {},
     "output_type": "execute_result"
    }
   ],
   "source": [
    "df[:2]"
   ]
  },
  {
   "cell_type": "code",
   "execution_count": 76,
   "id": "d53e3312",
   "metadata": {},
   "outputs": [
    {
     "data": {
      "text/plain": [
       "국어    70.0\n",
       "영어    60.0\n",
       "수학    80.0\n",
       "평균    70.0\n",
       "Name: 향단, dtype: float64"
      ]
     },
     "execution_count": 76,
     "metadata": {},
     "output_type": "execute_result"
    }
   ],
   "source": [
    "df.iloc[2]"
   ]
  },
  {
   "cell_type": "code",
   "execution_count": 82,
   "id": "afe1587f",
   "metadata": {
    "scrolled": true
   },
   "outputs": [
    {
     "data": {
      "text/html": [
       "<div>\n",
       "<style scoped>\n",
       "    .dataframe tbody tr th:only-of-type {\n",
       "        vertical-align: middle;\n",
       "    }\n",
       "\n",
       "    .dataframe tbody tr th {\n",
       "        vertical-align: top;\n",
       "    }\n",
       "\n",
       "    .dataframe thead th {\n",
       "        text-align: right;\n",
       "    }\n",
       "</style>\n",
       "<table border=\"1\" class=\"dataframe\">\n",
       "  <thead>\n",
       "    <tr style=\"text-align: right;\">\n",
       "      <th></th>\n",
       "      <th>survived</th>\n",
       "      <th>pclass</th>\n",
       "      <th>sex</th>\n",
       "      <th>age</th>\n",
       "      <th>sibsp</th>\n",
       "      <th>parch</th>\n",
       "      <th>fare</th>\n",
       "      <th>embarked</th>\n",
       "      <th>class</th>\n",
       "      <th>who</th>\n",
       "      <th>adult_male</th>\n",
       "      <th>deck</th>\n",
       "      <th>embark_town</th>\n",
       "      <th>alive</th>\n",
       "      <th>alone</th>\n",
       "    </tr>\n",
       "  </thead>\n",
       "  <tbody>\n",
       "    <tr>\n",
       "      <th>0</th>\n",
       "      <td>0</td>\n",
       "      <td>3</td>\n",
       "      <td>male</td>\n",
       "      <td>22.0</td>\n",
       "      <td>1</td>\n",
       "      <td>0</td>\n",
       "      <td>7.2500</td>\n",
       "      <td>S</td>\n",
       "      <td>Third</td>\n",
       "      <td>man</td>\n",
       "      <td>True</td>\n",
       "      <td>NaN</td>\n",
       "      <td>Southampton</td>\n",
       "      <td>no</td>\n",
       "      <td>False</td>\n",
       "    </tr>\n",
       "    <tr>\n",
       "      <th>1</th>\n",
       "      <td>1</td>\n",
       "      <td>1</td>\n",
       "      <td>female</td>\n",
       "      <td>38.0</td>\n",
       "      <td>1</td>\n",
       "      <td>0</td>\n",
       "      <td>71.2833</td>\n",
       "      <td>C</td>\n",
       "      <td>First</td>\n",
       "      <td>woman</td>\n",
       "      <td>False</td>\n",
       "      <td>C</td>\n",
       "      <td>Cherbourg</td>\n",
       "      <td>yes</td>\n",
       "      <td>False</td>\n",
       "    </tr>\n",
       "    <tr>\n",
       "      <th>2</th>\n",
       "      <td>1</td>\n",
       "      <td>3</td>\n",
       "      <td>female</td>\n",
       "      <td>26.0</td>\n",
       "      <td>0</td>\n",
       "      <td>0</td>\n",
       "      <td>7.9250</td>\n",
       "      <td>S</td>\n",
       "      <td>Third</td>\n",
       "      <td>woman</td>\n",
       "      <td>False</td>\n",
       "      <td>NaN</td>\n",
       "      <td>Southampton</td>\n",
       "      <td>yes</td>\n",
       "      <td>True</td>\n",
       "    </tr>\n",
       "    <tr>\n",
       "      <th>3</th>\n",
       "      <td>1</td>\n",
       "      <td>1</td>\n",
       "      <td>female</td>\n",
       "      <td>35.0</td>\n",
       "      <td>1</td>\n",
       "      <td>0</td>\n",
       "      <td>53.1000</td>\n",
       "      <td>S</td>\n",
       "      <td>First</td>\n",
       "      <td>woman</td>\n",
       "      <td>False</td>\n",
       "      <td>C</td>\n",
       "      <td>Southampton</td>\n",
       "      <td>yes</td>\n",
       "      <td>False</td>\n",
       "    </tr>\n",
       "    <tr>\n",
       "      <th>4</th>\n",
       "      <td>0</td>\n",
       "      <td>3</td>\n",
       "      <td>male</td>\n",
       "      <td>35.0</td>\n",
       "      <td>0</td>\n",
       "      <td>0</td>\n",
       "      <td>8.0500</td>\n",
       "      <td>S</td>\n",
       "      <td>Third</td>\n",
       "      <td>man</td>\n",
       "      <td>True</td>\n",
       "      <td>NaN</td>\n",
       "      <td>Southampton</td>\n",
       "      <td>no</td>\n",
       "      <td>True</td>\n",
       "    </tr>\n",
       "    <tr>\n",
       "      <th>...</th>\n",
       "      <td>...</td>\n",
       "      <td>...</td>\n",
       "      <td>...</td>\n",
       "      <td>...</td>\n",
       "      <td>...</td>\n",
       "      <td>...</td>\n",
       "      <td>...</td>\n",
       "      <td>...</td>\n",
       "      <td>...</td>\n",
       "      <td>...</td>\n",
       "      <td>...</td>\n",
       "      <td>...</td>\n",
       "      <td>...</td>\n",
       "      <td>...</td>\n",
       "      <td>...</td>\n",
       "    </tr>\n",
       "    <tr>\n",
       "      <th>886</th>\n",
       "      <td>0</td>\n",
       "      <td>2</td>\n",
       "      <td>male</td>\n",
       "      <td>27.0</td>\n",
       "      <td>0</td>\n",
       "      <td>0</td>\n",
       "      <td>13.0000</td>\n",
       "      <td>S</td>\n",
       "      <td>Second</td>\n",
       "      <td>man</td>\n",
       "      <td>True</td>\n",
       "      <td>NaN</td>\n",
       "      <td>Southampton</td>\n",
       "      <td>no</td>\n",
       "      <td>True</td>\n",
       "    </tr>\n",
       "    <tr>\n",
       "      <th>887</th>\n",
       "      <td>1</td>\n",
       "      <td>1</td>\n",
       "      <td>female</td>\n",
       "      <td>19.0</td>\n",
       "      <td>0</td>\n",
       "      <td>0</td>\n",
       "      <td>30.0000</td>\n",
       "      <td>S</td>\n",
       "      <td>First</td>\n",
       "      <td>woman</td>\n",
       "      <td>False</td>\n",
       "      <td>B</td>\n",
       "      <td>Southampton</td>\n",
       "      <td>yes</td>\n",
       "      <td>True</td>\n",
       "    </tr>\n",
       "    <tr>\n",
       "      <th>888</th>\n",
       "      <td>0</td>\n",
       "      <td>3</td>\n",
       "      <td>female</td>\n",
       "      <td>NaN</td>\n",
       "      <td>1</td>\n",
       "      <td>2</td>\n",
       "      <td>23.4500</td>\n",
       "      <td>S</td>\n",
       "      <td>Third</td>\n",
       "      <td>woman</td>\n",
       "      <td>False</td>\n",
       "      <td>NaN</td>\n",
       "      <td>Southampton</td>\n",
       "      <td>no</td>\n",
       "      <td>False</td>\n",
       "    </tr>\n",
       "    <tr>\n",
       "      <th>889</th>\n",
       "      <td>1</td>\n",
       "      <td>1</td>\n",
       "      <td>male</td>\n",
       "      <td>26.0</td>\n",
       "      <td>0</td>\n",
       "      <td>0</td>\n",
       "      <td>30.0000</td>\n",
       "      <td>C</td>\n",
       "      <td>First</td>\n",
       "      <td>man</td>\n",
       "      <td>True</td>\n",
       "      <td>C</td>\n",
       "      <td>Cherbourg</td>\n",
       "      <td>yes</td>\n",
       "      <td>True</td>\n",
       "    </tr>\n",
       "    <tr>\n",
       "      <th>890</th>\n",
       "      <td>0</td>\n",
       "      <td>3</td>\n",
       "      <td>male</td>\n",
       "      <td>32.0</td>\n",
       "      <td>0</td>\n",
       "      <td>0</td>\n",
       "      <td>7.7500</td>\n",
       "      <td>Q</td>\n",
       "      <td>Third</td>\n",
       "      <td>man</td>\n",
       "      <td>True</td>\n",
       "      <td>NaN</td>\n",
       "      <td>Queenstown</td>\n",
       "      <td>no</td>\n",
       "      <td>True</td>\n",
       "    </tr>\n",
       "  </tbody>\n",
       "</table>\n",
       "<p>891 rows × 15 columns</p>\n",
       "</div>"
      ],
      "text/plain": [
       "     survived  pclass     sex   age  sibsp  parch     fare embarked   class  \\\n",
       "0           0       3    male  22.0      1      0   7.2500        S   Third   \n",
       "1           1       1  female  38.0      1      0  71.2833        C   First   \n",
       "2           1       3  female  26.0      0      0   7.9250        S   Third   \n",
       "3           1       1  female  35.0      1      0  53.1000        S   First   \n",
       "4           0       3    male  35.0      0      0   8.0500        S   Third   \n",
       "..        ...     ...     ...   ...    ...    ...      ...      ...     ...   \n",
       "886         0       2    male  27.0      0      0  13.0000        S  Second   \n",
       "887         1       1  female  19.0      0      0  30.0000        S   First   \n",
       "888         0       3  female   NaN      1      2  23.4500        S   Third   \n",
       "889         1       1    male  26.0      0      0  30.0000        C   First   \n",
       "890         0       3    male  32.0      0      0   7.7500        Q   Third   \n",
       "\n",
       "       who  adult_male deck  embark_town alive  alone  \n",
       "0      man        True  NaN  Southampton    no  False  \n",
       "1    woman       False    C    Cherbourg   yes  False  \n",
       "2    woman       False  NaN  Southampton   yes   True  \n",
       "3    woman       False    C  Southampton   yes  False  \n",
       "4      man        True  NaN  Southampton    no   True  \n",
       "..     ...         ...  ...          ...   ...    ...  \n",
       "886    man        True  NaN  Southampton    no   True  \n",
       "887  woman       False    B  Southampton   yes   True  \n",
       "888  woman       False  NaN  Southampton    no  False  \n",
       "889    man        True    C    Cherbourg   yes   True  \n",
       "890    man        True  NaN   Queenstown    no   True  \n",
       "\n",
       "[891 rows x 15 columns]"
      ]
     },
     "execution_count": 82,
     "metadata": {},
     "output_type": "execute_result"
    }
   ],
   "source": [
    "import seaborn as sns\n",
    "titanic = sns.load_dataset(\"titanic\")\n",
    "titanic"
   ]
  },
  {
   "cell_type": "markdown",
   "id": "9553eab5",
   "metadata": {},
   "source": [
    "<p class=\"admonition-title\">연습 문제 4.4.1</p>\n",
    "<p>타이타닉호 승객 데이터의 데이터 개수를 각 열마다 구해본다.</p>\n",
    "</div>"
   ]
  },
  {
   "cell_type": "code",
   "execution_count": 83,
   "id": "5b593131",
   "metadata": {
    "scrolled": true
   },
   "outputs": [
    {
     "data": {
      "text/plain": [
       "survived       891\n",
       "pclass         891\n",
       "sex            891\n",
       "age            714\n",
       "sibsp          891\n",
       "parch          891\n",
       "fare           891\n",
       "embarked       889\n",
       "class          891\n",
       "who            891\n",
       "adult_male     891\n",
       "deck           203\n",
       "embark_town    889\n",
       "alive          891\n",
       "alone          891\n",
       "dtype: int64"
      ]
     },
     "execution_count": 83,
     "metadata": {},
     "output_type": "execute_result"
    }
   ],
   "source": [
    "titanic.count()"
   ]
  },
  {
   "cell_type": "markdown",
   "id": "bf0f99d8",
   "metadata": {},
   "source": [
    "<p class=\"admonition-title\">연습 문제 4.4.2</p>\n",
    "<p><code class=\"docutils literal notranslate\"><span class=\"pre\">sort_values</span></code> 메서드를 사용하여 타이타닉호 승객에 대해 성별(sex) 인원수, 나이별(age) 인원수, 선실별(class) 인원수, 사망/생존(alive) 인원수를 구하라.</p>\n",
    "</div>"
   ]
  },
  {
   "cell_type": "code",
   "execution_count": 84,
   "id": "34ca3a8a",
   "metadata": {},
   "outputs": [
    {
     "data": {
      "text/plain": [
       "female    314\n",
       "male      577\n",
       "Name: sex, dtype: int64"
      ]
     },
     "execution_count": 84,
     "metadata": {},
     "output_type": "execute_result"
    }
   ],
   "source": [
    "titanic.sex.value_counts().sort_values()"
   ]
  },
  {
   "cell_type": "code",
   "execution_count": 85,
   "id": "977a071e",
   "metadata": {},
   "outputs": [
    {
     "data": {
      "text/plain": [
       "74.00     1\n",
       "34.50     1\n",
       "0.42      1\n",
       "0.67      1\n",
       "66.00     1\n",
       "         ..\n",
       "28.00    25\n",
       "19.00    25\n",
       "18.00    26\n",
       "22.00    27\n",
       "24.00    30\n",
       "Name: age, Length: 88, dtype: int64"
      ]
     },
     "execution_count": 85,
     "metadata": {},
     "output_type": "execute_result"
    }
   ],
   "source": [
    "titanic.age.value_counts().sort_values()"
   ]
  },
  {
   "cell_type": "markdown",
   "id": "ce4e3775",
   "metadata": {},
   "source": [
    "<p class=\"admonition-title\">연습 문제 4.4.3</p>\n",
    "<ol class=\"simple\">\n",
    "<li><p>타이타닉호 승객의 평균 나이를 구하라.</p></li>\n",
    "<li><p>타이타닉호 승객중 여성 승객의 평균 나이를 구하라.</p></li>\n",
    "<li><p>타이타닉호 승객중 1등실 선실의 여성 승객의 평균 나이를 구하라.</p></li>\n",
    "</ol>\n",
    "</div>"
   ]
  },
  {
   "cell_type": "code",
   "execution_count": 96,
   "id": "43a0160d",
   "metadata": {},
   "outputs": [
    {
     "data": {
      "text/plain": [
       "30"
      ]
     },
     "execution_count": 96,
     "metadata": {},
     "output_type": "execute_result"
    }
   ],
   "source": [
    "round(titanic.age.mean())"
   ]
  },
  {
   "cell_type": "code",
   "execution_count": 98,
   "id": "46d2b037",
   "metadata": {},
   "outputs": [
    {
     "data": {
      "text/plain": [
       "28"
      ]
     },
     "execution_count": 98,
     "metadata": {},
     "output_type": "execute_result"
    }
   ],
   "source": [
    "titanic_female = titanic[titanic[\"sex\"] == \"female\"]\n",
    "a = round(titanic_female[\"age\"].mean())\n",
    "a"
   ]
  },
  {
   "cell_type": "code",
   "execution_count": 99,
   "id": "33e32af3",
   "metadata": {},
   "outputs": [
    {
     "data": {
      "text/plain": [
       "35"
      ]
     },
     "execution_count": 99,
     "metadata": {},
     "output_type": "execute_result"
    }
   ],
   "source": [
    "titanic_first_female = titanic[(titanic[\"class\"] == \"First\") & (titanic[\"sex\"] == \"female\")]\n",
    "a = round(titanic_first_female[\"age\"].mean())\n",
    "a"
   ]
  },
  {
   "cell_type": "markdown",
   "id": "9cb7f68b",
   "metadata": {},
   "source": [
    "<p class=\"admonition-title\">연습 문제 4.4.4</p>\n",
    "<p>타이타닉호의 승객에 대해 나이와 성별에 의한 카테고리 열인 <code class=\"docutils literal notranslate\"><span class=\"pre\">category1</span></code> 열을 만들어라. <code class=\"docutils literal notranslate\"><span class=\"pre\">category1</span></code> 카테고리는 다음과 같이 정의된다.</p>\n",
    "<ol class=\"simple\">\n",
    "<li><p>20살이 넘으면 성별을 그대로 사용한다.</p></li>\n",
    "<li><p>20살 미만이면 성별에 관계없이 “child”라고 한다.</p></li>\n",
    "</ol>\n",
    "</div>"
   ]
  },
  {
   "cell_type": "code",
   "execution_count": 100,
   "id": "0b1da473",
   "metadata": {},
   "outputs": [
    {
     "data": {
      "text/html": [
       "<div>\n",
       "<style scoped>\n",
       "    .dataframe tbody tr th:only-of-type {\n",
       "        vertical-align: middle;\n",
       "    }\n",
       "\n",
       "    .dataframe tbody tr th {\n",
       "        vertical-align: top;\n",
       "    }\n",
       "\n",
       "    .dataframe thead th {\n",
       "        text-align: right;\n",
       "    }\n",
       "</style>\n",
       "<table border=\"1\" class=\"dataframe\">\n",
       "  <thead>\n",
       "    <tr style=\"text-align: right;\">\n",
       "      <th></th>\n",
       "      <th>survived</th>\n",
       "      <th>pclass</th>\n",
       "      <th>sex</th>\n",
       "      <th>age</th>\n",
       "      <th>sibsp</th>\n",
       "      <th>parch</th>\n",
       "      <th>fare</th>\n",
       "      <th>embarked</th>\n",
       "      <th>class</th>\n",
       "      <th>who</th>\n",
       "      <th>adult_male</th>\n",
       "      <th>deck</th>\n",
       "      <th>embark_town</th>\n",
       "      <th>alive</th>\n",
       "      <th>alone</th>\n",
       "    </tr>\n",
       "  </thead>\n",
       "  <tbody>\n",
       "    <tr>\n",
       "      <th>0</th>\n",
       "      <td>0</td>\n",
       "      <td>3</td>\n",
       "      <td>male</td>\n",
       "      <td>22.0</td>\n",
       "      <td>1</td>\n",
       "      <td>0</td>\n",
       "      <td>7.2500</td>\n",
       "      <td>S</td>\n",
       "      <td>Third</td>\n",
       "      <td>man</td>\n",
       "      <td>True</td>\n",
       "      <td>NaN</td>\n",
       "      <td>Southampton</td>\n",
       "      <td>no</td>\n",
       "      <td>False</td>\n",
       "    </tr>\n",
       "    <tr>\n",
       "      <th>1</th>\n",
       "      <td>1</td>\n",
       "      <td>1</td>\n",
       "      <td>female</td>\n",
       "      <td>38.0</td>\n",
       "      <td>1</td>\n",
       "      <td>0</td>\n",
       "      <td>71.2833</td>\n",
       "      <td>C</td>\n",
       "      <td>First</td>\n",
       "      <td>woman</td>\n",
       "      <td>False</td>\n",
       "      <td>C</td>\n",
       "      <td>Cherbourg</td>\n",
       "      <td>yes</td>\n",
       "      <td>False</td>\n",
       "    </tr>\n",
       "    <tr>\n",
       "      <th>2</th>\n",
       "      <td>1</td>\n",
       "      <td>3</td>\n",
       "      <td>female</td>\n",
       "      <td>26.0</td>\n",
       "      <td>0</td>\n",
       "      <td>0</td>\n",
       "      <td>7.9250</td>\n",
       "      <td>S</td>\n",
       "      <td>Third</td>\n",
       "      <td>woman</td>\n",
       "      <td>False</td>\n",
       "      <td>NaN</td>\n",
       "      <td>Southampton</td>\n",
       "      <td>yes</td>\n",
       "      <td>True</td>\n",
       "    </tr>\n",
       "    <tr>\n",
       "      <th>3</th>\n",
       "      <td>1</td>\n",
       "      <td>1</td>\n",
       "      <td>female</td>\n",
       "      <td>35.0</td>\n",
       "      <td>1</td>\n",
       "      <td>0</td>\n",
       "      <td>53.1000</td>\n",
       "      <td>S</td>\n",
       "      <td>First</td>\n",
       "      <td>woman</td>\n",
       "      <td>False</td>\n",
       "      <td>C</td>\n",
       "      <td>Southampton</td>\n",
       "      <td>yes</td>\n",
       "      <td>False</td>\n",
       "    </tr>\n",
       "    <tr>\n",
       "      <th>4</th>\n",
       "      <td>0</td>\n",
       "      <td>3</td>\n",
       "      <td>male</td>\n",
       "      <td>35.0</td>\n",
       "      <td>0</td>\n",
       "      <td>0</td>\n",
       "      <td>8.0500</td>\n",
       "      <td>S</td>\n",
       "      <td>Third</td>\n",
       "      <td>man</td>\n",
       "      <td>True</td>\n",
       "      <td>NaN</td>\n",
       "      <td>Southampton</td>\n",
       "      <td>no</td>\n",
       "      <td>True</td>\n",
       "    </tr>\n",
       "    <tr>\n",
       "      <th>...</th>\n",
       "      <td>...</td>\n",
       "      <td>...</td>\n",
       "      <td>...</td>\n",
       "      <td>...</td>\n",
       "      <td>...</td>\n",
       "      <td>...</td>\n",
       "      <td>...</td>\n",
       "      <td>...</td>\n",
       "      <td>...</td>\n",
       "      <td>...</td>\n",
       "      <td>...</td>\n",
       "      <td>...</td>\n",
       "      <td>...</td>\n",
       "      <td>...</td>\n",
       "      <td>...</td>\n",
       "    </tr>\n",
       "    <tr>\n",
       "      <th>886</th>\n",
       "      <td>0</td>\n",
       "      <td>2</td>\n",
       "      <td>male</td>\n",
       "      <td>27.0</td>\n",
       "      <td>0</td>\n",
       "      <td>0</td>\n",
       "      <td>13.0000</td>\n",
       "      <td>S</td>\n",
       "      <td>Second</td>\n",
       "      <td>man</td>\n",
       "      <td>True</td>\n",
       "      <td>NaN</td>\n",
       "      <td>Southampton</td>\n",
       "      <td>no</td>\n",
       "      <td>True</td>\n",
       "    </tr>\n",
       "    <tr>\n",
       "      <th>887</th>\n",
       "      <td>1</td>\n",
       "      <td>1</td>\n",
       "      <td>female</td>\n",
       "      <td>19.0</td>\n",
       "      <td>0</td>\n",
       "      <td>0</td>\n",
       "      <td>30.0000</td>\n",
       "      <td>S</td>\n",
       "      <td>First</td>\n",
       "      <td>woman</td>\n",
       "      <td>False</td>\n",
       "      <td>B</td>\n",
       "      <td>Southampton</td>\n",
       "      <td>yes</td>\n",
       "      <td>True</td>\n",
       "    </tr>\n",
       "    <tr>\n",
       "      <th>888</th>\n",
       "      <td>0</td>\n",
       "      <td>3</td>\n",
       "      <td>female</td>\n",
       "      <td>NaN</td>\n",
       "      <td>1</td>\n",
       "      <td>2</td>\n",
       "      <td>23.4500</td>\n",
       "      <td>S</td>\n",
       "      <td>Third</td>\n",
       "      <td>woman</td>\n",
       "      <td>False</td>\n",
       "      <td>NaN</td>\n",
       "      <td>Southampton</td>\n",
       "      <td>no</td>\n",
       "      <td>False</td>\n",
       "    </tr>\n",
       "    <tr>\n",
       "      <th>889</th>\n",
       "      <td>1</td>\n",
       "      <td>1</td>\n",
       "      <td>male</td>\n",
       "      <td>26.0</td>\n",
       "      <td>0</td>\n",
       "      <td>0</td>\n",
       "      <td>30.0000</td>\n",
       "      <td>C</td>\n",
       "      <td>First</td>\n",
       "      <td>man</td>\n",
       "      <td>True</td>\n",
       "      <td>C</td>\n",
       "      <td>Cherbourg</td>\n",
       "      <td>yes</td>\n",
       "      <td>True</td>\n",
       "    </tr>\n",
       "    <tr>\n",
       "      <th>890</th>\n",
       "      <td>0</td>\n",
       "      <td>3</td>\n",
       "      <td>male</td>\n",
       "      <td>32.0</td>\n",
       "      <td>0</td>\n",
       "      <td>0</td>\n",
       "      <td>7.7500</td>\n",
       "      <td>Q</td>\n",
       "      <td>Third</td>\n",
       "      <td>man</td>\n",
       "      <td>True</td>\n",
       "      <td>NaN</td>\n",
       "      <td>Queenstown</td>\n",
       "      <td>no</td>\n",
       "      <td>True</td>\n",
       "    </tr>\n",
       "  </tbody>\n",
       "</table>\n",
       "<p>891 rows × 15 columns</p>\n",
       "</div>"
      ],
      "text/plain": [
       "     survived  pclass     sex   age  sibsp  parch     fare embarked   class  \\\n",
       "0           0       3    male  22.0      1      0   7.2500        S   Third   \n",
       "1           1       1  female  38.0      1      0  71.2833        C   First   \n",
       "2           1       3  female  26.0      0      0   7.9250        S   Third   \n",
       "3           1       1  female  35.0      1      0  53.1000        S   First   \n",
       "4           0       3    male  35.0      0      0   8.0500        S   Third   \n",
       "..        ...     ...     ...   ...    ...    ...      ...      ...     ...   \n",
       "886         0       2    male  27.0      0      0  13.0000        S  Second   \n",
       "887         1       1  female  19.0      0      0  30.0000        S   First   \n",
       "888         0       3  female   NaN      1      2  23.4500        S   Third   \n",
       "889         1       1    male  26.0      0      0  30.0000        C   First   \n",
       "890         0       3    male  32.0      0      0   7.7500        Q   Third   \n",
       "\n",
       "       who  adult_male deck  embark_town alive  alone  \n",
       "0      man        True  NaN  Southampton    no  False  \n",
       "1    woman       False    C    Cherbourg   yes  False  \n",
       "2    woman       False  NaN  Southampton   yes   True  \n",
       "3    woman       False    C  Southampton   yes  False  \n",
       "4      man        True  NaN  Southampton    no   True  \n",
       "..     ...         ...  ...          ...   ...    ...  \n",
       "886    man        True  NaN  Southampton    no   True  \n",
       "887  woman       False    B  Southampton   yes   True  \n",
       "888  woman       False  NaN  Southampton    no  False  \n",
       "889    man        True    C    Cherbourg   yes   True  \n",
       "890    man        True  NaN   Queenstown    no   True  \n",
       "\n",
       "[891 rows x 15 columns]"
      ]
     },
     "execution_count": 100,
     "metadata": {},
     "output_type": "execute_result"
    }
   ],
   "source": [
    "titanic"
   ]
  },
  {
   "cell_type": "code",
   "execution_count": 104,
   "id": "46aa2eba",
   "metadata": {},
   "outputs": [
    {
     "data": {
      "text/html": [
       "<div>\n",
       "<style scoped>\n",
       "    .dataframe tbody tr th:only-of-type {\n",
       "        vertical-align: middle;\n",
       "    }\n",
       "\n",
       "    .dataframe tbody tr th {\n",
       "        vertical-align: top;\n",
       "    }\n",
       "\n",
       "    .dataframe thead th {\n",
       "        text-align: right;\n",
       "    }\n",
       "</style>\n",
       "<table border=\"1\" class=\"dataframe\">\n",
       "  <thead>\n",
       "    <tr style=\"text-align: right;\">\n",
       "      <th></th>\n",
       "      <th>category1</th>\n",
       "    </tr>\n",
       "  </thead>\n",
       "  <tbody>\n",
       "    <tr>\n",
       "      <th>0</th>\n",
       "      <td>male</td>\n",
       "    </tr>\n",
       "    <tr>\n",
       "      <th>1</th>\n",
       "      <td>female</td>\n",
       "    </tr>\n",
       "    <tr>\n",
       "      <th>2</th>\n",
       "      <td>female</td>\n",
       "    </tr>\n",
       "    <tr>\n",
       "      <th>3</th>\n",
       "      <td>female</td>\n",
       "    </tr>\n",
       "    <tr>\n",
       "      <th>4</th>\n",
       "      <td>male</td>\n",
       "    </tr>\n",
       "    <tr>\n",
       "      <th>...</th>\n",
       "      <td>...</td>\n",
       "    </tr>\n",
       "    <tr>\n",
       "      <th>886</th>\n",
       "      <td>male</td>\n",
       "    </tr>\n",
       "    <tr>\n",
       "      <th>887</th>\n",
       "      <td>child</td>\n",
       "    </tr>\n",
       "    <tr>\n",
       "      <th>888</th>\n",
       "      <td>child</td>\n",
       "    </tr>\n",
       "    <tr>\n",
       "      <th>889</th>\n",
       "      <td>male</td>\n",
       "    </tr>\n",
       "    <tr>\n",
       "      <th>890</th>\n",
       "      <td>male</td>\n",
       "    </tr>\n",
       "  </tbody>\n",
       "</table>\n",
       "<p>891 rows × 1 columns</p>\n",
       "</div>"
      ],
      "text/plain": [
       "    category1\n",
       "0        male\n",
       "1      female\n",
       "2      female\n",
       "3      female\n",
       "4        male\n",
       "..        ...\n",
       "886      male\n",
       "887     child\n",
       "888     child\n",
       "889      male\n",
       "890      male\n",
       "\n",
       "[891 rows x 1 columns]"
      ]
     },
     "execution_count": 104,
     "metadata": {},
     "output_type": "execute_result"
    }
   ],
   "source": [
    "titanic['category1'] = titanic.apply(lambda x: x.sex if x.age>=20 else 'child', axis=1)\n",
    "titanic[['category1']]"
   ]
  },
  {
   "cell_type": "code",
   "execution_count": 105,
   "id": "baeb126e",
   "metadata": {},
   "outputs": [],
   "source": [
    "from ProjectEuler import *"
   ]
  },
  {
   "cell_type": "code",
   "execution_count": 107,
   "id": "b3549be8",
   "metadata": {},
   "outputs": [
    {
     "data": {
      "text/html": [
       "<h2>1000보다 작은 자연수 중에서 3 또는 5의 배수를 모두 더하면?</h2><div class=\"info\" style=\"float:right; font-size:90%;\">\n",
       "<a href=\"https://projecteuler.net/problem=1\" target=\"_blank\">[ProjectEuler.net 원본]</a>\n",
       "</div><h4 title=\"난이도 ☕\">Problem 1</h4><p></p><div class=\"problem_content\">\n",
       "<p>10보다 작은 자연수 중에서 3 또는 5의 배수는 3, 5, 6, 9 이고, 이것을 모두 더하면 23입니다.</p>\n",
       "<p>1000보다 작은 자연수 중에서 3 또는 5의 배수를 모두 더하면 얼마일까요?</p></div>"
      ],
      "text/plain": [
       "<IPython.core.display.HTML object>"
      ]
     },
     "execution_count": 107,
     "metadata": {},
     "output_type": "execute_result"
    }
   ],
   "source": [
    "EulerT(1)"
   ]
  },
  {
   "cell_type": "code",
   "execution_count": 109,
   "id": "b5507cb0",
   "metadata": {},
   "outputs": [
    {
     "name": "stdout",
     "output_type": "stream",
     "text": [
      "233168\n"
     ]
    }
   ],
   "source": [
    "num = 1000\n",
    "rtv = 0\n",
    "for n in range(1,num):\n",
    "    if (n%3 == 0) | (n%5 == 0) :\n",
    "        rtv = rtv + n\n",
    "print(rtv)"
   ]
  },
  {
   "cell_type": "code",
   "execution_count": 110,
   "id": "5a19eb0b",
   "metadata": {},
   "outputs": [],
   "source": [
    "def compute(n):\n",
    "    ans = sum(x for x in range(1,n) if (x%3==0 | x%5 == 0))\n",
    "    return ans\n"
   ]
  },
  {
   "cell_type": "code",
   "execution_count": 111,
   "id": "8ac20760",
   "metadata": {},
   "outputs": [
    {
     "data": {
      "text/plain": [
       "33165"
      ]
     },
     "execution_count": 111,
     "metadata": {},
     "output_type": "execute_result"
    }
   ],
   "source": [
    "compute(1000)"
   ]
  },
  {
   "cell_type": "code",
   "execution_count": 112,
   "id": "4eb447a9",
   "metadata": {},
   "outputs": [
    {
     "data": {
      "text/plain": [
       "3333331666665"
      ]
     },
     "execution_count": 112,
     "metadata": {},
     "output_type": "execute_result"
    }
   ],
   "source": [
    "compute(10000000)"
   ]
  },
  {
   "cell_type": "code",
   "execution_count": 113,
   "id": "9930bcf2",
   "metadata": {},
   "outputs": [
    {
     "data": {
      "text/html": [
       "<h2>피보나치 수열에서 4백만 이하이면서 짝수인 항의 합</h2><div class=\"info\" style=\"float:right; font-size:90%;\">\n",
       "<a href=\"https://projecteuler.net/problem=2\" target=\"_blank\">[ProjectEuler.net 원본]</a>\n",
       "</div><h4 title=\"난이도 ☕\">Problem 2</h4><p></p><div class=\"problem_content\">\n",
       "<p>피보나치(Fibonacci) 수열의 각 항은 바로 앞의 항 두 개를 더한 것입니다. 1과 2로 시작하는 경우 이 수열은 아래와 같습니다.</p>\n",
       "<blockquote> 1, 2, 3, 5, 8, 13, 21, 34, 55, 89, ... </blockquote>\n",
       "<p>4백만 이하의 짝수 값을 갖는 모든 피보나치 항을 더하면 얼마가 됩니까?</p></div>"
      ],
      "text/plain": [
       "<IPython.core.display.HTML object>"
      ]
     },
     "execution_count": 113,
     "metadata": {},
     "output_type": "execute_result"
    }
   ],
   "source": [
    "EulerT(2)"
   ]
  },
  {
   "cell_type": "code",
   "execution_count": 115,
   "id": "70d68a26",
   "metadata": {},
   "outputs": [
    {
     "data": {
      "text/plain": [
       "4613732"
      ]
     },
     "execution_count": 115,
     "metadata": {},
     "output_type": "execute_result"
    }
   ],
   "source": [
    "n = 4000000\n",
    "ans = 0\n",
    "fp = 1\n",
    "fn = 2\n",
    "while fp <=n:\n",
    "    if fp%2 == 0:\n",
    "        ans += fp\n",
    "    fp, fn = fn, fp +fn\n",
    "ans"
   ]
  },
  {
   "cell_type": "code",
   "execution_count": 116,
   "id": "de692a80",
   "metadata": {},
   "outputs": [],
   "source": [
    "def coumpute(n):\n",
    "    x,y,ans = 1,2,0\n",
    "    while x <= n:\n",
    "        if x % 2 == 0:\n",
    "            ans += x\n",
    "        x,y = y, x+y\n",
    "    return ans\n"
   ]
  },
  {
   "cell_type": "code",
   "execution_count": 118,
   "id": "f7841875",
   "metadata": {},
   "outputs": [
    {
     "data": {
      "text/plain": [
       "533332666665"
      ]
     },
     "execution_count": 118,
     "metadata": {},
     "output_type": "execute_result"
    }
   ],
   "source": [
    "compute(4000000)"
   ]
  },
  {
   "cell_type": "code",
   "execution_count": 119,
   "id": "b0c32268",
   "metadata": {
    "scrolled": false
   },
   "outputs": [
    {
     "data": {
      "text/html": [
       "<h2>가장 큰 소인수 구하기</h2><div class=\"info\" style=\"float:right; font-size:90%;\">\n",
       "<a href=\"https://projecteuler.net/problem=3\" target=\"_blank\">[ProjectEuler.net 원본]</a>\n",
       "</div><h4 title=\"난이도 ☕\">Problem 3</h4><p></p><div class=\"problem_content\">\n",
       "<p>어떤 수를 소수의 곱으로만 나타내는 것을 소인수분해라 하고, 이 소수들을 그 수의 소인수라고 합니다.<br/>\r\n",
       " 예를 들면 13195의 소인수는 5, 7, 13, 29 입니다.</p>\n",
       "<p>600851475143의 소인수 중에서 가장 큰 수를 구하세요.</p></div>"
      ],
      "text/plain": [
       "<IPython.core.display.HTML object>"
      ]
     },
     "execution_count": 119,
     "metadata": {},
     "output_type": "execute_result"
    }
   ],
   "source": [
    "EulerT(3)"
   ]
  },
  {
   "cell_type": "code",
   "execution_count": 122,
   "id": "94bbb04c",
   "metadata": {},
   "outputs": [
    {
     "name": "stdout",
     "output_type": "stream",
     "text": [
      "29\n"
     ]
    }
   ],
   "source": [
    "n,m = 13195,2\n",
    "while n>1:\n",
    "    if (n%m) == 0:\n",
    "        n = n//m\n",
    "    else:\n",
    "        m+=1\n",
    "print(m)"
   ]
  },
  {
   "cell_type": "code",
   "execution_count": null,
   "id": "1f2e61b6",
   "metadata": {},
   "outputs": [],
   "source": []
  }
 ],
 "metadata": {
  "kernelspec": {
   "display_name": "Python 3 (ipykernel)",
   "language": "python",
   "name": "python3"
  },
  "language_info": {
   "codemirror_mode": {
    "name": "ipython",
    "version": 3
   },
   "file_extension": ".py",
   "mimetype": "text/x-python",
   "name": "python",
   "nbconvert_exporter": "python",
   "pygments_lexer": "ipython3",
   "version": "3.9.12"
  }
 },
 "nbformat": 4,
 "nbformat_minor": 5
}
