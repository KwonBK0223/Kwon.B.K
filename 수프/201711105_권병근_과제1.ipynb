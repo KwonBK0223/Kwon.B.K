{
 "cells": [
  {
   "cell_type": "markdown",
   "metadata": {},
   "source": [
    "<h2 id=\"q1\">Q1</h2>\n",
    "<p>홍길동 씨의 과목별 점수는 다음과 같다. 홍길동 씨의 평균 점수를 구해 보자.</p>\n",
    "<table>\n",
    "<thead>\n",
    "<tr>\n",
    "<th>과목</th>\n",
    "<th>점수</th>\n",
    "</tr>\n",
    "</thead>\n",
    "<tbody>\n",
    "<tr>\n",
    "<td>국어</td>\n",
    "<td>80</td>\n",
    "</tr>\n",
    "<tr>\n",
    "<td>영어</td>\n",
    "<td>75</td>\n",
    "</tr>\n",
    "<tr>\n",
    "<td>수학</td>\n",
    "<td>55</td>\n",
    "</tr>\n",
    "</tbody>\n",
    "</table>"
   ]
  },
  {
   "cell_type": "code",
   "execution_count": 1,
   "metadata": {},
   "outputs": [
    {
     "data": {
      "text/plain": [
       "70.0"
      ]
     },
     "execution_count": 1,
     "metadata": {},
     "output_type": "execute_result"
    }
   ],
   "source": [
    "a = 80\n",
    "b = 75\n",
    "c = 55\n",
    "(a+b+c)/3 # 3과목의 점수를 합한 뒤 3으로 나누기"
   ]
  },
  {
   "cell_type": "markdown",
   "metadata": {},
   "source": [
    "<h2 id=\"q2\">Q2</h2>\n",
    "<p>자연수 13이 홀수인지 짝수인지 판별할 수 있는 방법에 대해 말해 보자.</p>"
   ]
  },
  {
   "cell_type": "code",
   "execution_count": 2,
   "metadata": {},
   "outputs": [
    {
     "name": "stdout",
     "output_type": "stream",
     "text": [
      "홀수\n"
     ]
    }
   ],
   "source": [
    "a = 13%2\n",
    "if a == 1:\n",
    "    print(\"홀수\")\n",
    "else :\n",
    "    print(\"짝수\")\n",
    "    \n",
    "# 자연수를 2로 나누어서 나머지가 1이면 홀수 아니면 짝수를 출력"
   ]
  },
  {
   "cell_type": "markdown",
   "metadata": {},
   "source": [
    "<h2 id=\"q3\">Q3</h2>\n",
    "<p>홍길동 씨의 주민등록번호는 881120-1068234이다. 홍길동 씨의 주민등록번호를 연월일(YYYYMMDD) 부분과 그 뒤의 숫자 부분으로 나누어 출력해 보자.</p>\n",
    "<blockquote>\n",
    "<p>※ 문자열 슬라이싱 기법을 사용해 보자.</p>\n",
    "</blockquote>"
   ]
  },
  {
   "cell_type": "code",
   "execution_count": 3,
   "metadata": {},
   "outputs": [
    {
     "name": "stdout",
     "output_type": "stream",
     "text": [
      "881120\n",
      "068234\n"
     ]
    }
   ],
   "source": [
    "id = \"881120-1068234\"\n",
    "YYYYMMDD = id[:6]\n",
    "num = id[8:]\n",
    "print(YYYYMMDD)\n",
    "print(num)"
   ]
  },
  {
   "cell_type": "markdown",
   "metadata": {},
   "source": [
    "<h2 id=\"q4\">Q4</h2>\n",
    "<p>주민등록번호 뒷자리의 맨 첫 번째 숫자는 성별을 나타낸다. 주민등록번호에서 성별을 나타내는 숫자를 출력해 보자.</p>\n",
    "<pre><code class=\"python\">&gt;&gt;&gt; pin = &quot;881120-1068234&quot;\n",
    "</code></pre>\n",
    "\n",
    "<blockquote>\n",
    "<p>※ 문자열 인덱싱을 사용해 보자.</p>\n",
    "</blockquote>"
   ]
  },
  {
   "cell_type": "code",
   "execution_count": 4,
   "metadata": {},
   "outputs": [
    {
     "data": {
      "text/plain": [
       "'1'"
      ]
     },
     "execution_count": 4,
     "metadata": {},
     "output_type": "execute_result"
    }
   ],
   "source": [
    "pin = \"881120-1068234\"\n",
    "a = pin[7]\n",
    "a\n",
    "# 출력값이 1이면 남자 2이면 여자"
   ]
  },
  {
   "cell_type": "markdown",
   "metadata": {},
   "source": [
    "<h2 id=\"q5\">Q5</h2>\n",
    "<p>다음과 같은 문자열 a:b:c:d가 있다. 문자열의 replace 함수를 사용하여 a#b#c#d로 바꿔서 출력해 보자.</p>\n",
    "<pre><code class=\"python\">&gt;&gt;&gt; a = &quot;a:b:c:d&quot;\n",
    "</code></pre>"
   ]
  },
  {
   "cell_type": "code",
   "execution_count": 1,
   "metadata": {},
   "outputs": [
    {
     "data": {
      "text/plain": [
       "'a#b#c#d'"
      ]
     },
     "execution_count": 1,
     "metadata": {},
     "output_type": "execute_result"
    }
   ],
   "source": [
    "a = \"a:b:c:d\"\n",
    "b = a.replace(\":\",\"#\")   # : 를 # 으로 바꾸기\n",
    "b"
   ]
  },
  {
   "cell_type": "markdown",
   "metadata": {},
   "source": [
    "<h2 id=\"q6\">Q6</h2>\n",
    "<p>[1, 3, 5, 4, 2] 리스트를 [5, 4, 3, 2, 1]로 만들어 보자.</p>\n",
    "<blockquote>\n",
    "<p>※ 리스트의 내장 함수를 사용해 보자.</p>\n",
    "</blockquote>"
   ]
  },
  {
   "cell_type": "code",
   "execution_count": 6,
   "metadata": {},
   "outputs": [
    {
     "data": {
      "text/plain": [
       "[5, 4, 3, 2, 1]"
      ]
     },
     "execution_count": 6,
     "metadata": {},
     "output_type": "execute_result"
    }
   ],
   "source": [
    "a= [1,3,5,4,2]\n",
    "a.sort()       # a를 정렬\n",
    "a.reverse()    # a를 역순으로\n",
    "a"
   ]
  },
  {
   "cell_type": "markdown",
   "metadata": {},
   "source": [
    "<h2 id=\"q7\">Q7</h2>\n",
    "<p>['Life', 'is', 'too', 'short'] 리스트를 Life is too short 문자열로 만들어 출력해 보자.</p>\n",
    "<blockquote>\n",
    "<p>※ 문자열의 join 함수를 사용하면 리스트를 문자열로 쉽게 만들 수 있다.</p>\n",
    "</blockquote>"
   ]
  },
  {
   "cell_type": "code",
   "execution_count": 7,
   "metadata": {},
   "outputs": [
    {
     "data": {
      "text/plain": [
       "'Life is too short'"
      ]
     },
     "execution_count": 7,
     "metadata": {},
     "output_type": "execute_result"
    }
   ],
   "source": [
    "a = ['Life', 'is', 'too', 'short']\n",
    "b = \" \".join(a)\n",
    "b"
   ]
  },
  {
   "cell_type": "markdown",
   "metadata": {},
   "source": [
    "<h2 id=\"q8\">Q8</h2>\n",
    "<p>(1,2,3) 튜플에 값 4를 추가하여 (1,2,3,4)를 만들어 출력해 보자. </p>\n",
    "<blockquote>\n",
    "<p>※ 더하기(+)를 사용해 보자.</p>\n",
    "</blockquote>"
   ]
  },
  {
   "cell_type": "code",
   "execution_count": 8,
   "metadata": {},
   "outputs": [
    {
     "data": {
      "text/plain": [
       "(1, 2, 3, 4)"
      ]
     },
     "execution_count": 8,
     "metadata": {},
     "output_type": "execute_result"
    }
   ],
   "source": [
    "a = (1,2,3)\n",
    "a = a + (4,)\n",
    "a"
   ]
  },
  {
   "cell_type": "markdown",
   "metadata": {},
   "source": [
    "<h2 id=\"q9\">Q9</h2>\n",
    "<p>다음과 같은 딕셔너리 a가 있다.</p>\n",
    "<pre><code class=\"python\">&gt;&gt;&gt; a = dict()\n",
    "&gt;&gt;&gt; a\n",
    "{}\n",
    "</code></pre>\n",
    "\n",
    "<p>다음 중 오류가 발생하는 경우를 고르고, 그 이유를 설명해 보자.</p>\n",
    "<ol>\n",
    "<li><code>a['name'] = 'python'</code></li>\n",
    "<li><code>a[('a',)] = 'python'</code></li>\n",
    "<li><code>a[[1]] = 'python'</code></li>\n",
    "<li><code>a[250] = 'python'</code></li>\n",
    "</ol>"
   ]
  },
  {
   "cell_type": "code",
   "execution_count": 9,
   "metadata": {},
   "outputs": [
    {
     "data": {
      "text/plain": [
       "{}"
      ]
     },
     "execution_count": 9,
     "metadata": {},
     "output_type": "execute_result"
    }
   ],
   "source": [
    "a = dict()\n",
    "a"
   ]
  },
  {
   "cell_type": "code",
   "execution_count": 10,
   "metadata": {},
   "outputs": [],
   "source": [
    "a['name'] = 'python'"
   ]
  },
  {
   "cell_type": "code",
   "execution_count": 11,
   "metadata": {},
   "outputs": [
    {
     "data": {
      "text/plain": [
       "{'name': 'python'}"
      ]
     },
     "execution_count": 11,
     "metadata": {},
     "output_type": "execute_result"
    }
   ],
   "source": [
    "a"
   ]
  },
  {
   "cell_type": "code",
   "execution_count": 12,
   "metadata": {},
   "outputs": [],
   "source": [
    "a[('a',)] = 'python'"
   ]
  },
  {
   "cell_type": "code",
   "execution_count": 13,
   "metadata": {},
   "outputs": [
    {
     "data": {
      "text/plain": [
       "{'name': 'python', ('a',): 'python'}"
      ]
     },
     "execution_count": 13,
     "metadata": {},
     "output_type": "execute_result"
    }
   ],
   "source": [
    "a"
   ]
  },
  {
   "cell_type": "code",
   "execution_count": 14,
   "metadata": {
    "scrolled": true
   },
   "outputs": [
    {
     "ename": "TypeError",
     "evalue": "unhashable type: 'list'",
     "output_type": "error",
     "traceback": [
      "\u001b[1;31m---------------------------------------------------------------------------\u001b[0m",
      "\u001b[1;31mTypeError\u001b[0m                                 Traceback (most recent call last)",
      "\u001b[1;32m<ipython-input-14-7c72015df633>\u001b[0m in \u001b[0;36m<module>\u001b[1;34m\u001b[0m\n\u001b[1;32m----> 1\u001b[1;33m \u001b[0ma\u001b[0m\u001b[1;33m[\u001b[0m\u001b[1;33m[\u001b[0m\u001b[1;36m1\u001b[0m\u001b[1;33m]\u001b[0m\u001b[1;33m]\u001b[0m \u001b[1;33m=\u001b[0m \u001b[1;34m'python'\u001b[0m     \u001b[1;31m#[1]은 리스트로 변하는 값, 딕셔너리는 변하지 않는값이 키로 사용\u001b[0m\u001b[1;33m\u001b[0m\u001b[1;33m\u001b[0m\u001b[0m\n\u001b[0m",
      "\u001b[1;31mTypeError\u001b[0m: unhashable type: 'list'"
     ]
    }
   ],
   "source": [
    "a[[1]] = 'python'     #[1]은 리스트로 변하는 값, 딕셔너리는 변하지 않는값이 키로 사용"
   ]
  },
  {
   "cell_type": "code",
   "execution_count": null,
   "metadata": {},
   "outputs": [],
   "source": [
    "a[250] = 'python'"
   ]
  },
  {
   "cell_type": "markdown",
   "metadata": {},
   "source": [
    "<h2 id=\"q10\">Q10</h2>\n",
    "<p>딕셔너리 a에서 'B'에 해당되는 값을 추출해 보자.</p>\n",
    "<pre><code class=\"python\">&gt;&gt;&gt; a = {'A':90, 'B':80, 'C':70}\n",
    "</code></pre>\n",
    "\n",
    "<blockquote>\n",
    "<p>※ 딕셔너리의 pop 함수를 사용해 보자.</p>\n",
    "</blockquote>"
   ]
  },
  {
   "cell_type": "code",
   "execution_count": 2,
   "metadata": {},
   "outputs": [
    {
     "name": "stdout",
     "output_type": "stream",
     "text": [
      "{'A': 90, 'C': 70}\n",
      "80\n"
     ]
    }
   ],
   "source": [
    "a = {'A':90, 'B':80, 'C':70}\n",
    "b = a.pop('B')\n",
    "print(a)\n",
    "print(b)"
   ]
  },
  {
   "cell_type": "markdown",
   "metadata": {},
   "source": [
    "<h2 id=\"q11\">Q11</h2>\n",
    "<p>a 리스트에서 중복 숫자를 제거해 보자.</p>\n",
    "<pre><code class=\"python\">&gt;&gt;&gt; a = [1, 1, 1, 2, 2, 3, 3, 3, 4, 4, 5]\n",
    "</code></pre>\n",
    "\n",
    "<blockquote>\n",
    "<p>※ 집합 자료형의 요솟값이 중복될 수 없다는 특징을 사용해 보자.</p>\n",
    "</blockquote>"
   ]
  },
  {
   "cell_type": "code",
   "execution_count": null,
   "metadata": {},
   "outputs": [],
   "source": [
    "a = [1, 1, 1, 2, 2, 3, 3, 3, 4, 4, 5]\n",
    "set = set(a)\n",
    "b = list(set)\n",
    "b"
   ]
  },
  {
   "cell_type": "markdown",
   "metadata": {},
   "source": [
    "<h2 id=\"q12\">Q12</h2>\n",
    "<p>파이썬은 다음처럼 동일한 값에 여러 개의 변수를 선언할 수 있다. 다음과 같이 a, b 변수를 선언한 후 a의 두 번째 요솟값을 변경하면 b 값은 어떻게 될까? 그리고 이런 결과가 오는 이유에 대해 설명해 보자.</p>\n",
    "<pre><code class=\"python\">&gt;&gt;&gt; a = b = [1, 2, 3]\n",
    "&gt;&gt;&gt; a[1] = 4\n",
    "&gt;&gt;&gt; print(b)\n",
    "</code></pre>\n",
    "</div>"
   ]
  },
  {
   "cell_type": "code",
   "execution_count": 3,
   "metadata": {},
   "outputs": [
    {
     "name": "stdout",
     "output_type": "stream",
     "text": [
      "[1, 4, 3]\n"
     ]
    }
   ],
   "source": [
    "a = b = [1, 2, 3]\n",
    "a[1] = 4\n",
    "print(b)"
   ]
  },
  {
   "cell_type": "markdown",
   "metadata": {},
   "source": [
    "a 와 b 는 [1,2,3]이라는 같은 리스트 객체이기 때문에 a[1]을바꾸면 b[1]도 같이 바뀐다"
   ]
  }
 ],
 "metadata": {
  "kernelspec": {
   "display_name": "Python 3 (ipykernel)",
   "language": "python",
   "name": "python3"
  },
  "language_info": {
   "codemirror_mode": {
    "name": "ipython",
    "version": 3
   },
   "file_extension": ".py",
   "mimetype": "text/x-python",
   "name": "python",
   "nbconvert_exporter": "python",
   "pygments_lexer": "ipython3",
   "version": "3.9.12"
  }
 },
 "nbformat": 4,
 "nbformat_minor": 2
}
