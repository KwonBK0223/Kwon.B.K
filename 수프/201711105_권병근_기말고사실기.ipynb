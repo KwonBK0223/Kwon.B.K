{
 "cells": [
  {
   "cell_type": "markdown",
   "id": "cf007e7b",
   "metadata": {},
   "source": [
    "# 11번"
   ]
  },
  {
   "cell_type": "code",
   "execution_count": 1,
   "id": "50881cdb",
   "metadata": {},
   "outputs": [],
   "source": [
    "def f(m,n):\n",
    "    e = 1\n",
    "    a = abs((m**e)-n)\n",
    "    while True:\n",
    "        e =  1\n",
    "        a = abs((m**e)-n)\n",
    "        b = abs((m**(e+1)-n))\n",
    "        if a>b:\n",
    "            e = e+1\n",
    "        else:\n",
    "            break\n",
    "    \n",
    "    return e"
   ]
  },
  {
   "cell_type": "code",
   "execution_count": 2,
   "id": "8c941a1b",
   "metadata": {},
   "outputs": [
    {
     "data": {
      "text/plain": [
       "1"
      ]
     },
     "execution_count": 2,
     "metadata": {},
     "output_type": "execute_result"
    }
   ],
   "source": [
    "f(2,3)"
   ]
  },
  {
   "cell_type": "markdown",
   "id": "36abef00",
   "metadata": {},
   "source": [
    "m, n 은 입력 받는 값\n",
    "\n",
    "e가 정수로 1씩 커짐\n",
    "\n",
    "a는 값이 작아지다가, 커지거나 계속 커지기만 하는 결국엔 커짐\n",
    "\n",
    "다음의 a가 이전의 a보다 크면 stop"
   ]
  },
  {
   "cell_type": "markdown",
   "id": "b5403577",
   "metadata": {},
   "source": [
    "# 12번"
   ]
  },
  {
   "cell_type": "code",
   "execution_count": 4,
   "id": "84c4ae1f",
   "metadata": {},
   "outputs": [],
   "source": [
    "import matplotlib as mpl\n",
    "import matplotlib.pylab as plt"
   ]
  },
  {
   "cell_type": "code",
   "execution_count": 5,
   "id": "17cb673c",
   "metadata": {},
   "outputs": [],
   "source": [
    "import numpy as np"
   ]
  },
  {
   "cell_type": "markdown",
   "id": "aeda8d06",
   "metadata": {},
   "source": [
    "a : numpy randint 3000번 추출해서 numpy array\n",
    "\n",
    "b : a중에 1이 나온 횟수\n",
    "\n",
    "x : b를 리스트로 모으기\n",
    "\n"
   ]
  },
  {
   "cell_type": "code",
   "execution_count": 7,
   "id": "b7cc34d5",
   "metadata": {},
   "outputs": [
    {
     "data": {
      "image/png": "[encoded data removed]",
      "text/plain": [
       "<Figure size 640x480 with 1 Axes>"
      ]
     },
     "metadata": {},
     "output_type": "display_data"
    }
   ],
   "source": [
    "x = []\n",
    "for i in range(30001):\n",
    "    a = np.bincount(np.random.randint(0,2,3000))\n",
    "    b = a[1]\n",
    "    x.append(a[1])\n",
    "arrays, bins, patches = plt.hist(x, bins=31)\n",
    "plt.grid(True)\n",
    "plt.show()"
   ]
  },
  {
   "cell_type": "markdown",
   "id": "806d4c55",
   "metadata": {},
   "source": [
    "# 13번"
   ]
  },
  {
   "cell_type": "code",
   "execution_count": null,
   "id": "c7b0fe0c",
   "metadata": {},
   "outputs": [],
   "source": []
  }
 ],
 "metadata": {
  "kernelspec": {
   "display_name": "Python 3 (ipykernel)",
   "language": "python",
   "name": "python3"
  },
  "language_info": {
   "codemirror_mode": {
    "name": "ipython",
    "version": 3
   },
   "file_extension": ".py",
   "mimetype": "text/x-python",
   "name": "python",
   "nbconvert_exporter": "python",
   "pygments_lexer": "ipython3",
   "version": "3.9.13"
  }
 },
 "nbformat": 4,
 "nbformat_minor": 5
}
