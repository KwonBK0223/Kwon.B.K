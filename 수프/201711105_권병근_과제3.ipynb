{
 "cells": [
  {
   "cell_type": "markdown",
   "id": "26576ab2",
   "metadata": {},
   "source": [
    "<h1 class=\"page-subject\">\n",
    "    05장 연습문제"
   ]
  },
  {
   "cell_type": "markdown",
   "id": "917e7d80",
   "metadata": {},
   "source": [
    "<h2 id=\"q1\">Q1</h2>\n",
    "<p>다음은 Calculator 클래스이다.</p>\n",
    "<pre><code class=\"python\">class Calculator:\n",
    "    def __init__(self):\n",
    "        self.value = 0\n",
    "\n",
    "    def add(self, val):\n",
    "        self.value += val\n",
    "</code></pre>\n",
    "\n",
    "<p>위 클래스를 상속하는 UpgradeCalculator를 만들고 값을 뺄 수 있는 minus 메서드를 추가해 보자. 즉 다음과 같이 동작하는 클래스를 만들어야 한다.</p>\n",
    "<pre><code class=\"python\">cal = UpgradeCalculator()\n",
    "cal.add(10)\n",
    "cal.minus(7)\n",
    "\n",
    "print(cal.value) # 10에서 7을 뺀 3을 출력\n",
    "</code></pre>"
   ]
  },
  {
   "cell_type": "code",
   "execution_count": 1,
   "id": "8d6be7df",
   "metadata": {},
   "outputs": [],
   "source": [
    "class Calculator:\n",
    "    def __init__(self):\n",
    "        self.value = 0\n",
    "    def add(self, val):\n",
    "        self.value += val"
   ]
  },
  {
   "cell_type": "code",
   "execution_count": 16,
   "id": "bc779f86",
   "metadata": {},
   "outputs": [],
   "source": [
    "class UpgradeCalculator(Calculator):\n",
    "    def minus(self, val):\n",
    "        self.value -= val"
   ]
  },
  {
   "cell_type": "code",
   "execution_count": 19,
   "id": "1c3249da",
   "metadata": {},
   "outputs": [
    {
     "name": "stdout",
     "output_type": "stream",
     "text": [
      "3\n"
     ]
    }
   ],
   "source": [
    "cal = UpgradeCalculator()\n",
    "cal.add(10)\n",
    "cal.minus(7)\n",
    "print(cal.value)"
   ]
  },
  {
   "cell_type": "markdown",
   "id": "b8d8ad61",
   "metadata": {},
   "source": [
    "<h2 id=\"q2\">Q2</h2>\n",
    "<p>객체변수 value가 100 이상의 값은 가질 수 없도록 제한하는 MaxLimitCalculator 클래스를 만들어 보자. 즉 다음과 같이 동작해야 한다.</p>\n",
    "<pre><code class=\"python\">cal = MaxLimitCalculator()\n",
    "cal.add(50) # 50 더하기\n",
    "cal.add(60) # 60 더하기\n",
    "\n",
    "print(cal.value) # 100 출력\n",
    "</code></pre>\n",
    "\n",
    "<p>단 반드시 다음과 같은 Calculator 클래스를 상속해서 만들어야 한다.</p>\n",
    "<pre><code class=\"python\">class Calculator:\n",
    "    def __init__(self):\n",
    "        self.value = 0\n",
    "\n",
    "    def add(self, val):\n",
    "        self.value += val\n",
    "</code></pre>"
   ]
  },
  {
   "cell_type": "code",
   "execution_count": 20,
   "id": "1f46b86a",
   "metadata": {},
   "outputs": [],
   "source": [
    "class Calculator:\n",
    "    def __init__(self):\n",
    "        self.value = 0\n",
    "    def add(self, val):\n",
    "        self.value += val\n"
   ]
  },
  {
   "cell_type": "code",
   "execution_count": 21,
   "id": "418f8617",
   "metadata": {},
   "outputs": [],
   "source": [
    "class MaxLimitCalculator(Calculator):\n",
    "    def add(self, val):\n",
    "        self.value += val\n",
    "        if self.value >100:\n",
    "            self.value = 100"
   ]
  },
  {
   "cell_type": "code",
   "execution_count": 26,
   "id": "d33bf9bd",
   "metadata": {},
   "outputs": [
    {
     "name": "stdout",
     "output_type": "stream",
     "text": [
      "100\n"
     ]
    }
   ],
   "source": [
    "cal = MaxLimitCalculator()\n",
    "cal.add(50)\n",
    "cal.add(60)\n",
    "print(cal.value)"
   ]
  },
  {
   "cell_type": "markdown",
   "id": "4eb0c062",
   "metadata": {},
   "source": [
    "<h2 id=\"q3\">Q3</h2>\n",
    "<p>다음 결과를 예측해 보자.</p>\n",
    "<p>하나.</p>\n",
    "<pre><code class=\"python\">&gt;&gt;&gt; all([1, 2, abs(-3)-3])\n",
    "</code></pre>\n",
    "\n",
    "<p>둘.</p>\n",
    "<pre><code class=\"python\">&gt;&gt;&gt; chr(ord('a')) == 'a'\n",
    "</code></pre>"
   ]
  },
  {
   "cell_type": "code",
   "execution_count": 27,
   "id": "e471007e",
   "metadata": {},
   "outputs": [
    {
     "data": {
      "text/plain": [
       "False"
      ]
     },
     "execution_count": 27,
     "metadata": {},
     "output_type": "execute_result"
    }
   ],
   "source": [
    "all([1,2,abs(-3)-3])"
   ]
  },
  {
   "cell_type": "markdown",
   "id": "f9a0087b",
   "metadata": {},
   "source": [
    "abs(-3) 은 3 이므로 all([1,2,abs(-3)-3]) 는 all([1,2,0])이 된다.\n",
    "리스트안에 0이 있기때문에 False"
   ]
  },
  {
   "cell_type": "code",
   "execution_count": 32,
   "id": "3d9ee964",
   "metadata": {},
   "outputs": [
    {
     "data": {
      "text/plain": [
       "97"
      ]
     },
     "execution_count": 32,
     "metadata": {},
     "output_type": "execute_result"
    }
   ],
   "source": [
    "ord('a')"
   ]
  },
  {
   "cell_type": "code",
   "execution_count": 33,
   "id": "589380d9",
   "metadata": {},
   "outputs": [
    {
     "data": {
      "text/plain": [
       "'a'"
      ]
     },
     "execution_count": 33,
     "metadata": {},
     "output_type": "execute_result"
    }
   ],
   "source": [
    "chr(97)"
   ]
  },
  {
   "cell_type": "code",
   "execution_count": 34,
   "id": "370ce51e",
   "metadata": {},
   "outputs": [
    {
     "data": {
      "text/plain": [
       "True"
      ]
     },
     "execution_count": 34,
     "metadata": {},
     "output_type": "execute_result"
    }
   ],
   "source": [
    "chr(ord('a')) == 'a'"
   ]
  },
  {
   "cell_type": "markdown",
   "id": "a039b103",
   "metadata": {},
   "source": [
    "ord('a')는 97, chr(97) 이 되고 chr(97)은 'a'가 되므로 True"
   ]
  },
  {
   "cell_type": "markdown",
   "id": "54adac5c",
   "metadata": {},
   "source": [
    "<h2 id=\"q4\">Q4</h2>\n",
    "<p>filter와 lambda를 사용하여 리스트 [1, -2, 3, -5, 8, -3]에서 음수를 모두 제거해 보자.</p>"
   ]
  },
  {
   "cell_type": "code",
   "execution_count": 35,
   "id": "9c3b970d",
   "metadata": {},
   "outputs": [
    {
     "data": {
      "text/plain": [
       "[1, 3, 5, 8]"
      ]
     },
     "execution_count": 35,
     "metadata": {},
     "output_type": "execute_result"
    }
   ],
   "source": [
    "list(filter(lambda x:x>0, [1,-2,3,5,8,-3]))"
   ]
  },
  {
   "cell_type": "markdown",
   "id": "26979dda",
   "metadata": {},
   "source": [
    "<h2 id=\"q5\">Q5</h2>\n",
    "<p>234라는 10진수의 16진수는 다음과 같이 구할 수 있다.</p>\n",
    "<pre><code class=\"python\">&gt;&gt;&gt; hex(234)\n",
    "'0xea'\n",
    "</code></pre>\n",
    "\n",
    "<p>이번에는 반대로 16진수 문자열 0xea를 10진수로 변경해 보자.</p>\n",
    "<blockquote>\n",
    "<p>※ 내장 함수 int를 활용해 보자.</p>\n",
    "</blockquote>"
   ]
  },
  {
   "cell_type": "code",
   "execution_count": 36,
   "id": "8e2aaac6",
   "metadata": {},
   "outputs": [
    {
     "data": {
      "text/plain": [
       "'0xea'"
      ]
     },
     "execution_count": 36,
     "metadata": {},
     "output_type": "execute_result"
    }
   ],
   "source": [
    "hex(234)"
   ]
  },
  {
   "cell_type": "code",
   "execution_count": 37,
   "id": "dd2b85b6",
   "metadata": {},
   "outputs": [
    {
     "data": {
      "text/plain": [
       "234"
      ]
     },
     "execution_count": 37,
     "metadata": {},
     "output_type": "execute_result"
    }
   ],
   "source": [
    "int('0xea',16)"
   ]
  },
  {
   "cell_type": "markdown",
   "id": "0bf57e20",
   "metadata": {},
   "source": [
    "<h2 id=\"q6\">Q6</h2>\n",
    "<p>map과 lambda를 사용하여 [1, 2, 3, 4] 리스트의 각 요솟값에 3이 곱해진 리스트 [3, 6, 9, 12]를 만들어 보자.</p>"
   ]
  },
  {
   "cell_type": "code",
   "execution_count": 38,
   "id": "3466f211",
   "metadata": {},
   "outputs": [
    {
     "data": {
      "text/plain": [
       "[3, 6, 9, 12]"
      ]
     },
     "execution_count": 38,
     "metadata": {},
     "output_type": "execute_result"
    }
   ],
   "source": [
    "list(map(lambda x:x*3, [1,2,3,4]))"
   ]
  },
  {
   "cell_type": "markdown",
   "id": "44b9663e",
   "metadata": {},
   "source": [
    "<h2 id=\"q7\">Q7</h2>\n",
    "<p>다음 리스트의 최댓값과 최솟값의 합을 구해 보자.</p>\n",
    "<pre><code class=\"python\">[-8, 2, 7, 5, -3, 5, 0, 1]\n",
    "</code></pre>"
   ]
  },
  {
   "cell_type": "code",
   "execution_count": 39,
   "id": "3b82b299",
   "metadata": {},
   "outputs": [
    {
     "data": {
      "text/plain": [
       "-1"
      ]
     },
     "execution_count": 39,
     "metadata": {},
     "output_type": "execute_result"
    }
   ],
   "source": [
    "a = [-8,2,7,5,-3,5,0,1]\n",
    "max(a) + min(a)"
   ]
  },
  {
   "cell_type": "markdown",
   "id": "8f2d0871",
   "metadata": {},
   "source": [
    "<h2 id=\"q8\">Q8</h2>\n",
    "<p>17 / 3의 결과는 다음과 같다.</p>\n",
    "<pre><code class=\"python\">&gt;&gt;&gt; 17 / 3\n",
    "5.666666666666667\n",
    "</code></pre>\n",
    "\n",
    "<p>위와 같은 결괏값 5.666666666666667을 소숫점 4자리까지만 반올림하여 표시해 보자.</p>"
   ]
  },
  {
   "cell_type": "code",
   "execution_count": 40,
   "id": "b07ae7bf",
   "metadata": {},
   "outputs": [
    {
     "data": {
      "text/plain": [
       "5.6667"
      ]
     },
     "execution_count": 40,
     "metadata": {},
     "output_type": "execute_result"
    }
   ],
   "source": [
    "round(17/3, 4)"
   ]
  },
  {
   "cell_type": "markdown",
   "id": "a8fd06fa",
   "metadata": {},
   "source": [
    "<h2 id=\"q9\">Q9</h2>\n",
    "<p>다음과 같이 실행할 때 입력값을 모두 더하여 출력하는 스크립트(<code>C:\\doit\\myargv.py</code>)를 작성해 보자.</p>\n",
    "<pre><code class=\"no-highlight\">C:\\&gt; cd doit\n",
    "C:\\doit&gt; python myargv.py 1 2 3 4 5 6 7 8 9 10\n",
    "55\n",
    "</code></pre>\n",
    "\n",
    "<blockquote>\n",
    "<p>※ 외장 함수 sys.argv를 사용해 보자.</p>\n",
    "</blockquote>"
   ]
  },
  {
   "cell_type": "code",
   "execution_count": 44,
   "id": "01d46909",
   "metadata": {},
   "outputs": [
    {
     "ename": "ValueError",
     "evalue": "invalid literal for int() with base 10: '-f'",
     "output_type": "error",
     "traceback": [
      "\u001b[1;31m---------------------------------------------------------------------------\u001b[0m",
      "\u001b[1;31mValueError\u001b[0m                                Traceback (most recent call last)",
      "Input \u001b[1;32mIn [44]\u001b[0m, in \u001b[0;36m<cell line: 4>\u001b[1;34m()\u001b[0m\n\u001b[0;32m      3\u001b[0m result \u001b[38;5;241m=\u001b[39m \u001b[38;5;241m0\u001b[39m\n\u001b[0;32m      4\u001b[0m \u001b[38;5;28;01mfor\u001b[39;00m number \u001b[38;5;129;01min\u001b[39;00m numbers:\n\u001b[1;32m----> 5\u001b[0m     result \u001b[38;5;241m+\u001b[39m\u001b[38;5;241m=\u001b[39m \u001b[38;5;28;43mint\u001b[39;49m\u001b[43m(\u001b[49m\u001b[43mnumber\u001b[49m\u001b[43m)\u001b[49m\n\u001b[0;32m      6\u001b[0m \u001b[38;5;28mprint\u001b[39m(result)\n",
      "\u001b[1;31mValueError\u001b[0m: invalid literal for int() with base 10: '-f'"
     ]
    }
   ],
   "source": [
    "import sys\n",
    "numbers = sys.argv[1:]\n",
    "result = 0\n",
    "for number in numbers:\n",
    "    result += int(number)\n",
    "print(result)"
   ]
  },
  {
   "cell_type": "markdown",
   "id": "d1477dae",
   "metadata": {},
   "source": [
    "<h2 id=\"q10\">Q10</h2>\n",
    "<p>os 모듈을 사용하여 다음과 같이 동작하도록 코드를 작성해 보자.</p>\n",
    "<ol>\n",
    "<li><code>C:\\doit</code> 디렉터리로 이동한다.</li>\n",
    "<li>dir 명령을 실행하고 그 결과를 변수에 담는다.</li>\n",
    "<li>dir 명령의 결과를 출력한다.</li>\n",
    "</ol>"
   ]
  },
  {
   "cell_type": "code",
   "execution_count": 48,
   "id": "5fcc7f1e",
   "metadata": {},
   "outputs": [],
   "source": [
    "import os\n",
    "os.chdir(\"c:/doit\")"
   ]
  },
  {
   "cell_type": "code",
   "execution_count": 49,
   "id": "5715f481",
   "metadata": {},
   "outputs": [
    {
     "ename": "TypeError",
     "evalue": "open() missing required argument 'flags' (pos 2)",
     "output_type": "error",
     "traceback": [
      "\u001b[1;31m---------------------------------------------------------------------------\u001b[0m",
      "\u001b[1;31mTypeError\u001b[0m                                 Traceback (most recent call last)",
      "Input \u001b[1;32mIn [49]\u001b[0m, in \u001b[0;36m<cell line: 1>\u001b[1;34m()\u001b[0m\n\u001b[1;32m----> 1\u001b[0m result \u001b[38;5;241m=\u001b[39m \u001b[43mos\u001b[49m\u001b[38;5;241;43m.\u001b[39;49m\u001b[43mopen\u001b[49m\u001b[43m(\u001b[49m\u001b[38;5;124;43m\"\u001b[39;49m\u001b[38;5;124;43mdir\u001b[39;49m\u001b[38;5;124;43m\"\u001b[39;49m\u001b[43m)\u001b[49m\n",
      "\u001b[1;31mTypeError\u001b[0m: open() missing required argument 'flags' (pos 2)"
     ]
    }
   ],
   "source": [
    "result = os.open(\"dir\")"
   ]
  },
  {
   "cell_type": "code",
   "execution_count": 50,
   "id": "3a7c67c2",
   "metadata": {},
   "outputs": [
    {
     "ename": "AttributeError",
     "evalue": "'int' object has no attribute 'read'",
     "output_type": "error",
     "traceback": [
      "\u001b[1;31m---------------------------------------------------------------------------\u001b[0m",
      "\u001b[1;31mAttributeError\u001b[0m                            Traceback (most recent call last)",
      "Input \u001b[1;32mIn [50]\u001b[0m, in \u001b[0;36m<cell line: 1>\u001b[1;34m()\u001b[0m\n\u001b[1;32m----> 1\u001b[0m \u001b[38;5;28mprint\u001b[39m(\u001b[43mresult\u001b[49m\u001b[38;5;241;43m.\u001b[39;49m\u001b[43mread\u001b[49m())\n",
      "\u001b[1;31mAttributeError\u001b[0m: 'int' object has no attribute 'read'"
     ]
    }
   ],
   "source": [
    "print(result.read())"
   ]
  },
  {
   "cell_type": "markdown",
   "id": "0fcabd19",
   "metadata": {},
   "source": [
    "<h2 id=\"q11\">Q11</h2>\n",
    "<p>glob 모듈을 사용하여 <code>C:\\doit</code> 디렉터리의 파일 중 확장자가 .py인 파일만 출력하는 프로그램을 작성해 보자.</p>"
   ]
  },
  {
   "cell_type": "code",
   "execution_count": null,
   "id": "8b497270",
   "metadata": {},
   "outputs": [],
   "source": []
  },
  {
   "cell_type": "markdown",
   "id": "16321e56",
   "metadata": {},
   "source": [
    "<h2 id=\"q12\">Q12</h2>\n",
    "<p>time 모듈을 사용하여 현재 날짜와 시간을 다음과 같은 형식으로 출력해 보자.</p>\n",
    "<pre><code class=\"no-highlight\">2018/04/03 17:20:32\n",
    "</code></pre>"
   ]
  },
  {
   "cell_type": "code",
   "execution_count": 53,
   "id": "c1d4ba66",
   "metadata": {},
   "outputs": [
    {
     "data": {
      "text/plain": [
       "'2022/10/10 16:39:56'"
      ]
     },
     "execution_count": 53,
     "metadata": {},
     "output_type": "execute_result"
    }
   ],
   "source": [
    "import time\n",
    "time.strftime(\"%Y/%m/%d %H:%M:%S\")"
   ]
  },
  {
   "cell_type": "markdown",
   "id": "2d1175a5",
   "metadata": {},
   "source": [
    "<h2 id=\"q13\">Q13</h2>\n",
    "<p>random 모듈을 사용하여 로또 번호(1~45 사이의 숫자 6개)를 생성해 보자(단 중복된 숫자가 있으면 안 됨).</p>\n",
    "</div>\n",
    "\n",
    "<div class=\"muted text-right\" style=\"font-size: 13px;margin:10px 0;\">"
   ]
  },
  {
   "cell_type": "code",
   "execution_count": 57,
   "id": "d46ba601",
   "metadata": {},
   "outputs": [
    {
     "name": "stdout",
     "output_type": "stream",
     "text": [
      "[3, 38, 42, 45, 36, 41]\n"
     ]
    }
   ],
   "source": [
    "import random\n",
    "result = []\n",
    "while len(result)<6:\n",
    "    num = random.randint(1,45)\n",
    "    if num not in result:\n",
    "        result.append(num)\n",
    "\n",
    "\n",
    "print(result)"
   ]
  },
  {
   "cell_type": "code",
   "execution_count": null,
   "id": "71b5d0be",
   "metadata": {},
   "outputs": [],
   "source": []
  }
 ],
 "metadata": {
  "kernelspec": {
   "display_name": "Python 3 (ipykernel)",
   "language": "python",
   "name": "python3"
  },
  "language_info": {
   "codemirror_mode": {
    "name": "ipython",
    "version": 3
   },
   "file_extension": ".py",
   "mimetype": "text/x-python",
   "name": "python",
   "nbconvert_exporter": "python",
   "pygments_lexer": "ipython3",
   "version": "3.9.12"
  }
 },
 "nbformat": 4,
 "nbformat_minor": 5
}
