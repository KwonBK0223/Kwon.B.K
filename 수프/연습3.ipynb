{
 "cells": [
  {
   "cell_type": "code",
   "execution_count": 1,
   "id": "6140aea2",
   "metadata": {},
   "outputs": [
    {
     "data": {
      "text/plain": [
       "70.0"
      ]
     },
     "execution_count": 1,
     "metadata": {},
     "output_type": "execute_result"
    }
   ],
   "source": [
    "a = 80\n",
    "b = 75\n",
    "c = 55\n",
    "(a+b+c)/3"
   ]
  },
  {
   "cell_type": "code",
   "execution_count": 3,
   "id": "5735b1aa",
   "metadata": {},
   "outputs": [
    {
     "name": "stdout",
     "output_type": "stream",
     "text": [
      "홀수\n"
     ]
    }
   ],
   "source": [
    "a = 13\n",
    "if a % 2 == 1:\n",
    "    print(\"홀수\")\n",
    "else :\n",
    "    print(\"짝수\")"
   ]
  },
  {
   "cell_type": "code",
   "execution_count": 7,
   "id": "50893bfc",
   "metadata": {},
   "outputs": [
    {
     "data": {
      "text/plain": [
       "'881120'"
      ]
     },
     "execution_count": 7,
     "metadata": {},
     "output_type": "execute_result"
    }
   ],
   "source": [
    "a = '881120-1068234'\n",
    "a[:6]"
   ]
  },
  {
   "cell_type": "code",
   "execution_count": 9,
   "id": "c231d318",
   "metadata": {},
   "outputs": [
    {
     "data": {
      "text/plain": [
       "'1068234'"
      ]
     },
     "execution_count": 9,
     "metadata": {},
     "output_type": "execute_result"
    }
   ],
   "source": [
    "a[7:]"
   ]
  },
  {
   "cell_type": "code",
   "execution_count": 10,
   "id": "31ccde41",
   "metadata": {},
   "outputs": [
    {
     "data": {
      "text/plain": [
       "'1'"
      ]
     },
     "execution_count": 10,
     "metadata": {},
     "output_type": "execute_result"
    }
   ],
   "source": [
    "a[7]"
   ]
  },
  {
   "cell_type": "code",
   "execution_count": 11,
   "id": "0824f2d0",
   "metadata": {},
   "outputs": [
    {
     "data": {
      "text/plain": [
       "'a#b#c#d'"
      ]
     },
     "execution_count": 11,
     "metadata": {},
     "output_type": "execute_result"
    }
   ],
   "source": [
    "a = \"a:b:c:d\"\n",
    "a.replace(\":\",\"#\")"
   ]
  },
  {
   "cell_type": "code",
   "execution_count": 13,
   "id": "bd8a6fae",
   "metadata": {},
   "outputs": [
    {
     "data": {
      "text/plain": [
       "[5, 4, 3, 2, 1]"
      ]
     },
     "execution_count": 13,
     "metadata": {},
     "output_type": "execute_result"
    }
   ],
   "source": [
    "a = [1,3,5,4,2]\n",
    "a.sort()\n",
    "a.reverse()\n",
    "a"
   ]
  },
  {
   "cell_type": "code",
   "execution_count": 19,
   "id": "70024f45",
   "metadata": {},
   "outputs": [
    {
     "data": {
      "text/plain": [
       "'Life is too short'"
      ]
     },
     "execution_count": 19,
     "metadata": {},
     "output_type": "execute_result"
    }
   ],
   "source": [
    "a = ['Life','is','too','short']\n",
    "b = \" \".join(a)\n",
    "b"
   ]
  },
  {
   "cell_type": "code",
   "execution_count": 20,
   "id": "1cae4b63",
   "metadata": {},
   "outputs": [],
   "source": [
    "a = (1,2,3)\n",
    "b = a +(4,)"
   ]
  },
  {
   "cell_type": "code",
   "execution_count": 21,
   "id": "c7953fa2",
   "metadata": {},
   "outputs": [
    {
     "data": {
      "text/plain": [
       "(1, 2, 3, 4)"
      ]
     },
     "execution_count": 21,
     "metadata": {},
     "output_type": "execute_result"
    }
   ],
   "source": [
    "b"
   ]
  },
  {
   "cell_type": "code",
   "execution_count": 22,
   "id": "d82e1c05",
   "metadata": {},
   "outputs": [],
   "source": [
    "a= dict()"
   ]
  },
  {
   "cell_type": "code",
   "execution_count": 23,
   "id": "558edd02",
   "metadata": {},
   "outputs": [
    {
     "data": {
      "text/plain": [
       "{}"
      ]
     },
     "execution_count": 23,
     "metadata": {},
     "output_type": "execute_result"
    }
   ],
   "source": [
    "a"
   ]
  },
  {
   "cell_type": "code",
   "execution_count": 24,
   "id": "caa21b89",
   "metadata": {},
   "outputs": [
    {
     "ename": "TypeError",
     "evalue": "unhashable type: 'list'",
     "output_type": "error",
     "traceback": [
      "\u001b[1;31m---------------------------------------------------------------------------\u001b[0m",
      "\u001b[1;31mTypeError\u001b[0m                                 Traceback (most recent call last)",
      "Input \u001b[1;32mIn [24]\u001b[0m, in \u001b[0;36m<cell line: 1>\u001b[1;34m()\u001b[0m\n\u001b[1;32m----> 1\u001b[0m a[[\u001b[38;5;241m1\u001b[39m]] \u001b[38;5;241m=\u001b[39m \u001b[38;5;124m'\u001b[39m\u001b[38;5;124mpython\u001b[39m\u001b[38;5;124m'\u001b[39m\n",
      "\u001b[1;31mTypeError\u001b[0m: unhashable type: 'list'"
     ]
    }
   ],
   "source": [
    "a[[1]] = 'python'"
   ]
  },
  {
   "cell_type": "code",
   "execution_count": 27,
   "id": "8c78a546",
   "metadata": {},
   "outputs": [],
   "source": [
    "a = {'A':90, 'B':80, 'C':70}\n",
    "b = a.pop('B')"
   ]
  },
  {
   "cell_type": "code",
   "execution_count": 28,
   "id": "59f9cf9d",
   "metadata": {},
   "outputs": [
    {
     "data": {
      "text/plain": [
       "80"
      ]
     },
     "execution_count": 28,
     "metadata": {},
     "output_type": "execute_result"
    }
   ],
   "source": [
    "b"
   ]
  },
  {
   "cell_type": "code",
   "execution_count": 29,
   "id": "a6888139",
   "metadata": {},
   "outputs": [
    {
     "data": {
      "text/plain": [
       "{'A': 90, 'C': 70}"
      ]
     },
     "execution_count": 29,
     "metadata": {},
     "output_type": "execute_result"
    }
   ],
   "source": [
    "a"
   ]
  },
  {
   "cell_type": "code",
   "execution_count": 30,
   "id": "a93b7227",
   "metadata": {},
   "outputs": [],
   "source": [
    "a = [1, 1, 1, 2, 2, 3, 3, 3, 4, 4, 5]\n",
    "b = set(a)"
   ]
  },
  {
   "cell_type": "code",
   "execution_count": 31,
   "id": "0e386f59",
   "metadata": {},
   "outputs": [
    {
     "data": {
      "text/plain": [
       "{1, 2, 3, 4, 5}"
      ]
     },
     "execution_count": 31,
     "metadata": {},
     "output_type": "execute_result"
    }
   ],
   "source": [
    "b"
   ]
  },
  {
   "cell_type": "code",
   "execution_count": 32,
   "id": "75cac7a9",
   "metadata": {},
   "outputs": [
    {
     "name": "stdout",
     "output_type": "stream",
     "text": [
      "[1, 4, 3]\n"
     ]
    }
   ],
   "source": [
    "a = b =[1,2,3]\n",
    "a[1] = 4\n",
    "print(b)"
   ]
  },
  {
   "cell_type": "code",
   "execution_count": 33,
   "id": "168c3891",
   "metadata": {},
   "outputs": [
    {
     "name": "stdout",
     "output_type": "stream",
     "text": [
      "166833\n"
     ]
    }
   ],
   "source": [
    "a = 1\n",
    "sum = 0\n",
    "while a<=1000:\n",
    "    if a % 3 ==0:\n",
    "        sum = sum + a\n",
    "    a = a+1\n",
    "\n",
    "print(sum)"
   ]
  },
  {
   "cell_type": "code",
   "execution_count": 34,
   "id": "c03d7639",
   "metadata": {},
   "outputs": [
    {
     "name": "stdout",
     "output_type": "stream",
     "text": [
      "*\n",
      "**\n",
      "***\n",
      "****\n",
      "*****\n"
     ]
    }
   ],
   "source": [
    "a = 1\n",
    "while a<=5:\n",
    "    print(\"*\"*a)\n",
    "    a = a +1\n"
   ]
  },
  {
   "cell_type": "code",
   "execution_count": 36,
   "id": "0295e7b7",
   "metadata": {},
   "outputs": [
    {
     "name": "stdout",
     "output_type": "stream",
     "text": [
      "1\n",
      "2\n",
      "3\n",
      "4\n",
      "5\n",
      "6\n",
      "7\n",
      "8\n",
      "9\n",
      "10\n",
      "11\n",
      "12\n",
      "13\n",
      "14\n",
      "15\n",
      "16\n",
      "17\n",
      "18\n",
      "19\n",
      "20\n",
      "21\n",
      "22\n",
      "23\n",
      "24\n",
      "25\n",
      "26\n",
      "27\n",
      "28\n",
      "29\n",
      "30\n",
      "31\n",
      "32\n",
      "33\n",
      "34\n",
      "35\n",
      "36\n",
      "37\n",
      "38\n",
      "39\n",
      "40\n",
      "41\n",
      "42\n",
      "43\n",
      "44\n",
      "45\n",
      "46\n",
      "47\n",
      "48\n",
      "49\n",
      "50\n",
      "51\n",
      "52\n",
      "53\n",
      "54\n",
      "55\n",
      "56\n",
      "57\n",
      "58\n",
      "59\n",
      "60\n",
      "61\n",
      "62\n",
      "63\n",
      "64\n",
      "65\n",
      "66\n",
      "67\n",
      "68\n",
      "69\n",
      "70\n",
      "71\n",
      "72\n",
      "73\n",
      "74\n",
      "75\n",
      "76\n",
      "77\n",
      "78\n",
      "79\n",
      "80\n",
      "81\n",
      "82\n",
      "83\n",
      "84\n",
      "85\n",
      "86\n",
      "87\n",
      "88\n",
      "89\n",
      "90\n",
      "91\n",
      "92\n",
      "93\n",
      "94\n",
      "95\n",
      "96\n",
      "97\n",
      "98\n",
      "99\n"
     ]
    }
   ],
   "source": [
    "for a in range(1,100):\n",
    "    print(a)"
   ]
  },
  {
   "cell_type": "code",
   "execution_count": 38,
   "id": "009da20a",
   "metadata": {},
   "outputs": [
    {
     "name": "stdout",
     "output_type": "stream",
     "text": [
      "79.0\n"
     ]
    }
   ],
   "source": [
    "A = [70, 60, 55, 75, 95, 90, 80, 80, 85, 100]\n",
    "total = 0\n",
    "score = 0\n",
    "average = 0\n",
    "for score in A:\n",
    "    total = total + score\n",
    "\n",
    "average = total/len(A)\n",
    "\n",
    "print(average)"
   ]
  },
  {
   "cell_type": "code",
   "execution_count": 39,
   "id": "23184e20",
   "metadata": {},
   "outputs": [],
   "source": [
    "numbers = [1,2,3,4,5]\n",
    "result =[]\n"
   ]
  },
  {
   "cell_type": "code",
   "execution_count": 40,
   "id": "53e56c2d",
   "metadata": {},
   "outputs": [
    {
     "name": "stdout",
     "output_type": "stream",
     "text": [
      "False\n"
     ]
    }
   ],
   "source": [
    "def is_odd(a):\n",
    "    if a % 2 == 1:\n",
    "        print(\"True\")\n",
    "    else :\n",
    "        print(\"False\")\n",
    "is_odd(2)    "
   ]
  },
  {
   "cell_type": "code",
   "execution_count": 41,
   "id": "b571d5f2",
   "metadata": {},
   "outputs": [
    {
     "name": "stdout",
     "output_type": "stream",
     "text": [
      "True\n"
     ]
    }
   ],
   "source": [
    "is_odd(1)"
   ]
  },
  {
   "cell_type": "code",
   "execution_count": 44,
   "id": "64deb86e",
   "metadata": {},
   "outputs": [],
   "source": [
    "def average(*args):\n",
    "    total = 0\n",
    "    average = 0\n",
    "    for i in args:\n",
    "        total = total + i\n",
    "    average = total/len(args)\n",
    "    print(average)"
   ]
  },
  {
   "cell_type": "code",
   "execution_count": null,
   "id": "9bc29647",
   "metadata": {},
   "outputs": [],
   "source": [
    "average(12,3,4,5,6,7,89,10)"
   ]
  },
  {
   "cell_type": "code",
   "execution_count": null,
   "id": "48e1a39a",
   "metadata": {},
   "outputs": [],
   "source": [
    "input1 = input(\"1st : \")\n",
    "input2 = input(\"2nd : \")\n",
    "\n",
    "total = int(input1)+int(input2)\n",
    "print(\"두수의 합은 %s 입니다. \"%total)"
   ]
  },
  {
   "cell_type": "code",
   "execution_count": null,
   "id": "05125aee",
   "metadata": {},
   "outputs": [],
   "source": []
  }
 ],
 "metadata": {
  "kernelspec": {
   "display_name": "Python 3 (ipykernel)",
   "language": "python",
   "name": "python3"
  },
  "language_info": {
   "codemirror_mode": {
    "name": "ipython",
    "version": 3
   },
   "file_extension": ".py",
   "mimetype": "text/x-python",
   "name": "python",
   "nbconvert_exporter": "python",
   "pygments_lexer": "ipython3",
   "version": "3.9.12"
  }
 },
 "nbformat": 4,
 "nbformat_minor": 5
}
