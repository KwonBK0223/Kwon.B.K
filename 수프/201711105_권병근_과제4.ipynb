{
 "cells": [
  {
   "cell_type": "markdown",
   "id": "716c0f5f",
   "metadata": {},
   "source": [
    "# 3.1 넘파이 배열"
   ]
  },
  {
   "cell_type": "markdown",
   "id": "cbbfc585",
   "metadata": {},
   "source": [
    "<p class=\"admonition-title\">연습 문제 1</p>\n",
    "<p>넘파이를 사용하여 다음과 같은 행렬을 만든다.</p>\n",
    "<div class=\"highlight-default notranslate\"><div class=\"highlight\"><pre><span></span><span class=\"mi\">10</span> <span class=\"mi\">20</span> <span class=\"mi\">30</span> <span class=\"mi\">40</span>\n",
    "<span class=\"mi\">50</span> <span class=\"mi\">60</span> <span class=\"mi\">70</span> <span class=\"mi\">80</span>\n",
    "</pre></div>\n",
    "</div>\n",
    "</div>\n",
    "</div>\n",
    "<div class=\"section\" id=\"id6\">"
   ]
  },
  {
   "cell_type": "code",
   "execution_count": 3,
   "id": "792bd562",
   "metadata": {},
   "outputs": [],
   "source": [
    "import numpy as np"
   ]
  },
  {
   "cell_type": "code",
   "execution_count": 4,
   "id": "38a0d1cc",
   "metadata": {},
   "outputs": [
    {
     "data": {
      "text/plain": [
       "array([[10, 20, 30, 40],\n",
       "       [50, 60, 70, 80]])"
      ]
     },
     "execution_count": 4,
     "metadata": {},
     "output_type": "execute_result"
    }
   ],
   "source": [
    "d = np.array([[10,20,30,40],[50,60,70,80]])\n",
    "d"
   ]
  },
  {
   "cell_type": "markdown",
   "id": "36c27833",
   "metadata": {},
   "source": [
    "<p class=\"admonition-title\">연습 문제 2</p>\n",
    "<p>다음 행렬과 같은 행렬이 있다.</p>\n",
    "<div class=\"highlight-default notranslate\"><div class=\"highlight\"><pre><span></span><span class=\"n\">m</span> <span class=\"o\">=</span> <span class=\"n\">np</span><span class=\"o\">.</span><span class=\"n\">array</span><span class=\"p\">([[</span> <span class=\"mi\">0</span><span class=\"p\">,</span>  <span class=\"mi\">1</span><span class=\"p\">,</span>  <span class=\"mi\">2</span><span class=\"p\">,</span>  <span class=\"mi\">3</span><span class=\"p\">,</span>  <span class=\"mi\">4</span><span class=\"p\">],</span>\n",
    "            <span class=\"p\">[</span> <span class=\"mi\">5</span><span class=\"p\">,</span>  <span class=\"mi\">6</span><span class=\"p\">,</span>  <span class=\"mi\">7</span><span class=\"p\">,</span>  <span class=\"mi\">8</span><span class=\"p\">,</span>  <span class=\"mi\">9</span><span class=\"p\">],</span>\n",
    "            <span class=\"p\">[</span><span class=\"mi\">10</span><span class=\"p\">,</span> <span class=\"mi\">11</span><span class=\"p\">,</span> <span class=\"mi\">12</span><span class=\"p\">,</span> <span class=\"mi\">13</span><span class=\"p\">,</span> <span class=\"mi\">14</span><span class=\"p\">]])</span>\n",
    "</pre></div>\n",
    "</div>\n",
    "<ol class=\"simple\">\n",
    "<li><p>이 행렬에서 값 7 을 인덱싱한다.</p></li>\n",
    "<li><p>이 행렬에서 값 14 을 인덱싱한다.</p></li>\n",
    "<li><p>이 행렬에서 배열 [6, 7] 을 슬라이싱한다.</p></li>\n",
    "<li><p>이 행렬에서 배열 [7, 12] 을 슬라이싱한다.</p></li>\n",
    "<li><p>이 행렬에서 배열 [[3, 4], [8, 9]] 을 슬라이싱한다.</p></li>"
   ]
  },
  {
   "cell_type": "code",
   "execution_count": 5,
   "id": "af3ed7c1",
   "metadata": {},
   "outputs": [],
   "source": [
    "m = np.array([[0,1,2,3,4],[5,6,7,8,9],[10,11,12,13,14]])"
   ]
  },
  {
   "cell_type": "code",
   "execution_count": 6,
   "id": "317c484d",
   "metadata": {},
   "outputs": [
    {
     "data": {
      "text/plain": [
       "7"
      ]
     },
     "execution_count": 6,
     "metadata": {},
     "output_type": "execute_result"
    }
   ],
   "source": [
    "#1\n",
    "m[1,2]"
   ]
  },
  {
   "cell_type": "code",
   "execution_count": 7,
   "id": "6d597367",
   "metadata": {},
   "outputs": [
    {
     "data": {
      "text/plain": [
       "14"
      ]
     },
     "execution_count": 7,
     "metadata": {},
     "output_type": "execute_result"
    }
   ],
   "source": [
    "#2\n",
    "m[-1,-1]"
   ]
  },
  {
   "cell_type": "code",
   "execution_count": 8,
   "id": "e7c54eaa",
   "metadata": {},
   "outputs": [
    {
     "data": {
      "text/plain": [
       "array([6, 7])"
      ]
     },
     "execution_count": 8,
     "metadata": {},
     "output_type": "execute_result"
    }
   ],
   "source": [
    "#3\n",
    "m[1,1:3]"
   ]
  },
  {
   "cell_type": "code",
   "execution_count": 9,
   "id": "32fae5d9",
   "metadata": {},
   "outputs": [
    {
     "data": {
      "text/plain": [
       "array([ 7, 12])"
      ]
     },
     "execution_count": 9,
     "metadata": {},
     "output_type": "execute_result"
    }
   ],
   "source": [
    "#4\n",
    "m[1:,2]"
   ]
  },
  {
   "cell_type": "code",
   "execution_count": 10,
   "id": "beed164a",
   "metadata": {},
   "outputs": [
    {
     "data": {
      "text/plain": [
       "array([[3, 4],\n",
       "       [8, 9]])"
      ]
     },
     "execution_count": 10,
     "metadata": {},
     "output_type": "execute_result"
    }
   ],
   "source": [
    "#5\n",
    "m[:2,3:]"
   ]
  },
  {
   "cell_type": "markdown",
   "id": "3e52c4ab",
   "metadata": {},
   "source": [
    "<p class=\"admonition-title\">연습 문제 3</p>\n",
    "<p>다음 행렬과 같은 배열이 있다.</p>\n",
    "<div class=\"highlight-default notranslate\"><div class=\"highlight\"><pre><span></span><span class=\"n\">x</span> <span class=\"o\">=</span> <span class=\"n\">np</span><span class=\"o\">.</span><span class=\"n\">array</span><span class=\"p\">([</span><span class=\"mi\">1</span><span class=\"p\">,</span> <span class=\"mi\">2</span><span class=\"p\">,</span> <span class=\"mi\">3</span><span class=\"p\">,</span> <span class=\"mi\">4</span><span class=\"p\">,</span> <span class=\"mi\">5</span><span class=\"p\">,</span> <span class=\"mi\">6</span><span class=\"p\">,</span> <span class=\"mi\">7</span><span class=\"p\">,</span> <span class=\"mi\">8</span><span class=\"p\">,</span> <span class=\"mi\">9</span><span class=\"p\">,</span> <span class=\"mi\">10</span><span class=\"p\">,</span>\n",
    "             <span class=\"mi\">11</span><span class=\"p\">,</span> <span class=\"mi\">12</span><span class=\"p\">,</span> <span class=\"mi\">13</span><span class=\"p\">,</span> <span class=\"mi\">14</span><span class=\"p\">,</span> <span class=\"mi\">15</span><span class=\"p\">,</span> <span class=\"mi\">16</span><span class=\"p\">,</span> <span class=\"mi\">17</span><span class=\"p\">,</span> <span class=\"mi\">18</span><span class=\"p\">,</span> <span class=\"mi\">19</span><span class=\"p\">,</span> <span class=\"mi\">20</span><span class=\"p\">])</span>\n",
    "</pre></div>\n",
    "</div>\n",
    "<ol class=\"simple\">\n",
    "<li><p>이 배열에서 3의 배수를 찾아라.</p></li>\n",
    "<li><p>이 배열에서 4로 나누면 1이 남는 수를 찾아라.</p></li>\n",
    "<li><p>이 배열에서 3으로 나누면 나누어지고 4로 나누면 1이 남는 수를 찾아라.</p></li>"
   ]
  },
  {
   "cell_type": "code",
   "execution_count": 11,
   "id": "2e3795bc",
   "metadata": {},
   "outputs": [
    {
     "data": {
      "text/plain": [
       "array([ 1,  2,  3,  4,  5,  6,  7,  8,  9, 10, 11, 12, 13, 14, 15, 16, 17,\n",
       "       18, 19, 20])"
      ]
     },
     "execution_count": 11,
     "metadata": {},
     "output_type": "execute_result"
    }
   ],
   "source": [
    "x = np.array([1, 2, 3, 4, 5, 6, 7, 8, 9, 10,\n",
    "             11, 12, 13, 14, 15, 16, 17, 18, 19, 20])\n",
    "x"
   ]
  },
  {
   "cell_type": "code",
   "execution_count": 12,
   "id": "47096348",
   "metadata": {},
   "outputs": [
    {
     "data": {
      "text/plain": [
       "array([ 3,  6,  9, 12, 15, 18])"
      ]
     },
     "execution_count": 12,
     "metadata": {},
     "output_type": "execute_result"
    }
   ],
   "source": [
    "#1\n",
    "x[x % 3 == 0]"
   ]
  },
  {
   "cell_type": "code",
   "execution_count": 13,
   "id": "ff357f6c",
   "metadata": {},
   "outputs": [
    {
     "data": {
      "text/plain": [
       "array([ 1,  5,  9, 13, 17])"
      ]
     },
     "execution_count": 13,
     "metadata": {},
     "output_type": "execute_result"
    }
   ],
   "source": [
    "#2\n",
    "x[x % 4 == 1]"
   ]
  },
  {
   "cell_type": "code",
   "execution_count": 14,
   "id": "baf71977",
   "metadata": {},
   "outputs": [
    {
     "data": {
      "text/plain": [
       "array([9])"
      ]
     },
     "execution_count": 14,
     "metadata": {},
     "output_type": "execute_result"
    }
   ],
   "source": [
    "#3\n",
    "x[(x % 3 == 0)&(x % 4 == 1)]"
   ]
  },
  {
   "cell_type": "markdown",
   "id": "89fd3f7f",
   "metadata": {},
   "source": [
    "# 3.2 배열의 생성과 변형"
   ]
  },
  {
   "cell_type": "markdown",
   "id": "7adfb796",
   "metadata": {},
   "source": [
    "<p class=\"admonition-title\">연습 문제 3.2.1</p>\n",
    "<p>지금까지 공부한 명령어를 사용하여 다음과 같은 배열을 만들어라.</p>\n",
    "<div class=\"highlight-default notranslate\"><div class=\"highlight\"><pre><span></span><span class=\"n\">array</span><span class=\"p\">([[</span>   <span class=\"mf\">0.</span><span class=\"p\">,</span>    <span class=\"mf\">0.</span><span class=\"p\">,</span>    <span class=\"mf\">0.</span><span class=\"p\">,</span>    <span class=\"mf\">1.</span><span class=\"p\">,</span>    <span class=\"mf\">1.</span><span class=\"p\">],</span>\n",
    "       <span class=\"p\">[</span>   <span class=\"mf\">0.</span><span class=\"p\">,</span>    <span class=\"mf\">0.</span><span class=\"p\">,</span>    <span class=\"mf\">0.</span><span class=\"p\">,</span>    <span class=\"mf\">1.</span><span class=\"p\">,</span>    <span class=\"mf\">1.</span><span class=\"p\">],</span>\n",
    "       <span class=\"p\">[</span>   <span class=\"mf\">0.</span><span class=\"p\">,</span>    <span class=\"mf\">0.</span><span class=\"p\">,</span>    <span class=\"mf\">0.</span><span class=\"p\">,</span>    <span class=\"mf\">1.</span><span class=\"p\">,</span>    <span class=\"mf\">1.</span><span class=\"p\">],</span>\n",
    "       <span class=\"p\">[</span>  <span class=\"mf\">10.</span><span class=\"p\">,</span>   <span class=\"mf\">20.</span><span class=\"p\">,</span>   <span class=\"mf\">30.</span><span class=\"p\">,</span>   <span class=\"mf\">40.</span><span class=\"p\">,</span>   <span class=\"mf\">50.</span><span class=\"p\">],</span>\n",
    "       <span class=\"p\">[</span>  <span class=\"mf\">60.</span><span class=\"p\">,</span>   <span class=\"mf\">70.</span><span class=\"p\">,</span>   <span class=\"mf\">80.</span><span class=\"p\">,</span>   <span class=\"mf\">90.</span><span class=\"p\">,</span>  <span class=\"mf\">100.</span><span class=\"p\">],</span>\n",
    "       <span class=\"p\">[</span> <span class=\"mf\">110.</span><span class=\"p\">,</span>  <span class=\"mf\">120.</span><span class=\"p\">,</span>  <span class=\"mf\">130.</span><span class=\"p\">,</span>  <span class=\"mf\">140.</span><span class=\"p\">,</span>  <span class=\"mf\">150.</span><span class=\"p\">],</span>\n",
    "       <span class=\"p\">[</span>   <span class=\"mf\">0.</span><span class=\"p\">,</span>    <span class=\"mf\">0.</span><span class=\"p\">,</span>    <span class=\"mf\">0.</span><span class=\"p\">,</span>    <span class=\"mf\">1.</span><span class=\"p\">,</span>    <span class=\"mf\">1.</span><span class=\"p\">],</span>\n",
    "       <span class=\"p\">[</span>   <span class=\"mf\">0.</span><span class=\"p\">,</span>    <span class=\"mf\">0.</span><span class=\"p\">,</span>    <span class=\"mf\">0.</span><span class=\"p\">,</span>    <span class=\"mf\">1.</span><span class=\"p\">,</span>    <span class=\"mf\">1.</span><span class=\"p\">],</span>\n",
    "       <span class=\"p\">[</span>   <span class=\"mf\">0.</span><span class=\"p\">,</span>    <span class=\"mf\">0.</span><span class=\"p\">,</span>    <span class=\"mf\">0.</span><span class=\"p\">,</span>    <span class=\"mf\">1.</span><span class=\"p\">,</span>    <span class=\"mf\">1.</span><span class=\"p\">],</span>\n",
    "       <span class=\"p\">[</span>  <span class=\"mf\">10.</span><span class=\"p\">,</span>   <span class=\"mf\">20.</span><span class=\"p\">,</span>   <span class=\"mf\">30.</span><span class=\"p\">,</span>   <span class=\"mf\">40.</span><span class=\"p\">,</span>   <span class=\"mf\">50.</span><span class=\"p\">],</span>\n",
    "       <span class=\"p\">[</span>  <span class=\"mf\">60.</span><span class=\"p\">,</span>   <span class=\"mf\">70.</span><span class=\"p\">,</span>   <span class=\"mf\">80.</span><span class=\"p\">,</span>   <span class=\"mf\">90.</span><span class=\"p\">,</span>  <span class=\"mf\">100.</span><span class=\"p\">],</span>\n",
    "       <span class=\"p\">[</span> <span class=\"mf\">110.</span><span class=\"p\">,</span>  <span class=\"mf\">120.</span><span class=\"p\">,</span>  <span class=\"mf\">130.</span><span class=\"p\">,</span>  <span class=\"mf\">140.</span><span class=\"p\">,</span>  <span class=\"mf\">150.</span><span class=\"p\">]])</span>\n",
    "</pre></div>"
   ]
  },
  {
   "cell_type": "code",
   "execution_count": 16,
   "id": "b4315a65",
   "metadata": {},
   "outputs": [
    {
     "data": {
      "text/plain": [
       "array([[  0.,   0.,   0.,   1.,   1.],\n",
       "       [  0.,   0.,   0.,   1.,   1.],\n",
       "       [  0.,   0.,   0.,   1.,   1.],\n",
       "       [ 10.,  20.,  30.,  40.,  50.],\n",
       "       [ 60.,  70.,  80.,  90., 100.],\n",
       "       [110., 120., 130., 140., 150.],\n",
       "       [  0.,   0.,   0.,   1.,   1.],\n",
       "       [  0.,   0.,   0.,   1.,   1.],\n",
       "       [  0.,   0.,   0.,   1.,   1.],\n",
       "       [ 10.,  20.,  30.,  40.,  50.],\n",
       "       [ 60.,  70.,  80.,  90., 100.],\n",
       "       [110., 120., 130., 140., 150.]])"
      ]
     },
     "execution_count": 16,
     "metadata": {},
     "output_type": "execute_result"
    }
   ],
   "source": [
    "zeros = np.zeros([3, 3])\n",
    "ones = np.ones([3, 2])\n",
    "numbers = np.reshape(np.arange(10, 160, 10), (3, -1))\n",
    "res = np.tile(np.vstack([np.hstack([zeros, ones]), numbers]), (2, 1))\n",
    "res"
   ]
  },
  {
   "cell_type": "markdown",
   "id": "aa4443fc",
   "metadata": {},
   "source": [
    "# 3.3 배열의 연산"
   ]
  },
  {
   "cell_type": "markdown",
   "id": "2f3fb931",
   "metadata": {},
   "source": [
    "<p class=\"admonition-title\">연습 문제 3.3.1</p>\n",
    "<p>실수로 이루어진 5 x 6 형태의 데이터 행렬을 만들고 이 데이터에 대해 다음과 같은 값을 구한다.</p>\n",
    "<ol class=\"simple\">\n",
    "<li><p>전체의 최댓값</p></li>\n",
    "<li><p>각 행의 합</p></li>\n",
    "<li><p>각 행의 최댓값</p></li>\n",
    "<li><p>각 열의 평균</p></li>\n",
    "<li><p>각 열의 최솟값</p></li>\n",
    "</ol>\n",
    "</div>\n",
    "</div>"
   ]
  },
  {
   "cell_type": "code",
   "execution_count": 17,
   "id": "ac257fa0",
   "metadata": {},
   "outputs": [
    {
     "data": {
      "text/plain": [
       "array([[ 1,  2,  3,  4,  5,  6],\n",
       "       [ 7,  8,  9, 10, 11, 12],\n",
       "       [13, 14, 15, 16, 17, 18],\n",
       "       [19, 20, 21, 22, 23, 24],\n",
       "       [25, 26, 27, 28, 29, 30]])"
      ]
     },
     "execution_count": 17,
     "metadata": {},
     "output_type": "execute_result"
    }
   ],
   "source": [
    "a = np.array([[1,2,3,4,5,6],\n",
    "             [7,8,9,10,11,12],\n",
    "             [13,14,15,16,17,18],\n",
    "             [19,20,21,22,23,24],\n",
    "             [25,26,27,28,29,30]])\n",
    "a"
   ]
  },
  {
   "cell_type": "code",
   "execution_count": 20,
   "id": "510929a7",
   "metadata": {},
   "outputs": [
    {
     "data": {
      "text/plain": [
       "30"
      ]
     },
     "execution_count": 20,
     "metadata": {},
     "output_type": "execute_result"
    }
   ],
   "source": [
    "#1\n",
    "a.max()"
   ]
  },
  {
   "cell_type": "code",
   "execution_count": 22,
   "id": "d515c723",
   "metadata": {},
   "outputs": [
    {
     "data": {
      "text/plain": [
       "array([ 21,  57,  93, 129, 165])"
      ]
     },
     "execution_count": 22,
     "metadata": {},
     "output_type": "execute_result"
    }
   ],
   "source": [
    "#2\n",
    "a.sum(axis=1)"
   ]
  },
  {
   "cell_type": "code",
   "execution_count": 27,
   "id": "6c68b139",
   "metadata": {},
   "outputs": [
    {
     "data": {
      "text/plain": [
       "array([ 6, 12, 18, 24, 30])"
      ]
     },
     "execution_count": 27,
     "metadata": {},
     "output_type": "execute_result"
    }
   ],
   "source": [
    "#3\n",
    "a.max(axis=1)"
   ]
  },
  {
   "cell_type": "code",
   "execution_count": 26,
   "id": "93ccfd33",
   "metadata": {},
   "outputs": [
    {
     "data": {
      "text/plain": [
       "array([ 3.5,  9.5, 15.5, 21.5, 27.5])"
      ]
     },
     "execution_count": 26,
     "metadata": {},
     "output_type": "execute_result"
    }
   ],
   "source": [
    "#4\n",
    "a.mean(axis=1)"
   ]
  },
  {
   "cell_type": "code",
   "execution_count": 25,
   "id": "05ab2f88",
   "metadata": {},
   "outputs": [
    {
     "data": {
      "text/plain": [
       "array([1, 2, 3, 4, 5, 6])"
      ]
     },
     "execution_count": 25,
     "metadata": {},
     "output_type": "execute_result"
    }
   ],
   "source": [
    "#5\n",
    "a.min(axis=0)"
   ]
  },
  {
   "cell_type": "markdown",
   "id": "5b00bfb9",
   "metadata": {},
   "source": [
    "<p class=\"admonition-title\">연습 문제 3.3.2</p>\n",
    "<p>다음 배열은 첫번째 행(row)에 학번, 두번째 행에 영어 성적, 세번째 행에 수학 성적을 적은 배열이다. 영어 성적을 기준으로 각 열(column)을 재정렬하라.</p>\n",
    "<div class=\"highlight-default notranslate\"><div class=\"highlight\"><pre><span></span><span class=\"n\">array</span><span class=\"p\">([[</span>  <span class=\"mi\">1</span><span class=\"p\">,</span>    <span class=\"mi\">2</span><span class=\"p\">,</span>    <span class=\"mi\">3</span><span class=\"p\">,</span>    <span class=\"mi\">4</span><span class=\"p\">],</span>\n",
    "       <span class=\"p\">[</span> <span class=\"mi\">46</span><span class=\"p\">,</span>   <span class=\"mi\">99</span><span class=\"p\">,</span>  <span class=\"mi\">100</span><span class=\"p\">,</span>   <span class=\"mi\">71</span><span class=\"p\">],</span>\n",
    "       <span class=\"p\">[</span> <span class=\"mi\">81</span><span class=\"p\">,</span>   <span class=\"mi\">59</span><span class=\"p\">,</span>   <span class=\"mi\">90</span><span class=\"p\">,</span>  <span class=\"mi\">100</span><span class=\"p\">]])</span>\n",
    "</pre></div>\n",
    "</div>\n",
    "</div>"
   ]
  },
  {
   "cell_type": "code",
   "execution_count": 21,
   "id": "88114c8e",
   "metadata": {},
   "outputs": [
    {
     "data": {
      "text/plain": [
       "array([[  1,   4,   2,   3],\n",
       "       [ 46,  71,  99, 100],\n",
       "       [ 81, 100,  59,  90]])"
      ]
     },
     "execution_count": 21,
     "metadata": {},
     "output_type": "execute_result"
    }
   ],
   "source": [
    "x = np.array([[ 1, 2, 3, 4],\n",
    "[ 46, 99, 100, 71],\n",
    "[ 81, 59, 90, 100]])\n",
    "j=x[1,:].argsort()\n",
    "np.array([x[i,j] for i in range(3)])"
   ]
  },
  {
   "cell_type": "markdown",
   "id": "b0405a72",
   "metadata": {},
   "source": [
    "# 3.5 난수 발생과 카운팅"
   ]
  },
  {
   "cell_type": "markdown",
   "id": "cda5f42a",
   "metadata": {},
   "source": [
    "<p class=\"admonition-title\">연습 문제 3.5.1</p>\n",
    "<ol class=\"simple\">\n",
    "<li><p>동전을 10번 던져 앞면(숫자 1)과 뒷면(숫자 0)이 나오는 가상 실험을 파이썬으로 작성한다.</p></li>\n",
    "<li><p>주사위를 100번 던져서 나오는 숫자의 평균을 구하라.</p></li>\n",
    "</ol>\n",
    "</div>\n",
    "<div class=\"admonition- admonition\">"
   ]
  },
  {
   "cell_type": "code",
   "execution_count": 30,
   "id": "a74fd2d0",
   "metadata": {},
   "outputs": [
    {
     "data": {
      "text/plain": [
       "array([1, 1, 1, 0, 0, 0, 0, 1, 1, 1])"
      ]
     },
     "execution_count": 30,
     "metadata": {},
     "output_type": "execute_result"
    }
   ],
   "source": [
    "#1\n",
    "a = np.random.choice(2,10,p=[0.5,0.5])\n",
    "a\n"
   ]
  },
  {
   "cell_type": "code",
   "execution_count": 31,
   "id": "37e0e90b",
   "metadata": {},
   "outputs": [
    {
     "data": {
      "text/plain": [
       "3.4"
      ]
     },
     "execution_count": 31,
     "metadata": {},
     "output_type": "execute_result"
    }
   ],
   "source": [
    "#2\n",
    "a = np.random.randint(1,7,100)\n",
    "a.mean()"
   ]
  },
  {
   "cell_type": "markdown",
   "id": "c6952037",
   "metadata": {},
   "source": [
    "<p class=\"admonition-title\">연습 문제 3.5.2</p>\n",
    "<p>가격이 10,000원인 주식이 있다. 이 주식의 일간 수익률(%)은 기댓값이 0%이고 표준편차가 1%인 표준 정규 분포를 따른다고 하자.\n",
    "250일 동안의 주가를 무작위로 생성하라</p>\n",
    "</div>\n",
    "</div>"
   ]
  },
  {
   "cell_type": "code",
   "execution_count": 37,
   "id": "27f30e20",
   "metadata": {},
   "outputs": [
    {
     "name": "stdout",
     "output_type": "stream",
     "text": [
      "[10176.405234596767, 10217.126853695665, 10317.125755097051, 10548.321524496083, 10745.317545953518, 10640.305934454434, 10741.398248726973, 10725.140368205562, 10714.070001464253, 10758.061812386894, 10773.55810880915, 10930.235110142823, 11013.418322778272, 11026.818901338936, 11075.762896183403, 11112.719873528811, 11278.752695617832, 11255.613402413064, 11290.85109259871, 11194.416414485922, 10908.624103482038, 10979.924899129086, 11074.839344564745, 10992.645760883175, 11242.151846339399, 11078.649848799967, 11083.719274707797, 11062.972342243344, 11232.543282795474, 11397.589642604074, 11415.249914346789, 11458.418111041767, 11356.69190814807, 11131.7389559244, 11093.010283665468, 11110.354090886578, 11247.043741862606, 11382.275929398731, 11338.1893222928, 11303.913664106069, 11185.386142212461, 11026.551652650312, 10838.40888874727, 11049.841902583566, 10993.526142246941, 10945.36632937685, 10808.24328786195, 10892.276337059926, 10716.486123706052, 10693.68784109739, 10597.929442321929, 10638.933096055634, 10584.588879218467, 10459.623816353373, 10456.676061286083, 10501.465337454696, 10508.450620506703, 10540.235730521597, 10473.376686556843, 10435.385437845802, 10365.211598203317, 10327.943152201611, 10243.961866447818, 10067.122134957839, 10084.983841397869, 10044.46429890345, 9880.719607941131, 9926.44582500494, 9836.38334439328, 9841.49289265355, 9913.24628851126, 9926.032682124733, 10039.129966452854, 9915.164197488233, 9955.057031845856, 9886.883796732913, 9800.789094488036, 9744.057259670324, 9713.69940254588, 9719.155135058489, 9605.912414476867, 9692.445017820095, 9737.57909375961, 9587.986149735478, 9730.679563949734, 9915.162464556877, 10032.040374136364, 10013.990241964571, 9906.765178930926, 10011.227235443175, 9970.864275120768, 10092.752613926505, 10113.773292220512, 10212.5483502538, 10248.942440869294, 10321.358718179914, 10322.442462983992, 10506.78791718083, 10520.122301602456, 10562.412074276272, 10761.318210878959, 10616.281569593466, 10481.403304854775, 10583.009683460803, 10458.857919898626, 10662.138498206736, 10618.03786962326, 10538.67283468616, 10741.325403657613, 10900.352315054866, 11103.922821432738, 11204.52932101535, 11108.03303661328, 11320.203682624293, 11289.865155156298, 11380.461400170638, 11488.263044725485, 11470.455077485336, 11540.892775800989, 11647.323658937765, 11691.167158886337, 11562.634374713021, 11597.118564362287, 11750.941109422061, 11669.322849260056, 11651.861511655214, 11601.15802244556, 11815.694029838216, 11895.130321305449, 11943.598437735913, 11851.642753496584, 11915.55264119961, 11835.202178042178, 11838.969388968348, 11763.691766388116, 11843.265294210845, 11911.55247428461, 11886.740858710655, 11933.813150427843, 11803.369232356696, 11627.3505924841, 11678.440206064408, 11697.905070560846, 11772.190445216704, 12052.738786698917, 12166.574432159827, 12055.515236667865, 12190.177305475323, 12029.765858958079, 11974.238311757872, 11966.066899308531, 12171.086635595528, 12080.441880981236, 11980.604453636503, 11968.809246110472, 11889.398795626428, 12023.349033380455, 11893.50509880847, 11757.030856126727, 11705.556218371816, 11647.258749870292, 11871.996340840044, 11984.711544297445, 11995.20430803091, 11848.210813884054, 11948.252719362496, 11828.74446191854, 11646.017436359141, 11784.375593125631, 11821.725300929518, 11930.586701486258, 11968.612780462237, 12071.163518585336, 11992.577154670234, 11868.544783902578, 11949.440134549459, 11853.43717769382, 11771.701827979274, 11718.077899935683, 11720.126121406493, 11678.637588545484, 11518.062009968175, 11443.929643222316, 11189.484950796566, 11259.445129916901, 11079.062327234227, 10956.707008727359, 10962.422583622854, 10881.348562686335, 11049.249359185666, 10906.398375372859, 10935.524007048978, 10931.228225031065, 10803.541258911227, 10860.073668830028, 10841.443610883116, 10925.116848287069, 11015.085639358105, 11253.367931752755, 11403.772339413543, 11361.671683096123, 11334.47420686225, 11459.114840121361, 11534.202263530527, 11608.036328503249, 11420.339483463718, 11417.561357474191, 11333.296225578506, 11365.020909596338, 11353.866097290565, 11457.20659176118, 11493.550938022345, 11583.927942887252, 11529.898290809495, 11421.004598090762, 11374.172803775642, 11372.236872491125, 11415.35490596461, 11673.263041108195, 11668.330252641168, 11556.78743295006, 11516.803054575736, 11463.411619206803, 11518.605822415679, 11341.127487798252, 11348.302111211835, 11366.062945963944, 11392.452788687058, 11324.403837530937, 11297.460620038393, 11136.577899640732, 11081.638946535684, 11021.480997783678, 11067.335874573651, 10939.377281521107, 11024.835489183244, 11189.599951624687, 10957.976908267134, 11004.686241555271, 11079.177846954228, 11008.555065230961, 10964.821178791934, 10950.251061078177, 10917.642212146695, 10883.905281796999, 10701.490614996732, 10824.807269255642, 10941.673901086679, 10852.678236216565, 10693.531922342556]\n"
     ]
    }
   ],
   "source": [
    "np.random.seed(0)\n",
    "a=np.random.randn(250)\n",
    "percent=a/100\n",
    "result=[10000+percent[0]*10000]\n",
    "for i in range(1,len(percent)):\n",
    "    price=result[i-1]+result[i-1]*percent[i]\n",
    "    result.append(price)\n",
    "print(result)"
   ]
  },
  {
   "cell_type": "code",
   "execution_count": null,
   "id": "19e648f2",
   "metadata": {},
   "outputs": [],
   "source": []
  }
 ],
 "metadata": {
  "kernelspec": {
   "display_name": "Python 3 (ipykernel)",
   "language": "python",
   "name": "python3"
  },
  "language_info": {
   "codemirror_mode": {
    "name": "ipython",
    "version": 3
   },
   "file_extension": ".py",
   "mimetype": "text/x-python",
   "name": "python",
   "nbconvert_exporter": "python",
   "pygments_lexer": "ipython3",
   "version": "3.9.12"
  }
 },
 "nbformat": 4,
 "nbformat_minor": 5
}
