{
 "cells": [
  {
   "cell_type": "code",
   "execution_count": 6,
   "id": "c9635c20",
   "metadata": {},
   "outputs": [],
   "source": [
    "class Calculator:\n",
    "    def __init__(self):\n",
    "        self.value = 0\n",
    "\n",
    "    def add(self, val):\n",
    "        self.value += val"
   ]
  },
  {
   "cell_type": "code",
   "execution_count": 7,
   "id": "e42d9ca3",
   "metadata": {},
   "outputs": [],
   "source": [
    "class UpgradeCalculator(Calculator):\n",
    "    def minus(self, val):\n",
    "        self.value -= val"
   ]
  },
  {
   "cell_type": "code",
   "execution_count": 9,
   "id": "fac0a1f7",
   "metadata": {},
   "outputs": [
    {
     "name": "stdout",
     "output_type": "stream",
     "text": [
      "7\n"
     ]
    }
   ],
   "source": [
    "cal = UpgradeCalculator()\n",
    "cal.add(10)\n",
    "cal.minus(3)\n",
    "print(cal.value)"
   ]
  },
  {
   "cell_type": "code",
   "execution_count": 24,
   "id": "852604bd",
   "metadata": {},
   "outputs": [],
   "source": [
    "class MaxLimitCalculator():\n",
    "    def __init__(self):\n",
    "        self.value = 0\n",
    "    def add(self,val):\n",
    "        self.value += val\n",
    "        if self.value > 100:\n",
    "            self.value = 100\n"
   ]
  },
  {
   "cell_type": "code",
   "execution_count": 25,
   "id": "51acc586",
   "metadata": {},
   "outputs": [],
   "source": [
    "cal2 = MaxLimitCalculator()\n",
    "cal2.add(70)\n",
    "cal2.add(80)"
   ]
  },
  {
   "cell_type": "code",
   "execution_count": 27,
   "id": "6c2faa05",
   "metadata": {},
   "outputs": [
    {
     "name": "stdout",
     "output_type": "stream",
     "text": [
      "100\n"
     ]
    }
   ],
   "source": [
    "print(cal2.value)"
   ]
  },
  {
   "cell_type": "code",
   "execution_count": null,
   "id": "f26f020a",
   "metadata": {},
   "outputs": [],
   "source": []
  }
 ],
 "metadata": {
  "kernelspec": {
   "display_name": "Python 3 (ipykernel)",
   "language": "python",
   "name": "python3"
  },
  "language_info": {
   "codemirror_mode": {
    "name": "ipython",
    "version": 3
   },
   "file_extension": ".py",
   "mimetype": "text/x-python",
   "name": "python",
   "nbconvert_exporter": "python",
   "pygments_lexer": "ipython3",
   "version": "3.9.12"
  }
 },
 "nbformat": 4,
 "nbformat_minor": 5
}
