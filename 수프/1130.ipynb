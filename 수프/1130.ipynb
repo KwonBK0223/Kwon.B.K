{
 "cells": [
  {
   "cell_type": "code",
   "execution_count": 1,
   "id": "a1f92e69",
   "metadata": {},
   "outputs": [],
   "source": [
    "from bs4 import BeautifulSoup\n",
    "import requests\n",
    "from html_table_parser import HTMLTableParser\n",
    "import re \n",
    "from IPython.core.display import HTML, Markdown, Latex\n",
    "from pprint import pprint\n",
    "import random\n",
    "import timeit# Approach 1: Execution time \n",
    "\n",
    "def Rtime(pro,num=1):\n",
    "    return timeit.timeit(pro, globals=globals(), number=num)\n",
    "\n",
    "def MathDown(url) :\n",
    "    website_url =requests.get(url).text\n",
    "    soup = BeautifulSoup(website_url,'lxml')\n",
    "    body = soup\n",
    "    return body\n",
    "\n",
    "def printh(text) :\n",
    "    if type(text) == str :\n",
    "        print(BeautifulSoup(text,'lxml').prettify())\n",
    "    else :\n",
    "        print(text.prettify())\n",
    "\n",
    "def Euler(num):\n",
    "    url='http://euler.synap.co.kr/prob_detail.php?id='+str(num)\n",
    "    text=MathDown(url)\n",
    "    text=text.find(id=\"content\" )\n",
    "    text = str(text).replace('<samp style=\"font-family:Menlo,monospace;\">','')\n",
    "    rtv = text.replace('</samp>','')\n",
    "    rtv=rtv.replace('src=\"/images','src=\"http://euler.synap.co.kr/images')\n",
    "    return HTML(rtv)\n",
    "\n",
    "def EulerT(num):\n",
    "    url='http://euler.synap.co.kr/prob_detail.php?id='+str(num)\n",
    "    text=MathDown(url)\n",
    "    text1=str(text.h2)\n",
    "    text3=str(text.find(style=\"float:right; font-size:90%;\"))\n",
    "    text2=str(text.h4)+'<p></p>'\n",
    "    text= text.findAll(\"div\", {\"class\":\"problem_content\"})[0]\n",
    "    text = str(text).replace('<samp style=\"font-family:Menlo,monospace;\">','')\n",
    "    text = text.replace('</samp>','')\n",
    "    rtv=text1+text3+text2+ text\n",
    "    rtv=rtv.replace('src=\"/images','src=\"http://euler.synap.co.kr/images')\n",
    "    return  HTML(rtv)    \n"
   ]
  },
  {
   "cell_type": "code",
   "execution_count": 2,
   "id": "e5190bc8",
   "metadata": {},
   "outputs": [
    {
     "data": {
      "text/html": [
       "<h2>1000보다 작은 자연수 중에서 3 또는 5의 배수를 모두 더하면?</h2><div class=\"info\" style=\"float:right; font-size:90%;\">\n",
       "<a href=\"https://projecteuler.net/problem=1\" target=\"_blank\">[ProjectEuler.net 원본]</a>\n",
       "</div><h4 title=\"난이도 ☕\">Problem 1</h4><p></p><div class=\"problem_content\">\n",
       "<p>10보다 작은 자연수 중에서 3 또는 5의 배수는 3, 5, 6, 9 이고, 이것을 모두 더하면 23입니다.</p>\n",
       "<p>1000보다 작은 자연수 중에서 3 또는 5의 배수를 모두 더하면 얼마일까요?</p></div>"
      ],
      "text/plain": [
       "<IPython.core.display.HTML object>"
      ]
     },
     "execution_count": 2,
     "metadata": {},
     "output_type": "execute_result"
    }
   ],
   "source": [
    "EulerT(1)"
   ]
  },
  {
   "cell_type": "code",
   "execution_count": null,
   "id": "a8056f2e",
   "metadata": {},
   "outputs": [],
   "source": []
  }
 ],
 "metadata": {
  "kernelspec": {
   "display_name": "Python 3 (ipykernel)",
   "language": "python",
   "name": "python3"
  },
  "language_info": {
   "codemirror_mode": {
    "name": "ipython",
    "version": 3
   },
   "file_extension": ".py",
   "mimetype": "text/x-python",
   "name": "python",
   "nbconvert_exporter": "python",
   "pygments_lexer": "ipython3",
   "version": "3.9.12"
  }
 },
 "nbformat": 4,
 "nbformat_minor": 5
}
