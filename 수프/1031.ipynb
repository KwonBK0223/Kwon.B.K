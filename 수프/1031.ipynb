{
 "cells": [
  {
   "cell_type": "markdown",
   "id": "864ef852",
   "metadata": {},
   "source": [
    "# 배열의 생성과 변형"
   ]
  },
  {
   "cell_type": "markdown",
   "id": "06652219",
   "metadata": {},
   "source": [
    "## 전치연산"
   ]
  },
  {
   "cell_type": "code",
   "execution_count": 4,
   "id": "d61a0dc5",
   "metadata": {
    "ExecuteTime": {
     "end_time": "2022-10-31T04:26:38.738987Z",
     "start_time": "2022-10-31T04:26:38.723366Z"
    }
   },
   "outputs": [],
   "source": [
    "import numpy as np"
   ]
  },
  {
   "cell_type": "code",
   "execution_count": 5,
   "id": "c326f303",
   "metadata": {
    "ExecuteTime": {
     "end_time": "2022-10-31T04:26:39.035194Z",
     "start_time": "2022-10-31T04:26:39.027188Z"
    }
   },
   "outputs": [
    {
     "data": {
      "text/plain": [
       "array([[1, 2, 3],\n",
       "       [4, 5, 6]])"
      ]
     },
     "execution_count": 5,
     "metadata": {},
     "output_type": "execute_result"
    }
   ],
   "source": [
    "A = np.array([[1,2,3],[4,5,6]])\n",
    "A"
   ]
  },
  {
   "cell_type": "code",
   "execution_count": 6,
   "id": "5a95a977",
   "metadata": {
    "ExecuteTime": {
     "end_time": "2022-10-31T04:26:39.505935Z",
     "start_time": "2022-10-31T04:26:39.491363Z"
    }
   },
   "outputs": [
    {
     "data": {
      "text/plain": [
       "array([[1, 4],\n",
       "       [2, 5],\n",
       "       [3, 6]])"
      ]
     },
     "execution_count": 6,
     "metadata": {},
     "output_type": "execute_result"
    }
   ],
   "source": [
    "A.T"
   ]
  },
  {
   "cell_type": "markdown",
   "id": "266906fd",
   "metadata": {},
   "source": [
    "## 배열의 크기 변형"
   ]
  },
  {
   "cell_type": "code",
   "execution_count": 8,
   "id": "629f615e",
   "metadata": {
    "ExecuteTime": {
     "end_time": "2022-10-31T04:26:51.366054Z",
     "start_time": "2022-10-31T04:26:51.347285Z"
    }
   },
   "outputs": [
    {
     "data": {
      "text/plain": [
       "array([ 0,  1,  2,  3,  4,  5,  6,  7,  8,  9, 10, 11])"
      ]
     },
     "execution_count": 8,
     "metadata": {},
     "output_type": "execute_result"
    }
   ],
   "source": [
    "a = np.arange(12)\n",
    "a"
   ]
  },
  {
   "cell_type": "code",
   "execution_count": 9,
   "id": "a245aa67",
   "metadata": {
    "ExecuteTime": {
     "end_time": "2022-10-31T04:27:03.076445Z",
     "start_time": "2022-10-31T04:27:03.059383Z"
    }
   },
   "outputs": [],
   "source": [
    "b = a.reshape(3,4)"
   ]
  },
  {
   "cell_type": "code",
   "execution_count": 10,
   "id": "cee34025",
   "metadata": {
    "ExecuteTime": {
     "end_time": "2022-10-31T04:27:06.372166Z",
     "start_time": "2022-10-31T04:27:06.355212Z"
    }
   },
   "outputs": [
    {
     "data": {
      "text/plain": [
       "array([[ 0,  1,  2,  3],\n",
       "       [ 4,  5,  6,  7],\n",
       "       [ 8,  9, 10, 11]])"
      ]
     },
     "execution_count": 10,
     "metadata": {},
     "output_type": "execute_result"
    }
   ],
   "source": [
    "b"
   ]
  },
  {
   "cell_type": "code",
   "execution_count": 11,
   "id": "205a2e72",
   "metadata": {
    "ExecuteTime": {
     "end_time": "2022-10-31T04:27:53.343294Z",
     "start_time": "2022-10-31T04:27:53.331326Z"
    }
   },
   "outputs": [
    {
     "data": {
      "text/plain": [
       "array([[ 0,  1,  2,  3],\n",
       "       [ 4,  5,  6,  7],\n",
       "       [ 8,  9, 10, 11]])"
      ]
     },
     "execution_count": 11,
     "metadata": {},
     "output_type": "execute_result"
    }
   ],
   "source": [
    "a.reshape(3,-1)"
   ]
  },
  {
   "cell_type": "code",
   "execution_count": 12,
   "id": "69ce8897",
   "metadata": {
    "ExecuteTime": {
     "end_time": "2022-10-31T04:28:05.588526Z",
     "start_time": "2022-10-31T04:28:05.572908Z"
    }
   },
   "outputs": [
    {
     "data": {
      "text/plain": [
       "array([[[ 0,  1,  2],\n",
       "        [ 3,  4,  5]],\n",
       "\n",
       "       [[ 6,  7,  8],\n",
       "        [ 9, 10, 11]]])"
      ]
     },
     "execution_count": 12,
     "metadata": {},
     "output_type": "execute_result"
    }
   ],
   "source": [
    "a.reshape(2,2,-1)"
   ]
  },
  {
   "cell_type": "code",
   "execution_count": 13,
   "id": "f7debda6",
   "metadata": {
    "ExecuteTime": {
     "end_time": "2022-10-31T04:28:16.337472Z",
     "start_time": "2022-10-31T04:28:16.321850Z"
    }
   },
   "outputs": [
    {
     "data": {
      "text/plain": [
       "array([ 0,  1,  2,  3,  4,  5,  6,  7,  8,  9, 10, 11])"
      ]
     },
     "execution_count": 13,
     "metadata": {},
     "output_type": "execute_result"
    }
   ],
   "source": [
    "a.flatten()"
   ]
  },
  {
   "cell_type": "code",
   "execution_count": 15,
   "id": "538f78a6",
   "metadata": {
    "ExecuteTime": {
     "end_time": "2022-10-31T04:28:23.643297Z",
     "start_time": "2022-10-31T04:28:23.635319Z"
    }
   },
   "outputs": [
    {
     "data": {
      "text/plain": [
       "array([ 0,  1,  2,  3,  4,  5,  6,  7,  8,  9, 10, 11])"
      ]
     },
     "execution_count": 15,
     "metadata": {},
     "output_type": "execute_result"
    }
   ],
   "source": [
    "a.ravel()"
   ]
  },
  {
   "cell_type": "code",
   "execution_count": 16,
   "id": "c6922c05",
   "metadata": {
    "ExecuteTime": {
     "end_time": "2022-10-31T04:28:36.234105Z",
     "start_time": "2022-10-31T04:28:36.227123Z"
    }
   },
   "outputs": [],
   "source": [
    "x = np.arange(5)"
   ]
  },
  {
   "cell_type": "code",
   "execution_count": 17,
   "id": "db184554",
   "metadata": {
    "ExecuteTime": {
     "end_time": "2022-10-31T04:28:37.521358Z",
     "start_time": "2022-10-31T04:28:37.507413Z"
    }
   },
   "outputs": [
    {
     "data": {
      "text/plain": [
       "array([0, 1, 2, 3, 4])"
      ]
     },
     "execution_count": 17,
     "metadata": {},
     "output_type": "execute_result"
    }
   ],
   "source": [
    "x"
   ]
  },
  {
   "cell_type": "code",
   "execution_count": 19,
   "id": "9b757ece",
   "metadata": {
    "ExecuteTime": {
     "end_time": "2022-10-31T04:28:54.818286Z",
     "start_time": "2022-10-31T04:28:54.804298Z"
    }
   },
   "outputs": [
    {
     "data": {
      "text/plain": [
       "array([[0],\n",
       "       [1],\n",
       "       [2],\n",
       "       [3],\n",
       "       [4]])"
      ]
     },
     "execution_count": 19,
     "metadata": {},
     "output_type": "execute_result"
    }
   ],
   "source": [
    "x.reshape(5,1)"
   ]
  },
  {
   "cell_type": "code",
   "execution_count": 20,
   "id": "5555f9a4",
   "metadata": {
    "ExecuteTime": {
     "end_time": "2022-10-31T04:29:12.124295Z",
     "start_time": "2022-10-31T04:29:12.115292Z"
    }
   },
   "outputs": [
    {
     "data": {
      "text/plain": [
       "array([[0],\n",
       "       [1],\n",
       "       [2],\n",
       "       [3],\n",
       "       [4]])"
      ]
     },
     "execution_count": 20,
     "metadata": {},
     "output_type": "execute_result"
    }
   ],
   "source": [
    "x[:, np.newaxis]"
   ]
  },
  {
   "cell_type": "markdown",
   "id": "6c394589",
   "metadata": {},
   "source": [
    "## 배열연결"
   ]
  },
  {
   "cell_type": "code",
   "execution_count": 21,
   "id": "0bcd1562",
   "metadata": {
    "ExecuteTime": {
     "end_time": "2022-10-31T04:29:33.479313Z",
     "start_time": "2022-10-31T04:29:33.475297Z"
    }
   },
   "outputs": [],
   "source": [
    "a1 = np.ones((2,3))"
   ]
  },
  {
   "cell_type": "code",
   "execution_count": 22,
   "id": "8ca2c41e",
   "metadata": {
    "ExecuteTime": {
     "end_time": "2022-10-31T04:29:34.837498Z",
     "start_time": "2022-10-31T04:29:34.819354Z"
    }
   },
   "outputs": [
    {
     "data": {
      "text/plain": [
       "array([[1., 1., 1.],\n",
       "       [1., 1., 1.]])"
      ]
     },
     "execution_count": 22,
     "metadata": {},
     "output_type": "execute_result"
    }
   ],
   "source": [
    "a1"
   ]
  },
  {
   "cell_type": "code",
   "execution_count": 24,
   "id": "cdf1ea27",
   "metadata": {
    "ExecuteTime": {
     "end_time": "2022-10-31T04:29:57.255366Z",
     "start_time": "2022-10-31T04:29:57.235420Z"
    }
   },
   "outputs": [
    {
     "data": {
      "text/plain": [
       "array([[0., 0.],\n",
       "       [0., 0.]])"
      ]
     },
     "execution_count": 24,
     "metadata": {},
     "output_type": "execute_result"
    }
   ],
   "source": [
    "a2 = np.zeros((2,2))\n",
    "a2"
   ]
  },
  {
   "cell_type": "code",
   "execution_count": 25,
   "id": "65add506",
   "metadata": {
    "ExecuteTime": {
     "end_time": "2022-10-31T04:30:13.519259Z",
     "start_time": "2022-10-31T04:30:13.507263Z"
    }
   },
   "outputs": [
    {
     "data": {
      "text/plain": [
       "array([[1., 1., 1., 0., 0.],\n",
       "       [1., 1., 1., 0., 0.]])"
      ]
     },
     "execution_count": 25,
     "metadata": {},
     "output_type": "execute_result"
    }
   ],
   "source": [
    "np.hstack([a1,a2])"
   ]
  },
  {
   "cell_type": "code",
   "execution_count": 26,
   "id": "0c6fcc1b",
   "metadata": {
    "ExecuteTime": {
     "end_time": "2022-10-31T04:30:25.140978Z",
     "start_time": "2022-10-31T04:30:25.125020Z"
    }
   },
   "outputs": [
    {
     "data": {
      "text/plain": [
       "array([[1., 1., 1.],\n",
       "       [1., 1., 1.]])"
      ]
     },
     "execution_count": 26,
     "metadata": {},
     "output_type": "execute_result"
    }
   ],
   "source": [
    "b1 = np.ones((2,3))\n",
    "b1"
   ]
  },
  {
   "cell_type": "code",
   "execution_count": 27,
   "id": "88beed79",
   "metadata": {
    "ExecuteTime": {
     "end_time": "2022-10-31T04:30:34.193914Z",
     "start_time": "2022-10-31T04:30:34.180979Z"
    }
   },
   "outputs": [
    {
     "data": {
      "text/plain": [
       "array([[0., 0., 0.],\n",
       "       [0., 0., 0.],\n",
       "       [0., 0., 0.]])"
      ]
     },
     "execution_count": 27,
     "metadata": {},
     "output_type": "execute_result"
    }
   ],
   "source": [
    "b2 = np.zeros((3,3))\n",
    "b2"
   ]
  },
  {
   "cell_type": "code",
   "execution_count": 28,
   "id": "f06ea719",
   "metadata": {
    "ExecuteTime": {
     "end_time": "2022-10-31T04:30:53.247334Z",
     "start_time": "2022-10-31T04:30:53.235366Z"
    }
   },
   "outputs": [
    {
     "data": {
      "text/plain": [
       "array([[1., 1., 1.],\n",
       "       [1., 1., 1.],\n",
       "       [0., 0., 0.],\n",
       "       [0., 0., 0.],\n",
       "       [0., 0., 0.]])"
      ]
     },
     "execution_count": 28,
     "metadata": {},
     "output_type": "execute_result"
    }
   ],
   "source": [
    "np.vstack([b1,b2])"
   ]
  },
  {
   "cell_type": "code",
   "execution_count": 29,
   "id": "e6abf5b6",
   "metadata": {
    "ExecuteTime": {
     "end_time": "2022-10-31T04:31:01.942404Z",
     "start_time": "2022-10-31T04:31:01.923452Z"
    }
   },
   "outputs": [
    {
     "data": {
      "text/plain": [
       "array([[1., 1., 1., 1.],\n",
       "       [1., 1., 1., 1.],\n",
       "       [1., 1., 1., 1.]])"
      ]
     },
     "execution_count": 29,
     "metadata": {},
     "output_type": "execute_result"
    }
   ],
   "source": [
    "c1 = np.ones((3,4))\n",
    "c1"
   ]
  },
  {
   "cell_type": "code",
   "execution_count": 30,
   "id": "1542f24a",
   "metadata": {
    "ExecuteTime": {
     "end_time": "2022-10-31T04:31:14.494884Z",
     "start_time": "2022-10-31T04:31:14.483914Z"
    }
   },
   "outputs": [
    {
     "data": {
      "text/plain": [
       "array([[0., 0., 0., 0.],\n",
       "       [0., 0., 0., 0.],\n",
       "       [0., 0., 0., 0.]])"
      ]
     },
     "execution_count": 30,
     "metadata": {},
     "output_type": "execute_result"
    }
   ],
   "source": [
    "c2 = np.zeros((3,4))\n",
    "c2"
   ]
  },
  {
   "cell_type": "code",
   "execution_count": 31,
   "id": "ca8d1031",
   "metadata": {
    "ExecuteTime": {
     "end_time": "2022-10-31T04:31:22.661326Z",
     "start_time": "2022-10-31T04:31:22.643374Z"
    }
   },
   "outputs": [
    {
     "data": {
      "text/plain": [
       "array([[[1., 0.],\n",
       "        [1., 0.],\n",
       "        [1., 0.],\n",
       "        [1., 0.]],\n",
       "\n",
       "       [[1., 0.],\n",
       "        [1., 0.],\n",
       "        [1., 0.],\n",
       "        [1., 0.]],\n",
       "\n",
       "       [[1., 0.],\n",
       "        [1., 0.],\n",
       "        [1., 0.],\n",
       "        [1., 0.]]])"
      ]
     },
     "execution_count": 31,
     "metadata": {},
     "output_type": "execute_result"
    }
   ],
   "source": [
    "np.dstack([c1,c2])"
   ]
  },
  {
   "cell_type": "code",
   "execution_count": 33,
   "id": "258d098c",
   "metadata": {
    "ExecuteTime": {
     "end_time": "2022-10-31T04:32:02.770534Z",
     "start_time": "2022-10-31T04:32:02.755683Z"
    }
   },
   "outputs": [
    {
     "data": {
      "text/plain": [
       "(3, 4, 2)"
      ]
     },
     "execution_count": 33,
     "metadata": {},
     "output_type": "execute_result"
    }
   ],
   "source": [
    "(np.dstack([c1,c2])).shape"
   ]
  },
  {
   "cell_type": "code",
   "execution_count": 34,
   "id": "e0163d32",
   "metadata": {
    "ExecuteTime": {
     "end_time": "2022-10-31T04:33:07.810821Z",
     "start_time": "2022-10-31T04:33:07.796860Z"
    }
   },
   "outputs": [
    {
     "data": {
      "text/plain": [
       "array([[[1., 1., 1., 1.],\n",
       "        [1., 1., 1., 1.],\n",
       "        [1., 1., 1., 1.]],\n",
       "\n",
       "       [[0., 0., 0., 0.],\n",
       "        [0., 0., 0., 0.],\n",
       "        [0., 0., 0., 0.]]])"
      ]
     },
     "execution_count": 34,
     "metadata": {},
     "output_type": "execute_result"
    }
   ],
   "source": [
    "c = np.stack([c1,c2])\n",
    "c"
   ]
  },
  {
   "cell_type": "code",
   "execution_count": 35,
   "id": "7405945f",
   "metadata": {
    "ExecuteTime": {
     "end_time": "2022-10-31T04:33:10.780423Z",
     "start_time": "2022-10-31T04:33:10.771420Z"
    }
   },
   "outputs": [
    {
     "data": {
      "text/plain": [
       "(2, 3, 4)"
      ]
     },
     "execution_count": 35,
     "metadata": {},
     "output_type": "execute_result"
    }
   ],
   "source": [
    "c.shape"
   ]
  },
  {
   "cell_type": "code",
   "execution_count": 36,
   "id": "d1261204",
   "metadata": {
    "ExecuteTime": {
     "end_time": "2022-10-31T04:33:33.696699Z",
     "start_time": "2022-10-31T04:33:33.683734Z"
    }
   },
   "outputs": [
    {
     "data": {
      "text/plain": [
       "array([[[1., 1., 1., 1.],\n",
       "        [0., 0., 0., 0.]],\n",
       "\n",
       "       [[1., 1., 1., 1.],\n",
       "        [0., 0., 0., 0.]],\n",
       "\n",
       "       [[1., 1., 1., 1.],\n",
       "        [0., 0., 0., 0.]]])"
      ]
     },
     "execution_count": 36,
     "metadata": {},
     "output_type": "execute_result"
    }
   ],
   "source": [
    "c = np.stack([c1,c2],axis = 1)\n",
    "c"
   ]
  },
  {
   "cell_type": "code",
   "execution_count": 37,
   "id": "f06d684e",
   "metadata": {
    "ExecuteTime": {
     "end_time": "2022-10-31T04:33:40.033524Z",
     "start_time": "2022-10-31T04:33:40.019532Z"
    }
   },
   "outputs": [
    {
     "data": {
      "text/plain": [
       "(3, 2, 4)"
      ]
     },
     "execution_count": 37,
     "metadata": {},
     "output_type": "execute_result"
    }
   ],
   "source": [
    "c.shape"
   ]
  },
  {
   "cell_type": "code",
   "execution_count": 38,
   "id": "893b79a9",
   "metadata": {
    "ExecuteTime": {
     "end_time": "2022-10-31T04:34:41.317086Z",
     "start_time": "2022-10-31T04:34:41.300323Z"
    }
   },
   "outputs": [
    {
     "data": {
      "text/plain": [
       "array([1, 2, 3, 4, 5, 6])"
      ]
     },
     "execution_count": 38,
     "metadata": {},
     "output_type": "execute_result"
    }
   ],
   "source": [
    "np.r_[np.array([1,2,3]),np.array([4,5,6])]"
   ]
  },
  {
   "cell_type": "code",
   "execution_count": 39,
   "id": "5a125e51",
   "metadata": {
    "ExecuteTime": {
     "end_time": "2022-10-31T04:35:05.615135Z",
     "start_time": "2022-10-31T04:35:05.605163Z"
    }
   },
   "outputs": [
    {
     "data": {
      "text/plain": [
       "array([[1, 4],\n",
       "       [2, 5],\n",
       "       [3, 6]])"
      ]
     },
     "execution_count": 39,
     "metadata": {},
     "output_type": "execute_result"
    }
   ],
   "source": [
    "np.c_[np.array([1,2,3]),np.array([4,5,6])]"
   ]
  },
  {
   "cell_type": "code",
   "execution_count": 40,
   "id": "ccf52ef4",
   "metadata": {
    "ExecuteTime": {
     "end_time": "2022-10-31T04:35:31.062917Z",
     "start_time": "2022-10-31T04:35:31.043969Z"
    }
   },
   "outputs": [
    {
     "data": {
      "text/plain": [
       "array([[0, 1, 2, 0, 1, 2],\n",
       "       [3, 4, 5, 3, 4, 5]])"
      ]
     },
     "execution_count": 40,
     "metadata": {},
     "output_type": "execute_result"
    }
   ],
   "source": [
    "a = np.array([[0,1,2],[3,4,5]])\n",
    "np.tile(a,2)"
   ]
  },
  {
   "cell_type": "code",
   "execution_count": 41,
   "id": "018c7024",
   "metadata": {
    "ExecuteTime": {
     "end_time": "2022-10-31T04:35:41.543274Z",
     "start_time": "2022-10-31T04:35:41.524354Z"
    },
    "scrolled": true
   },
   "outputs": [
    {
     "data": {
      "text/plain": [
       "array([[0, 1, 2, 0, 1, 2],\n",
       "       [3, 4, 5, 3, 4, 5],\n",
       "       [0, 1, 2, 0, 1, 2],\n",
       "       [3, 4, 5, 3, 4, 5],\n",
       "       [0, 1, 2, 0, 1, 2],\n",
       "       [3, 4, 5, 3, 4, 5]])"
      ]
     },
     "execution_count": 41,
     "metadata": {},
     "output_type": "execute_result"
    }
   ],
   "source": [
    "np.tile(a, (3, 2))"
   ]
  },
  {
   "cell_type": "markdown",
   "id": "e07bc602",
   "metadata": {},
   "source": [
    "<p class=\"admonition-title\">연습 문제 3.2.1</p>\n",
    "<p>지금까지 공부한 명령어를 사용하여 다음과 같은 배열을 만들어라.</p>\n",
    "<div class=\"highlight-default notranslate\"><div class=\"highlight\"><pre><span></span><span class=\"n\">array</span><span class=\"p\">([[</span>   <span class=\"mf\">0.</span><span class=\"p\">,</span>    <span class=\"mf\">0.</span><span class=\"p\">,</span>    <span class=\"mf\">0.</span><span class=\"p\">,</span>    <span class=\"mf\">1.</span><span class=\"p\">,</span>    <span class=\"mf\">1.</span><span class=\"p\">],</span>\n",
    "       <span class=\"p\">[</span>   <span class=\"mf\">0.</span><span class=\"p\">,</span>    <span class=\"mf\">0.</span><span class=\"p\">,</span>    <span class=\"mf\">0.</span><span class=\"p\">,</span>    <span class=\"mf\">1.</span><span class=\"p\">,</span>    <span class=\"mf\">1.</span><span class=\"p\">],</span>\n",
    "       <span class=\"p\">[</span>   <span class=\"mf\">0.</span><span class=\"p\">,</span>    <span class=\"mf\">0.</span><span class=\"p\">,</span>    <span class=\"mf\">0.</span><span class=\"p\">,</span>    <span class=\"mf\">1.</span><span class=\"p\">,</span>    <span class=\"mf\">1.</span><span class=\"p\">],</span>\n",
    "       <span class=\"p\">[</span>  <span class=\"mf\">10.</span><span class=\"p\">,</span>   <span class=\"mf\">20.</span><span class=\"p\">,</span>   <span class=\"mf\">30.</span><span class=\"p\">,</span>   <span class=\"mf\">40.</span><span class=\"p\">,</span>   <span class=\"mf\">50.</span><span class=\"p\">],</span>\n",
    "       <span class=\"p\">[</span>  <span class=\"mf\">60.</span><span class=\"p\">,</span>   <span class=\"mf\">70.</span><span class=\"p\">,</span>   <span class=\"mf\">80.</span><span class=\"p\">,</span>   <span class=\"mf\">90.</span><span class=\"p\">,</span>  <span class=\"mf\">100.</span><span class=\"p\">],</span>\n",
    "       <span class=\"p\">[</span> <span class=\"mf\">110.</span><span class=\"p\">,</span>  <span class=\"mf\">120.</span><span class=\"p\">,</span>  <span class=\"mf\">130.</span><span class=\"p\">,</span>  <span class=\"mf\">140.</span><span class=\"p\">,</span>  <span class=\"mf\">150.</span><span class=\"p\">],</span>\n",
    "       <span class=\"p\">[</span>   <span class=\"mf\">0.</span><span class=\"p\">,</span>    <span class=\"mf\">0.</span><span class=\"p\">,</span>    <span class=\"mf\">0.</span><span class=\"p\">,</span>    <span class=\"mf\">1.</span><span class=\"p\">,</span>    <span class=\"mf\">1.</span><span class=\"p\">],</span>\n",
    "       <span class=\"p\">[</span>   <span class=\"mf\">0.</span><span class=\"p\">,</span>    <span class=\"mf\">0.</span><span class=\"p\">,</span>    <span class=\"mf\">0.</span><span class=\"p\">,</span>    <span class=\"mf\">1.</span><span class=\"p\">,</span>    <span class=\"mf\">1.</span><span class=\"p\">],</span>\n",
    "       <span class=\"p\">[</span>   <span class=\"mf\">0.</span><span class=\"p\">,</span>    <span class=\"mf\">0.</span><span class=\"p\">,</span>    <span class=\"mf\">0.</span><span class=\"p\">,</span>    <span class=\"mf\">1.</span><span class=\"p\">,</span>    <span class=\"mf\">1.</span><span class=\"p\">],</span>\n",
    "       <span class=\"p\">[</span>  <span class=\"mf\">10.</span><span class=\"p\">,</span>   <span class=\"mf\">20.</span><span class=\"p\">,</span>   <span class=\"mf\">30.</span><span class=\"p\">,</span>   <span class=\"mf\">40.</span><span class=\"p\">,</span>   <span class=\"mf\">50.</span><span class=\"p\">],</span>\n",
    "       <span class=\"p\">[</span>  <span class=\"mf\">60.</span><span class=\"p\">,</span>   <span class=\"mf\">70.</span><span class=\"p\">,</span>   <span class=\"mf\">80.</span><span class=\"p\">,</span>   <span class=\"mf\">90.</span><span class=\"p\">,</span>  <span class=\"mf\">100.</span><span class=\"p\">],</span>\n",
    "       <span class=\"p\">[</span> <span class=\"mf\">110.</span><span class=\"p\">,</span>  <span class=\"mf\">120.</span><span class=\"p\">,</span>  <span class=\"mf\">130.</span><span class=\"p\">,</span>  <span class=\"mf\">140.</span><span class=\"p\">,</span>  <span class=\"mf\">150.</span><span class=\"p\">]])</span>\n",
    "</pre></div>"
   ]
  },
  {
   "cell_type": "code",
   "execution_count": 50,
   "id": "10ffab84",
   "metadata": {
    "ExecuteTime": {
     "end_time": "2022-10-31T04:40:31.678387Z",
     "start_time": "2022-10-31T04:40:31.669378Z"
    }
   },
   "outputs": [
    {
     "data": {
      "text/plain": [
       "array([[  0.,   0.,   0.,   1.,   1.],\n",
       "       [  0.,   0.,   0.,   1.,   1.],\n",
       "       [  0.,   0.,   0.,   1.,   1.],\n",
       "       [ 10.,  20.,  30.,  40.,  50.],\n",
       "       [ 60.,  70.,  80.,  90., 100.],\n",
       "       [110., 120., 130., 140., 150.],\n",
       "       [  0.,   0.,   0.,   1.,   1.],\n",
       "       [  0.,   0.,   0.,   1.,   1.],\n",
       "       [  0.,   0.,   0.,   1.,   1.],\n",
       "       [ 10.,  20.,  30.,  40.,  50.],\n",
       "       [ 60.,  70.,  80.,  90., 100.],\n",
       "       [110., 120., 130., 140., 150.]])"
      ]
     },
     "execution_count": 50,
     "metadata": {},
     "output_type": "execute_result"
    }
   ],
   "source": [
    "zeros = np.zeros([3, 3])\n",
    "ones = np.ones([3, 2])\n",
    "numbers = np.reshape(np.arange(10, 160, 10), (3, -1))\n",
    "res = np.tile(np.vstack([np.hstack([zeros, ones]), numbers]), (2, 1))\n",
    "res"
   ]
  },
  {
   "cell_type": "markdown",
   "id": "07342c40",
   "metadata": {},
   "source": [
    "## 2차원 그리드 포인트 생성"
   ]
  },
  {
   "cell_type": "code",
   "execution_count": 43,
   "id": "3b406d1e",
   "metadata": {
    "ExecuteTime": {
     "end_time": "2022-10-31T04:38:02.133670Z",
     "start_time": "2022-10-31T04:38:02.102656Z"
    }
   },
   "outputs": [
    {
     "data": {
      "text/plain": [
       "array([0, 1, 2])"
      ]
     },
     "execution_count": 43,
     "metadata": {},
     "output_type": "execute_result"
    }
   ],
   "source": [
    "x = np.arange(3)\n",
    "x"
   ]
  },
  {
   "cell_type": "code",
   "execution_count": 44,
   "id": "3a9e15fb",
   "metadata": {
    "ExecuteTime": {
     "end_time": "2022-10-31T04:38:15.839127Z",
     "start_time": "2022-10-31T04:38:15.829154Z"
    }
   },
   "outputs": [
    {
     "data": {
      "text/plain": [
       "array([0, 1, 2, 3, 4])"
      ]
     },
     "execution_count": 44,
     "metadata": {},
     "output_type": "execute_result"
    }
   ],
   "source": [
    "y = np.arange(5)\n",
    "y"
   ]
  },
  {
   "cell_type": "code",
   "execution_count": 45,
   "id": "3c2336e2",
   "metadata": {
    "ExecuteTime": {
     "end_time": "2022-10-31T04:38:31.113526Z",
     "start_time": "2022-10-31T04:38:31.092611Z"
    }
   },
   "outputs": [],
   "source": [
    "X, Y = np.meshgrid(x,y)"
   ]
  },
  {
   "cell_type": "code",
   "execution_count": 46,
   "id": "dfc27b3e",
   "metadata": {
    "ExecuteTime": {
     "end_time": "2022-10-31T04:38:36.897305Z",
     "start_time": "2022-10-31T04:38:36.884914Z"
    }
   },
   "outputs": [
    {
     "data": {
      "text/plain": [
       "array([[0, 1, 2],\n",
       "       [0, 1, 2],\n",
       "       [0, 1, 2],\n",
       "       [0, 1, 2],\n",
       "       [0, 1, 2]])"
      ]
     },
     "execution_count": 46,
     "metadata": {},
     "output_type": "execute_result"
    }
   ],
   "source": [
    "X"
   ]
  },
  {
   "cell_type": "code",
   "execution_count": 47,
   "id": "05407653",
   "metadata": {
    "ExecuteTime": {
     "end_time": "2022-10-31T04:38:40.255174Z",
     "start_time": "2022-10-31T04:38:40.244207Z"
    }
   },
   "outputs": [
    {
     "data": {
      "text/plain": [
       "array([[0, 0, 0],\n",
       "       [1, 1, 1],\n",
       "       [2, 2, 2],\n",
       "       [3, 3, 3],\n",
       "       [4, 4, 4]])"
      ]
     },
     "execution_count": 47,
     "metadata": {},
     "output_type": "execute_result"
    }
   ],
   "source": [
    "Y"
   ]
  },
  {
   "cell_type": "code",
   "execution_count": 48,
   "id": "18d3a6c7",
   "metadata": {
    "ExecuteTime": {
     "end_time": "2022-10-31T04:38:52.529411Z",
     "start_time": "2022-10-31T04:38:52.516447Z"
    }
   },
   "outputs": [
    {
     "data": {
      "text/plain": [
       "[[(0, 0), (1, 0), (2, 0)],\n",
       " [(0, 1), (1, 1), (2, 1)],\n",
       " [(0, 2), (1, 2), (2, 2)],\n",
       " [(0, 3), (1, 3), (2, 3)],\n",
       " [(0, 4), (1, 4), (2, 4)]]"
      ]
     },
     "execution_count": 48,
     "metadata": {},
     "output_type": "execute_result"
    }
   ],
   "source": [
    "[list(zip(x, y)) for x, y in zip(X, Y)]"
   ]
  },
  {
   "cell_type": "markdown",
   "id": "a8e64edf",
   "metadata": {},
   "source": [
    "# 배열의 연산"
   ]
  },
  {
   "cell_type": "markdown",
   "id": "51f649d5",
   "metadata": {},
   "source": [
    "## 벡터화 연산"
   ]
  },
  {
   "cell_type": "code",
   "execution_count": 51,
   "id": "26b3797e",
   "metadata": {
    "ExecuteTime": {
     "end_time": "2022-10-31T04:52:46.129907Z",
     "start_time": "2022-10-31T04:52:46.117943Z"
    }
   },
   "outputs": [],
   "source": [
    "x = np.arange(1,10001)\n",
    "y = np.arange(10001,20001)"
   ]
  },
  {
   "cell_type": "code",
   "execution_count": 52,
   "id": "f9d7a0a6",
   "metadata": {
    "ExecuteTime": {
     "end_time": "2022-10-31T04:53:27.029877Z",
     "start_time": "2022-10-31T04:53:27.012956Z"
    }
   },
   "outputs": [
    {
     "name": "stdout",
     "output_type": "stream",
     "text": [
      "Wall time: 6.98 ms\n"
     ]
    }
   ],
   "source": [
    "%%time\n",
    "z = np.zeros_like(x)\n",
    "for i in range(10000):\n",
    "    z[i] = x[i] + y[i]"
   ]
  },
  {
   "cell_type": "code",
   "execution_count": 53,
   "id": "30e27b84",
   "metadata": {
    "ExecuteTime": {
     "end_time": "2022-10-31T04:53:41.881526Z",
     "start_time": "2022-10-31T04:53:41.876545Z"
    }
   },
   "outputs": [
    {
     "data": {
      "text/plain": [
       "array([10002, 10004, 10006, 10008, 10010, 10012, 10014, 10016, 10018,\n",
       "       10020])"
      ]
     },
     "execution_count": 53,
     "metadata": {},
     "output_type": "execute_result"
    }
   ],
   "source": [
    "z[:10]"
   ]
  },
  {
   "cell_type": "code",
   "execution_count": 54,
   "id": "92b706f9",
   "metadata": {
    "ExecuteTime": {
     "end_time": "2022-10-31T04:53:47.022930Z",
     "start_time": "2022-10-31T04:53:47.012988Z"
    }
   },
   "outputs": [
    {
     "data": {
      "text/plain": [
       "array([10002, 10004, 10006, ..., 29996, 29998, 30000])"
      ]
     },
     "execution_count": 54,
     "metadata": {},
     "output_type": "execute_result"
    }
   ],
   "source": [
    "z"
   ]
  },
  {
   "cell_type": "code",
   "execution_count": 55,
   "id": "13bfcc26",
   "metadata": {
    "ExecuteTime": {
     "end_time": "2022-10-31T04:54:22.332566Z",
     "start_time": "2022-10-31T04:54:22.324593Z"
    }
   },
   "outputs": [
    {
     "name": "stdout",
     "output_type": "stream",
     "text": [
      "Wall time: 0 ns\n"
     ]
    }
   ],
   "source": [
    "%%time\n",
    "z = x + y"
   ]
  },
  {
   "cell_type": "code",
   "execution_count": 56,
   "id": "3dde0653",
   "metadata": {
    "ExecuteTime": {
     "end_time": "2022-10-31T04:54:29.975468Z",
     "start_time": "2022-10-31T04:54:29.956518Z"
    }
   },
   "outputs": [
    {
     "data": {
      "text/plain": [
       "array([10002, 10004, 10006, 10008, 10010, 10012, 10014, 10016, 10018,\n",
       "       10020])"
      ]
     },
     "execution_count": 56,
     "metadata": {},
     "output_type": "execute_result"
    }
   ],
   "source": [
    "z[:10]"
   ]
  },
  {
   "cell_type": "code",
   "execution_count": 57,
   "id": "d34511f9",
   "metadata": {
    "ExecuteTime": {
     "end_time": "2022-10-31T04:54:57.216296Z",
     "start_time": "2022-10-31T04:54:57.205298Z"
    }
   },
   "outputs": [],
   "source": [
    "a = np.array([1,2,3,4])\n",
    "b = np.array([4,2,2,4])\n"
   ]
  },
  {
   "cell_type": "code",
   "execution_count": 58,
   "id": "2a30759a",
   "metadata": {
    "ExecuteTime": {
     "end_time": "2022-10-31T04:54:59.239532Z",
     "start_time": "2022-10-31T04:54:59.221597Z"
    }
   },
   "outputs": [
    {
     "data": {
      "text/plain": [
       "array([False,  True, False,  True])"
      ]
     },
     "execution_count": 58,
     "metadata": {},
     "output_type": "execute_result"
    }
   ],
   "source": [
    "a == b"
   ]
  },
  {
   "cell_type": "code",
   "execution_count": 59,
   "id": "1b5ae39f",
   "metadata": {
    "ExecuteTime": {
     "end_time": "2022-10-31T04:55:06.818592Z",
     "start_time": "2022-10-31T04:55:06.804628Z"
    }
   },
   "outputs": [
    {
     "data": {
      "text/plain": [
       "array([False,  True,  True,  True])"
      ]
     },
     "execution_count": 59,
     "metadata": {},
     "output_type": "execute_result"
    }
   ],
   "source": [
    "a >= b"
   ]
  },
  {
   "cell_type": "code",
   "execution_count": 60,
   "id": "c3d3c0ba",
   "metadata": {
    "ExecuteTime": {
     "end_time": "2022-10-31T04:55:52.922576Z",
     "start_time": "2022-10-31T04:55:52.917592Z"
    }
   },
   "outputs": [],
   "source": [
    "a = np.array([1,2,3,4])\n",
    "b = np.array([4,2,2,4])\n",
    "c = np.array([1,2,3,4])"
   ]
  },
  {
   "cell_type": "code",
   "execution_count": 61,
   "id": "b0ad316b",
   "metadata": {
    "ExecuteTime": {
     "end_time": "2022-10-31T04:56:01.623957Z",
     "start_time": "2022-10-31T04:56:01.605008Z"
    }
   },
   "outputs": [
    {
     "data": {
      "text/plain": [
       "False"
      ]
     },
     "execution_count": 61,
     "metadata": {},
     "output_type": "execute_result"
    }
   ],
   "source": [
    "np.all(a==b)"
   ]
  },
  {
   "cell_type": "code",
   "execution_count": 62,
   "id": "29f1019f",
   "metadata": {
    "ExecuteTime": {
     "end_time": "2022-10-31T04:56:07.600335Z",
     "start_time": "2022-10-31T04:56:07.588338Z"
    }
   },
   "outputs": [
    {
     "data": {
      "text/plain": [
       "True"
      ]
     },
     "execution_count": 62,
     "metadata": {},
     "output_type": "execute_result"
    }
   ],
   "source": [
    "np.all(a==c)"
   ]
  },
  {
   "cell_type": "code",
   "execution_count": 64,
   "id": "ab479518",
   "metadata": {
    "ExecuteTime": {
     "end_time": "2022-10-31T04:56:22.738691Z",
     "start_time": "2022-10-31T04:56:22.725727Z"
    }
   },
   "outputs": [
    {
     "data": {
      "text/plain": [
       "array([0, 1, 2, 3, 4])"
      ]
     },
     "execution_count": 64,
     "metadata": {},
     "output_type": "execute_result"
    }
   ],
   "source": [
    "a = np.arange(5)\n",
    "a"
   ]
  },
  {
   "cell_type": "code",
   "execution_count": 65,
   "id": "7eee04ce",
   "metadata": {
    "ExecuteTime": {
     "end_time": "2022-10-31T04:56:51.673352Z",
     "start_time": "2022-10-31T04:56:51.657933Z"
    }
   },
   "outputs": [
    {
     "data": {
      "text/plain": [
       "array([ 1.        ,  2.71828183,  7.3890561 , 20.08553692, 54.59815003])"
      ]
     },
     "execution_count": 65,
     "metadata": {},
     "output_type": "execute_result"
    }
   ],
   "source": [
    "np.exp(a)"
   ]
  },
  {
   "cell_type": "code",
   "execution_count": 66,
   "id": "eb03b5d0",
   "metadata": {
    "ExecuteTime": {
     "end_time": "2022-10-31T04:57:01.173988Z",
     "start_time": "2022-10-31T04:57:01.156008Z"
    }
   },
   "outputs": [
    {
     "data": {
      "text/plain": [
       "array([    1,    10,   100,  1000, 10000], dtype=int32)"
      ]
     },
     "execution_count": 66,
     "metadata": {},
     "output_type": "execute_result"
    }
   ],
   "source": [
    "10 ** a"
   ]
  },
  {
   "cell_type": "code",
   "execution_count": 67,
   "id": "573cd853",
   "metadata": {
    "ExecuteTime": {
     "end_time": "2022-10-31T04:57:13.500198Z",
     "start_time": "2022-10-31T04:57:13.493186Z"
    }
   },
   "outputs": [
    {
     "data": {
      "text/plain": [
       "array([0.        , 0.69314718, 1.09861229, 1.38629436, 1.60943791])"
      ]
     },
     "execution_count": 67,
     "metadata": {},
     "output_type": "execute_result"
    }
   ],
   "source": [
    "np.log(a + 1)"
   ]
  },
  {
   "cell_type": "markdown",
   "id": "6a56d908",
   "metadata": {},
   "source": [
    "## 스칼라와 벡터/행렬의 곱셈"
   ]
  },
  {
   "cell_type": "code",
   "execution_count": 68,
   "id": "4f4e0975",
   "metadata": {
    "ExecuteTime": {
     "end_time": "2022-10-31T04:59:13.828809Z",
     "start_time": "2022-10-31T04:59:13.813854Z"
    }
   },
   "outputs": [
    {
     "data": {
      "text/plain": [
       "array([0, 1, 2, 3, 4, 5, 6, 7, 8, 9])"
      ]
     },
     "execution_count": 68,
     "metadata": {},
     "output_type": "execute_result"
    }
   ],
   "source": [
    "x = np.arange(10)\n",
    "x"
   ]
  },
  {
   "cell_type": "code",
   "execution_count": 69,
   "id": "25f366a2",
   "metadata": {
    "ExecuteTime": {
     "end_time": "2022-10-31T04:59:17.634652Z",
     "start_time": "2022-10-31T04:59:17.621692Z"
    }
   },
   "outputs": [
    {
     "data": {
      "text/plain": [
       "array([  0, 100, 200, 300, 400, 500, 600, 700, 800, 900])"
      ]
     },
     "execution_count": 69,
     "metadata": {},
     "output_type": "execute_result"
    }
   ],
   "source": [
    "100 * x"
   ]
  },
  {
   "cell_type": "code",
   "execution_count": 70,
   "id": "85b953ae",
   "metadata": {
    "ExecuteTime": {
     "end_time": "2022-10-31T04:59:32.024065Z",
     "start_time": "2022-10-31T04:59:32.005122Z"
    }
   },
   "outputs": [
    {
     "data": {
      "text/plain": [
       "array([[ 0,  1,  2,  3],\n",
       "       [ 4,  5,  6,  7],\n",
       "       [ 8,  9, 10, 11]])"
      ]
     },
     "execution_count": 70,
     "metadata": {},
     "output_type": "execute_result"
    }
   ],
   "source": [
    "x = np.arange(12).reshape(3,4)\n",
    "x"
   ]
  },
  {
   "cell_type": "code",
   "execution_count": 71,
   "id": "d256b99e",
   "metadata": {
    "ExecuteTime": {
     "end_time": "2022-10-31T04:59:34.841643Z",
     "start_time": "2022-10-31T04:59:34.836668Z"
    }
   },
   "outputs": [
    {
     "data": {
      "text/plain": [
       "array([[   0,  100,  200,  300],\n",
       "       [ 400,  500,  600,  700],\n",
       "       [ 800,  900, 1000, 1100]])"
      ]
     },
     "execution_count": 71,
     "metadata": {},
     "output_type": "execute_result"
    }
   ],
   "source": [
    "100 * x"
   ]
  },
  {
   "cell_type": "markdown",
   "id": "4bca1c26",
   "metadata": {},
   "source": [
    "## 브로드캐스팅"
   ]
  },
  {
   "cell_type": "code",
   "execution_count": 72,
   "id": "962647c5",
   "metadata": {
    "ExecuteTime": {
     "end_time": "2022-10-31T05:00:03.364596Z",
     "start_time": "2022-10-31T05:00:03.348947Z"
    }
   },
   "outputs": [
    {
     "data": {
      "text/plain": [
       "array([0, 1, 2, 3, 4])"
      ]
     },
     "execution_count": 72,
     "metadata": {},
     "output_type": "execute_result"
    }
   ],
   "source": [
    "x = np.arange(5)\n",
    "x"
   ]
  },
  {
   "cell_type": "code",
   "execution_count": 77,
   "id": "b6f0b756",
   "metadata": {
    "ExecuteTime": {
     "end_time": "2022-10-31T05:01:10.181428Z",
     "start_time": "2022-10-31T05:01:10.165806Z"
    }
   },
   "outputs": [
    {
     "data": {
      "text/plain": [
       "array([1, 1, 1, 1, 1])"
      ]
     },
     "execution_count": 77,
     "metadata": {},
     "output_type": "execute_result"
    }
   ],
   "source": [
    "y = np.ones_like(x)\n",
    "y"
   ]
  },
  {
   "cell_type": "code",
   "execution_count": 78,
   "id": "61493c87",
   "metadata": {
    "ExecuteTime": {
     "end_time": "2022-10-31T05:01:10.417246Z",
     "start_time": "2022-10-31T05:01:10.405278Z"
    }
   },
   "outputs": [
    {
     "data": {
      "text/plain": [
       "array([1, 2, 3, 4, 5])"
      ]
     },
     "execution_count": 78,
     "metadata": {},
     "output_type": "execute_result"
    }
   ],
   "source": [
    "x + y"
   ]
  },
  {
   "cell_type": "code",
   "execution_count": 79,
   "id": "8b639ad5",
   "metadata": {
    "ExecuteTime": {
     "end_time": "2022-10-31T05:01:10.620218Z",
     "start_time": "2022-10-31T05:01:10.613209Z"
    }
   },
   "outputs": [
    {
     "data": {
      "text/plain": [
       "array([1, 2, 3, 4, 5])"
      ]
     },
     "execution_count": 79,
     "metadata": {},
     "output_type": "execute_result"
    }
   ],
   "source": [
    "x + 1"
   ]
  },
  {
   "cell_type": "code",
   "execution_count": 80,
   "id": "5ce59f06",
   "metadata": {
    "ExecuteTime": {
     "end_time": "2022-10-31T05:01:45.073170Z",
     "start_time": "2022-10-31T05:01:45.062202Z"
    }
   },
   "outputs": [
    {
     "data": {
      "text/plain": [
       "array([[0, 1, 2],\n",
       "       [1, 2, 3],\n",
       "       [2, 3, 4],\n",
       "       [3, 4, 5],\n",
       "       [4, 5, 6]])"
      ]
     },
     "execution_count": 80,
     "metadata": {},
     "output_type": "execute_result"
    }
   ],
   "source": [
    "x = np.vstack([range(7)[i:i + 3] for i in range(5)])\n",
    "x"
   ]
  },
  {
   "cell_type": "code",
   "execution_count": 81,
   "id": "cd78462b",
   "metadata": {
    "ExecuteTime": {
     "end_time": "2022-10-31T05:02:14.459177Z",
     "start_time": "2022-10-31T05:02:14.453193Z"
    }
   },
   "outputs": [
    {
     "data": {
      "text/plain": [
       "array([[0],\n",
       "       [1],\n",
       "       [2],\n",
       "       [3],\n",
       "       [4]])"
      ]
     },
     "execution_count": 81,
     "metadata": {},
     "output_type": "execute_result"
    }
   ],
   "source": [
    "y = np.arange(5)[:, np.newaxis]\n",
    "y"
   ]
  },
  {
   "cell_type": "code",
   "execution_count": 82,
   "id": "107571c5",
   "metadata": {
    "ExecuteTime": {
     "end_time": "2022-10-31T05:02:36.549200Z",
     "start_time": "2022-10-31T05:02:36.533245Z"
    }
   },
   "outputs": [
    {
     "data": {
      "text/plain": [
       "array([[ 0,  1,  2],\n",
       "       [ 2,  3,  4],\n",
       "       [ 4,  5,  6],\n",
       "       [ 6,  7,  8],\n",
       "       [ 8,  9, 10]])"
      ]
     },
     "execution_count": 82,
     "metadata": {},
     "output_type": "execute_result"
    }
   ],
   "source": [
    "x + y"
   ]
  },
  {
   "cell_type": "code",
   "execution_count": 83,
   "id": "b2835976",
   "metadata": {
    "ExecuteTime": {
     "end_time": "2022-10-31T05:02:46.959784Z",
     "start_time": "2022-10-31T05:02:46.948815Z"
    }
   },
   "outputs": [
    {
     "data": {
      "text/plain": [
       "array([0, 1, 2])"
      ]
     },
     "execution_count": 83,
     "metadata": {},
     "output_type": "execute_result"
    }
   ],
   "source": [
    "y = np.arange(3)\n",
    "y"
   ]
  },
  {
   "cell_type": "code",
   "execution_count": 84,
   "id": "07366cc4",
   "metadata": {
    "ExecuteTime": {
     "end_time": "2022-10-31T05:02:49.607816Z",
     "start_time": "2022-10-31T05:02:49.588869Z"
    }
   },
   "outputs": [
    {
     "data": {
      "text/plain": [
       "array([[0, 2, 4],\n",
       "       [1, 3, 5],\n",
       "       [2, 4, 6],\n",
       "       [3, 5, 7],\n",
       "       [4, 6, 8]])"
      ]
     },
     "execution_count": 84,
     "metadata": {},
     "output_type": "execute_result"
    }
   ],
   "source": [
    "x + y"
   ]
  },
  {
   "cell_type": "markdown",
   "id": "890b996b",
   "metadata": {},
   "source": [
    "## 차원 축소 연산"
   ]
  },
  {
   "cell_type": "code",
   "execution_count": 85,
   "id": "1bd92dcc",
   "metadata": {
    "ExecuteTime": {
     "end_time": "2022-10-31T05:03:21.048892Z",
     "start_time": "2022-10-31T05:03:21.029943Z"
    }
   },
   "outputs": [
    {
     "data": {
      "text/plain": [
       "array([1, 2, 3, 4])"
      ]
     },
     "execution_count": 85,
     "metadata": {},
     "output_type": "execute_result"
    }
   ],
   "source": [
    "x = np.array([1,2,3,4])\n",
    "x"
   ]
  },
  {
   "cell_type": "code",
   "execution_count": 86,
   "id": "4482bc5a",
   "metadata": {
    "ExecuteTime": {
     "end_time": "2022-10-31T05:03:23.998896Z",
     "start_time": "2022-10-31T05:03:23.988955Z"
    }
   },
   "outputs": [
    {
     "data": {
      "text/plain": [
       "10"
      ]
     },
     "execution_count": 86,
     "metadata": {},
     "output_type": "execute_result"
    }
   ],
   "source": [
    "np.sum(x)"
   ]
  },
  {
   "cell_type": "code",
   "execution_count": 87,
   "id": "9111c1b6",
   "metadata": {
    "ExecuteTime": {
     "end_time": "2022-10-31T05:03:28.731515Z",
     "start_time": "2022-10-31T05:03:28.724534Z"
    }
   },
   "outputs": [
    {
     "data": {
      "text/plain": [
       "10"
      ]
     },
     "execution_count": 87,
     "metadata": {},
     "output_type": "execute_result"
    }
   ],
   "source": [
    "x.sum()"
   ]
  },
  {
   "cell_type": "code",
   "execution_count": 88,
   "id": "1eccbf5f",
   "metadata": {
    "ExecuteTime": {
     "end_time": "2022-10-31T05:03:44.229521Z",
     "start_time": "2022-10-31T05:03:44.212798Z"
    }
   },
   "outputs": [
    {
     "data": {
      "text/plain": [
       "array([1, 3, 2])"
      ]
     },
     "execution_count": 88,
     "metadata": {},
     "output_type": "execute_result"
    }
   ],
   "source": [
    "x = np.array([1,3,2])\n",
    "x"
   ]
  },
  {
   "cell_type": "code",
   "execution_count": 89,
   "id": "7258f65c",
   "metadata": {
    "ExecuteTime": {
     "end_time": "2022-10-31T05:03:49.914853Z",
     "start_time": "2022-10-31T05:03:49.908898Z"
    }
   },
   "outputs": [
    {
     "data": {
      "text/plain": [
       "1"
      ]
     },
     "execution_count": 89,
     "metadata": {},
     "output_type": "execute_result"
    }
   ],
   "source": [
    "x.min()"
   ]
  },
  {
   "cell_type": "code",
   "execution_count": 90,
   "id": "614c6152",
   "metadata": {
    "ExecuteTime": {
     "end_time": "2022-10-31T05:03:59.536987Z",
     "start_time": "2022-10-31T05:03:59.525987Z"
    }
   },
   "outputs": [
    {
     "data": {
      "text/plain": [
       "3"
      ]
     },
     "execution_count": 90,
     "metadata": {},
     "output_type": "execute_result"
    }
   ],
   "source": [
    "x.max()"
   ]
  },
  {
   "cell_type": "code",
   "execution_count": 92,
   "id": "dde2e2a4",
   "metadata": {
    "ExecuteTime": {
     "end_time": "2022-10-31T05:04:16.454578Z",
     "start_time": "2022-10-31T05:04:16.439629Z"
    }
   },
   "outputs": [
    {
     "data": {
      "text/plain": [
       "0"
      ]
     },
     "execution_count": 92,
     "metadata": {},
     "output_type": "execute_result"
    }
   ],
   "source": [
    "x.argmin()\n",
    "#최솟값의 위치"
   ]
  },
  {
   "cell_type": "code",
   "execution_count": 93,
   "id": "7b3feea4",
   "metadata": {
    "ExecuteTime": {
     "end_time": "2022-10-31T05:04:35.749735Z",
     "start_time": "2022-10-31T05:04:35.735740Z"
    }
   },
   "outputs": [
    {
     "data": {
      "text/plain": [
       "1"
      ]
     },
     "execution_count": 93,
     "metadata": {},
     "output_type": "execute_result"
    }
   ],
   "source": [
    "x.argmax()\n",
    "#최댓값의 위치"
   ]
  },
  {
   "cell_type": "code",
   "execution_count": 94,
   "id": "3d32c1d0",
   "metadata": {
    "ExecuteTime": {
     "end_time": "2022-10-31T05:04:52.301181Z",
     "start_time": "2022-10-31T05:04:52.294171Z"
    }
   },
   "outputs": [
    {
     "data": {
      "text/plain": [
       "array([1, 2, 3, 1])"
      ]
     },
     "execution_count": 94,
     "metadata": {},
     "output_type": "execute_result"
    }
   ],
   "source": [
    "x = np.array([1,2,3,1])\n",
    "x"
   ]
  },
  {
   "cell_type": "code",
   "execution_count": 95,
   "id": "a1a7ff96",
   "metadata": {
    "ExecuteTime": {
     "end_time": "2022-10-31T05:04:58.435923Z",
     "start_time": "2022-10-31T05:04:58.421962Z"
    }
   },
   "outputs": [
    {
     "data": {
      "text/plain": [
       "1.75"
      ]
     },
     "execution_count": 95,
     "metadata": {},
     "output_type": "execute_result"
    }
   ],
   "source": [
    "x.mean()"
   ]
  },
  {
   "cell_type": "code",
   "execution_count": 96,
   "id": "c1a89ea7",
   "metadata": {
    "ExecuteTime": {
     "end_time": "2022-10-31T05:05:15.583920Z",
     "start_time": "2022-10-31T05:05:15.572922Z"
    }
   },
   "outputs": [
    {
     "data": {
      "text/plain": [
       "1.5"
      ]
     },
     "execution_count": 96,
     "metadata": {},
     "output_type": "execute_result"
    }
   ],
   "source": [
    "np.median(x)"
   ]
  },
  {
   "cell_type": "markdown",
   "id": "911fa1cb",
   "metadata": {},
   "source": [
    "## 정렬"
   ]
  },
  {
   "cell_type": "code",
   "execution_count": 97,
   "id": "fda9ae74",
   "metadata": {
    "ExecuteTime": {
     "end_time": "2022-10-31T05:05:56.567049Z",
     "start_time": "2022-10-31T05:05:56.549100Z"
    }
   },
   "outputs": [
    {
     "data": {
      "text/plain": [
       "array([[ 4,  3,  5,  7],\n",
       "       [ 1, 12, 11,  9],\n",
       "       [ 2, 15,  1, 14]])"
      ]
     },
     "execution_count": 97,
     "metadata": {},
     "output_type": "execute_result"
    }
   ],
   "source": [
    "a = np.array([[4,  3,  5,  7],\n",
    "              [1, 12, 11,  9],\n",
    "              [2, 15,  1, 14]])\n",
    "a"
   ]
  },
  {
   "cell_type": "code",
   "execution_count": 98,
   "id": "5f651c35",
   "metadata": {
    "ExecuteTime": {
     "end_time": "2022-10-31T05:06:04.536873Z",
     "start_time": "2022-10-31T05:06:04.517924Z"
    }
   },
   "outputs": [
    {
     "data": {
      "text/plain": [
       "array([[ 3,  4,  5,  7],\n",
       "       [ 1,  9, 11, 12],\n",
       "       [ 1,  2, 14, 15]])"
      ]
     },
     "execution_count": 98,
     "metadata": {},
     "output_type": "execute_result"
    }
   ],
   "source": [
    "np.sort(a)"
   ]
  },
  {
   "cell_type": "code",
   "execution_count": 99,
   "id": "339dfc54",
   "metadata": {
    "ExecuteTime": {
     "end_time": "2022-10-31T05:06:28.068942Z",
     "start_time": "2022-10-31T05:06:28.053983Z"
    }
   },
   "outputs": [
    {
     "data": {
      "text/plain": [
       "array([[ 1,  3,  1,  7],\n",
       "       [ 2, 12,  5,  9],\n",
       "       [ 4, 15, 11, 14]])"
      ]
     },
     "execution_count": 99,
     "metadata": {},
     "output_type": "execute_result"
    }
   ],
   "source": [
    "np.sort(a, axis = 0)"
   ]
  },
  {
   "cell_type": "code",
   "execution_count": 100,
   "id": "e416ecd5",
   "metadata": {
    "ExecuteTime": {
     "end_time": "2022-10-31T05:07:09.842332Z",
     "start_time": "2022-10-31T05:07:09.830364Z"
    }
   },
   "outputs": [
    {
     "data": {
      "text/plain": [
       "array([[ 3,  4,  5,  7],\n",
       "       [ 1,  9, 11, 12],\n",
       "       [ 1,  2, 14, 15]])"
      ]
     },
     "execution_count": 100,
     "metadata": {},
     "output_type": "execute_result"
    }
   ],
   "source": [
    "a.sort(axis=1)\n",
    "a"
   ]
  },
  {
   "cell_type": "code",
   "execution_count": 101,
   "id": "d36a6b1d",
   "metadata": {
    "ExecuteTime": {
     "end_time": "2022-10-31T05:07:35.873274Z",
     "start_time": "2022-10-31T05:07:35.862307Z"
    }
   },
   "outputs": [
    {
     "data": {
      "text/plain": [
       "array([2, 3, 1, 0], dtype=int64)"
      ]
     },
     "execution_count": 101,
     "metadata": {},
     "output_type": "execute_result"
    }
   ],
   "source": [
    "a = np.array([42,38,12,25])\n",
    "j = np.argsort(a)\n",
    "j"
   ]
  },
  {
   "cell_type": "code",
   "execution_count": 102,
   "id": "d16506fb",
   "metadata": {
    "ExecuteTime": {
     "end_time": "2022-10-31T05:07:43.606989Z",
     "start_time": "2022-10-31T05:07:43.589038Z"
    }
   },
   "outputs": [
    {
     "data": {
      "text/plain": [
       "array([12, 25, 38, 42])"
      ]
     },
     "execution_count": 102,
     "metadata": {},
     "output_type": "execute_result"
    }
   ],
   "source": [
    "a[j]"
   ]
  },
  {
   "cell_type": "code",
   "execution_count": 103,
   "id": "f54ce9fe",
   "metadata": {
    "ExecuteTime": {
     "end_time": "2022-10-31T05:07:49.208142Z",
     "start_time": "2022-10-31T05:07:49.190160Z"
    }
   },
   "outputs": [
    {
     "data": {
      "text/plain": [
       "array([12, 25, 38, 42])"
      ]
     },
     "execution_count": 103,
     "metadata": {},
     "output_type": "execute_result"
    }
   ],
   "source": [
    "np.sort(a)"
   ]
  },
  {
   "cell_type": "code",
   "execution_count": null,
   "id": "ddb96f48",
   "metadata": {},
   "outputs": [],
   "source": []
  }
 ],
 "metadata": {
  "kernelspec": {
   "display_name": "Python 3",
   "language": "python",
   "name": "python3"
  },
  "language_info": {
   "codemirror_mode": {
    "name": "ipython",
    "version": 3
   },
   "file_extension": ".py",
   "mimetype": "text/x-python",
   "name": "python",
   "nbconvert_exporter": "python",
   "pygments_lexer": "ipython3",
   "version": "3.8.8"
  },
  "nbTranslate": {
   "displayLangs": [
    "*"
   ],
   "hotkey": "alt-t",
   "langInMainMenu": true,
   "sourceLang": "en",
   "targetLang": "fr",
   "useGoogleTranslate": true
  },
  "toc": {
   "base_numbering": 1,
   "nav_menu": {},
   "number_sections": true,
   "sideBar": true,
   "skip_h1_title": false,
   "title_cell": "Table of Contents",
   "title_sidebar": "Contents",
   "toc_cell": false,
   "toc_position": {},
   "toc_section_display": true,
   "toc_window_display": false
  },
  "varInspector": {
   "cols": {
    "lenName": 16,
    "lenType": 16,
    "lenVar": 40
   },
   "kernels_config": {
    "python": {
     "delete_cmd_postfix": "",
     "delete_cmd_prefix": "del ",
     "library": "var_list.py",
     "varRefreshCmd": "print(var_dic_list())"
    },
    "r": {
     "delete_cmd_postfix": ") ",
     "delete_cmd_prefix": "rm(",
     "library": "var_list.r",
     "varRefreshCmd": "cat(var_dic_list()) "
    }
   },
   "types_to_exclude": [
    "module",
    "function",
    "builtin_function_or_method",
    "instance",
    "_Feature"
   ],
   "window_display": false
  }
 },
 "nbformat": 4,
 "nbformat_minor": 5
}
