{
 "cells": [
  {
   "cell_type": "markdown",
   "id": "502c2505",
   "metadata": {},
   "source": [
    "<h1 class=\"page-subject\">\n",
    "    03장 연습문제\n",
    "    \n",
    "        \n",
    "    "
   ]
  },
  {
   "cell_type": "markdown",
   "id": "ff336c42",
   "metadata": {},
   "source": [
    "<h2 id=\"q1\">Q1</h2>\n",
    "<p>다음 코드의 결괏값은 무엇일까?</p>\n",
    "<pre><code class=\"python\">a = &quot;Life is too short, you need python&quot;\n",
    "\n",
    "if &quot;wife&quot; in a: print(&quot;wife&quot;)\n",
    "elif &quot;python&quot; in a and &quot;you&quot; not in a: print(&quot;python&quot;)\n",
    "elif &quot;shirt&quot; not in a: print(&quot;shirt&quot;)\n",
    "elif &quot;need&quot; in a: print(&quot;need&quot;)\n",
    "else: print(&quot;none&quot;)\n",
    "</code></pre>"
   ]
  },
  {
   "cell_type": "code",
   "execution_count": 1,
   "id": "157838d7",
   "metadata": {},
   "outputs": [
    {
     "name": "stdout",
     "output_type": "stream",
     "text": [
      "shirt\n"
     ]
    }
   ],
   "source": [
    "a = \"Life is too short, you need python\"\n",
    "\n",
    "if \"wife\" in a: print(\"wife\")\n",
    "# wife 가 없으므로 거짓\n",
    "elif \"python\" in a and \"you\" not in a: print(\"python\")\n",
    "# python은 있으나 you는 없으므로 거짓\n",
    "elif \"shirt\" not in a: print(\"shirt\")\n",
    "# shirt 가 없기때문에 shirt 출력\n",
    "elif \"need\" in a: print(\"need\")\n",
    "else: print(\"none\")"
   ]
  },
  {
   "cell_type": "markdown",
   "id": "71944187",
   "metadata": {},
   "source": [
    "<h2 id=\"q2\">Q2</h2>\n",
    "<p>while문을 사용해 1부터 1000까지의 자연수 중 3의 배수의 합을 구해 보자.</p>"
   ]
  },
  {
   "cell_type": "code",
   "execution_count": 2,
   "id": "38c3f124",
   "metadata": {},
   "outputs": [
    {
     "name": "stdout",
     "output_type": "stream",
     "text": [
      "166833\n"
     ]
    }
   ],
   "source": [
    "answer = 0\n",
    "i = 1\n",
    "while i<=1000:               ## 자연수 1000까지 반복\n",
    "    if i % 3 == 0:           ## 3으로 나눠서 나머지가 0이면 3의배수\n",
    "        answer = answer + i  ##answer값에 3의배수 계속 더하기\n",
    "    i = i+1                  \n",
    "\n",
    "print(answer)"
   ]
  },
  {
   "cell_type": "markdown",
   "id": "2c309a18",
   "metadata": {},
   "source": [
    "<h2 id=\"q3\">Q3</h2>\n",
    "<p>while문을 사용하여 다음과 같이 별(<code>*</code>)을 표시하는 프로그램을 작성해 보자.</p>\n",
    "<pre><code class=\"no-highlight\">*\n",
    "**\n",
    "***\n",
    "****\n",
    "*****\n",
    "</code></pre>"
   ]
  },
  {
   "cell_type": "code",
   "execution_count": 3,
   "id": "9bd1a034",
   "metadata": {},
   "outputs": [
    {
     "name": "stdout",
     "output_type": "stream",
     "text": [
      "*\n",
      "**\n",
      "***\n",
      "****\n",
      "*****\n"
     ]
    }
   ],
   "source": [
    "i = 0\n",
    "while True:\n",
    "    i = i+1\n",
    "    if i>5: break   ## i가 5보다 크면 while 반복에서 나가기\n",
    "    print(\"*\" * i)"
   ]
  },
  {
   "cell_type": "markdown",
   "id": "2966e4d7",
   "metadata": {},
   "source": [
    "<h2 id=\"q4\">Q4</h2>\n",
    "<p>for문을 사용해 1부터 100까지의 숫자를 출력해 보자.</p>"
   ]
  },
  {
   "cell_type": "code",
   "execution_count": 4,
   "id": "2c5193bc",
   "metadata": {},
   "outputs": [
    {
     "name": "stdout",
     "output_type": "stream",
     "text": [
      "1\n",
      "2\n",
      "3\n",
      "4\n",
      "5\n",
      "6\n",
      "7\n",
      "8\n",
      "9\n",
      "10\n",
      "11\n",
      "12\n",
      "13\n",
      "14\n",
      "15\n",
      "16\n",
      "17\n",
      "18\n",
      "19\n",
      "20\n",
      "21\n",
      "22\n",
      "23\n",
      "24\n",
      "25\n",
      "26\n",
      "27\n",
      "28\n",
      "29\n",
      "30\n",
      "31\n",
      "32\n",
      "33\n",
      "34\n",
      "35\n",
      "36\n",
      "37\n",
      "38\n",
      "39\n",
      "40\n",
      "41\n",
      "42\n",
      "43\n",
      "44\n",
      "45\n",
      "46\n",
      "47\n",
      "48\n",
      "49\n",
      "50\n",
      "51\n",
      "52\n",
      "53\n",
      "54\n",
      "55\n",
      "56\n",
      "57\n",
      "58\n",
      "59\n",
      "60\n",
      "61\n",
      "62\n",
      "63\n",
      "64\n",
      "65\n",
      "66\n",
      "67\n",
      "68\n",
      "69\n",
      "70\n",
      "71\n",
      "72\n",
      "73\n",
      "74\n",
      "75\n",
      "76\n",
      "77\n",
      "78\n",
      "79\n",
      "80\n",
      "81\n",
      "82\n",
      "83\n",
      "84\n",
      "85\n",
      "86\n",
      "87\n",
      "88\n",
      "89\n",
      "90\n",
      "91\n",
      "92\n",
      "93\n",
      "94\n",
      "95\n",
      "96\n",
      "97\n",
      "98\n",
      "99\n",
      "100\n"
     ]
    }
   ],
   "source": [
    "for i in range(1,101):\n",
    "    print(i)"
   ]
  },
  {
   "cell_type": "markdown",
   "id": "3b33b2cc",
   "metadata": {},
   "source": [
    "<h2 id=\"q5\">Q5</h2>\n",
    "<p>A 학급에 총 10명의 학생이 있다. 이 학생들의 중간고사 점수는 다음과 같다.</p>\n",
    "<p>[70, 60, 55, 75, 95, 90, 80, 80, 85, 100]</p>\n",
    "<p>for문을 사용하여 A 학급의 평균 점수를 구해 보자.</p>"
   ]
  },
  {
   "cell_type": "code",
   "execution_count": 5,
   "id": "eed25570",
   "metadata": {},
   "outputs": [
    {
     "name": "stdout",
     "output_type": "stream",
     "text": [
      "78.88888888888889\n"
     ]
    }
   ],
   "source": [
    "A = [70,60,55,75,95,90,80,85,100]\n",
    "total = 0\n",
    "score = 0\n",
    "average = 0\n",
    "\n",
    "for score in A:\n",
    "    total = total + score  ## A 학급 점수 모두 더하기\n",
    "\n",
    "average = total / len(A)   ## 총점에서 학생수로 나눈다\n",
    "print(average)"
   ]
  },
  {
   "cell_type": "markdown",
   "id": "fedf3d52",
   "metadata": {},
   "source": [
    "<h2 id=\"q6\">Q6</h2>\n",
    "<p>리스트 중에서 홀수에만 2를 곱하여 저장하는 다음 코드가 있다.</p>\n",
    "<pre><code class=\"python\">numbers = [1, 2, 3, 4, 5]\n",
    "result = []\n",
    "for n in numbers:\n",
    "    if n % 2 == 1:\n",
    "        result.append(n*2)\n",
    "</code></pre>\n",
    "\n",
    "<p>위 코드를 리스트 내포(list comprehension)를 사용하여 표현해 보자.</p>\n",
    "</div>\n",
    "\n",
    "<div class=\"muted text-right\" style=\"font-size: 13px;margin:10px 0;\">\n",
    "    "
   ]
  },
  {
   "cell_type": "code",
   "execution_count": 6,
   "id": "c9ef520a",
   "metadata": {},
   "outputs": [
    {
     "name": "stdout",
     "output_type": "stream",
     "text": [
      "[2, 6, 10]\n"
     ]
    }
   ],
   "source": [
    "numbers = [1,2,3,4,5]\n",
    "result = [n*2 for n in numbers if n%2==1]\n",
    "print(result)"
   ]
  },
  {
   "cell_type": "markdown",
   "id": "60ede1d5",
   "metadata": {},
   "source": [
    "<h1 class=\"page-subject\">\n",
    "    04장 연습문제\n",
    "    \n",
    "        \n",
    "    "
   ]
  },
  {
   "cell_type": "markdown",
   "id": "22421748",
   "metadata": {},
   "source": [
    "<h2 id=\"q1\">Q1</h2>\n",
    "<p>주어진 자연수가 홀수인지 짝수인지 판별해 주는 함수(is_odd)를 작성해 보자.</p>"
   ]
  },
  {
   "cell_type": "code",
   "execution_count": 7,
   "id": "d6af2dd1",
   "metadata": {},
   "outputs": [],
   "source": [
    "def is_odd(number):\n",
    "    if number % 2 == 1 :\n",
    "        return True\n",
    "    else :\n",
    "        return False\n"
   ]
  },
  {
   "cell_type": "code",
   "execution_count": 8,
   "id": "6943d6b1",
   "metadata": {},
   "outputs": [
    {
     "data": {
      "text/plain": [
       "False"
      ]
     },
     "execution_count": 8,
     "metadata": {},
     "output_type": "execute_result"
    }
   ],
   "source": [
    "is_odd(222222222)"
   ]
  },
  {
   "cell_type": "code",
   "execution_count": 9,
   "id": "4695e82d",
   "metadata": {},
   "outputs": [
    {
     "data": {
      "text/plain": [
       "True"
      ]
     },
     "execution_count": 9,
     "metadata": {},
     "output_type": "execute_result"
    }
   ],
   "source": [
    "is_odd(1111111)"
   ]
  },
  {
   "cell_type": "markdown",
   "id": "3483c412",
   "metadata": {},
   "source": [
    "<h2 id=\"q2\">Q2</h2>\n",
    "<p>입력으로 들어오는 모든 수의 평균 값을 계산해 주는 함수를 작성해 보자. (단 입력으로 들어오는 수의 개수는 정해져 있지 않다.)</p>\n",
    "<blockquote>\n",
    "<p>※ 평균 값을 구할 때 len 함수를 사용해 보자.</p>\n",
    "</blockquote>"
   ]
  },
  {
   "cell_type": "code",
   "execution_count": 10,
   "id": "056bc1bb",
   "metadata": {},
   "outputs": [],
   "source": [
    "def avg_numbers(*args):\n",
    "    result = 0\n",
    "    for i in args:\n",
    "        result += i\n",
    "    return result / len(args)"
   ]
  },
  {
   "cell_type": "code",
   "execution_count": 11,
   "id": "ebffe02a",
   "metadata": {},
   "outputs": [
    {
     "data": {
      "text/plain": [
       "19.333333333333332"
      ]
     },
     "execution_count": 11,
     "metadata": {},
     "output_type": "execute_result"
    }
   ],
   "source": [
    "avg_numbers(1,5,7,8,15,80)"
   ]
  },
  {
   "cell_type": "markdown",
   "id": "5cd8a218",
   "metadata": {},
   "source": [
    "<h2 id=\"q3\">Q3</h2>\n",
    "<p>다음은 두 개의 숫자를 입력받아 더하여 돌려주는 프로그램이다.</p>\n",
    "<pre><code class=\"python\">input1 = input(&quot;첫번째 숫자를 입력하세요:&quot;)\n",
    "input2 = input(&quot;두번째 숫자를 입력하세요:&quot;)\n",
    "\n",
    "total = input1 + input2\n",
    "print(&quot;두 수의 합은 %s 입니다&quot; % total)\n",
    "</code></pre>\n",
    "\n",
    "<p>이 프로그램을 수행해 보자.</p>\n",
    "<pre><code class=\"no-highlight\">첫번째 숫자를 입력하세요:3\n",
    "두번째 숫자를 입력하세요:6\n",
    "두 수의 합은 36 입니다\n",
    "</code></pre>\n",
    "\n",
    "<p>3과 6을 입력했을 때 9가 아닌 36이라는 결괏값을 돌려주었다. 이 프로그램의 오류를 수정해 보자.</p>\n",
    "<blockquote>\n",
    "<p>※ int 함수를 사용해 보자.</p>\n",
    "</blockquote>"
   ]
  },
  {
   "cell_type": "code",
   "execution_count": 13,
   "id": "2cb77a33",
   "metadata": {},
   "outputs": [
    {
     "name": "stdout",
     "output_type": "stream",
     "text": [
      "첫번째 숫자를 입력하세요:5\n",
      "두번째 숫자를 입력하세요:8\n",
      "두수의 합은 13입니다\n"
     ]
    }
   ],
   "source": [
    "input1 = input(\"첫번째 숫자를 입력하세요:\")\n",
    "input2 = input(\"두번째 숫자를 입력하세요:\")\n",
    "\n",
    "total = int(input1)+int(input2)\n",
    "print(\"두수의 합은 %s입니다\" %total)"
   ]
  },
  {
   "cell_type": "markdown",
   "id": "6d83094a",
   "metadata": {},
   "source": [
    "<h2 id=\"q4\">Q4</h2>\n",
    "<p>다음 중 출력 결과가 다른 것 한 개를 골라 보자.</p>\n",
    "<ol>\n",
    "<li><code>print(\"you\" \"need\" \"python\")</code></li>\n",
    "<li><code>print(\"you\"+\"need\"+\"python\")</code></li>\n",
    "<li><code>print(\"you\", \"need\", \"python\")</code></li>\n",
    "<li><code>print(\"\".join([\"you\", \"need\", \"python\"]))</code></li>\n",
    "</ol>"
   ]
  },
  {
   "cell_type": "code",
   "execution_count": 14,
   "id": "8b79329f",
   "metadata": {},
   "outputs": [
    {
     "name": "stdout",
     "output_type": "stream",
     "text": [
      "youneedpython\n"
     ]
    }
   ],
   "source": [
    "print(\"you\" \"need\" \"python\")"
   ]
  },
  {
   "cell_type": "code",
   "execution_count": 15,
   "id": "5053016b",
   "metadata": {},
   "outputs": [
    {
     "name": "stdout",
     "output_type": "stream",
     "text": [
      "youneedpython\n"
     ]
    }
   ],
   "source": [
    "print(\"you\"+\"need\"+\"python\")"
   ]
  },
  {
   "cell_type": "code",
   "execution_count": 18,
   "id": "6e959ae8",
   "metadata": {},
   "outputs": [
    {
     "name": "stdout",
     "output_type": "stream",
     "text": [
      "you need python\n"
     ]
    }
   ],
   "source": [
    "print(\"you\", \"need\", \"python\")"
   ]
  },
  {
   "cell_type": "code",
   "execution_count": 19,
   "id": "6a3d8ea8",
   "metadata": {},
   "outputs": [
    {
     "name": "stdout",
     "output_type": "stream",
     "text": [
      "youneedpython\n"
     ]
    }
   ],
   "source": [
    "print(\"\".join([\"you\", \"need\", \"python\"]))"
   ]
  },
  {
   "cell_type": "markdown",
   "id": "0eb7e656",
   "metadata": {},
   "source": [
    "정답 : 3번"
   ]
  },
  {
   "cell_type": "markdown",
   "id": "e9e89e5b",
   "metadata": {},
   "source": [
    "<h2 id=\"q5\">Q5</h2>\n",
    "<p>다음은 \"test.txt\"라는 파일에 \"Life is too short\" 문자열을 저장한 후 다시 그 파일을 읽어서 출력하는 프로그램이다.</p>\n",
    "<pre><code class=\"python\">f1 = open(&quot;test.txt&quot;, 'w')\n",
    "f1.write(&quot;Life is too short&quot;)\n",
    "\n",
    "f2 = open(&quot;test.txt&quot;, 'r')\n",
    "print(f2.read())\n",
    "</code></pre>\n",
    "\n",
    "<p>이 프로그램은 우리가 예상한 \"Life is too short\"라는 문장을 출력하지 않는다. 우리가 예상한 값을 출력할 수 있도록 프로그램을 수정해 보자.</p>"
   ]
  },
  {
   "cell_type": "code",
   "execution_count": 22,
   "id": "c2128887",
   "metadata": {},
   "outputs": [
    {
     "name": "stdout",
     "output_type": "stream",
     "text": [
      "Life is too short!\n"
     ]
    }
   ],
   "source": [
    "f1 = open(\"test.txt\", 'w')\n",
    "f1.write(\"Life is too short!\")\n",
    "f1.close() \n",
    "\n",
    "f2 = open(\"test.txt\", 'r')\n",
    "print(f2.read())\n",
    "f2.close()"
   ]
  },
  {
   "cell_type": "markdown",
   "id": "45713b1c",
   "metadata": {},
   "source": [
    "<h2 id=\"q6\">Q6</h2>\n",
    "<p>사용자의 입력을 파일(test.txt)에 저장하는 프로그램을 작성해 보자. (단 프로그램을 다시 실행하더라도 기존에 작성한 내용을 유지하고 새로 입력한 내용을 추가해야 한다.)</p>"
   ]
  },
  {
   "cell_type": "code",
   "execution_count": 24,
   "id": "2163d404",
   "metadata": {},
   "outputs": [
    {
     "name": "stdout",
     "output_type": "stream",
     "text": [
      "저장할 내용을 입력하세요:가나다라마바사\n"
     ]
    }
   ],
   "source": [
    "user_input = input(\"저장할 내용을 입력하세요:\")\n",
    "f = open('test.txt', 'a')   \n",
    "f.write(user_input)\n",
    "f.write(\"\\n\")              \n",
    "f.close()"
   ]
  },
  {
   "cell_type": "markdown",
   "id": "db1d0ee3",
   "metadata": {},
   "source": [
    "<h2 id=\"q7\">Q7</h2>\n",
    "<p>다음과 같은 내용을 지닌 파일 test.txt가 있다. 이 파일의 내용 중 \"java\"라는 문자열을 \"python\"으로 바꾸어서 저장해 보자.</p>\n",
    "<pre><code class=\"no-highlight\">Life is too short\n",
    "you need java\n",
    "</code></pre>\n",
    "\n",
    "<blockquote>\n",
    "<p>※ replace 함수를 사용해 보자.</p>\n",
    "</blockquote>\n",
    "</div>\n",
    "\n",
    "<div class=\"muted text-right\" style=\"font-size: 13px;margin:10px 0;\">"
   ]
  },
  {
   "cell_type": "code",
   "execution_count": 25,
   "id": "f92e261f",
   "metadata": {},
   "outputs": [],
   "source": [
    "f = open('test.txt', 'r')\n",
    "body = f.read()\n",
    "f.close()\n",
    "\n",
    "body = body.replace('java', 'python')\n",
    "\n",
    "f = open('test.txt', 'w')\n",
    "f.write(body)\n",
    "f.close()"
   ]
  },
  {
   "cell_type": "code",
   "execution_count": null,
   "id": "39bff680",
   "metadata": {},
   "outputs": [],
   "source": []
  }
 ],
 "metadata": {
  "kernelspec": {
   "display_name": "Python 3 (ipykernel)",
   "language": "python",
   "name": "python3"
  },
  "language_info": {
   "codemirror_mode": {
    "name": "ipython",
    "version": 3
   },
   "file_extension": ".py",
   "mimetype": "text/x-python",
   "name": "python",
   "nbconvert_exporter": "python",
   "pygments_lexer": "ipython3",
   "version": "3.9.12"
  }
 },
 "nbformat": 4,
 "nbformat_minor": 5
}
