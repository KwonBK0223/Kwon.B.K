{
 "cells": [
  {
   "cell_type": "markdown",
   "id": "c37eb375",
   "metadata": {},
   "source": [
    "# 3.1 넘파이배열"
   ]
  },
  {
   "cell_type": "markdown",
   "id": "57f6618d",
   "metadata": {},
   "source": [
    "## 넘파이 패키지 임포트"
   ]
  },
  {
   "cell_type": "code",
   "execution_count": 4,
   "id": "0f1e4fa3",
   "metadata": {
    "ExecuteTime": {
     "end_time": "2022-10-24T04:55:39.464569Z",
     "start_time": "2022-10-24T04:55:39.460584Z"
    }
   },
   "outputs": [],
   "source": [
    "import numpy as np"
   ]
  },
  {
   "cell_type": "markdown",
   "id": "3ad5a17f",
   "metadata": {},
   "source": [
    "## 1차원 배열만들기"
   ]
  },
  {
   "cell_type": "code",
   "execution_count": 5,
   "id": "62d8c689",
   "metadata": {
    "ExecuteTime": {
     "end_time": "2022-10-24T04:58:29.626334Z",
     "start_time": "2022-10-24T04:58:29.604427Z"
    }
   },
   "outputs": [
    {
     "data": {
      "text/plain": [
       "array([0, 1, 2, 3, 4, 5, 6, 7, 8, 9])"
      ]
     },
     "execution_count": 5,
     "metadata": {},
     "output_type": "execute_result"
    }
   ],
   "source": [
    "ar = np.array([0,1,2,3,4,5,6,7,8,9])\n",
    "ar"
   ]
  },
  {
   "cell_type": "code",
   "execution_count": 6,
   "id": "22c6aca5",
   "metadata": {
    "ExecuteTime": {
     "end_time": "2022-10-24T04:58:37.058226Z",
     "start_time": "2022-10-24T04:58:37.043297Z"
    }
   },
   "outputs": [
    {
     "data": {
      "text/plain": [
       "numpy.ndarray"
      ]
     },
     "execution_count": 6,
     "metadata": {},
     "output_type": "execute_result"
    }
   ],
   "source": [
    "type(ar)"
   ]
  },
  {
   "cell_type": "markdown",
   "id": "34081b6c",
   "metadata": {},
   "source": [
    "## 벡터화 연산"
   ]
  },
  {
   "cell_type": "code",
   "execution_count": 7,
   "id": "c5fb6350",
   "metadata": {
    "ExecuteTime": {
     "end_time": "2022-10-24T05:03:09.998788Z",
     "start_time": "2022-10-24T05:03:09.987817Z"
    }
   },
   "outputs": [
    {
     "data": {
      "text/plain": [
       "[0, 2, 4, 6, 8, 10, 12, 14, 16, 18]"
      ]
     },
     "execution_count": 7,
     "metadata": {},
     "output_type": "execute_result"
    }
   ],
   "source": [
    "data = [0, 1, 2, 3, 4, 5, 6, 7, 8, 9]\n",
    "answer = []\n",
    "for di in data:\n",
    "    answer.append(2 * di)\n",
    "answer"
   ]
  },
  {
   "cell_type": "code",
   "execution_count": 8,
   "id": "8ccc85ee",
   "metadata": {
    "ExecuteTime": {
     "end_time": "2022-10-24T05:03:15.866652Z",
     "start_time": "2022-10-24T05:03:15.858677Z"
    }
   },
   "outputs": [
    {
     "data": {
      "text/plain": [
       "array([0, 1, 2, 3, 4, 5, 6, 7, 8, 9])"
      ]
     },
     "execution_count": 8,
     "metadata": {},
     "output_type": "execute_result"
    }
   ],
   "source": [
    "x = np.array(data)\n",
    "x"
   ]
  },
  {
   "cell_type": "code",
   "execution_count": 9,
   "id": "f7d4c38a",
   "metadata": {
    "ExecuteTime": {
     "end_time": "2022-10-24T05:03:21.851161Z",
     "start_time": "2022-10-24T05:03:21.835540Z"
    }
   },
   "outputs": [
    {
     "data": {
      "text/plain": [
       "array([ 0,  2,  4,  6,  8, 10, 12, 14, 16, 18])"
      ]
     },
     "execution_count": 9,
     "metadata": {},
     "output_type": "execute_result"
    }
   ],
   "source": [
    "2 * x"
   ]
  },
  {
   "cell_type": "code",
   "execution_count": 10,
   "id": "bdf84f0b",
   "metadata": {
    "ExecuteTime": {
     "end_time": "2022-10-24T05:03:27.387066Z",
     "start_time": "2022-10-24T05:03:27.379089Z"
    }
   },
   "outputs": [
    {
     "name": "stdout",
     "output_type": "stream",
     "text": [
      "[0, 1, 2, 3, 4, 5, 6, 7, 8, 9, 0, 1, 2, 3, 4, 5, 6, 7, 8, 9]\n"
     ]
    }
   ],
   "source": [
    "L = [0, 1, 2, 3, 4, 5, 6, 7, 8, 9]\n",
    "print(2 * L)"
   ]
  },
  {
   "cell_type": "code",
   "execution_count": 11,
   "id": "d5e142ab",
   "metadata": {
    "ExecuteTime": {
     "end_time": "2022-10-24T05:03:33.990097Z",
     "start_time": "2022-10-24T05:03:33.972145Z"
    }
   },
   "outputs": [],
   "source": [
    "a = np.array([1, 2, 3])\n",
    "b = np.array([10, 20, 30])"
   ]
  },
  {
   "cell_type": "code",
   "execution_count": 12,
   "id": "b51576e2",
   "metadata": {
    "ExecuteTime": {
     "end_time": "2022-10-24T05:03:38.434361Z",
     "start_time": "2022-10-24T05:03:38.418739Z"
    }
   },
   "outputs": [
    {
     "data": {
      "text/plain": [
       "array([12, 24, 36])"
      ]
     },
     "execution_count": 12,
     "metadata": {},
     "output_type": "execute_result"
    }
   ],
   "source": [
    "2 * a + b"
   ]
  },
  {
   "cell_type": "code",
   "execution_count": 13,
   "id": "2466fb2d",
   "metadata": {
    "ExecuteTime": {
     "end_time": "2022-10-24T05:03:46.587700Z",
     "start_time": "2022-10-24T05:03:46.579691Z"
    }
   },
   "outputs": [
    {
     "data": {
      "text/plain": [
       "array([False,  True, False])"
      ]
     },
     "execution_count": 13,
     "metadata": {},
     "output_type": "execute_result"
    }
   ],
   "source": [
    "a == 2"
   ]
  },
  {
   "cell_type": "code",
   "execution_count": 15,
   "id": "9f245728",
   "metadata": {
    "ExecuteTime": {
     "end_time": "2022-10-24T05:03:52.451745Z",
     "start_time": "2022-10-24T05:03:52.435957Z"
    }
   },
   "outputs": [
    {
     "data": {
      "text/plain": [
       "array([False,  True,  True])"
      ]
     },
     "execution_count": 15,
     "metadata": {},
     "output_type": "execute_result"
    }
   ],
   "source": [
    "b > 10"
   ]
  },
  {
   "cell_type": "code",
   "execution_count": 16,
   "id": "ab2008ac",
   "metadata": {
    "ExecuteTime": {
     "end_time": "2022-10-24T05:04:03.774561Z",
     "start_time": "2022-10-24T05:04:03.762622Z"
    }
   },
   "outputs": [
    {
     "data": {
      "text/plain": [
       "array([False,  True, False])"
      ]
     },
     "execution_count": 16,
     "metadata": {},
     "output_type": "execute_result"
    }
   ],
   "source": [
    "(a==2)&(b>10)"
   ]
  },
  {
   "cell_type": "markdown",
   "id": "332d87d9",
   "metadata": {},
   "source": [
    "## 2차원 배열 만들기"
   ]
  },
  {
   "cell_type": "code",
   "execution_count": 22,
   "id": "9feef0a2",
   "metadata": {
    "ExecuteTime": {
     "end_time": "2022-10-24T05:11:30.692203Z",
     "start_time": "2022-10-24T05:11:30.675272Z"
    }
   },
   "outputs": [
    {
     "data": {
      "text/plain": [
       "array([[0, 1, 2],\n",
       "       [3, 4, 5]])"
      ]
     },
     "execution_count": 22,
     "metadata": {},
     "output_type": "execute_result"
    }
   ],
   "source": [
    "c = np.array([[0,1,2],[3,4,5]])\n",
    "c"
   ]
  },
  {
   "cell_type": "code",
   "execution_count": 25,
   "id": "07c39047",
   "metadata": {
    "ExecuteTime": {
     "end_time": "2022-10-24T05:11:56.085146Z",
     "start_time": "2022-10-24T05:11:56.067168Z"
    }
   },
   "outputs": [
    {
     "data": {
      "text/plain": [
       "2"
      ]
     },
     "execution_count": 25,
     "metadata": {},
     "output_type": "execute_result"
    }
   ],
   "source": [
    "len(c)  ##행의 갯수"
   ]
  },
  {
   "cell_type": "code",
   "execution_count": 26,
   "id": "acd90beb",
   "metadata": {
    "ExecuteTime": {
     "end_time": "2022-10-24T05:12:04.207161Z",
     "start_time": "2022-10-24T05:12:04.196191Z"
    }
   },
   "outputs": [
    {
     "data": {
      "text/plain": [
       "3"
      ]
     },
     "execution_count": 26,
     "metadata": {},
     "output_type": "execute_result"
    }
   ],
   "source": [
    "len(c[0])  ##열의 갯수"
   ]
  },
  {
   "cell_type": "code",
   "execution_count": 28,
   "id": "f8fced35",
   "metadata": {
    "ExecuteTime": {
     "end_time": "2022-10-24T05:14:51.558408Z",
     "start_time": "2022-10-24T05:14:51.539945Z"
    }
   },
   "outputs": [
    {
     "data": {
      "text/plain": [
       "(2, 3)"
      ]
     },
     "execution_count": 28,
     "metadata": {},
     "output_type": "execute_result"
    }
   ],
   "source": [
    "c.shape  ##한번에 행렬크기 알려주는 함수"
   ]
  },
  {
   "cell_type": "code",
   "execution_count": 29,
   "id": "9ee2a05a",
   "metadata": {
    "ExecuteTime": {
     "end_time": "2022-10-24T05:16:28.125833Z",
     "start_time": "2022-10-24T05:16:28.114864Z"
    }
   },
   "outputs": [
    {
     "data": {
      "text/plain": [
       "array([[[ 0,  1,  2],\n",
       "        [ 3,  4,  5]],\n",
       "\n",
       "       [[ 0,  2,  4],\n",
       "        [ 6,  8, 10]],\n",
       "\n",
       "       [[ 0,  3,  6],\n",
       "        [ 9, 12, 15]]])"
      ]
     },
     "execution_count": 29,
     "metadata": {},
     "output_type": "execute_result"
    }
   ],
   "source": [
    "d = np.array([c,2*c,3*c])\n",
    "d"
   ]
  },
  {
   "cell_type": "code",
   "execution_count": 30,
   "id": "bbb34c5d",
   "metadata": {
    "ExecuteTime": {
     "end_time": "2022-10-24T05:16:36.840493Z",
     "start_time": "2022-10-24T05:16:36.833516Z"
    }
   },
   "outputs": [
    {
     "data": {
      "text/plain": [
       "3"
      ]
     },
     "execution_count": 30,
     "metadata": {},
     "output_type": "execute_result"
    }
   ],
   "source": [
    "len(d)"
   ]
  },
  {
   "cell_type": "code",
   "execution_count": 32,
   "id": "41d8c524",
   "metadata": {
    "ExecuteTime": {
     "end_time": "2022-10-24T05:16:48.519386Z",
     "start_time": "2022-10-24T05:16:48.514400Z"
    }
   },
   "outputs": [
    {
     "data": {
      "text/plain": [
       "(3, 2, 3)"
      ]
     },
     "execution_count": 32,
     "metadata": {},
     "output_type": "execute_result"
    }
   ],
   "source": [
    "d.shape"
   ]
  },
  {
   "cell_type": "markdown",
   "id": "93cb065f",
   "metadata": {
    "ExecuteTime": {
     "end_time": "2022-10-24T05:17:37.873443Z",
     "start_time": "2022-10-24T05:17:37.857788Z"
    }
   },
   "source": [
    "(3, 2, 3)   2X3 행렬이 3개가 있다"
   ]
  },
  {
   "cell_type": "markdown",
   "id": "a1b86a74",
   "metadata": {},
   "source": [
    "<p class=\"admonition-title\">연습 문제 1</p>\n",
    "<p>넘파이를 사용하여 다음과 같은 행렬을 만든다.</p>\n",
    "<div class=\"highlight-default notranslate\"><div class=\"highlight\"><pre><span></span><span class=\"mi\">10</span> <span class=\"mi\">20</span> <span class=\"mi\">30</span> <span class=\"mi\">40</span>\n",
    "<span class=\"mi\">50</span> <span class=\"mi\">60</span> <span class=\"mi\">70</span> <span class=\"mi\">80</span>\n",
    "</pre></div>\n",
    "</div>\n",
    "</div>\n",
    "</div>\n",
    "<div class=\"section\" id=\"id6\">"
   ]
  },
  {
   "cell_type": "code",
   "execution_count": 37,
   "id": "7d8f19f5",
   "metadata": {
    "ExecuteTime": {
     "end_time": "2022-10-24T05:28:00.440256Z",
     "start_time": "2022-10-24T05:28:00.433307Z"
    }
   },
   "outputs": [
    {
     "data": {
      "text/plain": [
       "array([[10, 20, 30, 40],\n",
       "       [50, 60, 70, 80]])"
      ]
     },
     "execution_count": 37,
     "metadata": {},
     "output_type": "execute_result"
    }
   ],
   "source": [
    "d = np.array([[10,20,30,40],[50,60,70,80]])\n",
    "d"
   ]
  },
  {
   "cell_type": "markdown",
   "id": "ba7659bc",
   "metadata": {},
   "source": [
    "## 3차원 배열 만들기"
   ]
  },
  {
   "cell_type": "code",
   "execution_count": 38,
   "id": "d63a1c77",
   "metadata": {
    "ExecuteTime": {
     "end_time": "2022-10-24T05:28:29.953151Z",
     "start_time": "2022-10-24T05:28:29.937204Z"
    }
   },
   "outputs": [],
   "source": [
    "d = np.array([[[1, 2, 3, 4],\n",
    "               [5, 6, 7, 8],\n",
    "               [9, 10, 11, 12]],\n",
    "              [[11, 12, 13, 14],\n",
    "               [15, 16, 17, 18],\n",
    "               [19, 20, 21, 22]]]) "
   ]
  },
  {
   "cell_type": "markdown",
   "id": "d3455bfc",
   "metadata": {},
   "source": [
    "## 배열의 차원과 크기 알아내기"
   ]
  },
  {
   "cell_type": "code",
   "execution_count": 40,
   "id": "e1380081",
   "metadata": {
    "ExecuteTime": {
     "end_time": "2022-10-24T05:29:10.552133Z",
     "start_time": "2022-10-24T05:29:10.545183Z"
    }
   },
   "outputs": [
    {
     "name": "stdout",
     "output_type": "stream",
     "text": [
      "1\n",
      "(3,)\n"
     ]
    }
   ],
   "source": [
    "a = np.array([1,2,3])\n",
    "print(a.ndim)\n",
    "print(a.shape)"
   ]
  },
  {
   "cell_type": "code",
   "execution_count": 41,
   "id": "1a899526",
   "metadata": {
    "ExecuteTime": {
     "end_time": "2022-10-24T05:29:23.353128Z",
     "start_time": "2022-10-24T05:29:23.344154Z"
    }
   },
   "outputs": [
    {
     "name": "stdout",
     "output_type": "stream",
     "text": [
      "2\n",
      "(2, 3)\n"
     ]
    }
   ],
   "source": [
    "c = np.array([[0, 1, 2], [3, 4, 5]])\n",
    "print(c.ndim)\n",
    "print(c.shape)"
   ]
  },
  {
   "cell_type": "markdown",
   "id": "34e5728c",
   "metadata": {},
   "source": [
    "## 배열의 인덱싱"
   ]
  },
  {
   "cell_type": "markdown",
   "id": "ca0e83ea",
   "metadata": {},
   "source": [
    "다음시간에 합니다"
   ]
  },
  {
   "cell_type": "code",
   "execution_count": null,
   "id": "f83ee401",
   "metadata": {},
   "outputs": [],
   "source": []
  }
 ],
 "metadata": {
  "kernelspec": {
   "display_name": "Python 3",
   "language": "python",
   "name": "python3"
  },
  "language_info": {
   "codemirror_mode": {
    "name": "ipython",
    "version": 3
   },
   "file_extension": ".py",
   "mimetype": "text/x-python",
   "name": "python",
   "nbconvert_exporter": "python",
   "pygments_lexer": "ipython3",
   "version": "3.8.8"
  },
  "nbTranslate": {
   "displayLangs": [
    "*"
   ],
   "hotkey": "alt-t",
   "langInMainMenu": true,
   "sourceLang": "en",
   "targetLang": "fr",
   "useGoogleTranslate": true
  },
  "toc": {
   "base_numbering": 1,
   "nav_menu": {},
   "number_sections": true,
   "sideBar": true,
   "skip_h1_title": false,
   "title_cell": "Table of Contents",
   "title_sidebar": "Contents",
   "toc_cell": false,
   "toc_position": {},
   "toc_section_display": true,
   "toc_window_display": false
  },
  "varInspector": {
   "cols": {
    "lenName": 16,
    "lenType": 16,
    "lenVar": 40
   },
   "kernels_config": {
    "python": {
     "delete_cmd_postfix": "",
     "delete_cmd_prefix": "del ",
     "library": "var_list.py",
     "varRefreshCmd": "print(var_dic_list())"
    },
    "r": {
     "delete_cmd_postfix": ") ",
     "delete_cmd_prefix": "rm(",
     "library": "var_list.r",
     "varRefreshCmd": "cat(var_dic_list()) "
    }
   },
   "types_to_exclude": [
    "module",
    "function",
    "builtin_function_or_method",
    "instance",
    "_Feature"
   ],
   "window_display": false
  }
 },
 "nbformat": 4,
 "nbformat_minor": 5
}
