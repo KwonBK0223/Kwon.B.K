{
 "cells": [
  {
   "cell_type": "code",
   "execution_count": 2,
   "id": "639ebac0",
   "metadata": {},
   "outputs": [],
   "source": [
    "from ProjectEuler import *"
   ]
  },
  {
   "cell_type": "code",
   "execution_count": 3,
   "id": "fc0f8c9a",
   "metadata": {
    "scrolled": false
   },
   "outputs": [
    {
     "data": {
      "text/html": [
       "<h2>10000 이하 모든 친화수(우애수)의 합은?</h2><div class=\"info\" style=\"float:right; font-size:90%;\">\n",
       "<a href=\"https://projecteuler.net/problem=21\" target=\"_blank\">[ProjectEuler.net 원본]</a>\n",
       "</div><h4 title=\"난이도 ☕\">Problem 21</h4><p></p><div class=\"problem_content\">\n",
       "<p> <var>n</var>의 약수들 중에서 자신을 제외한 것의 합을 <span class=\"eqn\"><i>d</i>(<i>n</i>)</span>으로 정의했을 때,<br/>\r\n",
       "서로 다른 두 정수 <var>a</var>, <var>b</var>에 대하여\r\n",
       " <span class=\"eqn\"><i>d</i>(<i>a</i>) = <i>b</i></span> 이고 <span class=\"eqn\"><i>d</i>(<i>b</i>) = <i>a</i></span> 이면 <br/>\n",
       "<var>a</var>, <var>b</var>는 친화쌍이라 하고 <var>a</var>와 <var>b</var>를 각각 친화수(우애수)라고 합니다. </p>\n",
       "<p>예를 들어 220의 약수는 자신을 제외하면 1, 2, 4, 5, 10, 11, 20, 22, 44, 55, 110 이므로 그 합은 <var>d</var>(220) = 284 입니다.<br/>\r\n",
       "또 284의 약수는 자신을 제외하면 1, 2, 4, 71, 142 이므로 <var>d</var>(284) = 220 입니다.<br/>\r\n",
       "따라서 220과 284는 친화쌍이 됩니다. </p>\n",
       "<p>10000 이하의 친화수들을 모두 찾아서 그 합을 구하세요.</p></div>"
      ],
      "text/plain": [
       "<IPython.core.display.HTML object>"
      ]
     },
     "execution_count": 3,
     "metadata": {},
     "output_type": "execute_result"
    }
   ],
   "source": [
    "EulerT(21)"
   ]
  },
  {
   "cell_type": "code",
   "execution_count": 44,
   "id": "1c3773c9",
   "metadata": {
    "scrolled": true
   },
   "outputs": [
    {
     "name": "stdout",
     "output_type": "stream",
     "text": [
      "[220, 284, 1184, 1210, 2620, 2924, 5020, 5564, 6232, 6368]\n",
      "31626\n"
     ]
    }
   ],
   "source": [
    "def divisors(n):\n",
    "    i = 2\n",
    "    total = 1\n",
    "    while i<n:\n",
    "        if n%i == 0:\n",
    "            total += i\n",
    "        i+=1\n",
    "    return total\n",
    "\n",
    "a = []\n",
    "for i in range(1,10000):\n",
    "    value = divisors(i)\n",
    "    if i != value and divisors(value) == i:\n",
    "        a.append(i)\n",
    "print(a)\n",
    "b = sum(a)\n",
    "print(b)"
   ]
  },
  {
   "cell_type": "code",
   "execution_count": 4,
   "id": "d39d1816",
   "metadata": {
    "scrolled": true
   },
   "outputs": [
    {
     "data": {
      "text/html": [
       "<h2>영문 이름 점수 합계 구하기</h2><div class=\"info\" style=\"float:right; font-size:90%;\">\n",
       "<a href=\"https://projecteuler.net/problem=22\" target=\"_blank\">[ProjectEuler.net 원본]</a>\n",
       "</div><h4 title=\"난이도 ☕\">Problem 22</h4><p></p><div class=\"problem_content\">\n",
       "<p>여기 5천개 이상의 영문 이름들이 들어있는 46KB짜리 텍스트 파일 <a class=\"external-link\" href=\"/files/names.txt\" rel=\"nofollow\" style=\"text-decoration: none;\">names.txt</a> 이 있습니다 (우클릭해서 다운로드 받으세요).<br/>\r\n",
       "이제 각 이름에 대해서 아래와 같은 방법으로 점수를 매기고자 합니다.</p>\n",
       "<ul>\n",
       "<li>먼저 모든 이름을 알파벳 순으로 정렬합니다.</li>\n",
       "<li>각 이름에 대해서, 그 이름을 이루는 알파벳에 해당하는 수(A=1, B=2, ..., Z=26)를 모두 더합니다.</li>\n",
       "<li>여기에 이 이름의 순번을 곱합니다.</li>\n",
       "</ul>\n",
       "<p>예를 들어 \"COLIN\"의 경우, 알파벳에 해당하는 수는 3, 15, 12, 9, 14이므로 합이 53, 그리고 정렬했을 때 938번째에 오므로 최종 점수는 938 × 53 = 49714가 됩니다.</p>\n",
       "<p>names.txt에 들어있는 모든 이름의 점수를 계산해서 더하면 얼마입니까?</p></div>"
      ],
      "text/plain": [
       "<IPython.core.display.HTML object>"
      ]
     },
     "execution_count": 4,
     "metadata": {},
     "output_type": "execute_result"
    }
   ],
   "source": [
    "EulerT(22)"
   ]
  },
  {
   "cell_type": "code",
   "execution_count": 54,
   "id": "45b69688",
   "metadata": {},
   "outputs": [
    {
     "name": "stdout",
     "output_type": "stream",
     "text": [
      "871198282\n"
     ]
    }
   ],
   "source": [
    "f = open(\"names.txt\")\n",
    "names = f.read().replace('\"','').split(',')\n",
    "names.sort()\n",
    "total = 0\n",
    "grand_total = 0\n",
    "for idx,val in enumerate(names):\n",
    "    total = 0\n",
    "    for i in val:\n",
    "        total = total + ord(i) - 64\n",
    "    grand_total += total*(idx+1)\n",
    "print(grand_total)"
   ]
  },
  {
   "cell_type": "code",
   "execution_count": 5,
   "id": "5ff6d9f4",
   "metadata": {
    "scrolled": true
   },
   "outputs": [
    {
     "data": {
      "text/html": [
       "<h2>두 과잉수의 합으로 나타낼 수 없는 모든 양의 정수의 합은?</h2><div class=\"info\" style=\"float:right; font-size:90%;\">\n",
       "<a href=\"https://projecteuler.net/problem=23\" target=\"_blank\">[ProjectEuler.net 원본]</a>\n",
       "</div><h4 title=\"난이도 ☕\">Problem 23</h4><p></p><div class=\"problem_content\">\n",
       "<p>자신을 제외한 약수(진약수)를 모두 더하면 자기 자신이 되는 수를 완전수라고 합니다.<br/>\r\n",
       "예를 들어 28은 1 + 2 + 4 + 7 + 14 = 28 이므로 완전수입니다.<br/>\r\n",
       "또, 진약수의 합이 자신보다 작으면 부족수, 자신보다 클 때는 과잉수라고 합니다.</p>\n",
       "<p>12는 1 + 2 + 3 + 4 + 6 = 16 &gt; 12 로서 과잉수 중에서는 가장 작습니다.<br/>\r\n",
       " 따라서 과잉수 두 개의 합으로 나타낼 수 있는 수 중 가장 작은 수는 24 (= 12 + 12) 입니다.</p>\n",
       "<p>해석학적인 방법을 사용하면, 28123을 넘는 모든 정수는 두 과잉수의 합으로 표현 가능함을 보일 수가 있습니다.<br/>\r\n",
       " 두 과잉수의 합으로 나타낼 수 없는 가장 큰 수는 실제로는 이 한계값보다 작지만, 해석학적인 방법으로는 더 이상 이 한계값을 낮출 수 없다고 합니다.</p>\n",
       "<p>그렇다면, 과잉수 두 개의 합으로 나타낼 수 없는 모든 양의 정수의 합은 얼마입니까?</p></div>"
      ],
      "text/plain": [
       "<IPython.core.display.HTML object>"
      ]
     },
     "execution_count": 5,
     "metadata": {},
     "output_type": "execute_result"
    }
   ],
   "source": [
    "EulerT(23)"
   ]
  },
  {
   "cell_type": "code",
   "execution_count": 56,
   "id": "76a9b69f",
   "metadata": {
    "scrolled": false
   },
   "outputs": [
    {
     "name": "stdout",
     "output_type": "stream",
     "text": [
      "261766394\n"
     ]
    }
   ],
   "source": [
    "def divisors(n):\n",
    "    i = 2\n",
    "    total = 1\n",
    "    while i<n:\n",
    "        if n%i == 0:\n",
    "            total += i\n",
    "        i+=1\n",
    "    return total\n",
    "\n",
    "def isOverNum(n):\n",
    "    return divisors(n) > n * 2\n",
    "\n",
    "overnums = set([x for x in range(12,23123) if isOverNum(x)])\n",
    "\n",
    "def test(n):\n",
    "    for i in overnums:\n",
    "        if (n - 1) in overnums:\n",
    "            return True\n",
    "    return False\n",
    "\n",
    "def main():\n",
    "    result =[]\n",
    "    for i in range(12,23123):\n",
    "        if not test(i):\n",
    "            result.append(i)\n",
    "    ans = sum(list(range(1,12)) + result)\n",
    "    print(ans)\n",
    "\n",
    "main()"
   ]
  },
  {
   "cell_type": "code",
   "execution_count": 6,
   "id": "c20086b0",
   "metadata": {
    "scrolled": false
   },
   "outputs": [
    {
     "data": {
      "text/html": [
       "<h2>0, 1, 2, 3, 4, 5, 6, 7, 8, 9로 만들 수 있는 1,000,000번째 사전식 순열은?</h2><div class=\"info\" style=\"float:right; font-size:90%;\">\n",
       "<a href=\"https://projecteuler.net/problem=24\" target=\"_blank\">[ProjectEuler.net 원본]</a>\n",
       "</div><h4 title=\"난이도 ☕\">Problem 24</h4><p></p><div class=\"problem_content\">\n",
       "<p>어떤 대상을 순서에 따라 배열한 것을 순열이라고 합니다. 예를 들어 3124는 숫자 1, 2, 3, 4로 만들 수 있는 순열 중 하나입니다.</p>\n",
       "<p>이렇게 만들 수 있는 모든 순열을 숫자나 문자 순으로 늘어놓은 것을 사전식(lexicographic) 순서라고 합니다.<br/>\r\n",
       "0, 1, 2로 만들 수 있는 사전식 순열은 다음과 같습니다.</p>\n",
       "<blockquote>012   021   102   120   201   210</blockquote>\n",
       "<p>0, 1, 2, 3, 4, 5, 6, 7, 8, 9로 만들 수 있는 사전식 순열에서 1,000,000번째는 무엇입니까?</p></div>"
      ],
      "text/plain": [
       "<IPython.core.display.HTML object>"
      ]
     },
     "execution_count": 6,
     "metadata": {},
     "output_type": "execute_result"
    }
   ],
   "source": [
    "EulerT(24)"
   ]
  },
  {
   "cell_type": "code",
   "execution_count": 61,
   "id": "8848d8da",
   "metadata": {},
   "outputs": [
    {
     "name": "stdout",
     "output_type": "stream",
     "text": [
      "2783915460\n"
     ]
    }
   ],
   "source": [
    "from functools import reduce\n",
    "\n",
    "def factorial(n):\n",
    "    if n < 2:\n",
    "        return 1\n",
    "    return reduce(lambda x,y:x*y, range(1, n+1))\n",
    "\n",
    "def perms(n, ls):\n",
    "    if n == 0:\n",
    "        return ls\n",
    "    l = len(ls)\n",
    "    n = n % factorial(l)\n",
    "    q, r = divmod(n, factorial(l-1))\n",
    "    return [ls[q]] + perms(r, ls[:q]+ls[q+1:])\n",
    "\n",
    "def e24():\n",
    "    print(\"\".join(perms(999999, list('0123456789'))))\n",
    "    \n",
    "e24()"
   ]
  },
  {
   "cell_type": "code",
   "execution_count": 7,
   "id": "ee1dce9a",
   "metadata": {},
   "outputs": [
    {
     "data": {
      "text/html": [
       "<h2>피보나치 수열에서 처음으로 1000자리가 되는 항은 몇 번째?</h2><div class=\"info\" style=\"float:right; font-size:90%;\">\n",
       "<a href=\"https://projecteuler.net/problem=25\" target=\"_blank\">[ProjectEuler.net 원본]</a>\n",
       "</div><h4 title=\"난이도 ☕\">Problem 25</h4><p></p><div class=\"problem_content\">\n",
       "<p>피보나치 수열은 아래와 같은 점화식으로 정의됩니다.</p>\n",
       "<blockquote>F<sub><em>n</em></sub> = F<sub><em>n</em>-1</sub> + F<sub><em>n</em>-2</sub>   (단, F<sub>1</sub> = 1, F<sub>2</sub> = 1).</blockquote>\n",
       "<p>이에 따라 수열을 12번째 항까지 차례대로 계산하면 다음과 같습니다.</p>\n",
       "<blockquote>\r\n",
       "F<sub>1</sub> = 1<br/>\r\n",
       "F<sub>2</sub> = 1<br/>\r\n",
       "F<sub>3</sub> = 2<br/>\r\n",
       "F<sub>4</sub> = 3<br/>\r\n",
       "F<sub>5</sub> = 5<br/>\r\n",
       "F<sub>6</sub> = 8<br/>\r\n",
       "F<sub>7</sub> = 13<br/>\r\n",
       "F<sub>8</sub> = 21<br/>\r\n",
       "F<sub>9</sub> = 34<br/>\r\n",
       "F<sub>10</sub> = 55<br/>\r\n",
       "F<sub>11</sub> = 89<br/>\r\n",
       "F<sub>12</sub> = 144\r\n",
       "</blockquote>\n",
       "<p>수열의 값은 F<sub>12</sub>에서 처음으로 3자리가 됩니다.</p>\n",
       "<p>피보나치 수열에서 값이 처음으로 1000자리가 되는 것은 몇번째 항입니까?</p></div>"
      ],
      "text/plain": [
       "<IPython.core.display.HTML object>"
      ]
     },
     "execution_count": 7,
     "metadata": {},
     "output_type": "execute_result"
    }
   ],
   "source": [
    "EulerT(25)"
   ]
  },
  {
   "cell_type": "code",
   "execution_count": 71,
   "id": "95b3bc78",
   "metadata": {},
   "outputs": [
    {
     "name": "stdout",
     "output_type": "stream",
     "text": [
      "1070066266382758936764980584457396885083683896632151665013235203375314520604694040621889147582489792657804694888177591957484336466672569959512996030461262748092482186144069433051234774442750273781753087579391666192149259186759553966422837148943113074699503439547001985432609723067290192870526447243726117715821825548491120525013201478612965931381792235559657452039506137551467837543229119602129934048260706175397706847068202895486902666185435124521900369480641357447470911707619766945691070098024393439617474103736912503231365532164773697023167755051595173518460579954919410967778373229665796581646513903488154256310184224190259846088000110186255550245493937113651657039447629584714548523425950428582425306083544435428212611008992863795048006894330309773217834864543113205765659868456288616808718693835297350643986297640660000723562917905207051164077614812491885830945940566688339109350944456576357666151619317753792891661581327159616877487983821820492520348473874384736771934512787029218636250627816\n",
      "1000\n",
      "4782\n"
     ]
    }
   ],
   "source": [
    "a = 1\n",
    "b = 1\n",
    "i = 1\n",
    "while a<10**999:\n",
    "    a,b=b,a+b\n",
    "    i += 1\n",
    "    \n",
    "print(a)\n",
    "print(len(str(a)))\n",
    "print(i)"
   ]
  },
  {
   "cell_type": "code",
   "execution_count": 8,
   "id": "d635fcb1",
   "metadata": {
    "scrolled": false
   },
   "outputs": [
    {
     "data": {
      "text/html": [
       "<h2>1000 이하의 <var>d</var> 중에서 1/<var>d</var> 이 가장 긴 순환마디를 갖는 수는?</h2><div class=\"info\" style=\"float:right; font-size:90%;\">\n",
       "<a href=\"https://projecteuler.net/problem=26\" target=\"_blank\">[ProjectEuler.net 원본]</a>\n",
       "</div><h4 title=\"난이도 ☕\">Problem 26</h4><p></p><div class=\"problem_content\">\n",
       "<p>분자가 1인 분수를 단위분수라고 합니다. 분모가 2에서 10까지의 단위분수는 아래와 같습니다.</p>\n",
       "<blockquote><img src=\"http://euler.synap.co.kr/images/repetend.png\"/> </blockquote>\n",
       "<p>숫자 위에 찍힌 점은 순환마디를 나타내는데, 1/6의 경우 순환마디는 \"6\"으로 0.166666...처럼 6이 무한히 반복됨을 뜻합니다. 같은 식으로 1/7은 6자리의 순환마디(142857)를 가집니다.</p>\n",
       "<p><var>d</var> 를 1000 이하의 정수라고 할 때, 단위분수 1/<var>d</var> 의 순환마디가 가장 긴 수는 무엇입니까?</p></div>"
      ],
      "text/plain": [
       "<IPython.core.display.HTML object>"
      ]
     },
     "execution_count": 8,
     "metadata": {},
     "output_type": "execute_result"
    }
   ],
   "source": [
    "EulerT(26)"
   ]
  },
  {
   "cell_type": "code",
   "execution_count": 74,
   "id": "bb6fa875",
   "metadata": {
    "scrolled": true
   },
   "outputs": [
    {
     "name": "stdout",
     "output_type": "stream",
     "text": [
      "983\n"
     ]
    }
   ],
   "source": [
    "def circ(num):\n",
    "    d = 1\n",
    "    divideds = []\n",
    "    while 1:\n",
    "        (q, r) = (d // num, d % num)\n",
    "        if d in divideds:\n",
    "            return len(divideds[divideds.index(d):])\n",
    "        else:\n",
    "            divideds.append(d)\n",
    "        d = r * 10\n",
    "\n",
    "\n",
    "def e26():\n",
    "    max = 0\n",
    "    maxLength = 0\n",
    "    for i in range(1, 1001):\n",
    "        l = circ(i)\n",
    "        if maxLength < l:\n",
    "            max = i\n",
    "            maxLength = l\n",
    "    print(max)\n",
    "    \n",
    "e26()\n"
   ]
  },
  {
   "cell_type": "code",
   "execution_count": 9,
   "id": "170ae813",
   "metadata": {},
   "outputs": [
    {
     "data": {
      "text/html": [
       "<h2>연속되는 <var>n</var>에 대해 가장 많은 소수를 만들어내는 이차식</h2><div class=\"info\" style=\"float:right; font-size:90%;\">\n",
       "<a href=\"https://projecteuler.net/problem=27\" target=\"_blank\">[ProjectEuler.net 원본]</a>\n",
       "</div><h4 title=\"난이도 ☕\">Problem 27</h4><p></p><div class=\"problem_content\">\n",
       "<p>오일러는 다음과 같은 멋진 이차식을 제시했습니다.</p>\n",
       "<blockquote> <span class=\"eqn\"><i>n</i><sup>2</sup> + <i>n</i> + 41 </span> </blockquote>\n",
       "<p>이 식의 <var>n</var>에다 0부터 39 사이의 수를 넣으면, 그 결과는 모두 소수가 됩니다.<br/>\r\n",
       "하지만 <var>n</var> = 40일 때의 값 40<sup>2</sup> + 40 + 41 은 40×(40 + 1) + 41 이므로 41로 나누어지고, \r\n",
       "<var>n</var> = 41일 때 역시 41<sup>2</sup> + 41 + 41 이므로 소수가 아닙니다.</p>\n",
       "<p>컴퓨터의 발전에 힘입어 <span class=\"eqn\"><i>n</i><sup>2</sup> − 79<i>n</i> + 1601 </span> 이라는 엄청난 이차식이 발견되었는데, 이것은 <var>n</var>이 0에서 79 사이일 때 모두 80개의 소수를 만들어냅니다. 이 식의 계수의 곱은 -79 &amp;times 1601 = -126479가 됩니다.</p>\n",
       "<p>아래와 같은 모양의 이차식이 있다고 가정했을 때,</p>\n",
       "<blockquote> <span class=\"eqn\"><i>n</i><sup>2</sup> + <i>an</i> + <i>b</i> </span>\r\n",
       "   (단 <span class=\"eqn\">| <i>a</i> | &lt; 1000, | <i>b</i> | &lt; 1000)\r\n",
       " </span></blockquote>\n",
       "<p>\r\n",
       "0부터 시작하는 연속된 <var>n</var>에 대해 가장 많은 소수를 만들어내는 이차식을 찾아서, 그 계수 <var>a</var>와 <var>b</var>의 곱을 구하세요.</p></div>"
      ],
      "text/plain": [
       "<IPython.core.display.HTML object>"
      ]
     },
     "execution_count": 9,
     "metadata": {},
     "output_type": "execute_result"
    }
   ],
   "source": [
    "EulerT(27)"
   ]
  },
  {
   "cell_type": "code",
   "execution_count": 87,
   "id": "93de01fb",
   "metadata": {},
   "outputs": [
    {
     "name": "stdout",
     "output_type": "stream",
     "text": [
      "-59231\n"
     ]
    }
   ],
   "source": [
    "def is_prime(n):\n",
    "    if n < 2:\n",
    "        return False\n",
    "    if n == 2 or n == 3:\n",
    "        return True\n",
    "    if n % 2 == 0 or n % 3 == 0:\n",
    "        return False\n",
    "    if n < 9:\n",
    "        return False\n",
    "    k = 5\n",
    "    l = n ** 0.5\n",
    "    while k <= l:\n",
    "        if n % k == 0 or n % (k+2) == 0:\n",
    "            return False\n",
    "        k += 6\n",
    "    return True\n",
    "\n",
    "def make_eqation(a, b):\n",
    "    def f(x):\n",
    "        return x*x + a*x + b\n",
    "    return f\n",
    "\n",
    "def test(a, b):\n",
    "    fx = make_eqation(a, b)\n",
    "    c = 0\n",
    "    i = 0\n",
    "    while True:\n",
    "        d = fx(i)\n",
    "        if is_prime(d):\n",
    "            c += 1\n",
    "            i += 1\n",
    "        else:\n",
    "            break\n",
    "    return i-1\n",
    "\n",
    "from functools import reduce\n",
    "def main():\n",
    "    d = []\n",
    "    for a in range(-1000,1):\n",
    "        for b in range(-a * 2, 1001):\n",
    "            d.append((a, b, test(a, b)))\n",
    "    result = reduce(lambda x,y : x if x[2] > y[2] else y, d, d[0])\n",
    "    print(result[0] * result[1])\n",
    "main()"
   ]
  },
  {
   "cell_type": "code",
   "execution_count": 10,
   "id": "20e6de8d",
   "metadata": {
    "scrolled": true
   },
   "outputs": [
    {
     "data": {
      "text/html": [
       "<h2>1001×1001 나선모양 행렬에서 대각선 원소의 합은?</h2><div class=\"info\" style=\"float:right; font-size:90%;\">\n",
       "<a href=\"https://projecteuler.net/problem=28\" target=\"_blank\">[ProjectEuler.net 원본]</a>\n",
       "</div><h4 title=\"난이도 ☕\">Problem 28</h4><p></p><div class=\"problem_content\">\n",
       "<p>수 1부터 시작해서 우측으로부터 시계방향으로 감아 5×5 행렬을 만들면 아래와 같이 됩니다.</p>\n",
       "<p style=\"text-align:center;font-family:courier new;\"><span style=\"color:#f00;\"><b>21</b></span> 22 23 24 <span style=\"color:#f00;\"><b>25</b></span><br/>\r\n",
       "\r\n",
       "20  <span style=\"color:#f00;\"><b>7</b></span>  8  <span style=\"color:#f00;\"><b>9</b></span> 10<br/>\r\n",
       "\r\n",
       "19  6  <span style=\"color:#f00;\"><b>1</b></span>  2 11<br/>\r\n",
       "\r\n",
       "18  <span style=\"color:#f00;\"><b>5</b></span>  4  <span style=\"color:#f00;\"><b>3</b></span> 12<br/>\n",
       "<span style=\"color:#f00;\"><b>17</b></span> 16 15 14 <span style=\"color:#f00;\"><b>13</b></span></p>\n",
       "<p>여기서 대각선 상의 수를 모두 더한 값은 101 입니다.</p>\n",
       "<p>같은 방식으로 1001×1001 행렬을 만들었을 때, 대각선 상의 수를 더하면 얼마가 됩니까?</p></div>"
      ],
      "text/plain": [
       "<IPython.core.display.HTML object>"
      ]
     },
     "execution_count": 10,
     "metadata": {},
     "output_type": "execute_result"
    }
   ],
   "source": [
    "EulerT(28)"
   ]
  },
  {
   "cell_type": "code",
   "execution_count": 88,
   "id": "8edaea4a",
   "metadata": {},
   "outputs": [
    {
     "name": "stdout",
     "output_type": "stream",
     "text": [
      "667170001\n"
     ]
    }
   ],
   "source": [
    "a = 1\n",
    "s = 1\n",
    "k = 1\n",
    "\n",
    "for _ in range(1,501):\n",
    "    for _ in range(4):\n",
    "        a += k\n",
    "        s += a\n",
    "    k += 2\n",
    "\n",
    "print(s)"
   ]
  },
  {
   "cell_type": "code",
   "execution_count": 11,
   "id": "755ed059",
   "metadata": {},
   "outputs": [
    {
     "data": {
      "text/html": [
       "<h2>2 ≤ <var>a</var> ≤ 100 이고 2 ≤ <var>b</var> ≤ 100인 <var>a</var>, <var>b</var>로 만들 수 있는 <var>a</var><sup><var>b</var></sup>의 개수</h2><div class=\"info\" style=\"float:right; font-size:90%;\">\n",
       "<a href=\"https://projecteuler.net/problem=29\" target=\"_blank\">[ProjectEuler.net 원본]</a>\n",
       "</div><h4 title=\"난이도 ☕\">Problem 29</h4><p></p><div class=\"problem_content\">\n",
       "<p>2 ≤ <var>a</var> ≤ 5 이고 2 ≤ <var>b</var> ≤ 5인 두 정수 <var>a</var>, <var>b</var>로 만들 수 있는 <var>a</var><sup><var>b</var></sup>의 모든 조합을 구하면 다음과 같습니다.</p>\n",
       "<blockquote>\r\n",
       "2<sup>2</sup>=4,  2<sup>3</sup>=8,  2<sup>4</sup>=16,  2<sup>5</sup>=32<br/>\r\n",
       "3<sup>2</sup>=9,  3<sup>3</sup>=27,  3<sup>4</sup>=81,  3<sup>5</sup>=243<br/>\r\n",
       "4<sup>2</sup>=16,  4<sup>3</sup>=64,  4<sup>4</sup>=256,  4<sup>5</sup>=1024<br/>\r\n",
       "5<sup>2</sup>=25,  5<sup>3</sup>=125,  5<sup>4</sup>=625,  5<sup>5</sup>=3125</blockquote>\n",
       "<p>여기서 중복된 것을 빼고 크기 순으로 나열하면 아래와 같은 15개의 수가 됩니다.</p>\n",
       "<p style=\"text-align:center\">4,  8,  9,  16,  25, \r\n",
       " 27,  32,  64,  81,  125, \r\n",
       " 243,  256,  625,  1024,  3125</p>\n",
       "<p>그러면, 2 ≤ <var>a</var> ≤ 100 이고 2 ≤ <var>b</var> ≤ 100인 <var>a</var>, <var>b</var>를 가지고 만들 수 있는 <var>a</var><sup><var>b</var></sup>는 중복을 제외하면 모두 몇 개입니까?</p></div>"
      ],
      "text/plain": [
       "<IPython.core.display.HTML object>"
      ]
     },
     "execution_count": 11,
     "metadata": {},
     "output_type": "execute_result"
    }
   ],
   "source": [
    "EulerT(29)"
   ]
  },
  {
   "cell_type": "code",
   "execution_count": 90,
   "id": "86e7487a",
   "metadata": {},
   "outputs": [
    {
     "data": {
      "text/plain": [
       "9183"
      ]
     },
     "execution_count": 90,
     "metadata": {},
     "output_type": "execute_result"
    }
   ],
   "source": [
    "a = set()\n",
    "\n",
    "for x in range(2,101):\n",
    "    for y in range(2,101):\n",
    "        a.add(x**y)\n",
    "\n",
    "len(a)"
   ]
  },
  {
   "cell_type": "code",
   "execution_count": 12,
   "id": "ae693dac",
   "metadata": {},
   "outputs": [
    {
     "data": {
      "text/html": [
       "<h2>각 자리 숫자를 5제곱해서 더했을 때 자기 자신이 되는 수들의 합은?</h2><div class=\"info\" style=\"float:right; font-size:90%;\">\n",
       "<a href=\"https://projecteuler.net/problem=30\" target=\"_blank\">[ProjectEuler.net 원본]</a>\n",
       "</div><h4 title=\"난이도 ☕\">Problem 30</h4><p></p><div class=\"problem_content\">\n",
       "<p>각 자리의 숫자를 4제곱해서 더했을 때 자기 자신이 되는 수는 놀랍게도 단 세 개밖에 없습니다.</p>\n",
       "<blockquote>\r\n",
       "1634 = 1<sup>4</sup> + 6<sup>4</sup> + 3<sup>4</sup> + 4<sup>4</sup><br/>\r\n",
       "8208 = 8<sup>4</sup> + 2<sup>4</sup> + 0<sup>4</sup> + 8<sup>4</sup><br/>\r\n",
       "9474 = 9<sup>4</sup> + 4<sup>4</sup> + 7<sup>4</sup> + 4<sup>4</sup>\n",
       "</blockquote>\n",
       "<p>(1 = 1<sup>4</sup>의 경우는 엄밀히 말해 합이 아니므로 제외합니다)</p>\n",
       "<p>위의 세 수를 모두 더하면 1634 + 8208 + 9474 = 19316 입니다.</p>\n",
       "<p>그렇다면, 각 자리 숫자를 5제곱해서 더했을 때 자기 자신이 되는 수들의 합은 얼마입니까?</p></div>"
      ],
      "text/plain": [
       "<IPython.core.display.HTML object>"
      ]
     },
     "execution_count": 12,
     "metadata": {},
     "output_type": "execute_result"
    }
   ],
   "source": [
    "EulerT(30)"
   ]
  },
  {
   "cell_type": "code",
   "execution_count": 92,
   "id": "eefaffb0",
   "metadata": {},
   "outputs": [
    {
     "name": "stdout",
     "output_type": "stream",
     "text": [
      "443839\n"
     ]
    }
   ],
   "source": [
    "def transform(num, n):\n",
    "    return sum((int(x) ** n for x in str(num)))\n",
    "\n",
    "def e030():\n",
    "    result = sum((x for x in range(2, 999999+1) if x == transform(x, 5)))\n",
    "    print(result)\n",
    "e030()\n"
   ]
  },
  {
   "cell_type": "code",
   "execution_count": null,
   "id": "1f7def42",
   "metadata": {},
   "outputs": [],
   "source": []
  }
 ],
 "metadata": {
  "kernelspec": {
   "display_name": "Python 3 (ipykernel)",
   "language": "python",
   "name": "python3"
  },
  "language_info": {
   "codemirror_mode": {
    "name": "ipython",
    "version": 3
   },
   "file_extension": ".py",
   "mimetype": "text/x-python",
   "name": "python",
   "nbconvert_exporter": "python",
   "pygments_lexer": "ipython3",
   "version": "3.9.12"
  }
 },
 "nbformat": 4,
 "nbformat_minor": 5
}
