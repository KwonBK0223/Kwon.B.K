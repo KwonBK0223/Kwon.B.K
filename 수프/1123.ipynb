{
 "cells": [
  {
   "cell_type": "code",
   "execution_count": 1,
   "id": "a452c5fc",
   "metadata": {
    "ExecuteTime": {
     "end_time": "2022-11-23T04:12:34.139140Z",
     "start_time": "2022-11-23T04:12:34.128126Z"
    }
   },
   "outputs": [],
   "source": [
    "import matplotlib as mpl\n",
    "import matplotlib.pyplot as plt"
   ]
  },
  {
   "cell_type": "code",
   "execution_count": 2,
   "id": "fb518532",
   "metadata": {
    "ExecuteTime": {
     "end_time": "2022-11-23T04:12:34.154411Z",
     "start_time": "2022-11-23T04:12:34.140162Z"
    }
   },
   "outputs": [],
   "source": [
    "mpl.rc('font', family = 'Gulim')\n",
    "mpl.rcParams['axes.unicode_minus']=False"
   ]
  },
  {
   "cell_type": "code",
   "execution_count": 3,
   "id": "ef9bdf0b",
   "metadata": {
    "ExecuteTime": {
     "end_time": "2022-11-23T04:12:34.169276Z",
     "start_time": "2022-11-23T04:12:34.155286Z"
    }
   },
   "outputs": [],
   "source": [
    "import matplotlib.tri as mtri"
   ]
  },
  {
   "cell_type": "code",
   "execution_count": 4,
   "id": "73fa8a6b",
   "metadata": {
    "ExecuteTime": {
     "end_time": "2022-11-23T04:12:34.609277Z",
     "start_time": "2022-11-23T04:12:34.170246Z"
    }
   },
   "outputs": [],
   "source": [
    "import seaborn as sns"
   ]
  },
  {
   "cell_type": "code",
   "execution_count": 5,
   "id": "6cb3f2d7",
   "metadata": {
    "ExecuteTime": {
     "end_time": "2022-11-23T04:13:41.009407Z",
     "start_time": "2022-11-23T04:12:34.611244Z"
    }
   },
   "outputs": [],
   "source": [
    "iris = sns.load_dataset(\"iris\")    # 붓꽃 데이터\n",
    "titanic = sns.load_dataset(\"titanic\")    # 타이타닉호 데이터\n",
    "tips = sns.load_dataset(\"tips\")    # 팁 데이터\n",
    "flights = sns.load_dataset(\"flights\")    # 여객운송 데이터"
   ]
  },
  {
   "cell_type": "code",
   "execution_count": 6,
   "id": "fbea90d0",
   "metadata": {
    "ExecuteTime": {
     "end_time": "2022-11-23T04:13:41.244724Z",
     "start_time": "2022-11-23T04:13:41.010248Z"
    }
   },
   "outputs": [
    {
     "data": {
      "image/png": "[encoded data removed]",
      "text/plain": [
       "<Figure size 432x288 with 1 Axes>"
      ]
     },
     "metadata": {
      "needs_background": "light"
     },
     "output_type": "display_data"
    }
   ],
   "source": [
    "sns.countplot(x=\"day\", data=tips)\n",
    "plt.title(\"요일별 팁을 준 횟수\")\n",
    "plt.show()"
   ]
  },
  {
   "cell_type": "markdown",
   "id": "e207aeff",
   "metadata": {},
   "source": [
    "# Project Euler"
   ]
  },
  {
   "cell_type": "markdown",
   "id": "4760ca24",
   "metadata": {},
   "source": [
    "프로젝트 오일러 한글판"
   ]
  },
  {
   "cell_type": "markdown",
   "id": "aa30d1c6",
   "metadata": {},
   "source": [
    "1. 10 미만의 3 또는 5의 배수인 자연수를 모두 나열하면 3, 5, 6 및 9가 됩니다. 이 배수의 합은 23입니다. \n",
    "    1000 미만의 3 또는 5의 모든 배수의 합을 구하십시오."
   ]
  },
  {
   "cell_type": "code",
   "execution_count": 19,
   "id": "4da31b6b",
   "metadata": {
    "ExecuteTime": {
     "end_time": "2022-11-23T04:27:14.304609Z",
     "start_time": "2022-11-23T04:27:14.291749Z"
    }
   },
   "outputs": [
    {
     "name": "stdout",
     "output_type": "stream",
     "text": [
      "0\n"
     ]
    }
   ],
   "source": [
    "result1 = 0\n",
    "for i in range(10000):\n",
    "    if i %  3 == 0:\n",
    "        result = result + i\n",
    "    elif i % 5 == 0:\n",
    "        result = result + i\n",
    "\n",
    "print(result1)\n",
    "    "
   ]
  },
  {
   "cell_type": "code",
   "execution_count": 20,
   "id": "7b4ff808",
   "metadata": {
    "ExecuteTime": {
     "end_time": "2022-11-23T04:27:14.522530Z",
     "start_time": "2022-11-23T04:27:14.515550Z"
    }
   },
   "outputs": [
    {
     "data": {
      "text/plain": [
       "0"
      ]
     },
     "execution_count": 20,
     "metadata": {},
     "output_type": "execute_result"
    }
   ],
   "source": [
    "r1 = 0\n",
    "for i in range(10000):\n",
    "    if (i % 3 == 0) | (i % 5 == 0):\n",
    "        r = r + i\n",
    "\n",
    "r1"
   ]
  },
  {
   "cell_type": "markdown",
   "id": "bf896efd",
   "metadata": {},
   "source": [
    "2. 피보나치 수열의 각 새 항은 이전 두 항을 추가하여 생성됩니다. 1과 2로 시작하여 처음 10항은 다음과 같습니다.\n",
    "\n",
    "    1, 2, 3, 5, 8, 13, 21, 34, 55, 89, ...\n",
    "\n",
    "    값이 4백만을 초과하지 않는 피보나치 수열의 항을 고려하여 짝수 값 항의 합을 구하십시오."
   ]
  },
  {
   "cell_type": "code",
   "execution_count": 33,
   "id": "c25b824f",
   "metadata": {
    "ExecuteTime": {
     "end_time": "2022-11-23T04:51:36.818796Z",
     "start_time": "2022-11-23T04:51:36.801140Z"
    }
   },
   "outputs": [
    {
     "name": "stdout",
     "output_type": "stream",
     "text": [
      "[1, 2, 3, 5, 8, 13, 21, 34, 55, 89, 144, 233, 377, 610, 987, 1597, 2584, 4181, 6765, 10946, 17711, 28657, 46368, 75025, 121393, 196418, 317811, 514229, 832040, 1346269, 2178309, 3524578, 0]\n",
      "4613732\n"
     ]
    }
   ],
   "source": [
    "result2 = 0\n",
    "a = [1,2]\n",
    "i = 2\n",
    "while True:\n",
    "    a.append(a[i-1]+a[i-2])\n",
    "    i += 1\n",
    "    if a[-1]>4000000:\n",
    "        break;\n",
    "a[-1]=0\n",
    "for i in a:\n",
    "    if i % 2 == 0:\n",
    "        result2 += i\n",
    "print(a)\n",
    "print(result2)\n"
   ]
  },
  {
   "cell_type": "markdown",
   "id": "b1432876",
   "metadata": {},
   "source": [
    "list 쓰면 cost(계산시간, 메모리의 사용)등의 문제로 왠만하면 쓰지 않도록한다"
   ]
  },
  {
   "cell_type": "code",
   "execution_count": 32,
   "id": "887d0122",
   "metadata": {
    "ExecuteTime": {
     "end_time": "2022-11-23T04:49:31.634231Z",
     "start_time": "2022-11-23T04:49:31.620157Z"
    }
   },
   "outputs": [
    {
     "data": {
      "text/plain": [
       "4613732"
      ]
     },
     "execution_count": 32,
     "metadata": {},
     "output_type": "execute_result"
    }
   ],
   "source": [
    "r2= 0\n",
    "x = 1\n",
    "y = 2\n",
    "while x <= 4000000:\n",
    "    if x % 2 == 0:\n",
    "        r2 += x\n",
    "    x, y = y, x + y\n",
    "r2"
   ]
  },
  {
   "cell_type": "markdown",
   "id": "a2602171",
   "metadata": {},
   "source": [
    "3. 13195의 소인수는 5, 7, 13, 29입니다.\n",
    "\n",
    "    숫자 600851475143의 가장 큰 소인수는 무엇입니까?"
   ]
  },
  {
   "cell_type": "code",
   "execution_count": 39,
   "id": "7f0d9672",
   "metadata": {
    "ExecuteTime": {
     "end_time": "2022-11-23T05:15:54.637234Z",
     "start_time": "2022-11-23T05:15:54.624509Z"
    }
   },
   "outputs": [
    {
     "data": {
      "text/plain": [
       "6857"
      ]
     },
     "execution_count": 39,
     "metadata": {},
     "output_type": "execute_result"
    }
   ],
   "source": [
    "n = 600851475143\n",
    "m = 2 #소수 찾기\n",
    "while n>1: #나누다가 n = 1 이 되면 멈춤\n",
    "    if n % m == 0:\n",
    "        n = n//m \n",
    "    else:\n",
    "        m = m+1\n",
    "m #가장 마지막에 나누어지는 소수 m"
   ]
  },
  {
   "cell_type": "markdown",
   "id": "c3610192",
   "metadata": {},
   "source": [
    "4. 팰린드롬 숫자는 양방향으로 동일하게 읽습니다. 2개의 두 자리 숫자의 곱으로 만들어지는 가장 큰 회문은 9009 = 91 × 99입니다.\n",
    "\n",
    "    두 개의 3자리 수를 곱하여 만든 가장 큰 회문을 찾으십시오."
   ]
  },
  {
   "cell_type": "code",
   "execution_count": 38,
   "id": "de0107ff",
   "metadata": {
    "ExecuteTime": {
     "end_time": "2022-11-23T05:14:16.855205Z",
     "start_time": "2022-11-23T05:14:16.851218Z"
    }
   },
   "outputs": [
    {
     "data": {
      "text/plain": [
       "998001"
      ]
     },
     "execution_count": 38,
     "metadata": {},
     "output_type": "execute_result"
    }
   ],
   "source": [
    "999*999"
   ]
  },
  {
   "cell_type": "code",
   "execution_count": null,
   "id": "cd456959",
   "metadata": {},
   "outputs": [],
   "source": []
  }
 ],
 "metadata": {
  "hide_input": false,
  "kernelspec": {
   "display_name": "Python 3 (ipykernel)",
   "language": "python",
   "name": "python3"
  },
  "language_info": {
   "codemirror_mode": {
    "name": "ipython",
    "version": 3
   },
   "file_extension": ".py",
   "mimetype": "text/x-python",
   "name": "python",
   "nbconvert_exporter": "python",
   "pygments_lexer": "ipython3",
   "version": "3.9.12"
  },
  "nbTranslate": {
   "displayLangs": [
    "*"
   ],
   "hotkey": "alt-t",
   "langInMainMenu": true,
   "sourceLang": "en",
   "targetLang": "fr",
   "useGoogleTranslate": true
  },
  "toc": {
   "base_numbering": 1,
   "nav_menu": {},
   "number_sections": true,
   "sideBar": true,
   "skip_h1_title": false,
   "title_cell": "Table of Contents",
   "title_sidebar": "Contents",
   "toc_cell": false,
   "toc_position": {},
   "toc_section_display": true,
   "toc_window_display": false
  },
  "varInspector": {
   "cols": {
    "lenName": 16,
    "lenType": 16,
    "lenVar": 40
   },
   "kernels_config": {
    "python": {
     "delete_cmd_postfix": "",
     "delete_cmd_prefix": "del ",
     "library": "var_list.py",
     "varRefreshCmd": "print(var_dic_list())"
    },
    "r": {
     "delete_cmd_postfix": ") ",
     "delete_cmd_prefix": "rm(",
     "library": "var_list.r",
     "varRefreshCmd": "cat(var_dic_list()) "
    }
   },
   "types_to_exclude": [
    "module",
    "function",
    "builtin_function_or_method",
    "instance",
    "_Feature"
   ],
   "window_display": false
  }
 },
 "nbformat": 4,
 "nbformat_minor": 5
}
