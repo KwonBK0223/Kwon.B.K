{
 "cells": [
  {
   "cell_type": "code",
   "execution_count": 1,
   "id": "afd02278",
   "metadata": {
    "ExecuteTime": {
     "end_time": "2022-11-02T04:11:58.304960Z",
     "start_time": "2022-11-02T04:11:58.291008Z"
    }
   },
   "outputs": [],
   "source": [
    "import numpy as np"
   ]
  },
  {
   "cell_type": "markdown",
   "id": "6e8ced52",
   "metadata": {},
   "source": [
    "# 기술 통계"
   ]
  },
  {
   "cell_type": "code",
   "execution_count": 2,
   "id": "fcb58e3f",
   "metadata": {
    "ExecuteTime": {
     "end_time": "2022-11-02T04:12:04.047598Z",
     "start_time": "2022-11-02T04:12:04.042614Z"
    }
   },
   "outputs": [],
   "source": [
    "x = np.array([18,   5,  10,  23,  19,  -8,  10,   0,   0,   5,   2,  15,   8,\n",
    "              2,   5,   4,  15,  -1,   4,  -7, -24,   7,   9,  -6,  23, -13])"
   ]
  },
  {
   "cell_type": "code",
   "execution_count": 3,
   "id": "32e037cb",
   "metadata": {
    "ExecuteTime": {
     "end_time": "2022-11-02T04:12:06.084300Z",
     "start_time": "2022-11-02T04:12:06.074288Z"
    }
   },
   "outputs": [
    {
     "data": {
      "text/plain": [
       "array([ 18,   5,  10,  23,  19,  -8,  10,   0,   0,   5,   2,  15,   8,\n",
       "         2,   5,   4,  15,  -1,   4,  -7, -24,   7,   9,  -6,  23, -13])"
      ]
     },
     "execution_count": 3,
     "metadata": {},
     "output_type": "execute_result"
    }
   ],
   "source": [
    "x"
   ]
  },
  {
   "cell_type": "code",
   "execution_count": 4,
   "id": "6b2ab322",
   "metadata": {
    "ExecuteTime": {
     "end_time": "2022-11-02T04:12:13.233575Z",
     "start_time": "2022-11-02T04:12:13.225600Z"
    }
   },
   "outputs": [
    {
     "data": {
      "text/plain": [
       "26"
      ]
     },
     "execution_count": 4,
     "metadata": {},
     "output_type": "execute_result"
    }
   ],
   "source": [
    "len(x)"
   ]
  },
  {
   "cell_type": "code",
   "execution_count": 5,
   "id": "5a765045",
   "metadata": {
    "ExecuteTime": {
     "end_time": "2022-11-02T04:12:21.660454Z",
     "start_time": "2022-11-02T04:12:21.641505Z"
    }
   },
   "outputs": [
    {
     "data": {
      "text/plain": [
       "4.8076923076923075"
      ]
     },
     "execution_count": 5,
     "metadata": {},
     "output_type": "execute_result"
    }
   ],
   "source": [
    "np.mean(x)"
   ]
  },
  {
   "cell_type": "code",
   "execution_count": 6,
   "id": "e7cbaa57",
   "metadata": {
    "ExecuteTime": {
     "end_time": "2022-11-02T04:12:25.694367Z",
     "start_time": "2022-11-02T04:12:25.689380Z"
    }
   },
   "outputs": [
    {
     "data": {
      "text/plain": [
       "115.23224852071006"
      ]
     },
     "execution_count": 6,
     "metadata": {},
     "output_type": "execute_result"
    }
   ],
   "source": [
    "np.var(x)"
   ]
  },
  {
   "cell_type": "code",
   "execution_count": 7,
   "id": "560e4750",
   "metadata": {
    "ExecuteTime": {
     "end_time": "2022-11-02T04:14:22.492571Z",
     "start_time": "2022-11-02T04:14:22.474619Z"
    }
   },
   "outputs": [
    {
     "data": {
      "text/plain": [
       "10.734628476137871"
      ]
     },
     "execution_count": 7,
     "metadata": {},
     "output_type": "execute_result"
    }
   ],
   "source": [
    "np.std(x)"
   ]
  },
  {
   "cell_type": "code",
   "execution_count": 8,
   "id": "ef039eb6",
   "metadata": {
    "ExecuteTime": {
     "end_time": "2022-11-02T04:14:28.761426Z",
     "start_time": "2022-11-02T04:14:28.745460Z"
    }
   },
   "outputs": [
    {
     "data": {
      "text/plain": [
       "23"
      ]
     },
     "execution_count": 8,
     "metadata": {},
     "output_type": "execute_result"
    }
   ],
   "source": [
    "np.max(x)"
   ]
  },
  {
   "cell_type": "code",
   "execution_count": 10,
   "id": "316cee39",
   "metadata": {
    "ExecuteTime": {
     "end_time": "2022-11-02T04:14:38.408674Z",
     "start_time": "2022-11-02T04:14:38.393390Z"
    }
   },
   "outputs": [
    {
     "data": {
      "text/plain": [
       "-24"
      ]
     },
     "execution_count": 10,
     "metadata": {},
     "output_type": "execute_result"
    }
   ],
   "source": [
    "np.min(x)"
   ]
  },
  {
   "cell_type": "code",
   "execution_count": 11,
   "id": "965c3aad",
   "metadata": {
    "ExecuteTime": {
     "end_time": "2022-11-02T04:14:51.693541Z",
     "start_time": "2022-11-02T04:14:51.673627Z"
    }
   },
   "outputs": [
    {
     "data": {
      "text/plain": [
       "5.0"
      ]
     },
     "execution_count": 11,
     "metadata": {},
     "output_type": "execute_result"
    }
   ],
   "source": [
    "np.median(x)"
   ]
  },
  {
   "cell_type": "markdown",
   "id": "8763c893",
   "metadata": {},
   "source": [
    "# 난수 발생과 카운팅"
   ]
  },
  {
   "cell_type": "markdown",
   "id": "4780e066",
   "metadata": {},
   "source": [
    "## 시드 설정하기"
   ]
  },
  {
   "cell_type": "code",
   "execution_count": 12,
   "id": "669cb92e",
   "metadata": {
    "ExecuteTime": {
     "end_time": "2022-11-02T04:16:11.511488Z",
     "start_time": "2022-11-02T04:16:11.497498Z"
    }
   },
   "outputs": [],
   "source": [
    "np.random.seed(0)"
   ]
  },
  {
   "cell_type": "code",
   "execution_count": 13,
   "id": "61dc89eb",
   "metadata": {
    "ExecuteTime": {
     "end_time": "2022-11-02T04:16:19.775683Z",
     "start_time": "2022-11-02T04:16:19.753751Z"
    }
   },
   "outputs": [
    {
     "data": {
      "text/plain": [
       "array([0.5488135 , 0.71518937, 0.60276338, 0.54488318, 0.4236548 ])"
      ]
     },
     "execution_count": 13,
     "metadata": {},
     "output_type": "execute_result"
    }
   ],
   "source": [
    "np.random.rand(5)"
   ]
  },
  {
   "cell_type": "code",
   "execution_count": 14,
   "id": "33ab3089",
   "metadata": {
    "ExecuteTime": {
     "end_time": "2022-11-02T04:17:45.444425Z",
     "start_time": "2022-11-02T04:17:45.434481Z"
    }
   },
   "outputs": [
    {
     "data": {
      "text/plain": [
       "array([0.64589411, 0.43758721, 0.891773  , 0.96366276, 0.38344152,\n",
       "       0.79172504, 0.52889492, 0.56804456, 0.92559664, 0.07103606])"
      ]
     },
     "execution_count": 14,
     "metadata": {},
     "output_type": "execute_result"
    }
   ],
   "source": [
    "np.random.rand(10)"
   ]
  },
  {
   "cell_type": "code",
   "execution_count": 15,
   "id": "5eda1bf8",
   "metadata": {
    "ExecuteTime": {
     "end_time": "2022-11-02T04:18:07.578297Z",
     "start_time": "2022-11-02T04:18:07.562676Z"
    }
   },
   "outputs": [],
   "source": [
    "np.random.seed(0)"
   ]
  },
  {
   "cell_type": "code",
   "execution_count": 16,
   "id": "7f9f0355",
   "metadata": {
    "ExecuteTime": {
     "end_time": "2022-11-02T04:18:16.335488Z",
     "start_time": "2022-11-02T04:18:16.330530Z"
    }
   },
   "outputs": [
    {
     "data": {
      "text/plain": [
       "array([0.5488135 , 0.71518937, 0.60276338, 0.54488318, 0.4236548 ])"
      ]
     },
     "execution_count": 16,
     "metadata": {},
     "output_type": "execute_result"
    }
   ],
   "source": [
    "np.random.rand(5)"
   ]
  },
  {
   "cell_type": "code",
   "execution_count": 19,
   "id": "6d0b3a0b",
   "metadata": {
    "ExecuteTime": {
     "end_time": "2022-11-02T04:18:36.330574Z",
     "start_time": "2022-11-02T04:18:36.313387Z"
    }
   },
   "outputs": [
    {
     "data": {
      "text/plain": [
       "array([0.64589411, 0.43758721, 0.891773  , 0.96366276, 0.38344152,\n",
       "       0.79172504, 0.52889492, 0.56804456, 0.92559664, 0.07103606])"
      ]
     },
     "execution_count": 19,
     "metadata": {},
     "output_type": "execute_result"
    }
   ],
   "source": [
    "np.random.rand(10)"
   ]
  },
  {
   "cell_type": "code",
   "execution_count": 20,
   "id": "c030fe7b",
   "metadata": {
    "ExecuteTime": {
     "end_time": "2022-11-02T04:18:47.456574Z",
     "start_time": "2022-11-02T04:18:47.450588Z"
    }
   },
   "outputs": [
    {
     "data": {
      "text/plain": [
       "array([0.0871293 , 0.0202184 , 0.83261985, 0.77815675, 0.87001215,\n",
       "       0.97861834, 0.79915856, 0.46147936, 0.78052918, 0.11827443])"
      ]
     },
     "execution_count": 20,
     "metadata": {},
     "output_type": "execute_result"
    }
   ],
   "source": [
    "np.random.rand(10)"
   ]
  },
  {
   "cell_type": "code",
   "execution_count": 21,
   "id": "b3a3709a",
   "metadata": {
    "ExecuteTime": {
     "end_time": "2022-11-02T04:18:58.371696Z",
     "start_time": "2022-11-02T04:18:58.361756Z"
    }
   },
   "outputs": [
    {
     "data": {
      "text/plain": [
       "array([0.63992102, 0.14335329, 0.94466892, 0.52184832, 0.41466194,\n",
       "       0.26455561, 0.77423369, 0.45615033, 0.56843395, 0.0187898 ])"
      ]
     },
     "execution_count": 21,
     "metadata": {},
     "output_type": "execute_result"
    }
   ],
   "source": [
    "np.random.rand(10)"
   ]
  },
  {
   "cell_type": "code",
   "execution_count": 22,
   "id": "98655c78",
   "metadata": {
    "ExecuteTime": {
     "end_time": "2022-11-02T04:19:00.479526Z",
     "start_time": "2022-11-02T04:19:00.473542Z"
    }
   },
   "outputs": [
    {
     "data": {
      "text/plain": [
       "array([0.6176355 , 0.61209572, 0.616934  , 0.94374808, 0.6818203 ,\n",
       "       0.3595079 , 0.43703195, 0.6976312 , 0.06022547, 0.66676672])"
      ]
     },
     "execution_count": 22,
     "metadata": {},
     "output_type": "execute_result"
    }
   ],
   "source": [
    "np.random.rand(10)"
   ]
  },
  {
   "cell_type": "markdown",
   "id": "f4aad559",
   "metadata": {},
   "source": [
    "## 데이터 순서 바꾸기"
   ]
  },
  {
   "cell_type": "code",
   "execution_count": 24,
   "id": "1399905d",
   "metadata": {
    "ExecuteTime": {
     "end_time": "2022-11-02T04:19:35.616485Z",
     "start_time": "2022-11-02T04:19:35.610531Z"
    }
   },
   "outputs": [
    {
     "data": {
      "text/plain": [
       "array([0, 1, 2, 3, 4, 5, 6, 7, 8, 9])"
      ]
     },
     "execution_count": 24,
     "metadata": {},
     "output_type": "execute_result"
    }
   ],
   "source": [
    "x = np.arange(10)\n",
    "x"
   ]
  },
  {
   "cell_type": "code",
   "execution_count": 25,
   "id": "98f84095",
   "metadata": {
    "ExecuteTime": {
     "end_time": "2022-11-02T04:19:46.607257Z",
     "start_time": "2022-11-02T04:19:46.601274Z"
    }
   },
   "outputs": [],
   "source": [
    "np.random.shuffle(x)"
   ]
  },
  {
   "cell_type": "code",
   "execution_count": 26,
   "id": "4f066d87",
   "metadata": {
    "ExecuteTime": {
     "end_time": "2022-11-02T04:19:50.390615Z",
     "start_time": "2022-11-02T04:19:50.378620Z"
    }
   },
   "outputs": [
    {
     "data": {
      "text/plain": [
       "array([5, 6, 8, 1, 4, 9, 0, 3, 2, 7])"
      ]
     },
     "execution_count": 26,
     "metadata": {},
     "output_type": "execute_result"
    }
   ],
   "source": [
    "x"
   ]
  },
  {
   "cell_type": "markdown",
   "id": "bb997cfc",
   "metadata": {},
   "source": [
    "## 데이터 샘플링"
   ]
  },
  {
   "cell_type": "code",
   "execution_count": 28,
   "id": "15098e29",
   "metadata": {
    "ExecuteTime": {
     "end_time": "2022-11-02T04:20:23.123736Z",
     "start_time": "2022-11-02T04:20:23.113792Z"
    }
   },
   "outputs": [
    {
     "data": {
      "text/plain": [
       "array([1, 4, 2, 0, 3])"
      ]
     },
     "execution_count": 28,
     "metadata": {},
     "output_type": "execute_result"
    }
   ],
   "source": [
    "np.random.choice(5,5,replace=False)"
   ]
  },
  {
   "cell_type": "code",
   "execution_count": 29,
   "id": "4d067e5a",
   "metadata": {
    "ExecuteTime": {
     "end_time": "2022-11-02T04:20:59.467573Z",
     "start_time": "2022-11-02T04:20:59.450647Z"
    }
   },
   "outputs": [
    {
     "data": {
      "text/plain": [
       "array([1, 2, 0])"
      ]
     },
     "execution_count": 29,
     "metadata": {},
     "output_type": "execute_result"
    }
   ],
   "source": [
    "np.random.choice(5,3,replace=False)"
   ]
  },
  {
   "cell_type": "code",
   "execution_count": 30,
   "id": "2be64919",
   "metadata": {
    "ExecuteTime": {
     "end_time": "2022-11-02T04:21:12.318768Z",
     "start_time": "2022-11-02T04:21:12.313750Z"
    }
   },
   "outputs": [
    {
     "data": {
      "text/plain": [
       "array([4, 0, 4, 3, 2, 0, 1, 1, 3, 0])"
      ]
     },
     "execution_count": 30,
     "metadata": {},
     "output_type": "execute_result"
    }
   ],
   "source": [
    "np.random.choice(5,10)"
   ]
  },
  {
   "cell_type": "code",
   "execution_count": 32,
   "id": "88fa8748",
   "metadata": {
    "ExecuteTime": {
     "end_time": "2022-11-02T04:21:59.269720Z",
     "start_time": "2022-11-02T04:21:59.258749Z"
    }
   },
   "outputs": [
    {
     "data": {
      "text/plain": [
       "array([3, 0, 3, 3, 3, 3, 3, 0, 3, 0])"
      ]
     },
     "execution_count": 32,
     "metadata": {},
     "output_type": "execute_result"
    }
   ],
   "source": [
    "np.random.choice(5, 10, p=[0.1, 0, 0.3, 0.6, 0])"
   ]
  },
  {
   "cell_type": "markdown",
   "id": "c0f0843a",
   "metadata": {},
   "source": [
    "## 난수 생성"
   ]
  },
  {
   "cell_type": "code",
   "execution_count": 33,
   "id": "c2ead6e5",
   "metadata": {
    "ExecuteTime": {
     "end_time": "2022-11-02T04:22:18.736645Z",
     "start_time": "2022-11-02T04:22:18.730663Z"
    }
   },
   "outputs": [
    {
     "data": {
      "text/plain": [
       "array([0.44171092, 0.97958673, 0.35944446, 0.48089353, 0.68866118,\n",
       "       0.88047589, 0.91823547, 0.21682214, 0.56518887, 0.86510256])"
      ]
     },
     "execution_count": 33,
     "metadata": {},
     "output_type": "execute_result"
    }
   ],
   "source": [
    "np.random.rand(10)"
   ]
  },
  {
   "cell_type": "code",
   "execution_count": 34,
   "id": "a071345b",
   "metadata": {
    "ExecuteTime": {
     "end_time": "2022-11-02T04:22:26.073642Z",
     "start_time": "2022-11-02T04:22:26.057992Z"
    }
   },
   "outputs": [
    {
     "data": {
      "text/plain": [
       "array([[0.50896896, 0.91672295, 0.92115761, 0.08311249, 0.27771856],\n",
       "       [0.0093567 , 0.84234208, 0.64717414, 0.84138612, 0.26473016],\n",
       "       [0.39782075, 0.55282148, 0.16494046, 0.36980809, 0.14644176]])"
      ]
     },
     "execution_count": 34,
     "metadata": {},
     "output_type": "execute_result"
    }
   ],
   "source": [
    "np.random.rand(3,5)"
   ]
  },
  {
   "cell_type": "code",
   "execution_count": 36,
   "id": "e36de8ae",
   "metadata": {
    "ExecuteTime": {
     "end_time": "2022-11-02T04:22:49.919613Z",
     "start_time": "2022-11-02T04:22:49.914657Z"
    }
   },
   "outputs": [
    {
     "data": {
      "text/plain": [
       "array([ 1.73719932,  0.59361275, -0.54236358, -1.71967238, -0.57890879,\n",
       "        1.42694855,  0.27699691,  0.78966713,  0.32207411,  0.70039238])"
      ]
     },
     "execution_count": 36,
     "metadata": {},
     "output_type": "execute_result"
    }
   ],
   "source": [
    "np.random.randn(10)"
   ]
  },
  {
   "cell_type": "code",
   "execution_count": 38,
   "id": "6343bee6",
   "metadata": {
    "ExecuteTime": {
     "end_time": "2022-11-02T04:23:02.043608Z",
     "start_time": "2022-11-02T04:23:02.026686Z"
    }
   },
   "outputs": [
    {
     "data": {
      "text/plain": [
       "array([[ 2.32773811,  1.80440397, -0.24942133, -0.82086383, -1.49333996],\n",
       "       [ 0.52417595,  0.34511317,  0.72437468, -2.04038084, -1.0797781 ],\n",
       "       [-0.69342441, -2.33804615,  1.66226234, -0.27535274, -0.74657045]])"
      ]
     },
     "execution_count": 38,
     "metadata": {},
     "output_type": "execute_result"
    }
   ],
   "source": [
    "np.random.randn(3, 5)"
   ]
  },
  {
   "cell_type": "markdown",
   "id": "f58028c3",
   "metadata": {},
   "source": [
    "## 정수 데이터 카운팅"
   ]
  },
  {
   "cell_type": "code",
   "execution_count": 39,
   "id": "07dbfcfc",
   "metadata": {
    "ExecuteTime": {
     "end_time": "2022-11-02T04:23:36.425866Z",
     "start_time": "2022-11-02T04:23:36.410935Z"
    }
   },
   "outputs": [
    {
     "data": {
      "text/plain": [
       "array([ 2, 11, 34])"
      ]
     },
     "execution_count": 39,
     "metadata": {},
     "output_type": "execute_result"
    }
   ],
   "source": [
    "np.unique([11,11,2,2,34,34])"
   ]
  },
  {
   "cell_type": "code",
   "execution_count": 40,
   "id": "4b27662b",
   "metadata": {
    "ExecuteTime": {
     "end_time": "2022-11-02T04:23:49.085972Z",
     "start_time": "2022-11-02T04:23:49.082012Z"
    }
   },
   "outputs": [],
   "source": [
    "a = np.array(['a', 'b', 'b', 'c', 'a'])\n",
    "index, count = np.unique(a, return_counts=True)"
   ]
  },
  {
   "cell_type": "code",
   "execution_count": 41,
   "id": "dfabaa9b",
   "metadata": {
    "ExecuteTime": {
     "end_time": "2022-11-02T04:23:52.641703Z",
     "start_time": "2022-11-02T04:23:52.633727Z"
    }
   },
   "outputs": [
    {
     "data": {
      "text/plain": [
       "array(['a', 'b', 'c'], dtype='<U1')"
      ]
     },
     "execution_count": 41,
     "metadata": {},
     "output_type": "execute_result"
    }
   ],
   "source": [
    "index"
   ]
  },
  {
   "cell_type": "code",
   "execution_count": 42,
   "id": "ce2f175e",
   "metadata": {
    "ExecuteTime": {
     "end_time": "2022-11-02T04:23:55.172672Z",
     "start_time": "2022-11-02T04:23:55.161703Z"
    }
   },
   "outputs": [
    {
     "data": {
      "text/plain": [
       "array([2, 2, 1], dtype=int64)"
      ]
     },
     "execution_count": 42,
     "metadata": {},
     "output_type": "execute_result"
    }
   ],
   "source": [
    "count"
   ]
  },
  {
   "cell_type": "code",
   "execution_count": 43,
   "id": "d9d52097",
   "metadata": {
    "ExecuteTime": {
     "end_time": "2022-11-02T04:24:00.813595Z",
     "start_time": "2022-11-02T04:24:00.793649Z"
    }
   },
   "outputs": [
    {
     "data": {
      "text/plain": [
       "array([0, 2, 3, 1, 0, 0], dtype=int64)"
      ]
     },
     "execution_count": 43,
     "metadata": {},
     "output_type": "execute_result"
    }
   ],
   "source": [
    "np.bincount([1, 1, 2, 2, 2, 3], minlength=6)"
   ]
  },
  {
   "cell_type": "code",
   "execution_count": null,
   "id": "e74782b3",
   "metadata": {},
   "outputs": [],
   "source": []
  }
 ],
 "metadata": {
  "kernelspec": {
   "display_name": "Python 3",
   "language": "python",
   "name": "python3"
  },
  "language_info": {
   "codemirror_mode": {
    "name": "ipython",
    "version": 3
   },
   "file_extension": ".py",
   "mimetype": "text/x-python",
   "name": "python",
   "nbconvert_exporter": "python",
   "pygments_lexer": "ipython3",
   "version": "3.8.8"
  },
  "nbTranslate": {
   "displayLangs": [
    "*"
   ],
   "hotkey": "alt-t",
   "langInMainMenu": true,
   "sourceLang": "en",
   "targetLang": "fr",
   "useGoogleTranslate": true
  },
  "toc": {
   "base_numbering": 1,
   "nav_menu": {},
   "number_sections": true,
   "sideBar": true,
   "skip_h1_title": false,
   "title_cell": "Table of Contents",
   "title_sidebar": "Contents",
   "toc_cell": false,
   "toc_position": {},
   "toc_section_display": true,
   "toc_window_display": false
  },
  "varInspector": {
   "cols": {
    "lenName": 16,
    "lenType": 16,
    "lenVar": 40
   },
   "kernels_config": {
    "python": {
     "delete_cmd_postfix": "",
     "delete_cmd_prefix": "del ",
     "library": "var_list.py",
     "varRefreshCmd": "print(var_dic_list())"
    },
    "r": {
     "delete_cmd_postfix": ") ",
     "delete_cmd_prefix": "rm(",
     "library": "var_list.r",
     "varRefreshCmd": "cat(var_dic_list()) "
    }
   },
   "types_to_exclude": [
    "module",
    "function",
    "builtin_function_or_method",
    "instance",
    "_Feature"
   ],
   "window_display": false
  }
 },
 "nbformat": 4,
 "nbformat_minor": 5
}
