{
 "cells": [
  {
   "cell_type": "code",
   "execution_count": 1,
   "id": "950d9c67",
   "metadata": {
    "ExecuteTime": {
     "end_time": "2022-10-26T04:03:11.875927Z",
     "start_time": "2022-10-26T04:03:11.867919Z"
    }
   },
   "outputs": [],
   "source": [
    "import numpy as np"
   ]
  },
  {
   "cell_type": "markdown",
   "id": "120ec566",
   "metadata": {},
   "source": [
    "# 넘파이 배열"
   ]
  },
  {
   "cell_type": "markdown",
   "id": "6466cce4",
   "metadata": {},
   "source": [
    "## 배열의 인덱싱"
   ]
  },
  {
   "cell_type": "markdown",
   "id": "35e44108",
   "metadata": {},
   "source": [
    "찾아 보는것"
   ]
  },
  {
   "cell_type": "code",
   "execution_count": 2,
   "id": "063e3e4f",
   "metadata": {
    "ExecuteTime": {
     "end_time": "2022-10-26T04:20:29.456607Z",
     "start_time": "2022-10-26T04:20:29.448628Z"
    }
   },
   "outputs": [],
   "source": [
    "a = np.array([0,1,2,3,4])"
   ]
  },
  {
   "cell_type": "code",
   "execution_count": 3,
   "id": "7ec210bc",
   "metadata": {
    "ExecuteTime": {
     "end_time": "2022-10-26T04:20:31.002691Z",
     "start_time": "2022-10-26T04:20:30.984760Z"
    }
   },
   "outputs": [
    {
     "data": {
      "text/plain": [
       "2"
      ]
     },
     "execution_count": 3,
     "metadata": {},
     "output_type": "execute_result"
    }
   ],
   "source": [
    "a[2]"
   ]
  },
  {
   "cell_type": "code",
   "execution_count": 4,
   "id": "76c3d6fa",
   "metadata": {
    "ExecuteTime": {
     "end_time": "2022-10-26T04:20:35.262616Z",
     "start_time": "2022-10-26T04:20:35.255636Z"
    }
   },
   "outputs": [
    {
     "data": {
      "text/plain": [
       "4"
      ]
     },
     "execution_count": 4,
     "metadata": {},
     "output_type": "execute_result"
    }
   ],
   "source": [
    "a[-1]"
   ]
  },
  {
   "cell_type": "code",
   "execution_count": 5,
   "id": "02ff90a3",
   "metadata": {
    "ExecuteTime": {
     "end_time": "2022-10-26T04:21:02.641058Z",
     "start_time": "2022-10-26T04:21:02.632087Z"
    }
   },
   "outputs": [
    {
     "data": {
      "text/plain": [
       "array([[0, 1, 2],\n",
       "       [3, 4, 5]])"
      ]
     },
     "execution_count": 5,
     "metadata": {},
     "output_type": "execute_result"
    }
   ],
   "source": [
    "a = np.array([[0,1,2],[3,4,5]])\n",
    "a"
   ]
  },
  {
   "cell_type": "code",
   "execution_count": 10,
   "id": "494623b3",
   "metadata": {
    "ExecuteTime": {
     "end_time": "2022-10-26T04:22:51.893869Z",
     "start_time": "2022-10-26T04:22:51.880895Z"
    }
   },
   "outputs": [
    {
     "data": {
      "text/plain": [
       "0"
      ]
     },
     "execution_count": 10,
     "metadata": {},
     "output_type": "execute_result"
    }
   ],
   "source": [
    "a [0,0]"
   ]
  },
  {
   "cell_type": "code",
   "execution_count": 11,
   "id": "02420ad2",
   "metadata": {
    "ExecuteTime": {
     "end_time": "2022-10-26T04:22:57.613864Z",
     "start_time": "2022-10-26T04:22:57.607899Z"
    }
   },
   "outputs": [
    {
     "data": {
      "text/plain": [
       "1"
      ]
     },
     "execution_count": 11,
     "metadata": {},
     "output_type": "execute_result"
    }
   ],
   "source": [
    "a[0,1]"
   ]
  },
  {
   "cell_type": "code",
   "execution_count": 12,
   "id": "0b01ca67",
   "metadata": {
    "ExecuteTime": {
     "end_time": "2022-10-26T04:23:01.584798Z",
     "start_time": "2022-10-26T04:23:01.576819Z"
    }
   },
   "outputs": [
    {
     "data": {
      "text/plain": [
       "5"
      ]
     },
     "execution_count": 12,
     "metadata": {},
     "output_type": "execute_result"
    }
   ],
   "source": [
    "a[-1,-1]"
   ]
  },
  {
   "cell_type": "markdown",
   "id": "c718566e",
   "metadata": {},
   "source": [
    "## 배열의 슬라이싱"
   ]
  },
  {
   "cell_type": "code",
   "execution_count": 31,
   "id": "acdb0ccc",
   "metadata": {
    "ExecuteTime": {
     "end_time": "2022-10-26T04:44:48.430773Z",
     "start_time": "2022-10-26T04:44:48.424782Z"
    }
   },
   "outputs": [
    {
     "data": {
      "text/plain": [
       "array([[0, 1, 2, 3],\n",
       "       [4, 5, 6, 7]])"
      ]
     },
     "execution_count": 31,
     "metadata": {},
     "output_type": "execute_result"
    }
   ],
   "source": [
    "a = np.array([[0,1,2,3],[4,5,6,7]])\n",
    "a"
   ]
  },
  {
   "cell_type": "code",
   "execution_count": 15,
   "id": "fce75fb1",
   "metadata": {
    "ExecuteTime": {
     "end_time": "2022-10-26T04:32:30.631016Z",
     "start_time": "2022-10-26T04:32:30.615887Z"
    }
   },
   "outputs": [
    {
     "data": {
      "text/plain": [
       "array([0, 1, 2, 3])"
      ]
     },
     "execution_count": 15,
     "metadata": {},
     "output_type": "execute_result"
    }
   ],
   "source": [
    "a[0,:]"
   ]
  },
  {
   "cell_type": "code",
   "execution_count": 16,
   "id": "311f5fca",
   "metadata": {
    "ExecuteTime": {
     "end_time": "2022-10-26T04:32:45.039923Z",
     "start_time": "2022-10-26T04:32:45.031944Z"
    }
   },
   "outputs": [
    {
     "data": {
      "text/plain": [
       "array([1, 5])"
      ]
     },
     "execution_count": 16,
     "metadata": {},
     "output_type": "execute_result"
    }
   ],
   "source": [
    "a[:,1]"
   ]
  },
  {
   "cell_type": "code",
   "execution_count": 17,
   "id": "3e1b9cd8",
   "metadata": {
    "ExecuteTime": {
     "end_time": "2022-10-26T04:32:56.050937Z",
     "start_time": "2022-10-26T04:32:56.039939Z"
    }
   },
   "outputs": [
    {
     "data": {
      "text/plain": [
       "array([5, 6, 7])"
      ]
     },
     "execution_count": 17,
     "metadata": {},
     "output_type": "execute_result"
    }
   ],
   "source": [
    "a[1,1:]"
   ]
  },
  {
   "cell_type": "code",
   "execution_count": 18,
   "id": "b446e9de",
   "metadata": {
    "ExecuteTime": {
     "end_time": "2022-10-26T04:33:09.863565Z",
     "start_time": "2022-10-26T04:33:09.848918Z"
    }
   },
   "outputs": [
    {
     "data": {
      "text/plain": [
       "array([[0, 1],\n",
       "       [4, 5]])"
      ]
     },
     "execution_count": 18,
     "metadata": {},
     "output_type": "execute_result"
    }
   ],
   "source": [
    "a[:2,:2]"
   ]
  },
  {
   "cell_type": "markdown",
   "id": "87a31367",
   "metadata": {},
   "source": [
    "<p class=\"admonition-title\">연습 문제 2</p>\n",
    "<p>다음 행렬과 같은 행렬이 있다.</p>\n",
    "<div class=\"highlight-default notranslate\"><div class=\"highlight\"><pre><span></span><span class=\"n\">m</span> <span class=\"o\">=</span> <span class=\"n\">np</span><span class=\"o\">.</span><span class=\"n\">array</span><span class=\"p\">([[</span> <span class=\"mi\">0</span><span class=\"p\">,</span>  <span class=\"mi\">1</span><span class=\"p\">,</span>  <span class=\"mi\">2</span><span class=\"p\">,</span>  <span class=\"mi\">3</span><span class=\"p\">,</span>  <span class=\"mi\">4</span><span class=\"p\">],</span>\n",
    "            <span class=\"p\">[</span> <span class=\"mi\">5</span><span class=\"p\">,</span>  <span class=\"mi\">6</span><span class=\"p\">,</span>  <span class=\"mi\">7</span><span class=\"p\">,</span>  <span class=\"mi\">8</span><span class=\"p\">,</span>  <span class=\"mi\">9</span><span class=\"p\">],</span>\n",
    "            <span class=\"p\">[</span><span class=\"mi\">10</span><span class=\"p\">,</span> <span class=\"mi\">11</span><span class=\"p\">,</span> <span class=\"mi\">12</span><span class=\"p\">,</span> <span class=\"mi\">13</span><span class=\"p\">,</span> <span class=\"mi\">14</span><span class=\"p\">]])</span>\n",
    "</pre></div>\n",
    "</div>\n",
    "<ol class=\"simple\">\n",
    "<li><p>이 행렬에서 값 7 을 인덱싱한다.</p></li>\n",
    "<li><p>이 행렬에서 값 14 을 인덱싱한다.</p></li>\n",
    "<li><p>이 행렬에서 배열 [6, 7] 을 슬라이싱한다.</p></li>\n",
    "<li><p>이 행렬에서 배열 [7, 12] 을 슬라이싱한다.</p></li>\n",
    "<li><p>이 행렬에서 배열 [[3, 4], [8, 9]] 을 슬라이싱한다.</p></li>"
   ]
  },
  {
   "cell_type": "code",
   "execution_count": 32,
   "id": "e3879136",
   "metadata": {
    "ExecuteTime": {
     "end_time": "2022-10-26T04:45:17.071211Z",
     "start_time": "2022-10-26T04:45:17.065179Z"
    }
   },
   "outputs": [],
   "source": [
    "m = np.array([[0,1,2,3,4],[5,6,7,8,9],[10,11,12,13,14]])"
   ]
  },
  {
   "cell_type": "code",
   "execution_count": 33,
   "id": "1609a787",
   "metadata": {
    "ExecuteTime": {
     "end_time": "2022-10-26T04:45:27.923275Z",
     "start_time": "2022-10-26T04:45:27.912343Z"
    }
   },
   "outputs": [
    {
     "data": {
      "text/plain": [
       "array([[ 0,  1,  2,  3,  4],\n",
       "       [ 5,  6,  7,  8,  9],\n",
       "       [10, 11, 12, 13, 14]])"
      ]
     },
     "execution_count": 33,
     "metadata": {},
     "output_type": "execute_result"
    }
   ],
   "source": [
    "m"
   ]
  },
  {
   "cell_type": "code",
   "execution_count": 37,
   "id": "d8b2a704",
   "metadata": {
    "ExecuteTime": {
     "end_time": "2022-10-26T04:46:17.052826Z",
     "start_time": "2022-10-26T04:46:17.033308Z"
    }
   },
   "outputs": [
    {
     "data": {
      "text/plain": [
       "7"
      ]
     },
     "execution_count": 37,
     "metadata": {},
     "output_type": "execute_result"
    }
   ],
   "source": [
    "#1\n",
    "m[1,2]"
   ]
  },
  {
   "cell_type": "code",
   "execution_count": 38,
   "id": "052f6ac4",
   "metadata": {
    "ExecuteTime": {
     "end_time": "2022-10-26T04:46:29.529329Z",
     "start_time": "2022-10-26T04:46:29.512400Z"
    }
   },
   "outputs": [
    {
     "data": {
      "text/plain": [
       "14"
      ]
     },
     "execution_count": 38,
     "metadata": {},
     "output_type": "execute_result"
    }
   ],
   "source": [
    "#2\n",
    "m[-1,-1]"
   ]
  },
  {
   "cell_type": "code",
   "execution_count": 40,
   "id": "efe533f1",
   "metadata": {
    "ExecuteTime": {
     "end_time": "2022-10-26T04:47:11.549280Z",
     "start_time": "2022-10-26T04:47:11.545292Z"
    }
   },
   "outputs": [
    {
     "data": {
      "text/plain": [
       "array([6, 7])"
      ]
     },
     "execution_count": 40,
     "metadata": {},
     "output_type": "execute_result"
    }
   ],
   "source": [
    "#3\n",
    "m[1,1:3]"
   ]
  },
  {
   "cell_type": "code",
   "execution_count": 43,
   "id": "a52e7860",
   "metadata": {
    "ExecuteTime": {
     "end_time": "2022-10-26T04:48:10.887366Z",
     "start_time": "2022-10-26T04:48:10.873451Z"
    }
   },
   "outputs": [
    {
     "data": {
      "text/plain": [
       "array([ 7, 12])"
      ]
     },
     "execution_count": 43,
     "metadata": {},
     "output_type": "execute_result"
    }
   ],
   "source": [
    "#4\n",
    "m[1:,2]"
   ]
  },
  {
   "cell_type": "code",
   "execution_count": 47,
   "id": "46a26217",
   "metadata": {
    "ExecuteTime": {
     "end_time": "2022-10-26T04:49:10.022565Z",
     "start_time": "2022-10-26T04:49:10.008542Z"
    }
   },
   "outputs": [
    {
     "data": {
      "text/plain": [
       "array([[3, 4],\n",
       "       [8, 9]])"
      ]
     },
     "execution_count": 47,
     "metadata": {},
     "output_type": "execute_result"
    }
   ],
   "source": [
    "#5\n",
    "m[:2,3:]"
   ]
  },
  {
   "cell_type": "markdown",
   "id": "71c4eaf8",
   "metadata": {},
   "source": [
    "## 배열 인덱싱"
   ]
  },
  {
   "cell_type": "code",
   "execution_count": 22,
   "id": "c1362870",
   "metadata": {
    "ExecuteTime": {
     "end_time": "2022-10-26T04:35:03.876694Z",
     "start_time": "2022-10-26T04:35:03.865084Z"
    }
   },
   "outputs": [
    {
     "data": {
      "text/plain": [
       "array([0, 2, 4, 6, 8])"
      ]
     },
     "execution_count": 22,
     "metadata": {},
     "output_type": "execute_result"
    }
   ],
   "source": [
    "a = np.array([0, 1, 2, 3, 4, 5, 6, 7, 8, 9])\n",
    "idx = np.array([True, False, True, False, True,\n",
    "                False, True, False, True, False])\n",
    "a[idx]"
   ]
  },
  {
   "cell_type": "code",
   "execution_count": 23,
   "id": "e0e8c508",
   "metadata": {
    "ExecuteTime": {
     "end_time": "2022-10-26T04:35:04.267120Z",
     "start_time": "2022-10-26T04:35:04.249169Z"
    }
   },
   "outputs": [
    {
     "data": {
      "text/plain": [
       "array([0, 1, 0, 1, 0, 1, 0, 1, 0, 1], dtype=int32)"
      ]
     },
     "execution_count": 23,
     "metadata": {},
     "output_type": "execute_result"
    }
   ],
   "source": [
    "a%2"
   ]
  },
  {
   "cell_type": "code",
   "execution_count": 24,
   "id": "b7840046",
   "metadata": {
    "ExecuteTime": {
     "end_time": "2022-10-26T04:35:04.655486Z",
     "start_time": "2022-10-26T04:35:04.649484Z"
    }
   },
   "outputs": [
    {
     "data": {
      "text/plain": [
       "array([ True, False,  True, False,  True, False,  True, False,  True,\n",
       "       False])"
      ]
     },
     "execution_count": 24,
     "metadata": {},
     "output_type": "execute_result"
    }
   ],
   "source": [
    "a%2 == 0"
   ]
  },
  {
   "cell_type": "code",
   "execution_count": 25,
   "id": "8af8568c",
   "metadata": {
    "ExecuteTime": {
     "end_time": "2022-10-26T04:35:12.617080Z",
     "start_time": "2022-10-26T04:35:12.600086Z"
    }
   },
   "outputs": [
    {
     "data": {
      "text/plain": [
       "array([0, 2, 4, 6, 8])"
      ]
     },
     "execution_count": 25,
     "metadata": {},
     "output_type": "execute_result"
    }
   ],
   "source": [
    "a[a%2==0]"
   ]
  },
  {
   "cell_type": "code",
   "execution_count": 26,
   "id": "375e7287",
   "metadata": {
    "ExecuteTime": {
     "end_time": "2022-10-26T04:35:23.757297Z",
     "start_time": "2022-10-26T04:35:23.736384Z"
    }
   },
   "outputs": [
    {
     "data": {
      "text/plain": [
       "array([11, 33, 55, 77, 99])"
      ]
     },
     "execution_count": 26,
     "metadata": {},
     "output_type": "execute_result"
    }
   ],
   "source": [
    "a = np.array([11, 22, 33, 44, 55, 66, 77, 88, 99])\n",
    "idx = np.array([0, 2, 4, 6, 8])\n",
    "a[idx]"
   ]
  },
  {
   "cell_type": "code",
   "execution_count": 27,
   "id": "8d8b1057",
   "metadata": {
    "ExecuteTime": {
     "end_time": "2022-10-26T04:35:28.943120Z",
     "start_time": "2022-10-26T04:35:28.936108Z"
    }
   },
   "outputs": [
    {
     "data": {
      "text/plain": [
       "array([11, 11, 11, 11, 11, 11, 22, 22, 22, 22, 22, 33, 33, 33, 33, 33])"
      ]
     },
     "execution_count": 27,
     "metadata": {},
     "output_type": "execute_result"
    }
   ],
   "source": [
    "a = np.array([11, 22, 33, 44, 55, 66, 77, 88, 99])\n",
    "idx = np.array([0, 0, 0, 0, 0, 0, 1, 1, 1, 1, 1, 2, 2, 2, 2, 2])\n",
    "a[idx]"
   ]
  },
  {
   "cell_type": "code",
   "execution_count": 28,
   "id": "16ec1ac2",
   "metadata": {
    "ExecuteTime": {
     "end_time": "2022-10-26T04:35:57.233991Z",
     "start_time": "2022-10-26T04:35:57.225015Z"
    }
   },
   "outputs": [
    {
     "data": {
      "text/plain": [
       "array([[ 1,  2,  3,  4],\n",
       "       [ 5,  6,  7,  8],\n",
       "       [ 9, 10, 11, 12]])"
      ]
     },
     "execution_count": 28,
     "metadata": {},
     "output_type": "execute_result"
    }
   ],
   "source": [
    "a = np.array([[1, 2, 3, 4], [5, 6, 7, 8], [9, 10, 11, 12]])\n",
    "a"
   ]
  },
  {
   "cell_type": "code",
   "execution_count": 29,
   "id": "34bfd080",
   "metadata": {
    "ExecuteTime": {
     "end_time": "2022-10-26T04:36:02.601307Z",
     "start_time": "2022-10-26T04:36:02.584385Z"
    }
   },
   "outputs": [
    {
     "data": {
      "text/plain": [
       "array([[ 1,  4],\n",
       "       [ 5,  8],\n",
       "       [ 9, 12]])"
      ]
     },
     "execution_count": 29,
     "metadata": {},
     "output_type": "execute_result"
    }
   ],
   "source": [
    "a[:, [True, False, False, True]]"
   ]
  },
  {
   "cell_type": "markdown",
   "id": "5ce863a1",
   "metadata": {},
   "source": [
    "특정 열 골라내기"
   ]
  },
  {
   "cell_type": "code",
   "execution_count": 30,
   "id": "35958858",
   "metadata": {
    "ExecuteTime": {
     "end_time": "2022-10-26T04:36:12.544130Z",
     "start_time": "2022-10-26T04:36:12.536124Z"
    }
   },
   "outputs": [
    {
     "data": {
      "text/plain": [
       "array([[ 9, 10, 11, 12],\n",
       "       [ 1,  2,  3,  4],\n",
       "       [ 5,  6,  7,  8]])"
      ]
     },
     "execution_count": 30,
     "metadata": {},
     "output_type": "execute_result"
    }
   ],
   "source": [
    "a[[2, 0, 1], :]"
   ]
  },
  {
   "cell_type": "markdown",
   "id": "fd6ca587",
   "metadata": {},
   "source": [
    "행의 순서 바꾸기"
   ]
  },
  {
   "cell_type": "markdown",
   "id": "9d795d5d",
   "metadata": {},
   "source": [
    "=========================================================="
   ]
  },
  {
   "cell_type": "markdown",
   "id": "15136b45",
   "metadata": {},
   "source": [
    "<p class=\"admonition-title\">연습 문제 3</p>\n",
    "<p>다음 행렬과 같은 배열이 있다.</p>\n",
    "<div class=\"highlight-default notranslate\"><div class=\"highlight\"><pre><span></span><span class=\"n\">x</span> <span class=\"o\">=</span> <span class=\"n\">np</span><span class=\"o\">.</span><span class=\"n\">array</span><span class=\"p\">([</span><span class=\"mi\">1</span><span class=\"p\">,</span> <span class=\"mi\">2</span><span class=\"p\">,</span> <span class=\"mi\">3</span><span class=\"p\">,</span> <span class=\"mi\">4</span><span class=\"p\">,</span> <span class=\"mi\">5</span><span class=\"p\">,</span> <span class=\"mi\">6</span><span class=\"p\">,</span> <span class=\"mi\">7</span><span class=\"p\">,</span> <span class=\"mi\">8</span><span class=\"p\">,</span> <span class=\"mi\">9</span><span class=\"p\">,</span> <span class=\"mi\">10</span><span class=\"p\">,</span>\n",
    "             <span class=\"mi\">11</span><span class=\"p\">,</span> <span class=\"mi\">12</span><span class=\"p\">,</span> <span class=\"mi\">13</span><span class=\"p\">,</span> <span class=\"mi\">14</span><span class=\"p\">,</span> <span class=\"mi\">15</span><span class=\"p\">,</span> <span class=\"mi\">16</span><span class=\"p\">,</span> <span class=\"mi\">17</span><span class=\"p\">,</span> <span class=\"mi\">18</span><span class=\"p\">,</span> <span class=\"mi\">19</span><span class=\"p\">,</span> <span class=\"mi\">20</span><span class=\"p\">])</span>\n",
    "</pre></div>\n",
    "</div>\n",
    "<ol class=\"simple\">\n",
    "<li><p>이 배열에서 3의 배수를 찾아라.</p></li>\n",
    "<li><p>이 배열에서 4로 나누면 1이 남는 수를 찾아라.</p></li>\n",
    "<li><p>이 배열에서 3으로 나누면 나누어지고 4로 나누면 1이 남는 수를 찾아라.</p></li>"
   ]
  },
  {
   "cell_type": "code",
   "execution_count": 49,
   "id": "20377840",
   "metadata": {
    "ExecuteTime": {
     "end_time": "2022-10-26T04:49:31.235397Z",
     "start_time": "2022-10-26T04:49:31.224394Z"
    }
   },
   "outputs": [
    {
     "data": {
      "text/plain": [
       "array([ 1,  2,  3,  4,  5,  6,  7,  8,  9, 10, 11, 12, 13, 14, 15, 16, 17,\n",
       "       18, 19, 20])"
      ]
     },
     "execution_count": 49,
     "metadata": {},
     "output_type": "execute_result"
    }
   ],
   "source": [
    "x = np.array([1, 2, 3, 4, 5, 6, 7, 8, 9, 10,\n",
    "             11, 12, 13, 14, 15, 16, 17, 18, 19, 20])\n",
    "x"
   ]
  },
  {
   "cell_type": "code",
   "execution_count": 53,
   "id": "4cca3250",
   "metadata": {
    "ExecuteTime": {
     "end_time": "2022-10-26T04:51:15.021418Z",
     "start_time": "2022-10-26T04:51:15.017438Z"
    }
   },
   "outputs": [
    {
     "data": {
      "text/plain": [
       "array([ 3,  6,  9, 12, 15, 18])"
      ]
     },
     "execution_count": 53,
     "metadata": {},
     "output_type": "execute_result"
    }
   ],
   "source": [
    "#1\n",
    "x[x % 3 == 0]"
   ]
  },
  {
   "cell_type": "code",
   "execution_count": 54,
   "id": "4b1290fc",
   "metadata": {
    "ExecuteTime": {
     "end_time": "2022-10-26T04:52:59.849921Z",
     "start_time": "2022-10-26T04:52:59.835605Z"
    }
   },
   "outputs": [
    {
     "data": {
      "text/plain": [
       "array([ 1,  5,  9, 13, 17])"
      ]
     },
     "execution_count": 54,
     "metadata": {},
     "output_type": "execute_result"
    }
   ],
   "source": [
    "#2\n",
    "x[x % 4 == 1]"
   ]
  },
  {
   "cell_type": "code",
   "execution_count": 55,
   "id": "356ece7d",
   "metadata": {
    "ExecuteTime": {
     "end_time": "2022-10-26T04:54:47.377466Z",
     "start_time": "2022-10-26T04:54:47.369480Z"
    }
   },
   "outputs": [
    {
     "data": {
      "text/plain": [
       "array([9])"
      ]
     },
     "execution_count": 55,
     "metadata": {},
     "output_type": "execute_result"
    }
   ],
   "source": [
    "#3\n",
    "x[(x % 3 == 0)&(x % 4 == 1)]"
   ]
  },
  {
   "cell_type": "markdown",
   "id": "ea7f5e65",
   "metadata": {},
   "source": [
    "# 배열의 생성과 변형"
   ]
  },
  {
   "cell_type": "markdown",
   "id": "539344f0",
   "metadata": {},
   "source": [
    "## 넘파이의 자료형"
   ]
  },
  {
   "cell_type": "code",
   "execution_count": 56,
   "id": "dd1ca4ba",
   "metadata": {
    "ExecuteTime": {
     "end_time": "2022-10-26T05:05:33.085710Z",
     "start_time": "2022-10-26T05:05:33.065764Z"
    }
   },
   "outputs": [
    {
     "data": {
      "text/plain": [
       "dtype('int32')"
      ]
     },
     "execution_count": 56,
     "metadata": {},
     "output_type": "execute_result"
    }
   ],
   "source": [
    "x = np.array([1, 2, 3])\n",
    "x.dtype"
   ]
  },
  {
   "cell_type": "code",
   "execution_count": 57,
   "id": "04ea55ab",
   "metadata": {
    "ExecuteTime": {
     "end_time": "2022-10-26T05:05:37.336242Z",
     "start_time": "2022-10-26T05:05:37.321269Z"
    }
   },
   "outputs": [
    {
     "data": {
      "text/plain": [
       "dtype('float64')"
      ]
     },
     "execution_count": 57,
     "metadata": {},
     "output_type": "execute_result"
    }
   ],
   "source": [
    "x = np.array([1.0, 2.0, 3.0])\n",
    "x.dtype"
   ]
  },
  {
   "cell_type": "code",
   "execution_count": 58,
   "id": "888075d4",
   "metadata": {
    "ExecuteTime": {
     "end_time": "2022-10-26T05:05:41.383396Z",
     "start_time": "2022-10-26T05:05:41.369433Z"
    }
   },
   "outputs": [
    {
     "data": {
      "text/plain": [
       "dtype('float64')"
      ]
     },
     "execution_count": 58,
     "metadata": {},
     "output_type": "execute_result"
    }
   ],
   "source": [
    "x = np.array([1, 2, 3.0])\n",
    "x.dtype"
   ]
  },
  {
   "cell_type": "code",
   "execution_count": 59,
   "id": "ecb8f1a6",
   "metadata": {
    "ExecuteTime": {
     "end_time": "2022-10-26T05:05:50.331117Z",
     "start_time": "2022-10-26T05:05:50.313162Z"
    }
   },
   "outputs": [
    {
     "data": {
      "text/plain": [
       "dtype('float32')"
      ]
     },
     "execution_count": 59,
     "metadata": {},
     "output_type": "execute_result"
    }
   ],
   "source": [
    "x = np.array([1, 2, 3], dtype='f')\n",
    "x.dtype"
   ]
  },
  {
   "cell_type": "code",
   "execution_count": 60,
   "id": "7937a921",
   "metadata": {
    "ExecuteTime": {
     "end_time": "2022-10-26T05:05:54.818419Z",
     "start_time": "2022-10-26T05:05:54.808445Z"
    }
   },
   "outputs": [
    {
     "data": {
      "text/plain": [
       "3.0"
      ]
     },
     "execution_count": 60,
     "metadata": {},
     "output_type": "execute_result"
    }
   ],
   "source": [
    "x[0] + x[1]"
   ]
  },
  {
   "cell_type": "code",
   "execution_count": 61,
   "id": "ca3baae8",
   "metadata": {
    "ExecuteTime": {
     "end_time": "2022-10-26T05:06:00.278507Z",
     "start_time": "2022-10-26T05:06:00.264541Z"
    }
   },
   "outputs": [
    {
     "data": {
      "text/plain": [
       "dtype('<U1')"
      ]
     },
     "execution_count": 61,
     "metadata": {},
     "output_type": "execute_result"
    }
   ],
   "source": [
    "x = np.array([1, 2, 3], dtype='U')\n",
    "x.dtype"
   ]
  },
  {
   "cell_type": "code",
   "execution_count": 62,
   "id": "5d843e0f",
   "metadata": {
    "ExecuteTime": {
     "end_time": "2022-10-26T05:06:04.741520Z",
     "start_time": "2022-10-26T05:06:04.728555Z"
    }
   },
   "outputs": [
    {
     "data": {
      "text/plain": [
       "'12'"
      ]
     },
     "execution_count": 62,
     "metadata": {},
     "output_type": "execute_result"
    }
   ],
   "source": [
    "x[0] + x[1]"
   ]
  },
  {
   "cell_type": "markdown",
   "id": "09f6a67f",
   "metadata": {},
   "source": [
    "## Inf와 NaN"
   ]
  },
  {
   "cell_type": "code",
   "execution_count": 63,
   "id": "42cd55cc",
   "metadata": {
    "ExecuteTime": {
     "end_time": "2022-10-26T05:09:10.963695Z",
     "start_time": "2022-10-26T05:09:10.953725Z"
    }
   },
   "outputs": [
    {
     "name": "stderr",
     "output_type": "stream",
     "text": [
      "<ipython-input-63-6ab12ec6e7a4>:1: RuntimeWarning: divide by zero encountered in true_divide\n",
      "  np.array([0, 1, -1, 0]) / np.array([1, 0, 0, 0])\n",
      "<ipython-input-63-6ab12ec6e7a4>:1: RuntimeWarning: invalid value encountered in true_divide\n",
      "  np.array([0, 1, -1, 0]) / np.array([1, 0, 0, 0])\n"
     ]
    },
    {
     "data": {
      "text/plain": [
       "array([  0.,  inf, -inf,  nan])"
      ]
     },
     "execution_count": 63,
     "metadata": {},
     "output_type": "execute_result"
    }
   ],
   "source": [
    "np.array([0, 1, -1, 0]) / np.array([1, 0, 0, 0])"
   ]
  },
  {
   "cell_type": "code",
   "execution_count": 64,
   "id": "89872641",
   "metadata": {
    "ExecuteTime": {
     "end_time": "2022-10-26T05:09:21.266538Z",
     "start_time": "2022-10-26T05:09:21.257571Z"
    }
   },
   "outputs": [
    {
     "name": "stderr",
     "output_type": "stream",
     "text": [
      "<ipython-input-64-f6e7c0610b57>:1: RuntimeWarning: divide by zero encountered in log\n",
      "  np.log(0)\n"
     ]
    },
    {
     "data": {
      "text/plain": [
       "-inf"
      ]
     },
     "execution_count": 64,
     "metadata": {},
     "output_type": "execute_result"
    }
   ],
   "source": [
    "np.log(0)"
   ]
  },
  {
   "cell_type": "code",
   "execution_count": 65,
   "id": "82be6c35",
   "metadata": {
    "ExecuteTime": {
     "end_time": "2022-10-26T05:09:25.424993Z",
     "start_time": "2022-10-26T05:09:25.416986Z"
    }
   },
   "outputs": [
    {
     "data": {
      "text/plain": [
       "0.0"
      ]
     },
     "execution_count": 65,
     "metadata": {},
     "output_type": "execute_result"
    }
   ],
   "source": [
    "np.exp(-np.inf)"
   ]
  },
  {
   "cell_type": "markdown",
   "id": "2955fb10",
   "metadata": {},
   "source": [
    "## 배열생성"
   ]
  },
  {
   "cell_type": "code",
   "execution_count": 66,
   "id": "fd7bc69c",
   "metadata": {
    "ExecuteTime": {
     "end_time": "2022-10-26T05:14:01.756582Z",
     "start_time": "2022-10-26T05:14:01.737633Z"
    }
   },
   "outputs": [
    {
     "data": {
      "text/plain": [
       "array([0., 0., 0., 0., 0.])"
      ]
     },
     "execution_count": 66,
     "metadata": {},
     "output_type": "execute_result"
    }
   ],
   "source": [
    "a = np.zeros(5)\n",
    "a"
   ]
  },
  {
   "cell_type": "code",
   "execution_count": 67,
   "id": "8ead4190",
   "metadata": {
    "ExecuteTime": {
     "end_time": "2022-10-26T05:14:06.744852Z",
     "start_time": "2022-10-26T05:14:06.728928Z"
    }
   },
   "outputs": [
    {
     "data": {
      "text/plain": [
       "array([[0., 0., 0.],\n",
       "       [0., 0., 0.]])"
      ]
     },
     "execution_count": 67,
     "metadata": {},
     "output_type": "execute_result"
    }
   ],
   "source": [
    "b = np.zeros((2, 3))\n",
    "b"
   ]
  },
  {
   "cell_type": "code",
   "execution_count": 68,
   "id": "389dd8c8",
   "metadata": {
    "ExecuteTime": {
     "end_time": "2022-10-26T05:14:11.758685Z",
     "start_time": "2022-10-26T05:14:11.752672Z"
    }
   },
   "outputs": [
    {
     "data": {
      "text/plain": [
       "array([[0, 0],\n",
       "       [0, 0],\n",
       "       [0, 0],\n",
       "       [0, 0],\n",
       "       [0, 0]], dtype=int32)"
      ]
     },
     "execution_count": 68,
     "metadata": {},
     "output_type": "execute_result"
    }
   ],
   "source": [
    "c = np.zeros((5, 2), dtype=\"i\")\n",
    "c"
   ]
  },
  {
   "cell_type": "code",
   "execution_count": 69,
   "id": "f09533b0",
   "metadata": {
    "ExecuteTime": {
     "end_time": "2022-10-26T05:14:17.769653Z",
     "start_time": "2022-10-26T05:14:17.752698Z"
    }
   },
   "outputs": [
    {
     "data": {
      "text/plain": [
       "array(['', '', '', '', ''], dtype='<U4')"
      ]
     },
     "execution_count": 69,
     "metadata": {},
     "output_type": "execute_result"
    }
   ],
   "source": [
    "d = np.zeros(5, dtype=\"U4\")\n",
    "d"
   ]
  },
  {
   "cell_type": "code",
   "execution_count": 70,
   "id": "3ae1c25f",
   "metadata": {
    "ExecuteTime": {
     "end_time": "2022-10-26T05:14:22.265238Z",
     "start_time": "2022-10-26T05:14:22.249308Z"
    }
   },
   "outputs": [
    {
     "data": {
      "text/plain": [
       "array(['abc', 'abcd', 'ABCD', '', ''], dtype='<U4')"
      ]
     },
     "execution_count": 70,
     "metadata": {},
     "output_type": "execute_result"
    }
   ],
   "source": [
    "d[0] = \"abc\"\n",
    "d[1] = \"abcd\"\n",
    "d[2] = \"ABCDE\"\n",
    "d"
   ]
  },
  {
   "cell_type": "code",
   "execution_count": 71,
   "id": "964563ce",
   "metadata": {
    "ExecuteTime": {
     "end_time": "2022-10-26T05:14:35.196938Z",
     "start_time": "2022-10-26T05:14:35.176998Z"
    }
   },
   "outputs": [
    {
     "data": {
      "text/plain": [
       "array([[[1, 1, 1, 1],\n",
       "        [1, 1, 1, 1],\n",
       "        [1, 1, 1, 1]],\n",
       "\n",
       "       [[1, 1, 1, 1],\n",
       "        [1, 1, 1, 1],\n",
       "        [1, 1, 1, 1]]], dtype=int64)"
      ]
     },
     "execution_count": 71,
     "metadata": {},
     "output_type": "execute_result"
    }
   ],
   "source": [
    "e = np.ones((2, 3, 4), dtype=\"i8\")\n",
    "e"
   ]
  },
  {
   "cell_type": "code",
   "execution_count": 72,
   "id": "cac7ee34",
   "metadata": {
    "ExecuteTime": {
     "end_time": "2022-10-26T05:14:40.859612Z",
     "start_time": "2022-10-26T05:14:40.840663Z"
    }
   },
   "outputs": [
    {
     "data": {
      "text/plain": [
       "array([[1., 1., 1.],\n",
       "       [1., 1., 1.]], dtype=float32)"
      ]
     },
     "execution_count": 72,
     "metadata": {},
     "output_type": "execute_result"
    }
   ],
   "source": [
    "f = np.ones_like(b, dtype=\"f\")\n",
    "f"
   ]
  },
  {
   "cell_type": "code",
   "execution_count": 73,
   "id": "3913bf12",
   "metadata": {
    "ExecuteTime": {
     "end_time": "2022-10-26T05:14:46.025092Z",
     "start_time": "2022-10-26T05:14:46.008110Z"
    }
   },
   "outputs": [
    {
     "data": {
      "text/plain": [
       "array([[0., 0., 0.],\n",
       "       [0., 0., 0.],\n",
       "       [0., 0., 0.],\n",
       "       [0., 0., 0.]])"
      ]
     },
     "execution_count": 73,
     "metadata": {},
     "output_type": "execute_result"
    }
   ],
   "source": [
    "g = np.empty((4, 3))\n",
    "g"
   ]
  },
  {
   "cell_type": "code",
   "execution_count": 74,
   "id": "a6aa0e03",
   "metadata": {
    "ExecuteTime": {
     "end_time": "2022-10-26T05:15:00.014089Z",
     "start_time": "2022-10-26T05:14:59.994142Z"
    }
   },
   "outputs": [
    {
     "data": {
      "text/plain": [
       "array([0, 1, 2, 3, 4, 5, 6, 7, 8, 9])"
      ]
     },
     "execution_count": 74,
     "metadata": {},
     "output_type": "execute_result"
    }
   ],
   "source": [
    "np.arange(10)"
   ]
  },
  {
   "cell_type": "code",
   "execution_count": 75,
   "id": "612bf3c1",
   "metadata": {
    "ExecuteTime": {
     "end_time": "2022-10-26T05:15:11.150685Z",
     "start_time": "2022-10-26T05:15:11.144701Z"
    }
   },
   "outputs": [
    {
     "data": {
      "text/plain": [
       "array([ 3,  5,  7,  9, 11, 13, 15, 17, 19])"
      ]
     },
     "execution_count": 75,
     "metadata": {},
     "output_type": "execute_result"
    }
   ],
   "source": [
    "np.arange(3, 21, 2)"
   ]
  },
  {
   "cell_type": "markdown",
   "id": "521b3eae",
   "metadata": {},
   "source": [
    "np.arrange(first,last,step)"
   ]
  },
  {
   "cell_type": "code",
   "execution_count": 76,
   "id": "f841324c",
   "metadata": {
    "ExecuteTime": {
     "end_time": "2022-10-26T05:15:54.747885Z",
     "start_time": "2022-10-26T05:15:54.717042Z"
    }
   },
   "outputs": [
    {
     "data": {
      "text/plain": [
       "array([  0.,  25.,  50.,  75., 100.])"
      ]
     },
     "execution_count": 76,
     "metadata": {},
     "output_type": "execute_result"
    }
   ],
   "source": [
    "np.linspace(0, 100, 5)"
   ]
  },
  {
   "cell_type": "markdown",
   "id": "edee7907",
   "metadata": {},
   "source": [
    "np.linsapce(first,last,개수)"
   ]
  },
  {
   "cell_type": "code",
   "execution_count": 83,
   "id": "8b5c16fb",
   "metadata": {
    "ExecuteTime": {
     "end_time": "2022-10-26T05:28:16.103903Z",
     "start_time": "2022-10-26T05:28:16.089972Z"
    }
   },
   "outputs": [
    {
     "data": {
      "text/plain": [
       "array([ 1.        ,  1.29154967,  1.66810054,  2.15443469,  2.7825594 ,\n",
       "        3.59381366,  4.64158883,  5.9948425 ,  7.74263683, 10.        ])"
      ]
     },
     "execution_count": 83,
     "metadata": {},
     "output_type": "execute_result"
    }
   ],
   "source": [
    "np.logspace(0, 1, 10)"
   ]
  },
  {
   "cell_type": "code",
   "execution_count": 85,
   "id": "4d1160ad",
   "metadata": {
    "ExecuteTime": {
     "end_time": "2022-10-26T05:30:17.755419Z",
     "start_time": "2022-10-26T05:30:17.736318Z"
    }
   },
   "outputs": [
    {
     "data": {
      "text/plain": [
       "array([0.        , 0.11111111, 0.22222222, 0.33333333, 0.44444444,\n",
       "       0.55555556, 0.66666667, 0.77777778, 0.88888889, 1.        ])"
      ]
     },
     "execution_count": 85,
     "metadata": {},
     "output_type": "execute_result"
    }
   ],
   "source": [
    "np.log(np.logspace(0, 1, 10))/np.log(10)"
   ]
  },
  {
   "cell_type": "code",
   "execution_count": null,
   "id": "758aa053",
   "metadata": {},
   "outputs": [],
   "source": []
  }
 ],
 "metadata": {
  "kernelspec": {
   "display_name": "Python 3",
   "language": "python",
   "name": "python3"
  },
  "language_info": {
   "codemirror_mode": {
    "name": "ipython",
    "version": 3
   },
   "file_extension": ".py",
   "mimetype": "text/x-python",
   "name": "python",
   "nbconvert_exporter": "python",
   "pygments_lexer": "ipython3",
   "version": "3.8.8"
  },
  "nbTranslate": {
   "displayLangs": [
    "*"
   ],
   "hotkey": "alt-t",
   "langInMainMenu": true,
   "sourceLang": "en",
   "targetLang": "fr",
   "useGoogleTranslate": true
  },
  "toc": {
   "base_numbering": 1,
   "nav_menu": {},
   "number_sections": true,
   "sideBar": true,
   "skip_h1_title": false,
   "title_cell": "Table of Contents",
   "title_sidebar": "Contents",
   "toc_cell": false,
   "toc_position": {},
   "toc_section_display": true,
   "toc_window_display": false
  },
  "varInspector": {
   "cols": {
    "lenName": 16,
    "lenType": 16,
    "lenVar": 40
   },
   "kernels_config": {
    "python": {
     "delete_cmd_postfix": "",
     "delete_cmd_prefix": "del ",
     "library": "var_list.py",
     "varRefreshCmd": "print(var_dic_list())"
    },
    "r": {
     "delete_cmd_postfix": ") ",
     "delete_cmd_prefix": "rm(",
     "library": "var_list.r",
     "varRefreshCmd": "cat(var_dic_list()) "
    }
   },
   "types_to_exclude": [
    "module",
    "function",
    "builtin_function_or_method",
    "instance",
    "_Feature"
   ],
   "window_display": false
  }
 },
 "nbformat": 4,
 "nbformat_minor": 5
}
