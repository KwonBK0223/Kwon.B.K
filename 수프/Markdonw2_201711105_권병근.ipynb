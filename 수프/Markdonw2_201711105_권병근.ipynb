{
 "cells": [
  {
   "cell_type": "markdown",
   "id": "3b564eb7",
   "metadata": {},
   "source": [
    "# 프로젝트 과제"
   ]
  },
  {
   "cell_type": "markdown",
   "id": "c606ca25",
   "metadata": {},
   "source": [
    "교수님이 주신 파일을 기반으로 마크다운에 대해 공부하고\n",
    "\n",
    "나만의 예시를 추가하며 실습하면서 과제 진행\n",
    "\n",
    "그 이후 인터넷 검색을 통한 추가 공부 >> 수식 작성을 위한 문법과 기호나타내기"
   ]
  },
  {
   "cell_type": "markdown",
   "id": "decf725a",
   "metadata": {},
   "source": [
    "# Markdown이란"
   ]
  },
  {
   "cell_type": "markdown",
   "id": "798d2d13",
   "metadata": {},
   "source": [
    "Markdwon은 일반 텍스트 문서의 양식을 편집하는 문법\n",
    "\n",
    "Readme파일, 온라인문서, 일반 텍스트 편집기로 문서 양식을 편집할 때 사용\n",
    "\n",
    "HTML등 다른 문서 형태로 변환이 쉽게 가능하다는 장점"
   ]
  },
  {
   "cell_type": "markdown",
   "id": "83c619fe",
   "metadata": {},
   "source": [
    "## 1. Headers 헤더\n",
    "* `#`으로 시작하는 텍스트.\n",
    "* `#`은 하나부터 여섯개까지 가능.\n",
    "* `#`이 늘어날때마다 제목의 스케일 낮아집니다.\n",
    "* H1은 `===`로도 만들 수 있습니다.\n",
    "* H2는 `---`로도 만들 수 있습니다."
   ]
  },
  {
   "cell_type": "markdown",
   "id": "4c3baa00",
   "metadata": {},
   "source": [
    "# 예시"
   ]
  },
  {
   "cell_type": "markdown",
   "id": "5e773e73",
   "metadata": {},
   "source": [
    "# 스타크래프트\n",
    "\n",
    "## 종족\n",
    "\n",
    "### 프로토스\n",
    "\n",
    "#### 유닛\n",
    "\n",
    "##### 체력,공격력,방어력\n",
    "\n",
    "###### 특수수킬\n",
    "\n",
    "#을 6개까지 이용하여 헤더 작성가능"
   ]
  },
  {
   "cell_type": "markdown",
   "id": "78513dbc",
   "metadata": {},
   "source": [
    "테란\n",
    "===\n",
    "유닛\n",
    "---\n",
    "\n",
    "===와 ---을 이용한 헤더표시"
   ]
  },
  {
   "cell_type": "markdown",
   "id": "cd5456f2",
   "metadata": {},
   "source": [
    "## 2. Emphasis 강조\n",
    "* 기울여 쓰기(italic) : `*` 또는 `_`로 감싼 텍스트.\n",
    "* 두껍게 쓰기(bold) : `**` 또는 `__`로 감싼 텍스트.\n",
    "* 취소선 : `~~`로 감싼 텍스트.\n",
    "* 이탤릭체와 두껍게를 같이 사용할 수 있습니다."
   ]
  },
  {
   "cell_type": "markdown",
   "id": "2e5e7859",
   "metadata": {},
   "source": [
    "# 예시"
   ]
  },
  {
   "cell_type": "markdown",
   "id": "06f2b0da",
   "metadata": {},
   "source": [
    "*기울임1*   \n",
    "\n",
    "_기울임2_\n",
    "\n",
    "**굵게1**\n",
    "\n",
    "____굵게2__\n",
    "\n",
    "~~가운데 줄 넣기~~\n",
    "\n",
    "*특정 단어 **강조**하기+기울임*"
   ]
  },
  {
   "cell_type": "markdown",
   "id": "7a63bc60",
   "metadata": {},
   "source": [
    "## 3. Blockquotes 인용\n",
    "* `>`으로 시작하는 텍스트.\n",
    "* `>`는 3개까지 가능합니다.\n",
    "* `1개`는 인용문.\n",
    "* `2개`는 인용문 안에 인용문.\n",
    "* `3개`는 인용문 안에 인용문 안에 인용문."
   ]
  },
  {
   "cell_type": "markdown",
   "id": "453ea94f",
   "metadata": {},
   "source": [
    "# 예시"
   ]
  },
  {
   "cell_type": "markdown",
   "id": "a347ea3e",
   "metadata": {},
   "source": [
    "스트크래프트는 블리자드에서 만든 RTS 장르의 게임이다\n",
    "\n",
    "> 종족에는 테란,프로토스,저그가 있다\n",
    "\n",
    ">> 프로토스의 유닛중에는 질럿이 있다\n",
    "\n",
    ">>> 질럿의 체력과 실드는 100/60, 공격력은 8(+2), 방어력 1(+1)이다 (괄호 안의 수치는 1업글당 올라가는 수치, 최대 3업까지 가능)"
   ]
  },
  {
   "cell_type": "markdown",
   "id": "57cc2333",
   "metadata": {},
   "source": [
    "## 4. Lists 목록\n",
    "### 4.1. Unordered lists 순서가 없는 목록\n",
    "* `*`, `+`, `-` 를 이용해서 순서가 없는 목록을 만들 수 있습니다.\n",
    "* 들여쓰기를 하면 모양이 바뀝니다."
   ]
  },
  {
   "cell_type": "markdown",
   "id": "3833e09b",
   "metadata": {},
   "source": [
    "# 예시"
   ]
  },
  {
   "cell_type": "markdown",
   "id": "2f80827b",
   "metadata": {},
   "source": [
    "* 테란\n",
    "    * 유닛\n",
    "    * 건물\n",
    "* 프로토스\n",
    "    * 유닛\n",
    "    * 건물\n",
    "* 저그\n",
    "    * 유닛\n",
    "    * 건물"
   ]
  },
  {
   "cell_type": "markdown",
   "id": "9eb53765",
   "metadata": {},
   "source": [
    "### 4.2. Ordered lists 순서가 있는 목록\n",
    "* 숫자를 기입하면 순서가 있는 목록이 됩니다.\n",
    "* 들여쓰기를 하면 모양이 바뀝니다."
   ]
  },
  {
   "cell_type": "markdown",
   "id": "260a17e3",
   "metadata": {},
   "source": [
    "# 예시"
   ]
  },
  {
   "cell_type": "markdown",
   "id": "f5a7ae80",
   "metadata": {},
   "source": [
    "1. 테란\n",
    "    1. 유닛\n",
    "    2. 건물\n",
    "2. 프로토스\n",
    "    1. 유닛\n",
    "    2. 건물\n",
    "3. 저그\n",
    "    1. 유닛\n",
    "    2. 건물"
   ]
  },
  {
   "cell_type": "markdown",
   "id": "29abf0e3",
   "metadata": {},
   "source": [
    "## 5. Backslash Escapes 백슬래쉬 이스케이프\n",
    "* 특수문자를 표현할 때, 표시될 문자 앞에 `\\`를 넣고 특수문자를 쓰면 됩니다.\n",
    "* 주의할 점은 앞과 뒤에가 형식이 똑같이 백슬래쉬 뒤에 특수문자입니다. `감싸는 형태가 아닙니다.`\n",
    "* 백슬래쉬는 아래의 특수문자를 표현할 수 있습니다.\n",
    "* \\ backslash, \\ backtick, * asterisk, _ underscore, {} curly braces, [] square brackets,\n",
    "() parentheses, # hash mark, + plus sign, - minus sign (hyphen), . dot, ! exclamation mark"
   ]
  },
  {
   "cell_type": "markdown",
   "id": "7289a92f",
   "metadata": {},
   "source": [
    "# 예시"
   ]
  },
  {
   "cell_type": "markdown",
   "id": "b287afee",
   "metadata": {},
   "source": [
    "\\*테란\\*\n",
    "\n",
    "\\#프로토스\\#\n",
    "\n",
    "\\[저그\\]"
   ]
  },
  {
   "cell_type": "markdown",
   "id": "c805d50d",
   "metadata": {},
   "source": [
    "## 6. Images 이미지\n",
    "* <img>로 변환됩니다.\n",
    "* 링크와 비슷하지만 앞에 `!`가 붙습니다.\n",
    "* 인라인 이미지 \\![alt text](/test.png\\)\n",
    "* 링크 이미지 \\![alt text](image_URL\\)\n",
    "* 이미지의 사이즈를 변경하기 위해서는 `<img width=\"OOOpx\" height=\"OOOpx\"></img>`와 같이 표현합니다."
   ]
  },
  {
   "cell_type": "markdown",
   "id": "caeded16",
   "metadata": {},
   "source": [
    "## 7. Links (Anchor) 링크\n",
    "## 7.1. External Links 외부 링크\n",
    "\t인라인 링크: [링크](http://example.com \"링크 제목\")\n",
    "\turl 링크: <example.com>, <example@example.com>; 꺽쇠 괄호 없어도 자동으로 링크를 사용"
   ]
  },
  {
   "cell_type": "markdown",
   "id": "8e2b84a0",
   "metadata": {},
   "source": [
    "# 예시"
   ]
  },
  {
   "cell_type": "markdown",
   "id": "6fd1fe00",
   "metadata": {},
   "source": [
    "[Plato](https://plato.pusan.ac.kr/ \"플라토\")\n",
    "\n",
    "[Project Euler](https://euler.synap.co.kr/ \"프로젝트오일러\")\n",
    "\n",
    "[Wolfram Alpha](https://www.wolframalpha.com/ \"울프람 알파\")\n",
    "\n",
    "플라토 plato.pusan.ac.kr\n",
    "\n",
    "프로젝트오일러 euler.synap.co.kr\n",
    "\n",
    "내 메일 house9895@naver.com"
   ]
  },
  {
   "cell_type": "markdown",
   "id": "1fec8f99",
   "metadata": {},
   "source": [
    "## 8. Fenced Code Blocks 코드 블럭\n",
    "* 간단한 인라인 코드는 텍스트를 앞뒤로 \\`기호로 감싸면 됩니다.\n",
    "* \\`\\`\\` 혹은 ~~~ 코드.\n",
    "* 첫 줄과 마지막 줄에 Back quote ( \\` ) 또는 물결( ~ ) 3개 삽입.\n",
    "* 코드가 여러 줄인 경우, 줄 앞에 공백 네 칸을 추가하면 됩니다.\n",
    "* \\`\\`\\` 옆에 언어를 지정해주면 syntax color가 적용됩니다."
   ]
  },
  {
   "cell_type": "markdown",
   "id": "e0b3e740",
   "metadata": {},
   "source": [
    "# 예시"
   ]
  },
  {
   "cell_type": "markdown",
   "id": "6b4edaa5",
   "metadata": {},
   "source": [
    "'''\n",
    "code block1\n",
    "'''\n",
    "~~~\n",
    "code block2\n",
    "~~~\n",
    "4 sapces\n",
    "'''javascript\n",
    "function test() {\n",
    "console.log(\"look ma', no spaces\");\n",
    "}\n",
    "'''"
   ]
  },
  {
   "cell_type": "markdown",
   "id": "3bf9f8f0",
   "metadata": {},
   "source": [
    "## 9. Task Lisk 체크 리스트\n",
    "* 줄 앞에 `- [x]`를 써서 완료된 리스트 표시.\n",
    "* 줄 앞에 `- [ ]`를 써서 미완료된 리스트 표시.\n",
    "* 체크 안에서 강조 외에 여러 기능을 사용할 수 있습니다."
   ]
  },
  {
   "cell_type": "markdown",
   "id": "62de0f19",
   "metadata": {},
   "source": [
    "# 예시"
   ]
  },
  {
   "cell_type": "markdown",
   "id": "9c3a26ce",
   "metadata": {},
   "source": [
    "- [x] 수학적프로그래밍과제\n",
    "- [x] 산업수을위한 수치해석 발표자료 제출\n",
    "- [x] 산업수학실무 이수증 인쇄\n",
    "- [ ] 금융수리모델론 과제\n",
    "- [x] 계절학기 등록금 내기\n"
   ]
  },
  {
   "cell_type": "markdown",
   "id": "2f145829",
   "metadata": {},
   "source": [
    "[ 와 ] 사이에 공백 없으니 실행 안됨"
   ]
  },
  {
   "cell_type": "markdown",
   "id": "28191b94",
   "metadata": {},
   "source": [
    "## 10. Horizontal Rules 수평선\n",
    "* \\- 또는 * 또는 _ 을 3개 이상 작성.\n",
    "* 단, -을 사용할 경우 header로 인식할 수 있으니 이 전 라인은 비워두어야 합니다."
   ]
  },
  {
   "cell_type": "markdown",
   "id": "cc681042",
   "metadata": {},
   "source": [
    "* * *\n",
    "\n",
    "***\n",
    "\n",
    "*****\n",
    "\n",
    "- - -\n",
    "\n",
    "------------"
   ]
  },
  {
   "cell_type": "markdown",
   "id": "7b5161be",
   "metadata": {},
   "source": [
    "## 11. Emoji 이모티콘\n",
    "* 마크다운을 이용해 이모티콘을 표현가능.\n",
    "* 깃허브도 적용가능.\n",
    "* 더 많은 리스트는 아래의 사이트로 방문.\n",
    "* www.emoji-cheat-sheet.com"
   ]
  },
  {
   "cell_type": "markdown",
   "id": "c850afc9",
   "metadata": {},
   "source": [
    "GItHub supprts emji!\n",
    ":+1 :spakrles: :camel: :tada:\n",
    ":rocket: :metal: :octocat:"
   ]
  },
  {
   "cell_type": "markdown",
   "id": "915b9997",
   "metadata": {},
   "source": [
    "## 12. Table 테이블\n",
    "* 헤더와 셀을 구분할 때 3개 이상의 `-`(hyphen/dash) 기호가 필요합니다.\n",
    "* 헤더 셀을 구분하면서 :(Colons) 기호로 셀(열/칸) 안에 내용을 정렬할 수 있습니다.\n",
    "* 가장 좌측과 가장 우측에 있는 |(vertical bar) 기호는 생략 가능합니다."
   ]
  },
  {
   "cell_type": "markdown",
   "id": "81215ed5",
   "metadata": {},
   "source": [
    "# 예시"
   ]
  },
  {
   "cell_type": "markdown",
   "id": "2d8771c2",
   "metadata": {},
   "source": [
    "테이블 만들어 보기\n",
    "\n",
    "A|B|C|D|E\n",
    "---|---|---|---|---\n",
    "a1|b1|c1|d1|e1\n",
    "a2|b2|c2|d2|e2\n",
    "a3|b3|c3|d3|e3\n",
    "a4|b4|c4|d4|e4\n",
    "a5|b5|c5|d5|e5\n",
    "\n",
    "테이블 정렬\n",
    "\n",
    "A|B|C|D|E\n",
    ":---|:---:|---|:---|:---:\n",
    "a1|b1|c1|d1|e1\n",
    "a2|b2|c2|d2|e2\n",
    "a3|b3|c3|d3|e3\n",
    "a4|b4|c4|d4|e4\n",
    "a5|b5|c5|d5|e5"
   ]
  },
  {
   "cell_type": "markdown",
   "id": "29b767b5",
   "metadata": {},
   "source": [
    "## 13. Line Breaks 줄바꿈\n",
    "* `<br>`를 활용해서 줄바꿈을 할 수 있습니다."
   ]
  },
  {
   "cell_type": "markdown",
   "id": "9a07af4c",
   "metadata": {},
   "source": [
    "이 문장은 1번째 줄입니다<br> 이문장은 2번째 줄입니다 <br> 이문장은 3번째 줄입니다<br>"
   ]
  },
  {
   "cell_type": "markdown",
   "id": "90a58089",
   "metadata": {},
   "source": [
    "# 추가조사"
   ]
  },
  {
   "cell_type": "markdown",
   "id": "f4193f1c",
   "metadata": {},
   "source": [
    "#### 마크다운으로 수식쓰기"
   ]
  },
  {
   "cell_type": "markdown",
   "id": "39e17e9b",
   "metadata": {},
   "source": [
    "주피터 노트북에서는 LaTex를 이용해서 수식을 표기할 수 있게 한다\n",
    "\n",
    "레이텍또는 라텍이라고 읽는다"
   ]
  },
  {
   "cell_type": "markdown",
   "id": "ed3d3533",
   "metadata": {},
   "source": [
    "      $와 $ 사이에 일반텍스트로 입력하고 실행하기"
   ]
  },
  {
   "cell_type": "markdown",
   "id": "305625a9",
   "metadata": {},
   "source": [
    "$x^2+4^2=5^2$ <br>\n",
    "$x=3$"
   ]
  },
  {
   "cell_type": "markdown",
   "id": "1212913e",
   "metadata": {},
   "source": [
    "아래첨자\n",
    "\n",
    "$a_1$"
   ]
  },
  {
   "cell_type": "markdown",
   "id": "137f24e8",
   "metadata": {},
   "source": [
    "위 첨자\n",
    "\n",
    "$a^x$"
   ]
  },
  {
   "cell_type": "markdown",
   "id": "2a6e3128",
   "metadata": {},
   "source": [
    "두개 다 쓸 수도 있음\n",
    "\n",
    "$a_2^y$"
   ]
  },
  {
   "cell_type": "markdown",
   "id": "19a36a99",
   "metadata": {},
   "source": [
    "제곱근\n",
    "\n",
    "$y=\\sqrt x$"
   ]
  },
  {
   "cell_type": "markdown",
   "id": "1202d877",
   "metadata": {},
   "source": [
    "삼각함수\n",
    "\n",
    "$sin x$ <br>\n",
    "$cos x$"
   ]
  },
  {
   "cell_type": "markdown",
   "id": "0e97ff3d",
   "metadata": {},
   "source": [
    "분수\n",
    "\n",
    "$\\frac{3}{4}$"
   ]
  },
  {
   "cell_type": "markdown",
   "id": "3d92c425",
   "metadata": {},
   "source": [
    "시그마\n",
    "\n",
    "$\\sum_{n=1}^9 n$"
   ]
  },
  {
   "cell_type": "markdown",
   "id": "bf5044b7",
   "metadata": {},
   "source": [
    "알파\n",
    "$\\alpha$\n",
    "\n",
    "베타\n",
    "$\\beta$\n",
    "\n",
    "파이\n",
    "$\\pi$"
   ]
  },
  {
   "cell_type": "code",
   "execution_count": null,
   "id": "9872189f",
   "metadata": {},
   "outputs": [],
   "source": []
  }
 ],
 "metadata": {
  "kernelspec": {
   "display_name": "Python 3 (ipykernel)",
   "language": "python",
   "name": "python3"
  },
  "language_info": {
   "codemirror_mode": {
    "name": "ipython",
    "version": 3
   },
   "file_extension": ".py",
   "mimetype": "text/x-python",
   "name": "python",
   "nbconvert_exporter": "python",
   "pygments_lexer": "ipython3",
   "version": "3.9.12"
  }
 },
 "nbformat": 4,
 "nbformat_minor": 5
}
